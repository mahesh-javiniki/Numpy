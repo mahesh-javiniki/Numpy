{
 "cells": [
  {
   "cell_type": "markdown",
   "id": "4f251ff5",
   "metadata": {},
   "source": [
    "# Numpy Data Types"
   ]
  },
  {
   "cell_type": "code",
   "execution_count": 1,
   "id": "a431e791",
   "metadata": {},
   "outputs": [],
   "source": [
    "import numpy as np"
   ]
  },
  {
   "cell_type": "markdown",
   "id": "c971198c",
   "metadata": {},
   "source": [
    "NumPy provides a rich set of **data types** that are designed for efficient numerical computation. These data types are more specific and memory-efficient compared to Python’s built-in data types.\n",
    "\n",
    "Here’s a detailed explanation of the **different types of NumPy data types**:\n",
    "\n",
    "---\n",
    "\n",
    "## 📌 1. **Numeric Data Types**\n",
    "\n",
    "These are used to store numbers (integers, floating points, complex numbers).\n",
    "\n",
    "### a. **Integer Types**\n",
    "\n",
    "* Used to store whole numbers.\n",
    "* Variants based on size and sign.\n",
    "\n",
    "| NumPy Type | Description             | Example Values               |\n",
    "| ---------- | ----------------------- | ---------------------------- |\n",
    "| `int8`     | 8-bit signed integer    | -128 to 127                  |\n",
    "| `int16`    | 16-bit signed integer   | -32,768 to 32,767            |\n",
    "| `int32`    | 32-bit signed integer   | Large integers               |\n",
    "| `int64`    | 64-bit signed integer   | Very large integers          |\n",
    "| `uint8`    | 8-bit unsigned integer  | 0 to 255                     |\n",
    "| `uint16`   | 16-bit unsigned integer | 0 to 65,535                  |\n",
    "| `uint32`   | 32-bit unsigned integer | Larger positive integers     |\n",
    "| `uint64`   | 64-bit unsigned integer | Very large positive integers |\n",
    "\n",
    "---\n",
    "\n",
    "### b. **Floating-Point Types**\n",
    "\n",
    "* Used to store decimal numbers (fractions).\n",
    "* Variants based on precision.\n",
    "\n",
    "| NumPy Type | Description            | Example Values                                                 |\n",
    "| ---------- | ---------------------- | -------------------------------------------------------------- |\n",
    "| `float16`  | 16-bit floating point  | Approx. 3 decimal places                                       |\n",
    "| `float32`  | 32-bit floating point  | Approx. 7 decimal places                                       |\n",
    "| `float64`  | 64-bit floating point  | Approx. 15 decimal places (default)                            |\n",
    "| `float128` | 128-bit floating point | Extremely high precision (may not be available on all systems) |\n",
    "\n",
    "---\n",
    "\n",
    "### c. **Complex Types**\n",
    "\n",
    "* Used to store complex numbers (real + imaginary parts).\n",
    "\n",
    "| NumPy Type   | Description                        | Example Values   |\n",
    "| ------------ | ---------------------------------- | ---------------- |\n",
    "| `complex64`  | Complex number, two 32-bit floats  | 3 + 4j           |\n",
    "| `complex128` | Complex number, two 64-bit floats  | 5.2 - 7.8j       |\n",
    "| `complex256` | Complex number, two 128-bit floats | System dependent |\n",
    "\n",
    "---\n",
    "\n",
    "## 📌 2. **Boolean Type**\n",
    "\n",
    "* Used to store `True` or `False` values.\n",
    "* **Type:** `bool_`\n",
    "\n",
    "---\n",
    "\n",
    "## 📌 3. **String Types**\n",
    "\n",
    "* Fixed-size Unicode or byte strings.\n",
    "* Useful for categorical data.\n",
    "\n",
    "| NumPy Type | Description               |\n",
    "| ---------- | ------------------------- |\n",
    "| `string_`  | Fixed-size byte string    |\n",
    "| `unicode_` | Fixed-size Unicode string |\n",
    "\n",
    "*Example:*\n",
    "\n",
    "* `S5` → byte string with max length 5\n",
    "* `U5` → Unicode string with max length 5\n",
    "\n",
    "---\n",
    "\n",
    "## 📌 4. **Object Type**\n",
    "\n",
    "* **Type:** `object_`\n",
    "* Can store any Python object (mixed types, lists, dictionaries, etc.).\n",
    "* Less efficient but flexible.\n",
    "\n",
    "---\n",
    "\n",
    "## 📌 5. **Datetime Type**\n",
    "\n",
    "* Used to store date and time information.\n",
    "* **Type:** `datetime64`\n",
    "* Supports time units like seconds (`s`), milliseconds (`ms`), microseconds (`us`), etc.\n",
    "\n",
    "---\n",
    "\n",
    "## 📌 6. **Timedelta Type**\n",
    "\n",
    "* Used to represent time differences.\n",
    "* **Type:** `timedelta64`\n",
    "* Example: Duration between two dates.\n",
    "\n",
    "---\n",
    "\n",
    "## 📌 7. **Other Less Common Types**\n",
    "\n",
    "* **Void type (`void`)**: Used for raw data (like in structured arrays).\n",
    "* **Structured data types**: Like records or tables (similar to database rows).\n",
    "\n",
    "---\n",
    "\n",
    "## ✅ Summary Table:\n",
    "\n",
    "| Category       | Data Types                                               |\n",
    "| -------------- | -------------------------------------------------------- |\n",
    "| Numeric        | int8, int16, int32, int64, uint8, uint16, uint32, uint64 |\n",
    "| Floating Point | float16, float32, float64, float128                      |\n",
    "| Complex        | complex64, complex128, complex256                        |\n",
    "| Boolean        | bool\\_                                                   |\n",
    "| String         | string\\_, unicode\\_                                      |\n",
    "| Object         | object\\_                                                 |\n",
    "| Date/Time      | datetime64, timedelta64                                  |\n",
    "| Raw/Structured | void, structured types                                   |\n",
    "\n",
    "---"
   ]
  },
  {
   "cell_type": "code",
   "execution_count": null,
   "id": "a3fc3962",
   "metadata": {},
   "outputs": [],
   "source": []
  },
  {
   "cell_type": "markdown",
   "id": "a997aa51",
   "metadata": {},
   "source": [
    "Let’s go **one-by-one with detailed explanations and examples for each NumPy data type**.\n",
    "\n",
    "---\n",
    "\n",
    "# 📚 Detailed Explanation of NumPy Data Types with Examples\n",
    "\n",
    "---\n",
    "\n",
    "## 1️⃣ **Integer Types**\n",
    "\n",
    "Integers store whole numbers (positive, negative, or zero).\n",
    "\n",
    "### 👉 Key Types:\n",
    "\n",
    "* `int8`, `int16`, `int32`, `int64`\n",
    "* `uint8`, `uint16`, `uint32`, `uint64` (unsigned: only positive)\n",
    "\n",
    "### ✅ Example:\n",
    "\n",
    "```python\n",
    "import numpy as np\n",
    "\n",
    "a = np.array([1, 2, 3], dtype=np.int8)\n",
    "print(a, a.dtype)  # [1 2 3] int8\n",
    "\n",
    "b = np.array([400, 500], dtype=np.int16)\n",
    "print(b, b.dtype)  # [400 500] int16\n",
    "\n",
    "c = np.array([10, 20, 30], dtype=np.uint8)\n",
    "print(c, c.dtype)  # [10 20 30] uint8\n",
    "```\n",
    "\n",
    "### 📌 Notes:\n",
    "\n",
    "* Smaller types use **less memory** but have **smaller range**.\n",
    "* `uint` types **cannot store negative numbers**.\n",
    "\n",
    "---\n",
    "\n",
    "## 2️⃣ **Floating-Point Types**\n",
    "\n",
    "Used to store decimal (fractional) numbers.\n",
    "\n",
    "### 👉 Key Types:\n",
    "\n",
    "* `float16`, `float32`, `float64` (default), `float128`\n",
    "\n",
    "### ✅ Example:\n",
    "\n",
    "```python\n",
    "x = np.array([1.5, 2.7, 3.9], dtype=np.float16)\n",
    "print(x, x.dtype)  # [1.5 2.7 3.9] float16\n",
    "\n",
    "y = np.array([4.123456789], dtype=np.float32)\n",
    "print(y, y.dtype)  # [4.123457] float32  (approx 7 decimal precision)\n",
    "\n",
    "z = np.array([7.123456789012345], dtype=np.float64)\n",
    "print(z, z.dtype)  # [7.12345679] float64 (approx 15 decimal precision)\n",
    "```\n",
    "\n",
    "### 📌 Notes:\n",
    "\n",
    "* Larger float types have **higher precision** but use more memory.\n",
    "* `float64` is the default in NumPy.\n",
    "\n",
    "---\n",
    "\n",
    "## 3️⃣ **Complex Types**\n",
    "\n",
    "Store numbers with a **real and imaginary part**.\n",
    "\n",
    "### 👉 Key Types:\n",
    "\n",
    "* `complex64`, `complex128`, `complex256`\n",
    "\n",
    "### ✅ Example:\n",
    "\n",
    "```python\n",
    "p = np.array([1 + 2j, 3 + 4j], dtype=np.complex64)\n",
    "print(p, p.dtype)  # [1.+2.j 3.+4.j] complex64\n",
    "\n",
    "q = np.array([5 + 6j], dtype=np.complex128)\n",
    "print(q, q.dtype)  # [5.+6.j] complex128\n",
    "```\n",
    "\n",
    "### 📌 Notes:\n",
    "\n",
    "* Used in scientific and engineering applications involving complex math.\n",
    "\n",
    "---\n",
    "\n",
    "## 4️⃣ **Boolean Type**\n",
    "\n",
    "Stores `True` or `False` values.\n",
    "\n",
    "### 👉 Key Type:\n",
    "\n",
    "* `bool_`\n",
    "\n",
    "### ✅ Example:\n",
    "\n",
    "```python\n",
    "flags = np.array([True, False, True], dtype=np.bool_)\n",
    "print(flags, flags.dtype)  # [ True False  True] bool\n",
    "```\n",
    "\n",
    "### 📌 Notes:\n",
    "\n",
    "* Useful for masking, filtering, and logical operations.\n",
    "\n",
    "---\n",
    "\n",
    "## 5️⃣ **String Types**\n",
    "\n",
    "Store **fixed-length** byte strings or Unicode strings.\n",
    "\n",
    "### 👉 Key Types:\n",
    "\n",
    "* `string_` (bytes)\n",
    "* `unicode_` (Unicode text)\n",
    "\n",
    "### ✅ Example:\n",
    "\n",
    "```python\n",
    "# Byte string\n",
    "s = np.array(['apple', 'banana'], dtype='S6')  # Max 6 bytes\n",
    "print(s, s.dtype)  # [b'apple' b'banana'] |S6\n",
    "\n",
    "# Unicode string\n",
    "u = np.array(['cat', 'dog'], dtype='U5')  # Max 5 characters\n",
    "print(u, u.dtype)  # ['cat' 'dog'] <U5\n",
    "```\n",
    "\n",
    "### 📌 Notes:\n",
    "\n",
    "* Fixed-size → extra space is **padded or truncated.**\n",
    "\n",
    "---\n",
    "\n",
    "## 6️⃣ **Object Type**\n",
    "\n",
    "Stores **arbitrary Python objects.**\n",
    "\n",
    "### 👉 Key Type:\n",
    "\n",
    "* `object_`\n",
    "\n",
    "### ✅ Example:\n",
    "\n",
    "```python\n",
    "# Mixed data types\n",
    "obj_array = np.array([1, 'hello', [2, 3, 4]], dtype=object)\n",
    "print(obj_array, obj_array.dtype)\n",
    "```\n",
    "\n",
    "### 📌 Notes:\n",
    "\n",
    "* Less memory efficient.\n",
    "* Can store lists, dictionaries, or mixed types.\n",
    "* Slower computations compared to native NumPy types.\n",
    "\n",
    "---\n",
    "\n",
    "## 7️⃣ **Datetime Type**\n",
    "\n",
    "Stores **dates and times.**\n",
    "\n",
    "### 👉 Key Type:\n",
    "\n",
    "* `datetime64`\n",
    "\n",
    "### ✅ Example:\n",
    "\n",
    "```python\n",
    "dates = np.array(['2025-01-01', '2025-07-04'], dtype='datetime64')\n",
    "print(dates, dates.dtype)  # ['2025-01-01' '2025-07-04'] datetime64[D]\n",
    "```\n",
    "\n",
    "### 📌 Notes:\n",
    "\n",
    "* Supports **date and time arithmetic.**\n",
    "* Units like days (`D`), hours (`h`), seconds (`s`) can be specified.\n",
    "\n",
    "---\n",
    "\n",
    "## 8️⃣ **Timedelta Type**\n",
    "\n",
    "Stores **differences between dates and times.**\n",
    "\n",
    "### 👉 Key Type:\n",
    "\n",
    "* `timedelta64`\n",
    "\n",
    "### ✅ Example:\n",
    "\n",
    "```python\n",
    "delta = np.array(['2025-07-04'], dtype='datetime64[D]') - np.array(['2025-01-01'], dtype='datetime64[D]')\n",
    "print(delta, delta.dtype)  # [184] timedelta64[D]\n",
    "```\n",
    "\n",
    "### 📌 Notes:\n",
    "\n",
    "* Useful for **calculating durations** or intervals.\n",
    "\n",
    "---\n",
    "\n",
    "## 9️⃣ **Structured and Void Types**\n",
    "\n",
    "Used for **record-like structures (tables)**.\n",
    "\n",
    "### 👉 Key Type:\n",
    "\n",
    "* `void`\n",
    "\n",
    "### ✅ Example:\n",
    "\n",
    "```python\n",
    "person = np.array([(1, 'Alice', 50.5), (2, 'Bob', 60.0)],\n",
    "                  dtype=[('id', 'i4'), ('name', 'U10'), ('weight', 'f4')])\n",
    "\n",
    "print(person)\n",
    "print(person['name'])  # Access specific field\n",
    "```\n",
    "\n",
    "### 📌 Notes:\n",
    "\n",
    "* Works like a **table or database row.**\n",
    "* Each field can have a different data type.\n",
    "\n",
    "---\n",
    "\n",
    "# ✅ Summary:\n",
    "\n",
    "| Data Type       | Example Usage      |\n",
    "| --------------- | ------------------ |\n",
    "| Integer         | Whole numbers      |\n",
    "| Float           | Decimal numbers    |\n",
    "| Complex         | Real + imaginary   |\n",
    "| Boolean         | True/False         |\n",
    "| String          | Fixed-length text  |\n",
    "| Object          | Any Python object  |\n",
    "| Datetime        | Date/Time values   |\n",
    "| Timedelta       | Time differences   |\n",
    "| Structured/Void | Table-like records |\n",
    "\n",
    "---"
   ]
  },
  {
   "cell_type": "code",
   "execution_count": null,
   "id": "02a95e4c",
   "metadata": {},
   "outputs": [],
   "source": []
  },
  {
   "cell_type": "markdown",
   "id": "68eeb40f",
   "metadata": {},
   "source": [
    "# Exercise"
   ]
  },
  {
   "cell_type": "markdown",
   "id": "72b5744b",
   "metadata": {},
   "source": [
    "## int"
   ]
  },
  {
   "cell_type": "code",
   "execution_count": 2,
   "id": "6e60f849",
   "metadata": {},
   "outputs": [
    {
     "name": "stdout",
     "output_type": "stream",
     "text": [
      "[10 20 30 40 50]\n",
      "int16\n"
     ]
    }
   ],
   "source": [
    "# Create a NumPy array of type int16 with values from 10 to 50.\n",
    "arr = np.arange(10, 51, 10, dtype='int16')\n",
    "print(arr)\n",
    "print(arr.dtype)"
   ]
  },
  {
   "cell_type": "code",
   "execution_count": 3,
   "id": "a21554f6",
   "metadata": {},
   "outputs": [
    {
     "name": "stdout",
     "output_type": "stream",
     "text": [
      "[-10 -20 -30 -40]\n",
      "int8\n"
     ]
    }
   ],
   "source": [
    "# Creating array with negative values\n",
    "arr = np.array([-10, -20, -30, -40], dtype='int8')\n",
    "\n",
    "print(arr)\n",
    "print(arr.dtype)"
   ]
  },
  {
   "cell_type": "code",
   "execution_count": 4,
   "id": "93c978af",
   "metadata": {},
   "outputs": [
    {
     "name": "stdout",
     "output_type": "stream",
     "text": [
      "[246 236 226 216]\n",
      "uint8\n"
     ]
    },
    {
     "name": "stderr",
     "output_type": "stream",
     "text": [
      "C:\\Users\\mahes\\AppData\\Local\\Temp\\ipykernel_20820\\2488977057.py:2: DeprecationWarning: NumPy will stop allowing conversion of out-of-bound Python integers to integer arrays.  The conversion of -10 to uint8 will fail in the future.\n",
      "For the old behavior, usually:\n",
      "    np.array(value).astype(dtype)\n",
      "will give the desired result (the cast overflows).\n",
      "  arr = np.array([-10, -20, -30, -40], dtype='uint8')\n",
      "C:\\Users\\mahes\\AppData\\Local\\Temp\\ipykernel_20820\\2488977057.py:2: DeprecationWarning: NumPy will stop allowing conversion of out-of-bound Python integers to integer arrays.  The conversion of -20 to uint8 will fail in the future.\n",
      "For the old behavior, usually:\n",
      "    np.array(value).astype(dtype)\n",
      "will give the desired result (the cast overflows).\n",
      "  arr = np.array([-10, -20, -30, -40], dtype='uint8')\n",
      "C:\\Users\\mahes\\AppData\\Local\\Temp\\ipykernel_20820\\2488977057.py:2: DeprecationWarning: NumPy will stop allowing conversion of out-of-bound Python integers to integer arrays.  The conversion of -30 to uint8 will fail in the future.\n",
      "For the old behavior, usually:\n",
      "    np.array(value).astype(dtype)\n",
      "will give the desired result (the cast overflows).\n",
      "  arr = np.array([-10, -20, -30, -40], dtype='uint8')\n",
      "C:\\Users\\mahes\\AppData\\Local\\Temp\\ipykernel_20820\\2488977057.py:2: DeprecationWarning: NumPy will stop allowing conversion of out-of-bound Python integers to integer arrays.  The conversion of -40 to uint8 will fail in the future.\n",
      "For the old behavior, usually:\n",
      "    np.array(value).astype(dtype)\n",
      "will give the desired result (the cast overflows).\n",
      "  arr = np.array([-10, -20, -30, -40], dtype='uint8')\n"
     ]
    }
   ],
   "source": [
    "# Try to create a uint8 array with a negative number and observe the result.\n",
    "arr = np.array([-10, -20, -30, -40], dtype='uint8')\n",
    "\n",
    "print(arr)\n",
    "print(arr.dtype)"
   ]
  },
  {
   "cell_type": "markdown",
   "id": "999a4150",
   "metadata": {},
   "source": [
    "## Float"
   ]
  },
  {
   "cell_type": "code",
   "execution_count": 5,
   "id": "b73e3018",
   "metadata": {},
   "outputs": [
    {
     "name": "stdout",
     "output_type": "stream",
     "text": [
      "[10. 20.]\n",
      "float32\n"
     ]
    }
   ],
   "source": [
    "# Create a float32 array with whole numbers.\n",
    "\n",
    "arr = np.array([10, 20], np.float32)\n",
    "print(arr)\n",
    "print(arr.dtype)"
   ]
  },
  {
   "cell_type": "code",
   "execution_count": 6,
   "id": "f9037074",
   "metadata": {},
   "outputs": [
    {
     "name": "stdout",
     "output_type": "stream",
     "text": [
      "[10.5 20.9]\n",
      "float32\n"
     ]
    }
   ],
   "source": [
    "# Create a float32 array with decimal numbers.\n",
    "\n",
    "arr = np.array([10.5, 20.9], dtype='float32')\n",
    "print(arr)\n",
    "print(arr.dtype)"
   ]
  },
  {
   "cell_type": "code",
   "execution_count": 7,
   "id": "842b87c7",
   "metadata": {},
   "outputs": [
    {
     "name": "stdout",
     "output_type": "stream",
     "text": [
      "[10.5 20.9]\n",
      "float32\n"
     ]
    }
   ],
   "source": [
    "# Create a float32 array with decimal numbers.\n",
    "\n",
    "arr = np.array([10.5, 20.9], dtype=np.float32)\n",
    "print(arr)\n",
    "print(arr.dtype)"
   ]
  },
  {
   "cell_type": "code",
   "execution_count": 8,
   "id": "5dc99146",
   "metadata": {},
   "outputs": [
    {
     "name": "stdout",
     "output_type": "stream",
     "text": [
      "[1.234]\n"
     ]
    }
   ],
   "source": [
    "# Add a number with more than 7 decimals and \n",
    "# see how much precision it retains.\n",
    "\n",
    "arr = np.array([1.23456789], dtype=np.float16)\n",
    "print(arr)"
   ]
  },
  {
   "cell_type": "code",
   "execution_count": 9,
   "id": "81aa8948",
   "metadata": {},
   "outputs": [
    {
     "name": "stdout",
     "output_type": "stream",
     "text": [
      "[1.2345679]\n"
     ]
    }
   ],
   "source": [
    "arr = np.array([1.23456789], dtype=np.float32)\n",
    "print(arr)"
   ]
  },
  {
   "cell_type": "code",
   "execution_count": 10,
   "id": "14498ab3",
   "metadata": {},
   "outputs": [
    {
     "name": "stdout",
     "output_type": "stream",
     "text": [
      "[1.23456789]\n"
     ]
    }
   ],
   "source": [
    "arr = np.array([1.23456789], dtype=np.float64)\n",
    "print(arr)"
   ]
  },
  {
   "cell_type": "markdown",
   "id": "b89f2623",
   "metadata": {},
   "source": [
    "## complex"
   ]
  },
  {
   "cell_type": "code",
   "execution_count": 11,
   "id": "951211c6",
   "metadata": {},
   "outputs": [
    {
     "name": "stdout",
     "output_type": "stream",
     "text": [
      "[3.+4.j 5.+6.j]\n",
      "complex64\n"
     ]
    }
   ],
   "source": [
    "# Create a complex64 array.\n",
    "arr = np.array([3 + 4j, 5 + 6j], dtype=np.complex64)\n",
    "print(arr)\n",
    "print(arr.dtype)"
   ]
  },
  {
   "cell_type": "code",
   "execution_count": 12,
   "id": "efd5bf1d",
   "metadata": {},
   "outputs": [
    {
     "name": "stdout",
     "output_type": "stream",
     "text": [
      "Real: [3. 5.]\n",
      "Imaginary: [4. 6.]\n"
     ]
    }
   ],
   "source": [
    "# Extract the real and imaginary parts separately.\n",
    "print(f\"Real: {arr.real}\")\n",
    "print(f\"Imaginary: {arr.imag}\")"
   ]
  },
  {
   "cell_type": "markdown",
   "id": "48190d6f",
   "metadata": {},
   "source": [
    "## bool"
   ]
  },
  {
   "cell_type": "code",
   "execution_count": 13,
   "id": "386faa3c",
   "metadata": {},
   "outputs": [
    {
     "name": "stdout",
     "output_type": "stream",
     "text": [
      "[10 20 30 40 50]\n",
      "int32\n"
     ]
    }
   ],
   "source": [
    "# Create a Boolean array using a condition.\n",
    "arr = np.array([10, 20, 30, 40 ,50])\n",
    "\n",
    "print(arr)\n",
    "print(arr.dtype)"
   ]
  },
  {
   "cell_type": "code",
   "execution_count": 14,
   "id": "c1422a7f",
   "metadata": {},
   "outputs": [
    {
     "name": "stdout",
     "output_type": "stream",
     "text": [
      "Condition: [False False False  True  True]\n",
      "Condition type: bool\n",
      "Conditioned elements: [40 50]\n"
     ]
    }
   ],
   "source": [
    "cond = arr > 30\n",
    "print(f\"Condition: {cond}\")\n",
    "print(f\"Condition type: {cond.dtype}\")\n",
    "\n",
    "print(f\"Conditioned elements: {arr[cond]}\")"
   ]
  },
  {
   "cell_type": "markdown",
   "id": "dbe56d24",
   "metadata": {},
   "source": [
    "## string"
   ]
  },
  {
   "cell_type": "code",
   "execution_count": 15,
   "id": "a2369073",
   "metadata": {},
   "outputs": [
    {
     "name": "stdout",
     "output_type": "stream",
     "text": [
      "[b'mahi' b'mani' b'anji' b'man']\n",
      "|S4\n"
     ]
    }
   ],
   "source": [
    "# Create a string array with maximum 4 characters.\n",
    "\n",
    "arr = np.array(['mahi', 'mani', 'anji', 'man'], dtype='S4')\n",
    "print(arr)\n",
    "print(arr.dtype)"
   ]
  },
  {
   "cell_type": "code",
   "execution_count": 16,
   "id": "83294dea",
   "metadata": {},
   "outputs": [
    {
     "name": "stdout",
     "output_type": "stream",
     "text": [
      "[b'manu' b'mahi' b'mani' b'anji' b'man']\n",
      "|S4\n",
      "[b'manj' b'manu' b'mahi' b'mani' b'anji' b'man']\n",
      "|S4\n"
     ]
    }
   ],
   "source": [
    "# Try inserting a string longer than 4 characters and see what happens.\n",
    "arr = np.insert(arr, 0, \"manu\")\n",
    "print(arr)\n",
    "print(arr.dtype)\n",
    "\n",
    "arr = np.insert(arr, 0, \"manju\") # only 4 character considered\n",
    "print(arr)\n",
    "print(arr.dtype)"
   ]
  },
  {
   "cell_type": "markdown",
   "id": "5984b866",
   "metadata": {},
   "source": [
    "## object"
   ]
  },
  {
   "cell_type": "code",
   "execution_count": 17,
   "id": "11659bad",
   "metadata": {},
   "outputs": [
    {
     "name": "stdout",
     "output_type": "stream",
     "text": [
      "['1' '2' '3.14' 'Mahesh']\n",
      "<U32\n",
      "<U1\n",
      "<class 'numpy.str_'>\n",
      "<U1\n",
      "<class 'numpy.str_'>\n",
      "<U4\n",
      "<class 'numpy.str_'>\n",
      "<U6\n",
      "<class 'numpy.str_'>\n"
     ]
    }
   ],
   "source": [
    "# Create a NumPy array with mixed data types.\n",
    "arr = np.array([1, 2, 3.14, \"Mahesh\"])\n",
    "print(arr)\n",
    "print(arr.dtype)\n",
    "\n",
    "for i in arr:\n",
    "    print(i.dtype)\n",
    "    print(type(i))"
   ]
  },
  {
   "cell_type": "code",
   "execution_count": 18,
   "id": "aa2549cf",
   "metadata": {},
   "outputs": [
    {
     "name": "stdout",
     "output_type": "stream",
     "text": [
      "[1 2 3.14 'Mahesh']\n",
      "object\n",
      "<class 'int'>\n",
      "<class 'int'>\n",
      "<class 'float'>\n",
      "<class 'str'>\n"
     ]
    }
   ],
   "source": [
    "arr = np.array([1, 2, 3.14, \"Mahesh\"], dtype=np.object_)\n",
    "print(arr)\n",
    "print(arr.dtype)\n",
    "\n",
    "for i in arr:\n",
    "    print(type(i))"
   ]
  },
  {
   "cell_type": "markdown",
   "id": "6577bb5d",
   "metadata": {},
   "source": [
    "## datetime"
   ]
  },
  {
   "cell_type": "code",
   "execution_count": 31,
   "id": "29db45c0",
   "metadata": {},
   "outputs": [
    {
     "name": "stdout",
     "output_type": "stream",
     "text": [
      "['2003-11-06' '2025-04-07']\n",
      "datetime64[D]\n"
     ]
    }
   ],
   "source": [
    "# Create a datetime64 array.\n",
    "arr = np.array(['2003-11-06', '2025-04-07'], dtype=np.datetime64)\n",
    "print(arr)\n",
    "print(arr.dtype)"
   ]
  },
  {
   "cell_type": "code",
   "execution_count": 34,
   "id": "42a692a0",
   "metadata": {},
   "outputs": [
    {
     "name": "stdout",
     "output_type": "stream",
     "text": [
      "7823 days\n"
     ]
    }
   ],
   "source": [
    "# Calculate the number of days between two dates.\n",
    "diff = arr[1] - arr[0]\n",
    "print(diff)"
   ]
  },
  {
   "cell_type": "markdown",
   "id": "349916d0",
   "metadata": {},
   "source": [
    "## timedelta"
   ]
  },
  {
   "cell_type": "code",
   "execution_count": 38,
   "id": "d3abdb3f",
   "metadata": {},
   "outputs": [
    {
     "name": "stdout",
     "output_type": "stream",
     "text": [
      "[ 5 10 20]\n",
      "timedelta64[D]\n"
     ]
    }
   ],
   "source": [
    "# Timedelta array\n",
    "delta = np.array([5, 10, 20], dtype='timedelta64[D]')\n",
    "print(delta)\n",
    "print(delta.dtype)"
   ]
  },
  {
   "cell_type": "code",
   "execution_count": 39,
   "id": "b37c245f",
   "metadata": {},
   "outputs": [
    {
     "name": "stdout",
     "output_type": "stream",
     "text": [
      "['2025-01-06' '2025-01-11' '2025-01-21']\n"
     ]
    }
   ],
   "source": [
    "# Add timedelta to datetime\n",
    "base_date = np.array(['2025-01-01'], dtype='datetime64[D]')\n",
    "new_dates = base_date + delta\n",
    "print(new_dates)"
   ]
  },
  {
   "cell_type": "markdown",
   "id": "5c91821f",
   "metadata": {},
   "source": [
    "## Structured data types"
   ]
  },
  {
   "cell_type": "code",
   "execution_count": 42,
   "id": "32aeed98",
   "metadata": {},
   "outputs": [
    {
     "name": "stdout",
     "output_type": "stream",
     "text": [
      "[(1, 'Mahesh', 90.) (2, 'Manju', 99.)]\n",
      "[('ID', '<i4'), ('Name', '<U10'), ('Marks', '<f4')]\n"
     ]
    }
   ],
   "source": [
    "# Create a structured array with \n",
    "# fields: ID (int), Name (string), and Marks (float).\n",
    "\n",
    "students = np.array([\n",
    "    (1, \"Mahesh\", 90),\n",
    "    (2, \"Manju\", 99)], \n",
    "    dtype=[\n",
    "    ('ID', 'i4'), ('Name', 'U10'), ('Marks', 'f4')\n",
    "]\n",
    ")\n",
    "\n",
    "print(students)\n",
    "print(students.dtype)"
   ]
  },
  {
   "cell_type": "code",
   "execution_count": 44,
   "id": "17d7c423",
   "metadata": {
    "scrolled": true
   },
   "outputs": [
    {
     "name": "stdout",
     "output_type": "stream",
     "text": [
      "['Mahesh' 'Manju']\n"
     ]
    }
   ],
   "source": [
    "# student names\n",
    "print(students['Name'])"
   ]
  },
  {
   "cell_type": "code",
   "execution_count": 45,
   "id": "c18a8724",
   "metadata": {},
   "outputs": [
    {
     "name": "stdout",
     "output_type": "stream",
     "text": [
      "[90. 99.]\n"
     ]
    }
   ],
   "source": [
    "# student marks\n",
    "print(students['Marks'])"
   ]
  },
  {
   "cell_type": "markdown",
   "id": "d2a1c72d",
   "metadata": {},
   "source": [
    "<center><b>Thanks</b><center>"
   ]
  }
 ],
 "metadata": {
  "kernelspec": {
   "display_name": "Python 3 (ipykernel)",
   "language": "python",
   "name": "python3"
  },
  "language_info": {
   "codemirror_mode": {
    "name": "ipython",
    "version": 3
   },
   "file_extension": ".py",
   "mimetype": "text/x-python",
   "name": "python",
   "nbconvert_exporter": "python",
   "pygments_lexer": "ipython3",
   "version": "3.10.2"
  }
 },
 "nbformat": 4,
 "nbformat_minor": 5
}
