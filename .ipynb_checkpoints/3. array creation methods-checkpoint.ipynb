{
 "cells": [
  {
   "cell_type": "markdown",
   "id": "c9542db9",
   "metadata": {},
   "source": [
    "# Numpy Array Creation Methods - Most frequently used"
   ]
  },
  {
   "cell_type": "code",
   "execution_count": 1,
   "id": "cac47fb4",
   "metadata": {},
   "outputs": [],
   "source": [
    "import numpy as np"
   ]
  },
  {
   "cell_type": "markdown",
   "id": "aa1abcc3",
   "metadata": {},
   "source": [
    "## 1. Using np.array() – From Python Lists or Tuples"
   ]
  },
  {
   "cell_type": "markdown",
   "id": "70a67fb0",
   "metadata": {},
   "source": [
    "Converts existing Python lists, tuples, or nested lists into NumPy arrays.\n",
    "\n",
    "You can create 1D, 2D, or multi-dimensional arrays.\n",
    "\n",
    "The shape is automatically inferred."
   ]
  },
  {
   "cell_type": "code",
   "execution_count": 14,
   "id": "04bd27a4",
   "metadata": {
    "scrolled": true
   },
   "outputs": [
    {
     "name": "stdout",
     "output_type": "stream",
     "text": [
      "[1 2 3 4 5 6]\n",
      "<class 'numpy.ndarray'>\n",
      "(6,)\n"
     ]
    }
   ],
   "source": [
    "# From list\n",
    "py_list = [1, 2, 3, 4, 5, 6]\n",
    "np_array = np.array(py_list)\n",
    "print(np_array)\n",
    "print(type(np_array))\n",
    "print(np_array.shape)"
   ]
  },
  {
   "cell_type": "code",
   "execution_count": 11,
   "id": "2a0a5d3f",
   "metadata": {},
   "outputs": [
    {
     "name": "stdout",
     "output_type": "stream",
     "text": [
      "[9 8 7 6 5]\n",
      "<class 'numpy.ndarray'>\n"
     ]
    }
   ],
   "source": [
    "# From tuple\n",
    "py_tuple = (9, 8, 7, 6, 5)\n",
    "np_array = np.array(py_tuple)\n",
    "print(np_array)\n",
    "print(type(np_array))"
   ]
  },
  {
   "cell_type": "code",
   "execution_count": 15,
   "id": "00cbd1b2",
   "metadata": {
    "scrolled": true
   },
   "outputs": [
    {
     "name": "stdout",
     "output_type": "stream",
     "text": [
      "[[2 4 6 8]\n",
      " [1 3 5 7]]\n",
      "<class 'numpy.ndarray'>\n",
      "(2, 4)\n"
     ]
    }
   ],
   "source": [
    "# From nested list\n",
    "py_2d_list = [[2, 4, 6, 8], [1, 3, 5, 7]]\n",
    "np_2d_array = np.array(py_2d_list)\n",
    "print(np_2d_array)\n",
    "print(type(np_2d_array))\n",
    "print(np_2d_array.shape)"
   ]
  },
  {
   "cell_type": "code",
   "execution_count": 17,
   "id": "0abca9b3",
   "metadata": {},
   "outputs": [
    {
     "name": "stdout",
     "output_type": "stream",
     "text": [
      "[[[1 2 3]\n",
      "  [4 5 6]]]\n",
      "Shape: (1, 2, 3)\n"
     ]
    }
   ],
   "source": [
    "array_3d = np.array([\n",
    "    [\n",
    "        [1, 2, 3],\n",
    "        [4, 5, 6]\n",
    "    ]\n",
    "])\n",
    "\n",
    "print(array_3d)\n",
    "print(\"Shape:\", array_3d.shape)"
   ]
  },
  {
   "cell_type": "markdown",
   "id": "e0bc349e",
   "metadata": {},
   "source": [
    "- Understanding shape of 3D, from above response as (1, 2, 3)\n",
    "- 2 and 3 represensts rows and columns respectively\n",
    "- 1 represensts block which contains 2 rows and 3 columns.\n",
    "\n",
    "We can Understnad more about 3D and multi dimention data in later sections"
   ]
  },
  {
   "cell_type": "markdown",
   "id": "456ca645",
   "metadata": {},
   "source": [
    "## 2. Using np.arange() – Array with Regular Intervals"
   ]
  },
  {
   "cell_type": "markdown",
   "id": "c310bfe3",
   "metadata": {},
   "source": [
    "Creates arrays with regularly spaced values (similar to Python’s range()).\n",
    "\n",
    "Useful for generating sequences.\n",
    "\n",
    "**Includes the start value, excludes the stop value.**"
   ]
  },
  {
   "cell_type": "code",
   "execution_count": 14,
   "id": "d604bd9b",
   "metadata": {
    "scrolled": true
   },
   "outputs": [
    {
     "name": "stdout",
     "output_type": "stream",
     "text": [
      "[0 1 2 3 4 5 6 7 8 9]\n",
      "<class 'numpy.ndarray'>\n"
     ]
    }
   ],
   "source": [
    "np_arr1 = np.arange(10)\n",
    "\n",
    "print(np_arr1)\n",
    "print(type(np_arr1))"
   ]
  },
  {
   "cell_type": "code",
   "execution_count": 15,
   "id": "b71e36fd",
   "metadata": {},
   "outputs": [
    {
     "name": "stdout",
     "output_type": "stream",
     "text": [
      "[ 1  3  5  7  9 11 13 15 17 19 21 23 25]\n",
      "<class 'numpy.ndarray'>\n"
     ]
    }
   ],
   "source": [
    "np_arr2 = np.arange(1, 26, 2)\n",
    "\n",
    "print(np_arr2)\n",
    "print(type(np_arr2))"
   ]
  },
  {
   "cell_type": "markdown",
   "id": "f98c2af4",
   "metadata": {},
   "source": [
    "## 3. Using np.linspace() – Evenly Spaced Numbers Over Interval"
   ]
  },
  {
   "cell_type": "markdown",
   "id": "435cfa19",
   "metadata": {},
   "source": [
    "Creates **evenly spaced values** between two numbers.\n",
    "\n",
    "You **control how many points** you want, not the step size.\n",
    "\n",
    "Useful for plotting graphs or simulations."
   ]
  },
  {
   "cell_type": "code",
   "execution_count": 16,
   "id": "757b51c9",
   "metadata": {},
   "outputs": [
    {
     "name": "stdout",
     "output_type": "stream",
     "text": [
      "[ 1.    3.25  5.5   7.75 10.  ]\n"
     ]
    }
   ],
   "source": [
    "print(np.linspace(1, 10, 5))\n",
    "# 5 evenly spread values between 1 and 10"
   ]
  },
  {
   "cell_type": "code",
   "execution_count": 17,
   "id": "b3c48e74",
   "metadata": {},
   "outputs": [
    {
     "name": "stdout",
     "output_type": "stream",
     "text": [
      "[0.  0.5 1. ]\n"
     ]
    }
   ],
   "source": [
    "print(np.linspace(0, 1, 3))"
   ]
  },
  {
   "cell_type": "markdown",
   "id": "09878b18",
   "metadata": {},
   "source": [
    "## 4. Using np.zeros() – Array of All Zeros"
   ]
  },
  {
   "cell_type": "markdown",
   "id": "2fc9a962",
   "metadata": {},
   "source": [
    "Creates an array filled with zeros.\n",
    "\n",
    "Commonly used for **initializing arrays** before filling them with other data."
   ]
  },
  {
   "cell_type": "code",
   "execution_count": 18,
   "id": "435f9ed8",
   "metadata": {},
   "outputs": [
    {
     "name": "stdout",
     "output_type": "stream",
     "text": [
      "[0. 0. 0. 0. 0.]\n",
      "5\n",
      "5\n"
     ]
    }
   ],
   "source": [
    "# 1D array with 5 zeros\n",
    "zeros = np.zeros(5)\n",
    "print(zeros)\n",
    "print(len(zeros))\n",
    "print(zeros.size)"
   ]
  },
  {
   "cell_type": "code",
   "execution_count": 19,
   "id": "a4ad59cb",
   "metadata": {},
   "outputs": [
    {
     "name": "stdout",
     "output_type": "stream",
     "text": [
      "[[0. 0. 0. 0.]\n",
      " [0. 0. 0. 0.]\n",
      " [0. 0. 0. 0.]]\n",
      "3\n",
      "12\n"
     ]
    }
   ],
   "source": [
    "# 2D array of zeros (3 rows, 4 columns)\n",
    "\n",
    "zeros = np.zeros((3, 4))\n",
    "print(zeros)\n",
    "print(len(zeros))\n",
    "print(zeros.size)"
   ]
  },
  {
   "cell_type": "markdown",
   "id": "b8847e51",
   "metadata": {},
   "source": [
    "## 5. Using np.ones() – Array of All Ones"
   ]
  },
  {
   "cell_type": "markdown",
   "id": "af605da8",
   "metadata": {},
   "source": [
    "Creates an array filled with ones.\n",
    "\n",
    "Like np.zeros(), useful for **array initialization**."
   ]
  },
  {
   "cell_type": "code",
   "execution_count": 20,
   "id": "7a808bae",
   "metadata": {},
   "outputs": [
    {
     "name": "stdout",
     "output_type": "stream",
     "text": [
      "[1. 1. 1. 1. 1.]\n",
      "5\n",
      "5\n"
     ]
    }
   ],
   "source": [
    "# 1D array with 5 ones\n",
    "ones = np.ones(5)\n",
    "print(ones)\n",
    "print(len(ones))\n",
    "print(ones.size)"
   ]
  },
  {
   "cell_type": "code",
   "execution_count": 21,
   "id": "ed7b6000",
   "metadata": {},
   "outputs": [
    {
     "name": "stdout",
     "output_type": "stream",
     "text": [
      "[[1. 1. 1.]\n",
      " [1. 1. 1.]]\n",
      "2\n",
      "6\n"
     ]
    }
   ],
   "source": [
    "# 2D array with 2 rows, 3 columns\n",
    "ones = np.ones((2, 3))\n",
    "print(ones)\n",
    "print(len(ones))\n",
    "print(ones.size)"
   ]
  },
  {
   "cell_type": "markdown",
   "id": "287f56bb",
   "metadata": {},
   "source": [
    "## 6. Using np.empty() – Array with Uninitialized Garbage Values"
   ]
  },
  {
   "cell_type": "markdown",
   "id": "86c501ce",
   "metadata": {},
   "source": [
    "Creates an array without initializing values (may contain random garbage values from memory).\n",
    "\n",
    "**Fastest array creation but use carefully (values are not reliable until overwritten).**"
   ]
  },
  {
   "cell_type": "code",
   "execution_count": 22,
   "id": "bd1d5095",
   "metadata": {},
   "outputs": [
    {
     "name": "stdout",
     "output_type": "stream",
     "text": [
      "[1. 1. 1. 1. 1.]\n",
      "5\n"
     ]
    }
   ],
   "source": [
    "# 1D empty array with 5 random values\n",
    "empty = np.empty(5)\n",
    "print(empty)\n",
    "print(len(empty))"
   ]
  },
  {
   "cell_type": "code",
   "execution_count": 23,
   "id": "e4984225",
   "metadata": {},
   "outputs": [
    {
     "name": "stdout",
     "output_type": "stream",
     "text": [
      "[[0.00000000e+000 0.00000000e+000 0.00000000e+000 0.00000000e+000]\n",
      " [0.00000000e+000 4.60469182e-321 3.11525958e-307 1.24610723e-306]]\n"
     ]
    }
   ],
   "source": [
    "# 2D empty array with 2 rows 3 columns of random values\n",
    "empty = np.empty((2, 4))\n",
    "print(empty)"
   ]
  },
  {
   "cell_type": "markdown",
   "id": "ee3f0d7c",
   "metadata": {},
   "source": [
    "## 7. Using np.eye() – Identity Matrix"
   ]
  },
  {
   "cell_type": "markdown",
   "id": "35d36f6e",
   "metadata": {},
   "source": [
    "Creates a **square matrix with ones on the diagonal** and zeros elsewhere.\n",
    "\n",
    "Commonly used in linear algebra.\n"
   ]
  },
  {
   "cell_type": "code",
   "execution_count": 24,
   "id": "3041cddb",
   "metadata": {},
   "outputs": [
    {
     "name": "stdout",
     "output_type": "stream",
     "text": [
      "[[1. 0.]\n",
      " [0. 1.]]\n",
      "2\n",
      "4\n"
     ]
    }
   ],
   "source": [
    "identity = np.eye(2)\n",
    "print(identity)\n",
    "print(len(identity))\n",
    "print(identity.size)"
   ]
  },
  {
   "cell_type": "code",
   "execution_count": 25,
   "id": "581d6cbd",
   "metadata": {},
   "outputs": [
    {
     "name": "stdout",
     "output_type": "stream",
     "text": [
      "[[1. 0. 0. 0. 0.]\n",
      " [0. 1. 0. 0. 0.]\n",
      " [0. 0. 1. 0. 0.]\n",
      " [0. 0. 0. 1. 0.]\n",
      " [0. 0. 0. 0. 1.]]\n"
     ]
    }
   ],
   "source": [
    "identity = np.eye(5)\n",
    "print(identity)"
   ]
  },
  {
   "cell_type": "markdown",
   "id": "c1f4fe3f",
   "metadata": {},
   "source": [
    "## 8. Using np.full() – Array Filled with a Specific Value"
   ]
  },
  {
   "cell_type": "markdown",
   "id": "725d68f2",
   "metadata": {},
   "source": [
    "Creates an array of a **specified shape filled with a constant value**.\n",
    "\n",
    "Useful for creating arrays with default values other than 0 or 1."
   ]
  },
  {
   "cell_type": "code",
   "execution_count": 26,
   "id": "3065a00f",
   "metadata": {},
   "outputs": [
    {
     "name": "stdout",
     "output_type": "stream",
     "text": [
      "[2 2 2 2 2]\n"
     ]
    }
   ],
   "source": [
    "full_arr = np.full(5, 2)\n",
    "print(full_arr)"
   ]
  },
  {
   "cell_type": "code",
   "execution_count": 27,
   "id": "dd977ea9",
   "metadata": {},
   "outputs": [
    {
     "name": "stdout",
     "output_type": "stream",
     "text": [
      "[[5 5 5]\n",
      " [5 5 5]]\n"
     ]
    }
   ],
   "source": [
    "full_arr = np.full((2, 3), 5)\n",
    "print(full_arr)"
   ]
  },
  {
   "cell_type": "markdown",
   "id": "598799d8",
   "metadata": {},
   "source": [
    "## 9. Using Random Array Generators – np.random"
   ]
  },
  {
   "cell_type": "markdown",
   "id": "d1473ccd",
   "metadata": {},
   "source": [
    "Creates arrays filled with random numbers.\n",
    "\n",
    "Very useful for simulations, initializing machine learning weights, and generating synthetic data."
   ]
  },
  {
   "cell_type": "markdown",
   "id": "87bd1c52",
   "metadata": {},
   "source": [
    "**rand():** will give random value from 0 to 1"
   ]
  },
  {
   "cell_type": "code",
   "execution_count": 28,
   "id": "875c1f96",
   "metadata": {},
   "outputs": [
    {
     "name": "stdout",
     "output_type": "stream",
     "text": [
      "0.10130997740105918\n"
     ]
    }
   ],
   "source": [
    "np_rand = np.random.rand() # For generating random number b/w 0 to 1\n",
    "print(np_rand)"
   ]
  },
  {
   "cell_type": "code",
   "execution_count": 29,
   "id": "49d66112",
   "metadata": {},
   "outputs": [
    {
     "name": "stdout",
     "output_type": "stream",
     "text": [
      "[0.27763618 0.52760381 0.01587206 0.1643546  0.63012182]\n"
     ]
    }
   ],
   "source": [
    "np_rand = np.random.rand(5) # For generating 5 random numbers\n",
    "print(np_rand)"
   ]
  },
  {
   "cell_type": "code",
   "execution_count": 30,
   "id": "df2a9b87",
   "metadata": {},
   "outputs": [
    {
     "name": "stdout",
     "output_type": "stream",
     "text": [
      "[[0.55237305 0.21389677 0.50263011 0.33507767 0.16072294]\n",
      " [0.1752775  0.76175494 0.70987001 0.07846081 0.22443857]]\n"
     ]
    }
   ],
   "source": [
    "np_rand = np.random.rand(2, 5) # specification of rows and columns\n",
    "print(np_rand)"
   ]
  },
  {
   "cell_type": "markdown",
   "id": "c3d5798c",
   "metadata": {},
   "source": [
    "**randint():**  Will generate random integer value"
   ]
  },
  {
   "cell_type": "code",
   "execution_count": 31,
   "id": "da0faeb1",
   "metadata": {},
   "outputs": [
    {
     "name": "stdout",
     "output_type": "stream",
     "text": [
      "4\n"
     ]
    }
   ],
   "source": [
    "np_randint = np.random.randint(5) # from 0 to 4 generates random values\n",
    "print(np_randint)"
   ]
  },
  {
   "cell_type": "code",
   "execution_count": 32,
   "id": "c3b786d4",
   "metadata": {},
   "outputs": [
    {
     "name": "stdout",
     "output_type": "stream",
     "text": [
      "3\n"
     ]
    }
   ],
   "source": [
    "np_randint = np.random.randint(2, 5) # from 2 to 4 (5 excluded)\n",
    "print(np_randint)"
   ]
  },
  {
   "cell_type": "code",
   "execution_count": 33,
   "id": "668d4c0a",
   "metadata": {},
   "outputs": [
    {
     "name": "stdout",
     "output_type": "stream",
     "text": [
      "[[3 3 3]\n",
      " [4 3 4]]\n"
     ]
    }
   ],
   "source": [
    "np_randint = np.random.randint(3, 5, size=(2, 3)) # 3 rows, 2 columns and values from 3 to 4\n",
    "print(np_randint)"
   ]
  },
  {
   "cell_type": "markdown",
   "id": "1333fb58",
   "metadata": {},
   "source": [
    "**randn():** Random numbers from normal distribution (mean=0, std=1)"
   ]
  },
  {
   "cell_type": "code",
   "execution_count": 34,
   "id": "4ba5dc0f",
   "metadata": {},
   "outputs": [
    {
     "name": "stdout",
     "output_type": "stream",
     "text": [
      "0.941760569227919\n"
     ]
    }
   ],
   "source": [
    "np_randn = np.random.randn()\n",
    "print(np_randn)"
   ]
  },
  {
   "cell_type": "code",
   "execution_count": 35,
   "id": "84ea15b3",
   "metadata": {},
   "outputs": [
    {
     "name": "stdout",
     "output_type": "stream",
     "text": [
      "[-0.00805692 -0.52883498  1.50938351 -0.4987421  -0.70339145]\n"
     ]
    }
   ],
   "source": [
    "np_randn = np.random.randn(5)\n",
    "print(np_randn)"
   ]
  },
  {
   "cell_type": "code",
   "execution_count": 36,
   "id": "fe602c42",
   "metadata": {},
   "outputs": [
    {
     "name": "stdout",
     "output_type": "stream",
     "text": [
      "[[-0.01519601 -1.08693781 -0.11641748  0.15724557 -0.26569263  0.51591164]\n",
      " [-0.63311286  0.30705226 -0.55238161  0.48251034 -2.49859923  0.11675828]\n",
      " [ 0.50482557  1.27476635  0.13296268 -2.82223309  0.7864491   0.02844873]]\n"
     ]
    }
   ],
   "source": [
    "np_randn = np.random.randn(3,6)\n",
    "print(np_randn)"
   ]
  },
  {
   "cell_type": "code",
   "execution_count": 40,
   "id": "f057a8c0",
   "metadata": {
    "scrolled": false
   },
   "outputs": [
    {
     "data": {
      "text/plain": [
       "(array([  1.,   6.,   8.,   9.,   7.,  23.,  26.,  44.,  43.,  65.,  78.,\n",
       "         96.,  90., 101.,  77.,  79.,  68.,  54.,  44.,  28.,  15.,  14.,\n",
       "          7.,   6.,   4.,   4.,   2.,   0.,   0.,   1.]),\n",
       " array([-2.90260119, -2.68090735, -2.45921351, -2.23751966, -2.01582582,\n",
       "        -1.79413197, -1.57243813, -1.35074428, -1.12905044, -0.90735659,\n",
       "        -0.68566275, -0.46396891, -0.24227506, -0.02058122,  0.20111263,\n",
       "         0.42280647,  0.64450032,  0.86619416,  1.08788801,  1.30958185,\n",
       "         1.53127569,  1.75296954,  1.97466338,  2.19635723,  2.41805107,\n",
       "         2.63974492,  2.86143876,  3.0831326 ,  3.30482645,  3.52652029,\n",
       "         3.74821414]),\n",
       " <BarContainer object of 30 artists>)"
      ]
     },
     "execution_count": 40,
     "metadata": {},
     "output_type": "execute_result"
    },
    {
     "data": {
      "image/png": "[encoded data removed]",
      "text/plain": [
       "<Figure size 432x288 with 1 Axes>"
      ]
     },
     "metadata": {
      "needs_background": "light"
     },
     "output_type": "display_data"
    }
   ],
   "source": [
    "import matplotlib.pyplot as plt\n",
    "\n",
    "np_randn = np.random.randn(1000)\n",
    "plt.hist(np_randn, bins=30)"
   ]
  },
  {
   "cell_type": "markdown",
   "id": "ed0fa1a8",
   "metadata": {},
   "source": [
    "# 10. Using np.fromfunction() – Generate Arrays Using a Function"
   ]
  },
  {
   "cell_type": "markdown",
   "id": "2c05cf42",
   "metadata": {},
   "source": [
    "Creates an array by applying a custom function to each index.\n",
    "\n",
    "Useful for generating complex patterns or grids."
   ]
  },
  {
   "cell_type": "code",
   "execution_count": 38,
   "id": "3e0a01ce",
   "metadata": {
    "scrolled": true
   },
   "outputs": [
    {
     "name": "stdout",
     "output_type": "stream",
     "text": [
      "[[0 1 2]\n",
      " [1 2 3]]\n"
     ]
    }
   ],
   "source": [
    "# Example: array[i][j] = i + j\n",
    "arr = np.fromfunction(lambda i, j: i + j, (2, 3), dtype=int)\n",
    "print(arr)\n"
   ]
  }
 ],
 "metadata": {
  "kernelspec": {
   "display_name": "Python 3 (ipykernel)",
   "language": "python",
   "name": "python3"
  },
  "language_info": {
   "codemirror_mode": {
    "name": "ipython",
    "version": 3
   },
   "file_extension": ".py",
   "mimetype": "text/x-python",
   "name": "python",
   "nbconvert_exporter": "python",
   "pygments_lexer": "ipython3",
   "version": "3.10.2"
  }
 },
 "nbformat": 4,
 "nbformat_minor": 5
}
