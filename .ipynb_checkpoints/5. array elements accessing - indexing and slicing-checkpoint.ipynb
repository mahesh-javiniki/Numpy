{
 "cells": [
  {
   "cell_type": "markdown",
   "id": "8067c8fa",
   "metadata": {},
   "source": [
    "# Accessing Numpy Array Elements"
   ]
  },
  {
   "cell_type": "code",
   "execution_count": 1,
   "id": "91423a4a",
   "metadata": {},
   "outputs": [],
   "source": [
    "import numpy as np"
   ]
  },
  {
   "cell_type": "markdown",
   "id": "1a1a3a0a",
   "metadata": {},
   "source": [
    "## Approaches of accessing numpy array elements:\n",
    "**More frequently used:**\n",
    "\n",
    "\n",
    "1. Indexing\n",
    "2. Negative indexing\n",
    "3. Slicing\n",
    "4. Fancy indexing\n",
    "5. Boolean indexing\n",
    "6. np.where()\n",
    "7. np.nditer()"
   ]
  },
  {
   "cell_type": "markdown",
   "id": "56eaf20e",
   "metadata": {},
   "source": [
    "**1. Indexing:**\n",
    "\n",
    "[index]\n",
    "\n",
    "📌 Index starts from 0 and goes till n-1."
   ]
  },
  {
   "cell_type": "markdown",
   "id": "094bc11a",
   "metadata": {},
   "source": [
    "**2. Slicing:**\n",
    "    \n",
    "    \n",
    "[start:stop:step]\n",
    "\n",
    "Always end index is not considered."
   ]
  },
  {
   "cell_type": "markdown",
   "id": "869c25f7",
   "metadata": {},
   "source": [
    "**Less frequently used:**\n",
    "1. Iteration\n",
    "2. take()"
   ]
  },
  {
   "cell_type": "markdown",
   "id": "0b4469c0",
   "metadata": {},
   "source": [
    "**Iteration:**\n",
    "\n",
    "📌 Works but **not memory efficient** compared to vectorized operations."
   ]
  },
  {
   "cell_type": "markdown",
   "id": "ca70d576",
   "metadata": {},
   "source": [
    "**take():**\n",
    "\n",
    "📌 Works similar to fancy indexing."
   ]
  },
  {
   "cell_type": "markdown",
   "id": "502cf8e9",
   "metadata": {},
   "source": [
    "## 0D Array"
   ]
  },
  {
   "cell_type": "markdown",
   "id": "410c3975",
   "metadata": {},
   "source": [
    "Mentioned approaches will not be applicable for 0D array\n",
    "\n",
    "To access the elements we can either follow .item() or empty () in indexing."
   ]
  },
  {
   "cell_type": "code",
   "execution_count": 2,
   "id": "10afbc84",
   "metadata": {},
   "outputs": [
    {
     "name": "stdout",
     "output_type": "stream",
     "text": [
      "0D Array: 5\n",
      "0D Array dimension: 0\n",
      "Items data: 5\n",
      "Uisng index operation: 5\n"
     ]
    }
   ],
   "source": [
    "np_0d_array = np.array(5)\n",
    "print(\"0D Array:\", np_0d_array)\n",
    "print(\"0D Array dimension:\", np_0d_array.ndim)\n",
    "\n",
    "print(f\"Items data: {np_0d_array.item()}\")\n",
    "print(f\"Uisng index operation: {np_0d_array[()]}\")"
   ]
  },
  {
   "cell_type": "markdown",
   "id": "dafbe0ea",
   "metadata": {},
   "source": [
    "## 1D Array"
   ]
  },
  {
   "cell_type": "code",
   "execution_count": 3,
   "id": "a59678a7",
   "metadata": {},
   "outputs": [
    {
     "name": "stdout",
     "output_type": "stream",
     "text": [
      "[10 20 30 40 50 60]\n",
      "1\n",
      "(6,)\n"
     ]
    }
   ],
   "source": [
    "np_1d_array = np.array([10, 20 ,30, 40, 50, 60])\n",
    "print(np_1d_array)\n",
    "print(np_1d_array.ndim)\n",
    "print(np_1d_array.shape)"
   ]
  },
  {
   "cell_type": "markdown",
   "id": "fd1682c6",
   "metadata": {},
   "source": [
    "[ 10, 20, 30 ,40, 50, 60 ]\n",
    "\n",
    "  [  0,  1,  2,  3,  4,  5]\n",
    "  \n",
    "  \n",
    "  [-6, -5, -4, -3, -2, -1 ]"
   ]
  },
  {
   "cell_type": "code",
   "execution_count": 4,
   "id": "577785c3",
   "metadata": {},
   "outputs": [
    {
     "name": "stdout",
     "output_type": "stream",
     "text": [
      "40\n",
      "40\n",
      "[30 40 50]\n",
      "[30 40 50]\n",
      "[50 40 30]\n",
      "[50 40 30]\n"
     ]
    }
   ],
   "source": [
    "# 40\n",
    "print(np_1d_array[3])\n",
    "print(np_1d_array[-3]) # Negative indexing\n",
    "\n",
    "# 30, 40, 50\n",
    "print(np_1d_array[2:5])\n",
    "print(np_1d_array[-4:-1]) # Negative indexing\n",
    "\n",
    "# 50, 40, 30\n",
    "print(np_1d_array[4:1:-1]) # Negative indexing\n",
    "print(np_1d_array[-2:-5:-1]) # Negative indexing"
   ]
  },
  {
   "cell_type": "code",
   "execution_count": 5,
   "id": "d8e171db",
   "metadata": {},
   "outputs": [
    {
     "name": "stdout",
     "output_type": "stream",
     "text": [
      "[10 20 30 40 50 60]\n",
      "[10 30 50]\n",
      "[60 50 40 30 20 10]\n",
      "[60 40 20]\n",
      "[20 40]\n"
     ]
    }
   ],
   "source": [
    "print(np_1d_array)\n",
    "print(np_1d_array[::2])\n",
    "print(np_1d_array[::-1])\n",
    "print(np_1d_array[::-2])\n",
    "print(np_1d_array[1:4:2])"
   ]
  },
  {
   "cell_type": "markdown",
   "id": "4aa3e9c0",
   "metadata": {},
   "source": [
    "**Fancy indexing:**\n",
    "\n",
    "📌 Works by passing a list/array of indices."
   ]
  },
  {
   "cell_type": "code",
   "execution_count": 6,
   "id": "3f0958c4",
   "metadata": {},
   "outputs": [
    {
     "name": "stdout",
     "output_type": "stream",
     "text": [
      "[10 20 30 40 50 60]\n",
      "[20 40 60]\n",
      "[60 50 30]\n",
      "[60 30 50]\n",
      "[60 20 40]\n"
     ]
    }
   ],
   "source": [
    "print(np_1d_array)\n",
    "\n",
    "# 20 40 60\n",
    "print(np_1d_array[[1, 3, 5]])\n",
    "print(np_1d_array[[5, 4, 2]])\n",
    "print(np_1d_array[[5, 2, 4]])\n",
    "\n",
    "print(np_1d_array[[-1, 1, -3]])\n",
    "# print(np_1d_array[[1:5]]) # Raises syntax error"
   ]
  },
  {
   "cell_type": "markdown",
   "id": "71b36717",
   "metadata": {},
   "source": [
    "**Boolean indexing:**\n",
    "\n",
    "📌 Filtering elements based on condition(s)"
   ]
  },
  {
   "cell_type": "code",
   "execution_count": 7,
   "id": "19b20dee",
   "metadata": {
    "scrolled": false
   },
   "outputs": [
    {
     "name": "stdout",
     "output_type": "stream",
     "text": [
      "[10 20 30 40 50 60]\n",
      "[10 20 30]\n",
      "[50 60]\n",
      "[20 40 60]\n"
     ]
    }
   ],
   "source": [
    "print(np_1d_array)\n",
    "\n",
    "print(np_1d_array[np_1d_array < 40]) # Elements lesser than 40\n",
    "print(np_1d_array[np_1d_array > 40]) # Elements greater than 40\n",
    "print(np_1d_array[np_1d_array % 4 == 0]) # 4 divisibles"
   ]
  },
  {
   "cell_type": "markdown",
   "id": "c1708af4",
   "metadata": {},
   "source": [
    "**np.where():**\n",
    "\n",
    "📌Select elements and/or find positions where the condition is True."
   ]
  },
  {
   "cell_type": "code",
   "execution_count": 8,
   "id": "417a05a7",
   "metadata": {},
   "outputs": [
    {
     "name": "stdout",
     "output_type": "stream",
     "text": [
      "[40 50 60]\n",
      "[50 60]\n"
     ]
    }
   ],
   "source": [
    "print(np_1d_array[np.where(np_1d_array > 30)])\n",
    "indices = np.where(np_1d_array > 40)\n",
    "print(np_1d_array[indices])"
   ]
  },
  {
   "cell_type": "markdown",
   "id": "88096cbe",
   "metadata": {},
   "source": [
    "**np.nditer():**\n",
    "\n",
    "Useful when working with arrays that could be multi-dimensional."
   ]
  },
  {
   "cell_type": "code",
   "execution_count": 9,
   "id": "c4ce6fed",
   "metadata": {
    "scrolled": false
   },
   "outputs": [
    {
     "name": "stdout",
     "output_type": "stream",
     "text": [
      "10\n",
      "<class 'numpy.ndarray'>\n",
      "20\n",
      "<class 'numpy.ndarray'>\n",
      "30\n",
      "<class 'numpy.ndarray'>\n",
      "40\n",
      "<class 'numpy.ndarray'>\n",
      "50\n",
      "<class 'numpy.ndarray'>\n",
      "60\n",
      "<class 'numpy.ndarray'>\n"
     ]
    }
   ],
   "source": [
    "# With nd.nditer()\n",
    "for i in np.nditer(np_1d_array):\n",
    "    print(i)\n",
    "    print(type(i))\n",
    "    \n",
    "# When we use nd.nditer() to iterate the elements in ndarray then\n",
    "# the iterated objects will also in the same ndarray type"
   ]
  },
  {
   "cell_type": "code",
   "execution_count": 10,
   "id": "85a38b49",
   "metadata": {},
   "outputs": [
    {
     "name": "stdout",
     "output_type": "stream",
     "text": [
      "10\n",
      "<class 'numpy.int32'>\n",
      "20\n",
      "<class 'numpy.int32'>\n",
      "30\n",
      "<class 'numpy.int32'>\n",
      "40\n",
      "<class 'numpy.int32'>\n",
      "50\n",
      "<class 'numpy.int32'>\n",
      "60\n",
      "<class 'numpy.int32'>\n"
     ]
    }
   ],
   "source": [
    "# Normal iteration.\n",
    "for i in np_1d_array:\n",
    "    print(i)\n",
    "    print(type(i))\n",
    "    \n",
    "    \n",
    "# When we iterate ndarry in normal approach, then \n",
    "# the iterated objects type is based on the element property"
   ]
  },
  {
   "cell_type": "markdown",
   "id": "23db45e7",
   "metadata": {},
   "source": [
    "## 2D Array"
   ]
  },
  {
   "cell_type": "markdown",
   "id": "ad2225ad",
   "metadata": {},
   "source": [
    "Positive Indexing: arr[row, column]\n",
    "\n",
    "Negative Indexing: arr[-row_from_end, -column_from_end]\n",
    "\n",
    "Slicing: arr[row_start:row_end, column_start:column_end]\n",
    "\n",
    "Fancy Indexing: arr[[row_indices], [column_indices]]"
   ]
  },
  {
   "cell_type": "code",
   "execution_count": 11,
   "id": "4df75b74",
   "metadata": {},
   "outputs": [
    {
     "name": "stdout",
     "output_type": "stream",
     "text": [
      "Array \n",
      " [[10 20 30]\n",
      " [40 50 60]\n",
      " [70 80 90]]\n",
      "Dimension: 2\n",
      "Shape: (3, 3)\n"
     ]
    }
   ],
   "source": [
    "np2d = [\n",
    "    [10, 20, 30],\n",
    "    [40, 50, 60],\n",
    "    [70, 80, 90]\n",
    "]\n",
    "np2d = np.array(np2d)\n",
    "print(f\"Array \\n {np2d}\")\n",
    "print(f\"Dimension: {np2d.ndim}\")\n",
    "print(f\"Shape: {np2d.shape}\")"
   ]
  },
  {
   "cell_type": "markdown",
   "id": "230ba159",
   "metadata": {},
   "source": [
    "**Indexing & Slicing**"
   ]
  },
  {
   "cell_type": "code",
   "execution_count": 12,
   "id": "c41f5896",
   "metadata": {
    "scrolled": false
   },
   "outputs": [
    {
     "name": "stdout",
     "output_type": "stream",
     "text": [
      "[40 50 60]\n",
      "[10 40 70]\n",
      "20\n",
      "60\n"
     ]
    }
   ],
   "source": [
    "# 40 50 60\n",
    "print(np2d[1])\n",
    "\n",
    "# 10 40 70\n",
    "print(np2d[:,0])\n",
    "\n",
    "# 20\n",
    "print(np2d[0, 1])\n",
    "\n",
    "# 60\n",
    "print(np2d[1, 2])"
   ]
  },
  {
   "cell_type": "code",
   "execution_count": 13,
   "id": "409880d3",
   "metadata": {
    "scrolled": true
   },
   "outputs": [
    {
     "name": "stdout",
     "output_type": "stream",
     "text": [
      "[40 50 60]\n",
      "[20 50 80]\n"
     ]
    }
   ],
   "source": [
    "# 40 50 60\n",
    "print(np2d[-2])\n",
    "\n",
    "# 20 50 80\n",
    "print(np2d[:, -2])"
   ]
  },
  {
   "cell_type": "code",
   "execution_count": 14,
   "id": "166512f6",
   "metadata": {},
   "outputs": [
    {
     "name": "stdout",
     "output_type": "stream",
     "text": [
      "[[10 20 30]\n",
      " [40 50 60]\n",
      " [70 80 90]]\n",
      "[[10 20]\n",
      " [40 50]]\n",
      "[[50 60]\n",
      " [80 90]]\n",
      "[[20]\n",
      " [50]]\n"
     ]
    }
   ],
   "source": [
    "print(np2d)\n",
    "# 10 20\n",
    "# 40 50\n",
    "\n",
    "print(np2d[0:2, 0:2])\n",
    "\n",
    "# 50 60 \n",
    "# 80 90\n",
    "\n",
    "print(np2d[1:4, 1:4])\n",
    "\n",
    "# 20 50\n",
    "print(np2d[0:2, 1:2])"
   ]
  },
  {
   "cell_type": "code",
   "execution_count": 15,
   "id": "46be5f86",
   "metadata": {
    "scrolled": true
   },
   "outputs": [
    {
     "name": "stdout",
     "output_type": "stream",
     "text": [
      "[50 20]\n",
      "[[50]\n",
      " [20]]\n"
     ]
    }
   ],
   "source": [
    "# Reverse\n",
    "# 50 20\n",
    "print(np2d[-2::-1, 1])\n",
    "print(np2d[-2::-1, 1:2])"
   ]
  },
  {
   "cell_type": "markdown",
   "id": "28f9a8ea",
   "metadata": {},
   "source": [
    "**Fancy indexing**"
   ]
  },
  {
   "cell_type": "code",
   "execution_count": 16,
   "id": "28f65bd1",
   "metadata": {
    "scrolled": false
   },
   "outputs": [
    {
     "name": "stdout",
     "output_type": "stream",
     "text": [
      "[[10 20 30]\n",
      " [40 50 60]\n",
      " [70 80 90]]\n",
      "\n",
      "[30 30]\n",
      "\n",
      "[20 60]\n"
     ]
    }
   ],
   "source": [
    "print(np2d)\n",
    "print()\n",
    "print(np2d[[0, 0], [2, 2]]) # 10 90\n",
    "print()\n",
    "print(np2d[[0, 1], [1, 2]]) # 20 60"
   ]
  },
  {
   "cell_type": "code",
   "execution_count": null,
   "id": "da59dafa",
   "metadata": {},
   "outputs": [],
   "source": []
  },
  {
   "cell_type": "code",
   "execution_count": null,
   "id": "d126f1eb",
   "metadata": {},
   "outputs": [],
   "source": []
  },
  {
   "cell_type": "code",
   "execution_count": 17,
   "id": "5bdd59ff",
   "metadata": {
    "scrolled": true
   },
   "outputs": [
    {
     "name": "stdout",
     "output_type": "stream",
     "text": [
      "[[11 12 13 14]\n",
      " [21 22 23 24]\n",
      " [31 32 33 34]\n",
      " [41 42 43 44]]\n"
     ]
    }
   ],
   "source": [
    "arr2d = np.array([\n",
    "    [11, 12, 13, 14],\n",
    "    [21, 22, 23, 24],\n",
    "    [31, 32, 33, 34],\n",
    "    [41, 42, 43, 44]\n",
    "])\n",
    "\n",
    "print(arr2d)"
   ]
  },
  {
   "cell_type": "markdown",
   "id": "9b752d9a",
   "metadata": {},
   "source": [
    "**Indexing**"
   ]
  },
  {
   "cell_type": "code",
   "execution_count": 18,
   "id": "2bb3c8a3",
   "metadata": {
    "scrolled": true
   },
   "outputs": [
    {
     "name": "stdout",
     "output_type": "stream",
     "text": [
      "23\n",
      "34\n",
      "43\n",
      "12\n"
     ]
    }
   ],
   "source": [
    "print(arr2d[1, 2]) # 23\n",
    "print(arr2d[2, 3]) # 34\n",
    "print(arr2d[-1, -2]) # 43\n",
    "print(arr2d[-4, -3]) # 12"
   ]
  },
  {
   "cell_type": "markdown",
   "id": "4440f608",
   "metadata": {},
   "source": [
    "**Slicing**"
   ]
  },
  {
   "cell_type": "code",
   "execution_count": 19,
   "id": "e77e155f",
   "metadata": {},
   "outputs": [
    {
     "name": "stdout",
     "output_type": "stream",
     "text": [
      "[[21 22 23 24]]\n",
      "[[13]\n",
      " [23]\n",
      " [33]\n",
      " [43]]\n",
      "[[22 23 24]\n",
      " [32 33 34]\n",
      " [42 43 44]]\n",
      "[[11 12 13]\n",
      " [21 22 23]]\n",
      "11 22 33 44\n",
      "[11 22 33 44]\n"
     ]
    }
   ],
   "source": [
    "print(arr2d[1:2]) # all elements of row 2\n",
    "print(arr2d[:, 2:3]) # all elements of column 3\n",
    "print(arr2d[1:4, 1:4]) # rows 2 to 4 and col 2 to 4\n",
    "print(arr2d[:2, :3]) # first 2 rows and first 3 columns\n",
    "print(arr2d[0, 0], arr2d[1, 1], arr2d[2, 2], arr2d[3, 3]) # diagonal elements\n",
    "print(np.diag(arr2d)) # diagonal elements"
   ]
  },
  {
   "cell_type": "markdown",
   "id": "1c43983e",
   "metadata": {},
   "source": [
    "**Fancy indexing**"
   ]
  },
  {
   "cell_type": "markdown",
   "id": "a89bdac4",
   "metadata": {},
   "source": [
    "arr2d[[row_indices], [column_indices]]\n",
    "\n",
    "It selects element-wise pairs.\n",
    "\n",
    "arr[[r1, r2], [c1, c2]] ➜ selects: arr[r1, c1] and arr[r2, c2]\n",
    "\n",
    "If you want whole rows/columns, keep one side as : (slice).\n",
    "\n",
    "slicing syntax cannot be used inside fancy index lists.\n",
    "\n",
    "👉 Row and column index arrays should either:\n",
    "\n",
    "Be the same length ➜ for element-wise selection\n",
    "\n",
    "Or one should be a full slice ➜ for row/column selection"
   ]
  },
  {
   "cell_type": "code",
   "execution_count": 20,
   "id": "4fcfaed3",
   "metadata": {
    "scrolled": true
   },
   "outputs": [
    {
     "name": "stdout",
     "output_type": "stream",
     "text": [
      "[[11 12 13 14]\n",
      " [21 22 23 24]\n",
      " [31 32 33 34]\n",
      " [41 42 43 44]]\n",
      "[12 34 41]\n",
      "[[11 12 13 14]\n",
      " [31 32 33 34]]\n",
      "[[12 14]\n",
      " [22 24]\n",
      " [32 34]\n",
      " [42 44]]\n",
      "[12 24 33 41]\n"
     ]
    }
   ],
   "source": [
    "print(arr2d)\n",
    "\n",
    "# elements at positions (0, 1), (2, 3), and (3, 0)\n",
    "print(arr2d[[0, 2, 3], [1, 3, 0]])\n",
    "\n",
    "# row 1 and 3\n",
    "print(arr2d[[0, 2]])\n",
    "\n",
    "# columns 2 and 4\n",
    "print(arr2d[:, [1, 3]])\n",
    "\n",
    "# [12, 24, 33, 41]\n",
    "print(arr2d[[0, 1, 2, 3], [1, 3, 2, 0]])"
   ]
  },
  {
   "cell_type": "code",
   "execution_count": null,
   "id": "3b4585d9",
   "metadata": {},
   "outputs": [],
   "source": []
  },
  {
   "cell_type": "code",
   "execution_count": null,
   "id": "4be4a385",
   "metadata": {},
   "outputs": [],
   "source": []
  },
  {
   "cell_type": "code",
   "execution_count": null,
   "id": "868605bd",
   "metadata": {},
   "outputs": [],
   "source": []
  },
  {
   "cell_type": "code",
   "execution_count": 21,
   "id": "1d7c649f",
   "metadata": {},
   "outputs": [
    {
     "name": "stdout",
     "output_type": "stream",
     "text": [
      "Array: \n",
      "[[ 5  6  7  8]\n",
      " [15 16 17 18]\n",
      " [25 26 27 28]\n",
      " [35 36 37 38]\n",
      " [45 46 47 48]]\n",
      "Shpae (5, 4)\n",
      "Size 20\n",
      "Dimensions 2\n"
     ]
    }
   ],
   "source": [
    "arr2d = np.array([\n",
    "    [ 5,  6,  7,  8],\n",
    "    [15, 16, 17, 18],\n",
    "    [25, 26, 27, 28],\n",
    "    [35, 36, 37, 38],\n",
    "    [45, 46, 47, 48]\n",
    "])\n",
    "print(\"Array: \", arr2d, sep = '\\n')\n",
    "print(\"Shpae\", arr2d.shape)\n",
    "print(\"Size\", arr2d.size)\n",
    "print(\"Dimensions\", arr2d.ndim)"
   ]
  },
  {
   "cell_type": "markdown",
   "id": "4e97cf60",
   "metadata": {},
   "source": [
    "**Indexing**"
   ]
  },
  {
   "cell_type": "code",
   "execution_count": 22,
   "id": "5e44c3a6",
   "metadata": {},
   "outputs": [
    {
     "name": "stdout",
     "output_type": "stream",
     "text": [
      "16\n",
      "28\n",
      "37\n"
     ]
    }
   ],
   "source": [
    "print(arr2d[1, 1]) # 16\n",
    "print(arr2d[2, 3]) # 28\n",
    "print(arr2d[3, 2]) # 37"
   ]
  },
  {
   "cell_type": "code",
   "execution_count": 23,
   "id": "c06ecd8f",
   "metadata": {},
   "outputs": [
    {
     "name": "stdout",
     "output_type": "stream",
     "text": [
      "48\n",
      "26\n",
      "7\n"
     ]
    }
   ],
   "source": [
    "print(arr2d[-1, -1]) # 48\n",
    "print(arr2d[-3, -3]) # 26\n",
    "print(arr2d[-5, -2]) # 7"
   ]
  },
  {
   "cell_type": "markdown",
   "id": "384106ed",
   "metadata": {},
   "source": [
    "**Slicing**"
   ]
  },
  {
   "cell_type": "code",
   "execution_count": 24,
   "id": "ae304b77",
   "metadata": {},
   "outputs": [
    {
     "name": "stdout",
     "output_type": "stream",
     "text": [
      "[[ 5  6  7  8]\n",
      " [15 16 17 18]\n",
      " [25 26 27 28]\n",
      " [35 36 37 38]\n",
      " [45 46 47 48]]\n",
      "\n",
      "[35 36 37 38]\n",
      "[[ 6]\n",
      " [16]\n",
      " [26]\n",
      " [36]\n",
      " [46]]\n",
      "[[16 17 18]\n",
      " [26 27 28]\n",
      " [36 37 38]]\n",
      "\n",
      "[[ 5  6]\n",
      " [15 16]\n",
      " [25 26]]\n",
      "\n",
      "[[26 27 28]\n",
      " [36 37 38]\n",
      " [46 47 48]]\n",
      "\n",
      "[ 5 16 27 38]\n"
     ]
    }
   ],
   "source": [
    "print(arr2d); print()\n",
    "print(arr2d[3, :]) # row 4\n",
    "print(arr2d[:, 1:2]) # column 2\n",
    "\n",
    "# subarray from rows 2 to 4 and columns 2 to 4.\n",
    "print(arr2d[1:4, 1:4], end = '\\n\\n')\n",
    "\n",
    "# first three rows and first two columns.\n",
    "print(arr2d[:3, :2], end = '\\n\\n')\n",
    "\n",
    "# last three rows and last three columns.\n",
    "print(arr2d[-3:, -3:], end = '\\n\\n')\n",
    "\n",
    "# diagonal elements: 5, 16, 27, 38\n",
    "print(np.diag(arr2d), end = '\\n')"
   ]
  },
  {
   "cell_type": "markdown",
   "id": "2374c3e3",
   "metadata": {},
   "source": [
    "**Fancy indexing**"
   ]
  },
  {
   "cell_type": "code",
   "execution_count": 25,
   "id": "a3352856",
   "metadata": {},
   "outputs": [
    {
     "name": "stdout",
     "output_type": "stream",
     "text": [
      "[[ 5  6  7  8]\n",
      " [15 16 17 18]\n",
      " [25 26 27 28]\n",
      " [35 36 37 38]\n",
      " [45 46 47 48]]\n",
      "\n",
      "[ 8 26 45]\n",
      "[[ 5  6  7  8]\n",
      " [25 26 27 28]\n",
      " [45 46 47 48]]\n",
      "\n",
      "[[ 5  7]\n",
      " [15 17]\n",
      " [25 27]\n",
      " [35 37]\n",
      " [45 47]]\n",
      "\n",
      "[ 6 18 25 38]\n",
      "\n",
      "[15  7 26 38]\n",
      "\n"
     ]
    }
   ],
   "source": [
    "print(arr2d, end = \"\\n\\n\")\n",
    "# elements at positions (0,3), (2,1), (4,0)\n",
    "print(arr2d[[0, 2, 4], [3, 1, 0]])\n",
    "\n",
    "print(arr2d[[0, 2, 4]], end = \"\\n\\n\") # rows 0, 2, 4\n",
    "print(arr2d[:, [0, 2]], end = \"\\n\\n\") # columns 1 and 3\n",
    "print(arr2d[[0, 1, 2, 3], [1, 3, 0, 3]], end = \"\\n\\n\") # [6, 18, 25, 38]\n",
    "print(arr2d[[-4, 0, -3, -2], [0, -2, -3, -1]], end = \"\\n\\n\") # [15, 7, 26, 38]"
   ]
  },
  {
   "cell_type": "code",
   "execution_count": 26,
   "id": "c5d259c8",
   "metadata": {},
   "outputs": [
    {
     "name": "stdout",
     "output_type": "stream",
     "text": [
      "[[ 5  6  7  8]\n",
      " [15 16 17 18]\n",
      " [25 26 27 28]\n",
      " [35 36 37 38]\n",
      " [45 46 47 48]]\n",
      "\n",
      "[45 46 47 48]\n",
      "[[ 5]\n",
      " [15]\n",
      " [25]\n",
      " [35]\n",
      " [45]]\n",
      "\n",
      "[ 7 16 25 36 47]\n"
     ]
    }
   ],
   "source": [
    "print(arr2d, end = \"\\n\\n\")\n",
    "print(arr2d[-1, :]) # entire last row\n",
    "print(arr2d[:, 0:1], end = \"\\n\\n\") # entire first column\n",
    "# elements in positions (0,2), (1,1), (2,0), (3,1), (4,2)\n",
    "print(arr2d[[0, 1, 2, 3, 4], [2, 1, 0, 1, 2]])"
   ]
  },
  {
   "cell_type": "code",
   "execution_count": null,
   "id": "cd4177e6",
   "metadata": {},
   "outputs": [],
   "source": []
  },
  {
   "cell_type": "markdown",
   "id": "2c7e0075",
   "metadata": {},
   "source": [
    "## 3D Array"
   ]
  },
  {
   "cell_type": "markdown",
   "id": "191227c4",
   "metadata": {},
   "source": [
    "index order is always:\n",
    "`\n",
    "[layer, row, column]\n",
    "`\n",
    "\n",
    "**Simple indexing:**\n",
    "\n",
    "👉 Syntax: array[layer, row, column]\n",
    "\n",
    "**Negative indexing:**\n",
    "\n",
    "👉 Syntax: array[-layer, -row, -column] (counts from the end)\n",
    "\n",
    "**Slicing:**\n",
    "\n",
    "👉 You can slice along:\n",
    "\n",
    "- Layers\n",
    "\n",
    "- Rows within a layer\n",
    "\n",
    "- Columns within a row\n",
    "\n",
    "[start:end, start:end, start:end]\n",
    "\n",
    "**Fancy indexing:**\n",
    "\n",
    "👉 You can select specific layers, rows, and columns using lists/arrays.\n",
    "\n",
    "[[layers], [rows], [columns]]\n",
    "\n",
    "Ex: arr3d[[0, 1, 2], [1, 0, 1], [2, 1, 0]]\n",
    "\n",
    "**🔥 Key Tips:**\n",
    "\n",
    "Always remember 3D Indexing is (layer, row, column).\n",
    "\n",
    "Slicing can be used along any axis.\n",
    "\n",
    "Fancy Indexing selects element-wise pairs, not combinations.\n",
    "\n",
    "Fancy Indexing and Boolean Indexing return copies, not views."
   ]
  },
  {
   "cell_type": "code",
   "execution_count": 27,
   "id": "b5820dd4",
   "metadata": {},
   "outputs": [
    {
     "name": "stdout",
     "output_type": "stream",
     "text": [
      "Shape: (3, 3, 3)\n",
      "Dimension: 3\n",
      "Size: 27\n"
     ]
    }
   ],
   "source": [
    "arr3d = np.array([\n",
    "    [[101, 102, 103], [104, 105, 106], [107, 108, 109]],\n",
    "    [[201, 202, 203], [204, 205, 206], [207, 208, 209]],\n",
    "    [[301, 302, 303], [304, 305, 306], [307, 308, 309]]\n",
    "])\n",
    "\n",
    "print(f\"Shape: {arr3d.shape}\")\n",
    "print(f\"Dimension: {arr3d.ndim}\")\n",
    "print(f\"Size: {arr3d.size}\")"
   ]
  },
  {
   "cell_type": "markdown",
   "id": "6ff99ce1",
   "metadata": {},
   "source": [
    "**Indexing**"
   ]
  },
  {
   "cell_type": "code",
   "execution_count": 36,
   "id": "90800f86",
   "metadata": {},
   "outputs": [
    {
     "name": "stdout",
     "output_type": "stream",
     "text": [
      "106\n",
      "202\n",
      "308\n",
      "\n",
      "309\n",
      "104\n",
      "203\n"
     ]
    }
   ],
   "source": [
    "print(arr3d[0, 1, 2]) # 106\n",
    "print(arr3d[1, 0, 1]) # 202\n",
    "print(arr3d[2, 2, 1]) # 308\n",
    "print()\n",
    "print(arr3d[-1, -1, -1]) # 309\n",
    "print(arr3d[-3, -2, -3]) # 104\n",
    "print(arr3d[-2, -3, -1]) # 203"
   ]
  },
  {
   "cell_type": "markdown",
   "id": "f296ac54",
   "metadata": {},
   "source": [
    "**Slicing**"
   ]
  },
  {
   "cell_type": "code",
   "execution_count": 53,
   "id": "1a31a69b",
   "metadata": {},
   "outputs": [
    {
     "name": "stdout",
     "output_type": "stream",
     "text": [
      "[[[101 102 103]\n",
      "  [104 105 106]\n",
      "  [107 108 109]]\n",
      "\n",
      " [[201 202 203]\n",
      "  [204 205 206]\n",
      "  [207 208 209]]\n",
      "\n",
      " [[301 302 303]\n",
      "  [304 305 306]\n",
      "  [307 308 309]]]\n",
      "\n",
      "1 [102 202 302]\n",
      "\n",
      "2 [[[101]\n",
      "  [104]\n",
      "  [107]]\n",
      "\n",
      " [[201]\n",
      "  [204]\n",
      "  [207]]]\n",
      "\n",
      "3 [[[101 102 103]\n",
      "  [104 105 106]\n",
      "  [107 108 109]]]\n",
      "\n",
      "4 [[[101 102]\n",
      "  [104 105]]\n",
      "\n",
      " [[301 302]\n",
      "  [304 305]]]\n",
      "\n",
      "5 [[[106]\n",
      "  [109]]\n",
      "\n",
      " [[206]\n",
      "  [209]]\n",
      "\n",
      " [[306]\n",
      "  [309]]]\n",
      "\n",
      "6 [[101 102 103]\n",
      " [201 202 203]\n",
      " [301 302 303]]\n",
      "\n"
     ]
    }
   ],
   "source": [
    "print(arr3d, end = \"\\n\\n\")\n",
    "\n",
    "print(\"1\", arr3d[:, 0, 1], end = \"\\n\\n\") # all layers, row 1, column 2\n",
    "print(\"2\", arr3d[:2, :, 0:1], end = \"\\n\\n\") # first two layers, all rows, column 1\n",
    "print(\"3\", arr3d[:1, :, :], end = \"\\n\\n\") # layer 1, all rows, all columns\n",
    "print(\"4\", arr3d[[0,2], :2, :2], end = \"\\n\\n\") # layers 0 and 2, first two rows, first two columns\n",
    "print(\"5\", arr3d[:, 1:, -1:], end = \"\\n\\n\") # all layers, last two rows, last column\n",
    "print(\"6\", arr3d[:, 0, :], end = \"\\n\\n\") # all layers, row 0, all columns."
   ]
  },
  {
   "cell_type": "markdown",
   "id": "cc6e7294",
   "metadata": {},
   "source": [
    "**Fancy indexing**"
   ]
  },
  {
   "cell_type": "code",
   "execution_count": 67,
   "id": "eea2f5c8",
   "metadata": {},
   "outputs": [
    {
     "name": "stdout",
     "output_type": "stream",
     "text": [
      "[[[101 102 103]\n",
      "  [104 105 106]\n",
      "  [107 108 109]]\n",
      "\n",
      " [[201 202 203]\n",
      "  [204 205 206]\n",
      "  [207 208 209]]\n",
      "\n",
      " [[301 302 303]\n",
      "  [304 305 306]\n",
      "  [307 308 309]]]\n",
      "\n",
      "1 [106 208 301]\n",
      "\n",
      "2 [[[101 102 103]\n",
      "  [104 105 106]\n",
      "  [107 108 109]]\n",
      "\n",
      " [[301 302 303]\n",
      "  [304 305 306]\n",
      "  [307 308 309]]]\n",
      "\n",
      "3 [[[101 103]\n",
      "  [104 106]\n",
      "  [107 109]]\n",
      "\n",
      " [[201 203]\n",
      "  [204 206]\n",
      "  [207 209]]\n",
      "\n",
      " [[301 303]\n",
      "  [304 306]\n",
      "  [307 309]]]\n",
      "\n",
      "4 [102 207 305]\n",
      "5 [103 204 307]\n"
     ]
    }
   ],
   "source": [
    "print(arr3d, end = \"\\n\\n\")\n",
    "\n",
    "# elements at positions (0,1,2), (1,2,1), (2,0,0)\n",
    "print(\"1\", arr3d[[0, 1, 2], [1, 2, 0], [2, 1, 0]], end = \"\\n\\n\")\n",
    "print(\"2\", arr3d[[0, 2]], end = '\\n\\n') # layers 0 and 2\n",
    "\n",
    "# columns 0 and 2 from all layers and all rows.\n",
    "print(\"3\",arr3d[:, :, [0, 2]], end = '\\n\\n')\n",
    "\n",
    "# elements [102, 207, 305]\n",
    "print(\"4\", arr3d[[0, 1, 2], [0, 2, 1], [1, 0, 1]])\n",
    "print(\"5\", arr3d[[0, 1, 2], [0, 1, 2], [2, 0, 0]])"
   ]
  },
  {
   "cell_type": "code",
   "execution_count": null,
   "id": "fc70dfef",
   "metadata": {},
   "outputs": [],
   "source": []
  },
  {
   "cell_type": "markdown",
   "id": "626fc696",
   "metadata": {},
   "source": [
    "## 4D Array"
   ]
  },
  {
   "cell_type": "markdown",
   "id": "3dacc2b1",
   "metadata": {},
   "source": [
    "`\n",
    "array[block, layer, row, column]\n",
    "`\n",
    "\n",
    "**Simple indexing:**\n",
    "\n",
    "👉 Syntax: `arr4d[block, layer, row, column]`\n",
    "\n",
    "**Negative indexing:**\n",
    "\n",
    "👉 Syntax: `arr4d[-block, -layer, -row, -column]`\n",
    "\n",
    "**Slicing:**\n",
    "\n",
    "👉 You can slice:\n",
    "\n",
    "- Across blocks\n",
    "\n",
    "- Across layers\n",
    "\n",
    "- Across rows\n",
    "\n",
    "- Across columns\n",
    "\n",
    "`[start:end, start:end, start:end, start:end]`\n",
    "\n",
    "**Fancy indexing:**\n",
    "\n",
    "👉 Select specific elements using parallel lists of indices.\n",
    "\n",
    "`[[blocks], [layers], [rows], [columns]]`\n",
    "\n",
    "Ex: arr4d[[0, 1], [0, 1], [1, 0], [1, 0]]\n",
    "\n",
    "**🔥 Key Tips:**\n",
    "\n",
    "4D arrays are `[block, layer, row, column]`\n",
    "\n",
    "Fancy Indexing always selects element-wise (parallel) combinations.\n",
    "\n",
    "Negative indexing is very useful for reverse access.\n",
    "\n",
    "Slicing gives sub-arrays across one or multiple axes.\n",
    "\n",
    "Fancy Indexing and Boolean Indexing return copies, not views."
   ]
  },
  {
   "cell_type": "code",
   "execution_count": 70,
   "id": "dfb67e63",
   "metadata": {
    "scrolled": true
   },
   "outputs": [
    {
     "name": "stdout",
     "output_type": "stream",
     "text": [
      "[[[[11 12]\n",
      "   [13 14]]\n",
      "\n",
      "  [[15 16]\n",
      "   [17 18]]]\n",
      "\n",
      "\n",
      " [[[21 22]\n",
      "   [23 24]]\n",
      "\n",
      "  [[25 26]\n",
      "   [27 28]]]]\n",
      "\n",
      "Shape: (2, 2, 2, 2)\n",
      "Dimension: 4\n",
      "Size: 16\n"
     ]
    }
   ],
   "source": [
    "arr4d = np.array([\n",
    "    [  # Block 0\n",
    "        [[11, 12], [13, 14]],  # Layer 0\n",
    "        [[15, 16], [17, 18]]   # Layer 1\n",
    "    ],\n",
    "    [  # Block 1\n",
    "        [[21, 22], [23, 24]],  # Layer 0\n",
    "        [[25, 26], [27, 28]]   # Layer 1\n",
    "    ]\n",
    "])\n",
    "print(arr4d, end = \"\\n\\n\")\n",
    "print(f\"Shape: {arr4d.shape}\")\n",
    "print(f\"Dimension: {arr4d.ndim}\")\n",
    "print(f\"Size: {arr4d.size}\")"
   ]
  },
  {
   "cell_type": "markdown",
   "id": "1c7bb14c",
   "metadata": {},
   "source": [
    "**Indexing**"
   ]
  },
  {
   "cell_type": "code",
   "execution_count": 78,
   "id": "42b0004c",
   "metadata": {},
   "outputs": [
    {
     "name": "stdout",
     "output_type": "stream",
     "text": [
      "14\n",
      "26\n",
      "23\n",
      "\n",
      "28\n",
      "11\n",
      "17\n"
     ]
    }
   ],
   "source": [
    "print(arr4d[0, 0, 1, 1]) # 14\n",
    "print(arr4d[1, 1, 0, 1]) # 26\n",
    "print(arr4d[1, 0, 1, 0]) # 23\n",
    "print()\n",
    "print(arr4d[1, 1, 1, 1]) # 28\n",
    "print(arr4d[0, 0, 0, 0]) # 11\n",
    "print(arr4d[0, 1, 1, 0]) # 17"
   ]
  },
  {
   "cell_type": "markdown",
   "id": "2d0555b2",
   "metadata": {},
   "source": [
    "**Slicing**"
   ]
  },
  {
   "cell_type": "code",
   "execution_count": 109,
   "id": "7180d2db",
   "metadata": {
    "scrolled": false
   },
   "outputs": [
    {
     "name": "stdout",
     "output_type": "stream",
     "text": [
      "[[[[11 12]\n",
      "   [13 14]]\n",
      "\n",
      "  [[15 16]\n",
      "   [17 18]]]\n",
      "\n",
      "\n",
      " [[[21 22]\n",
      "   [23 24]]\n",
      "\n",
      "  [[25 26]\n",
      "   [27 28]]]]\n",
      "\n",
      "1 [16 26]\n",
      "\n",
      "2 [[11 13]\n",
      " [15 17]]\n",
      "\n",
      "3 [[21 22]\n",
      " [23 24]]\n",
      "\n",
      "4 [[[11 12]\n",
      "  [13 14]]\n",
      "\n",
      " [[21 22]\n",
      "  [23 24]]]\n",
      "\n",
      "5 [[[13 14]\n",
      "  [17 18]]\n",
      "\n",
      " [[23 24]\n",
      "  [27 28]]]\n",
      "\n",
      "6 [[[[12]\n",
      "   [14]]\n",
      "\n",
      "  [[16]\n",
      "   [18]]]\n",
      "\n",
      "\n",
      " [[[22]\n",
      "   [24]]\n",
      "\n",
      "  [[26]\n",
      "   [28]]]]\n",
      "\n"
     ]
    }
   ],
   "source": [
    "print(arr4d, end = \"\\n\\n\")\n",
    "\n",
    "print(\"1\", arr4d[:, 1, 0, 1], end = \"\\n\\n\") # all blocks, layer 1, row 0, column 1\n",
    "print(\"2\", arr4d[0, :, :, 0], end = \"\\n\\n\") # block 0, all layers, all rows, column 0\n",
    "print(\"3\", arr4d[1, 0, :, :], end = \"\\n\\n\") # block 1, layer 0, all rows, all columns\n",
    "print(\"4\", arr4d[:, 0, :, :], end = \"\\n\\n\") # both blocks, layer 0, all rows, all columns\n",
    "print(\"5\", arr4d[:, :, 1, :], end = \"\\n\\n\") # all blocks, all layers, row 1, all columns\n",
    "print(\"6\", arr4d[:, :, :, 1:2], end = \"\\n\\n\") # all blocks, all layers, all rows, column 1"
   ]
  },
  {
   "cell_type": "markdown",
   "id": "6e4f70db",
   "metadata": {},
   "source": [
    "**Fancy indexing**"
   ]
  },
  {
   "cell_type": "code",
   "execution_count": 111,
   "id": "0a9d1e00",
   "metadata": {},
   "outputs": [
    {
     "name": "stdout",
     "output_type": "stream",
     "text": [
      "[[[[11 12]\n",
      "   [13 14]]\n",
      "\n",
      "  [[15 16]\n",
      "   [17 18]]]\n",
      "\n",
      "\n",
      " [[[21 22]\n",
      "   [23 24]]\n",
      "\n",
      "  [[25 26]\n",
      "   [27 28]]]]\n",
      "\n",
      "1 [18 21]\n",
      "\n",
      "2 [[[[11 12]\n",
      "   [13 14]]\n",
      "\n",
      "  [[15 16]\n",
      "   [17 18]]]\n",
      "\n",
      "\n",
      " [[[21 22]\n",
      "   [23 24]]\n",
      "\n",
      "  [[25 26]\n",
      "   [27 28]]]]\n",
      "\n",
      "3 [[[21 22]\n",
      "  [23 24]]\n",
      "\n",
      " [[25 26]\n",
      "  [27 28]]]\n",
      "\n",
      "4 [12 23 25]\n",
      "\n",
      "5 [14 17 28]\n",
      "\n"
     ]
    }
   ],
   "source": [
    "print(arr4d, end = \"\\n\\n\")\n",
    "\n",
    "# elements at positions (0,1,1,1), (1,0,0,0)\n",
    "print(\"1\", arr4d[[0, 1], [1, 0], [1, 0], [1, 0]], end = \"\\n\\n\")\n",
    "\n",
    "# blocks 0 and 1\n",
    "print(\"2\", arr4d[[0, 1]], end = \"\\n\\n\")\n",
    "\n",
    "# layers 0 and 1 from block 1 only\n",
    "print(\"3\", arr4d[[1], [0, 1]], end = \"\\n\\n\")\n",
    "\n",
    "# [12, 23, 25]\n",
    "print(\"4\", arr4d[[0, 1, 1], [0, 0, 1], [0, 1, 0], [1, 0, 0]], end = \"\\n\\n\")\n",
    "\n",
    "# [14, 17, 28]\n",
    "print(\"5\", arr4d[[0, 0, 1], [0, 1, 1], [1, 1, 1], [1, 0, 1]], end = \"\\n\\n\")"
   ]
  },
  {
   "cell_type": "code",
   "execution_count": null,
   "id": "669aea50",
   "metadata": {},
   "outputs": [],
   "source": []
  },
  {
   "cell_type": "markdown",
   "id": "3a46b4b0",
   "metadata": {},
   "source": [
    "## 5D Array"
   ]
  },
  {
   "cell_type": "markdown",
   "id": "8866e3d5",
   "metadata": {},
   "source": [
    "`array[group, block, layer, row, column]`\n",
    "\n",
    "**Positive indexing**\n",
    "\n",
    "👉 Syntax: `arr5d[group, block, layer, row, column]`\n",
    "\n",
    "**Negative indexing**\n",
    "\n",
    "👉 Syntax: `arr5d[-group, -block, -layer, -row, -column]`\n",
    "\n",
    "**Slicing**\n",
    "\n",
    "👉 You can slice:\n",
    "\n",
    "- Across groups\n",
    "\n",
    "- Across blocks\n",
    "\n",
    "- Across layers\n",
    "\n",
    "- Across rows\n",
    "\n",
    "- Across columns\n",
    "\n",
    "`[start:end, start:end, start:end, start:end, start:end]`\n",
    "\n",
    "**Fancy indexing**\n",
    "\n",
    "\n",
    "👉 Select specific elements using parallel lists of indices.\n",
    "\n",
    "`[[groups], [blocks], [layers], [rows], [columns]]`\n",
    "\n",
    "Ex: `arr4d[[1, 0], [0, 1], [0, 1], [1, 0], [1, 0]]`\n"
   ]
  },
  {
   "cell_type": "code",
   "execution_count": 112,
   "id": "81363585",
   "metadata": {},
   "outputs": [
    {
     "name": "stdout",
     "output_type": "stream",
     "text": [
      "[[[[[11 12]\n",
      "    [13 14]]\n",
      "\n",
      "   [[15 16]\n",
      "    [17 18]]]\n",
      "\n",
      "\n",
      "  [[[21 22]\n",
      "    [23 24]]\n",
      "\n",
      "   [[25 26]\n",
      "    [27 28]]]]\n",
      "\n",
      "\n",
      "\n",
      " [[[[31 32]\n",
      "    [33 34]]\n",
      "\n",
      "   [[35 36]\n",
      "    [37 38]]]\n",
      "\n",
      "\n",
      "  [[[41 42]\n",
      "    [43 44]]\n",
      "\n",
      "   [[45 46]\n",
      "    [47 48]]]]]\n",
      "Shape: (2, 2, 2, 2, 2)\n",
      "Dimension: 5\n",
      "Size: 32\n"
     ]
    }
   ],
   "source": [
    "arr5d = np.array([\n",
    "    [  # Group 0\n",
    "        [  # Block 0\n",
    "            [[11, 12], [13, 14]],  # Layer 0\n",
    "            [[15, 16], [17, 18]]   # Layer 1\n",
    "        ],\n",
    "        [  # Block 1\n",
    "            [[21, 22], [23, 24]],  # Layer 0\n",
    "            [[25, 26], [27, 28]]   # Layer 1\n",
    "        ]\n",
    "    ],\n",
    "    [  # Group 1\n",
    "        [  # Block 0\n",
    "            [[31, 32], [33, 34]],  # Layer 0\n",
    "            [[35, 36], [37, 38]]   # Layer 1\n",
    "        ],\n",
    "        [  # Block 1\n",
    "            [[41, 42], [43, 44]],  # Layer 0\n",
    "            [[45, 46], [47, 48]]   # Layer 1\n",
    "        ]\n",
    "    ]\n",
    "])\n",
    "\n",
    "print(arr5d)\n",
    "print(f\"Shape: {arr5d.shape}\")\n",
    "print(f\"Dimension: {arr5d.ndim}\")\n",
    "print(f\"Size: {arr5d.size}\")"
   ]
  },
  {
   "cell_type": "markdown",
   "id": "48a42187",
   "metadata": {},
   "source": [
    "**Indexing**"
   ]
  },
  {
   "cell_type": "code",
   "execution_count": 160,
   "id": "c0ee6453",
   "metadata": {},
   "outputs": [
    {
     "name": "stdout",
     "output_type": "stream",
     "text": [
      "14\n",
      "26\n",
      "33\n",
      "46\n",
      "\n",
      "[[[[[11 12]\n",
      "    [13 14]]\n",
      "\n",
      "   [[15 16]\n",
      "    [17 18]]]\n",
      "\n",
      "\n",
      "  [[[21 22]\n",
      "    [23 24]]\n",
      "\n",
      "   [[25 26]\n",
      "    [27 28]]]]\n",
      "\n",
      "\n",
      "\n",
      " [[[[31 32]\n",
      "    [33 34]]\n",
      "\n",
      "   [[35 36]\n",
      "    [37 38]]]\n",
      "\n",
      "\n",
      "  [[[41 42]\n",
      "    [43 44]]\n",
      "\n",
      "   [[45 46]\n",
      "    [47 48]]]]]\n",
      "\n",
      "48\n",
      "11\n",
      "37\n",
      "21\n"
     ]
    }
   ],
   "source": [
    "# Convert these into indexing, currently these are fancy indexing\n",
    "print(arr5d[\n",
    "    0, 0, 0, 1, 1\n",
    "])\n",
    "\n",
    "print(arr5d[\n",
    "    0, 1, 1, 0, 1\n",
    "])\n",
    "\n",
    "print(arr5d[\n",
    "    1, 0, 0, 1, 0\n",
    "])\n",
    "\n",
    "print(arr5d[\n",
    "    1, 1, 1, 0, 1\n",
    "])\n",
    "\n",
    "print()\n",
    "print(arr5d, end = \"\\n\\n\")\n",
    "\n",
    "print(arr5d[\n",
    "    -1, -1, -1, -1, -1\n",
    "])\n",
    "\n",
    "print(arr5d[\n",
    "    -2, -2, -2, -2, -2\n",
    "])\n",
    "\n",
    "\n",
    "print(arr5d[\n",
    "    -1, -2, -1, -1, -2\n",
    "])\n",
    "\n",
    "print(arr5d[\n",
    "    -2, -1, -2, -2, -2\n",
    "])"
   ]
  },
  {
   "cell_type": "markdown",
   "id": "935a937f",
   "metadata": {},
   "source": [
    "**Slicing**"
   ]
  },
  {
   "cell_type": "code",
   "execution_count": 145,
   "id": "eb02cbcf",
   "metadata": {
    "scrolled": false
   },
   "outputs": [
    {
     "name": "stdout",
     "output_type": "stream",
     "text": [
      "[[[[[11 12]\n",
      "    [13 14]]\n",
      "\n",
      "   [[15 16]\n",
      "    [17 18]]]\n",
      "\n",
      "\n",
      "  [[[21 22]\n",
      "    [23 24]]\n",
      "\n",
      "   [[25 26]\n",
      "    [27 28]]]]\n",
      "\n",
      "\n",
      "\n",
      " [[[[31 32]\n",
      "    [33 34]]\n",
      "\n",
      "   [[35 36]\n",
      "    [37 38]]]\n",
      "\n",
      "\n",
      "  [[[41 42]\n",
      "    [43 44]]\n",
      "\n",
      "   [[45 46]\n",
      "    [47 48]]]]]\n",
      "\n",
      "1 [26 46]\n",
      "\n",
      "2 [[[11 13]\n",
      "  [15 17]]\n",
      "\n",
      " [[21 23]\n",
      "  [25 27]]]\n",
      "\n",
      "3 [[43 44]\n",
      " [47 48]]\n",
      "\n",
      "4 [[[[11 12]\n",
      "   [13 14]]\n",
      "\n",
      "  [[21 22]\n",
      "   [23 24]]]\n",
      "\n",
      "\n",
      " [[[31 32]\n",
      "   [33 34]]\n",
      "\n",
      "  [[41 42]\n",
      "   [43 44]]]]\n",
      "\n",
      "5 [[[33 34]\n",
      "  [37 38]]\n",
      "\n",
      " [[43 44]\n",
      "  [47 48]]]\n",
      "\n",
      "6 [[[[12 14]\n",
      "   [16 18]]\n",
      "\n",
      "  [[22 24]\n",
      "   [26 28]]]\n",
      "\n",
      "\n",
      " [[[32 34]\n",
      "   [36 38]]\n",
      "\n",
      "  [[42 44]\n",
      "   [46 48]]]]\n",
      "\n"
     ]
    }
   ],
   "source": [
    "print(arr5d, end = \"\\n\\n\")\n",
    "\n",
    "# all groups, block 1, layer 1, row 0, column 1\n",
    "print(\"1\", arr5d[:, 1, 1, 0, 1], end = \"\\n\\n\")\n",
    "# group 0, all blocks, all layers, all rows, column 0\n",
    "print(\"2\", arr5d[0, :, :, :, 0], end = \"\\n\\n\")\n",
    "# group 1, block 1, all layers, row 1, all columns\n",
    "print(\"3\", arr5d[1, 1, :, 1, :], end = \"\\n\\n\")\n",
    "# all groups, all blocks, layer 0, all rows, all columns\n",
    "print(\"4\", arr5d[:, :, 0, :, :], end = \"\\n\\n\")\n",
    "# group 1, all blocks, all layers, row 1, all columns\n",
    "print(\"5\", arr5d[1, :, :, 1, :], end = \"\\n\\n\")\n",
    "# all groups, all blocks, all layers, all rows, column 1\n",
    "print(\"6\", arr5d[:, :, :, :, 1], end = \"\\n\\n\")"
   ]
  },
  {
   "cell_type": "markdown",
   "id": "25036148",
   "metadata": {},
   "source": [
    "**Fancy indexing**"
   ]
  },
  {
   "cell_type": "code",
   "execution_count": 161,
   "id": "ff925729",
   "metadata": {},
   "outputs": [
    {
     "name": "stdout",
     "output_type": "stream",
     "text": [
      "1 [27 32]\n",
      "2 [[[[[11 12]\n",
      "    [13 14]]\n",
      "\n",
      "   [[15 16]\n",
      "    [17 18]]]\n",
      "\n",
      "\n",
      "  [[[21 22]\n",
      "    [23 24]]\n",
      "\n",
      "   [[25 26]\n",
      "    [27 28]]]]\n",
      "\n",
      "\n",
      "\n",
      " [[[[31 32]\n",
      "    [33 34]]\n",
      "\n",
      "   [[35 36]\n",
      "    [37 38]]]\n",
      "\n",
      "\n",
      "  [[[41 42]\n",
      "    [43 44]]\n",
      "\n",
      "   [[45 46]\n",
      "    [47 48]]]]]\n",
      "3 [[[[31 32]\n",
      "   [33 34]]\n",
      "\n",
      "  [[35 36]\n",
      "   [37 38]]]\n",
      "\n",
      "\n",
      " [[[41 42]\n",
      "   [43 44]]\n",
      "\n",
      "  [[45 46]\n",
      "   [47 48]]]]\n",
      "4 [12 23 35]\n",
      "5 [14 17 48]\n"
     ]
    }
   ],
   "source": [
    "# elements at positions (0,1,1,1,0), (1,0,0,0,1)\n",
    "print(\"1\",arr5d[\n",
    "    [0, 1], [1, 0], [1, 0], [1, 0], [0, 1]\n",
    "])\n",
    "\n",
    "# groups 0 and 1\n",
    "print(\"2\", arr5d[[0, 1]])\n",
    "\n",
    "# blocks 0 and 1 from group 1 only\n",
    "print(\"3\", arr5d[[1], [0, 1]])\n",
    "\n",
    "# [12, 23, 35]\n",
    "print(\"4\", arr5d[\n",
    "    [0, 0, 1], [0, 1, 0], [0, 0, 1], [0, 1, 0], [1, 0, 0]\n",
    "])\n",
    "\n",
    "# [14, 17, 48]\n",
    "print(\"5\", arr5d[\n",
    "    [0, 0, 1], [0, 0, 1], [0, 1, 1], [1, 1, 1], [1, 0, 1]\n",
    "])"
   ]
  },
  {
   "cell_type": "code",
   "execution_count": 134,
   "id": "581e9c77",
   "metadata": {
    "scrolled": false
   },
   "outputs": [
    {
     "name": "stdout",
     "output_type": "stream",
     "text": [
      "[14]\n",
      "[26]\n",
      "[33]\n",
      "[46]\n",
      "\n",
      "[[[[[11 12]\n",
      "    [13 14]]\n",
      "\n",
      "   [[15 16]\n",
      "    [17 18]]]\n",
      "\n",
      "\n",
      "  [[[21 22]\n",
      "    [23 24]]\n",
      "\n",
      "   [[25 26]\n",
      "    [27 28]]]]\n",
      "\n",
      "\n",
      "\n",
      " [[[[31 32]\n",
      "    [33 34]]\n",
      "\n",
      "   [[35 36]\n",
      "    [37 38]]]\n",
      "\n",
      "\n",
      "  [[[41 42]\n",
      "    [43 44]]\n",
      "\n",
      "   [[45 46]\n",
      "    [47 48]]]]]\n",
      "\n",
      "[48]\n",
      "[11]\n",
      "[11]\n",
      "[37]\n",
      "[21]\n"
     ]
    }
   ],
   "source": [
    "print(arr5d[\n",
    "    [0], [0], [0], [1], [1]\n",
    "])\n",
    "\n",
    "print(arr5d[\n",
    "    [0], [1], [1], [0], [1]\n",
    "])\n",
    "\n",
    "print(arr5d[\n",
    "    [1], [0], [0], [1], [0]\n",
    "])\n",
    "\n",
    "print(arr5d[\n",
    "    [1], [1], [1], [0], [1]\n",
    "])\n",
    "\n",
    "print()\n",
    "print(arr5d, end = \"\\n\\n\")\n",
    "\n",
    "print(arr5d[\n",
    "    [-1], [-1], [-1], [-1], [-1]\n",
    "])\n",
    "\n",
    "print(arr5d[\n",
    "    [-2], [-2], [-2], [-2], [-2]\n",
    "])\n",
    "\n",
    "print(arr5d[\n",
    "    [-2], [-2], [-2], [-2], [-2]\n",
    "])\n",
    "\n",
    "print(arr5d[\n",
    "    [-1], [-2], [-1], [-1], [-2]\n",
    "])\n",
    "\n",
    "print(arr5d[\n",
    "    [-2], [-1], [-2], [-2], [-2]\n",
    "])"
   ]
  },
  {
   "cell_type": "markdown",
   "id": "698b487e",
   "metadata": {},
   "source": [
    "<center><b>Thanks</b></center>"
   ]
  }
 ],
 "metadata": {
  "kernelspec": {
   "display_name": "Python 3 (ipykernel)",
   "language": "python",
   "name": "python3"
  },
  "language_info": {
   "codemirror_mode": {
    "name": "ipython",
    "version": 3
   },
   "file_extension": ".py",
   "mimetype": "text/x-python",
   "name": "python",
   "nbconvert_exporter": "python",
   "pygments_lexer": "ipython3",
   "version": "3.10.2"
  }
 },
 "nbformat": 4,
 "nbformat_minor": 5
}
