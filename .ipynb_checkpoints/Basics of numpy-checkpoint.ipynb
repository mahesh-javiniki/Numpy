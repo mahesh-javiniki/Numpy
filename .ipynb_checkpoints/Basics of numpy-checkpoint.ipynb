{
 "cells": [
  {
   "cell_type": "markdown",
   "id": "76caf9b2",
   "metadata": {},
   "source": [
    "## 3D and Multi-dimentional arrays"
   ]
  },
  {
   "cell_type": "code",
   "execution_count": 1,
   "id": "d2f27431",
   "metadata": {},
   "outputs": [],
   "source": [
    "import numpy as np"
   ]
  },
  {
   "cell_type": "markdown",
   "id": "40357b3f",
   "metadata": {},
   "source": [
    "### Getting familliar with dimentions"
   ]
  },
  {
   "cell_type": "markdown",
   "id": "0864d93c",
   "metadata": {},
   "source": [
    "#### 0D array (Scalar)"
   ]
  },
  {
   "cell_type": "code",
   "execution_count": 25,
   "id": "e3bcffb2",
   "metadata": {},
   "outputs": [
    {
     "name": "stdout",
     "output_type": "stream",
     "text": [
      "Type:  <class 'numpy.ndarray'>\n",
      "Array:  5\n",
      "Shape  ()\n",
      "Size:  1\n",
      "Dimensions:  0\n"
     ]
    }
   ],
   "source": [
    "np_0d_arr = np.array(5)\n",
    "print(f\"Type: \", type(np_0d_arr))\n",
    "print(f\"Array: \", np_0d_arr)\n",
    "\n",
    "print(f\"Shape \", np_0d_arr.shape)\n",
    "print(f\"Size: \", np_0d_arr.size)\n",
    "print(f\"Dimensions: \", np_0d_arr.ndim)"
   ]
  },
  {
   "cell_type": "markdown",
   "id": "ebb6d568",
   "metadata": {},
   "source": [
    "#### 1D array (Vector)"
   ]
  },
  {
   "cell_type": "code",
   "execution_count": 26,
   "id": "efee6206",
   "metadata": {},
   "outputs": [
    {
     "name": "stdout",
     "output_type": "stream",
     "text": [
      "Type:  <class 'numpy.ndarray'>\n",
      "Array:  [1 2 3 4 5 6]\n",
      "Shape  (6,)\n",
      "Size:  6\n",
      "Dimensions:  1\n"
     ]
    }
   ],
   "source": [
    "np_1d_array = np.array(\n",
    "    [1, 2, 3, 4, 5, 6]\n",
    ")\n",
    "\n",
    "print(f\"Type: \", type(np_1d_array))\n",
    "print(f\"Array: \", np_1d_array)\n",
    "\n",
    "print(f\"Shape \", np_1d_array.shape)\n",
    "print(f\"Size: \", np_1d_array.size)\n",
    "print(f\"Dimensions: \", np_1d_array.ndim)"
   ]
  },
  {
   "cell_type": "markdown",
   "id": "b3736675",
   "metadata": {},
   "source": [
    "#### 2D array (Matrix)"
   ]
  },
  {
   "cell_type": "code",
   "execution_count": 24,
   "id": "47e1fcd3",
   "metadata": {},
   "outputs": [
    {
     "name": "stdout",
     "output_type": "stream",
     "text": [
      "[[1 2 3 4]]\n",
      "(1, 4)\n",
      "4\n",
      "2\n"
     ]
    }
   ],
   "source": [
    "np_2d_array = np.array(\n",
    "    [\n",
    "        [1, 2, 3, 4]\n",
    "    ]\n",
    ")\n",
    "\n",
    "print(np_2d_array)\n",
    "print(np_2d_array.shape)\n",
    "print(np_2d_array.size)\n",
    "print(np_2d_array.ndim)"
   ]
  },
  {
   "cell_type": "code",
   "execution_count": 27,
   "id": "e87ff58c",
   "metadata": {
    "scrolled": false
   },
   "outputs": [
    {
     "name": "stdout",
     "output_type": "stream",
     "text": [
      "[[ 1  2  3  4  5]\n",
      " [ 6  7  8  9 10]]\n",
      "(2, 5)\n",
      "10\n",
      "2\n"
     ]
    }
   ],
   "source": [
    "np_2d_array = np.array(\n",
    "    [\n",
    "        [1, 2, 3, 4, 5],\n",
    "        [6, 7, 8, 9, 10]\n",
    "    ]\n",
    ")\n",
    "\n",
    "print(np_2d_array)\n",
    "print(np_2d_array.shape)\n",
    "print(np_2d_array.size)\n",
    "print(np_2d_array.ndim)"
   ]
  },
  {
   "cell_type": "code",
   "execution_count": 29,
   "id": "f38fda06",
   "metadata": {
    "scrolled": false
   },
   "outputs": [
    {
     "name": "stdout",
     "output_type": "stream",
     "text": [
      "[[ 1  2  3  4  5]\n",
      " [ 6  7  8  9 10]\n",
      " [11 22 33 44 55]]\n",
      "(3, 5)\n",
      "15\n",
      "2\n"
     ]
    }
   ],
   "source": [
    "np_2d_array = np.array(\n",
    "    [\n",
    "        [1, 2, 3, 4, 5],\n",
    "        [6, 7, 8, 9, 10],\n",
    "        [11, 22, 33, 44, 55]\n",
    "    ]\n",
    ")\n",
    "\n",
    "print(np_2d_array)\n",
    "print(np_2d_array.shape)\n",
    "print(np_2d_array.size)\n",
    "print(np_2d_array.ndim)"
   ]
  },
  {
   "cell_type": "markdown",
   "id": "93901df7",
   "metadata": {},
   "source": [
    "#### 3D array"
   ]
  },
  {
   "cell_type": "code",
   "execution_count": 30,
   "id": "e966ec1e",
   "metadata": {
    "scrolled": true
   },
   "outputs": [
    {
     "name": "stdout",
     "output_type": "stream",
     "text": [
      "[[[2 4 6]\n",
      "  [1 3 5]]]\n",
      "(1, 2, 3)\n",
      "6\n",
      "3\n"
     ]
    }
   ],
   "source": [
    "np_3d_array = np.array(\n",
    "    [\n",
    "        [\n",
    "            [2, 4, 6],\n",
    "            [1, 3, 5]\n",
    "        ]\n",
    "    ]\n",
    ")\n",
    "\n",
    "print(np_3d_array)\n",
    "print(np_3d_array.shape)\n",
    "print(np_3d_array.size)\n",
    "print(np_3d_array.ndim)"
   ]
  },
  {
   "cell_type": "code",
   "execution_count": 31,
   "id": "17955d78",
   "metadata": {
    "scrolled": false
   },
   "outputs": [
    {
     "name": "stdout",
     "output_type": "stream",
     "text": [
      "[[[ 2  4  6 11]\n",
      "  [ 1  3  5 11]\n",
      "  [ 7  8  9 11]]\n",
      "\n",
      " [[ 1  2  3 22]\n",
      "  [ 4  5  6 22]\n",
      "  [12 34 56 22]]]\n",
      "(2, 3, 4)\n",
      "24\n",
      "3\n"
     ]
    }
   ],
   "source": [
    "np_3d_array = np.array(\n",
    "    [\n",
    "        [\n",
    "            [2, 4, 6, 11],\n",
    "            [1, 3, 5, 11],\n",
    "            [7, 8, 9, 11]\n",
    "        ],\n",
    "        [\n",
    "            [1, 2, 3, 22],\n",
    "            [4, 5, 6, 22],\n",
    "            [12, 34, 56, 22]\n",
    "        ]\n",
    "    ]\n",
    ")\n",
    "\n",
    "print(np_3d_array)\n",
    "print(np_3d_array.shape)\n",
    "print(np_3d_array.size)\n",
    "print(np_3d_array.ndim)"
   ]
  },
  {
   "cell_type": "markdown",
   "id": "7426692d",
   "metadata": {},
   "source": [
    "#### 4D Array"
   ]
  },
  {
   "cell_type": "code",
   "execution_count": 32,
   "id": "ea0d939d",
   "metadata": {},
   "outputs": [
    {
     "name": "stdout",
     "output_type": "stream",
     "text": [
      "[[[[1 2 3 4]]]]\n",
      "(1, 1, 1, 4)\n",
      "4\n",
      "4\n"
     ]
    }
   ],
   "source": [
    "np_4d_array = np.array(\n",
    "    [\n",
    "        [\n",
    "            [\n",
    "                [1, 2, 3, 4]\n",
    "            ]\n",
    "        ]\n",
    "    ]\n",
    ")\n",
    "\n",
    "print(np_4d_array)\n",
    "print(np_4d_array.shape)\n",
    "print(np_4d_array.size)\n",
    "print(np_4d_array.ndim)"
   ]
  },
  {
   "cell_type": "code",
   "execution_count": 33,
   "id": "402458d6",
   "metadata": {},
   "outputs": [
    {
     "name": "stdout",
     "output_type": "stream",
     "text": [
      "[[[[1 2 3 4]\n",
      "   [5 6 7 8]]]]\n",
      "(1, 1, 2, 4)\n",
      "8\n",
      "4\n"
     ]
    }
   ],
   "source": [
    "np_4d_array = np.array(\n",
    "    [\n",
    "        [\n",
    "            [\n",
    "                [1, 2, 3, 4],\n",
    "                [5, 6, 7, 8]\n",
    "            ]\n",
    "        ]\n",
    "    ]\n",
    ")\n",
    "\n",
    "print(np_4d_array)\n",
    "print(np_4d_array.shape)\n",
    "print(np_4d_array.size)\n",
    "print(np_4d_array.ndim)"
   ]
  },
  {
   "cell_type": "code",
   "execution_count": 37,
   "id": "3ca34653",
   "metadata": {},
   "outputs": [
    {
     "name": "stdout",
     "output_type": "stream",
     "text": [
      "[[[[ 1  2  3  4]\n",
      "   [ 5  6  7  8]]\n",
      "\n",
      "  [[11 22 33 44]\n",
      "   [55 66 77 88]]]]\n",
      "(1, 2, 2, 4)\n",
      "16\n",
      "4\n"
     ]
    }
   ],
   "source": [
    "np_4d_array = np.array(\n",
    "    [\n",
    "        [\n",
    "            [\n",
    "                [1, 2, 3, 4],\n",
    "                [5, 6, 7, 8]\n",
    "            ],\n",
    "            [\n",
    "                [11, 22, 33, 44],\n",
    "                [55, 66, 77, 88]\n",
    "            ]\n",
    "        ]\n",
    "    ]\n",
    ")\n",
    "\n",
    "print(np_4d_array)\n",
    "print(np_4d_array.shape)\n",
    "print(np_4d_array.size)\n",
    "print(np_4d_array.ndim)"
   ]
  },
  {
   "cell_type": "code",
   "execution_count": 40,
   "id": "7181f573",
   "metadata": {},
   "outputs": [
    {
     "name": "stdout",
     "output_type": "stream",
     "text": [
      "[[[[[1 2 3 4 5]]]]]\n",
      "(1, 1, 1, 1, 5)\n",
      "5\n",
      "5\n"
     ]
    }
   ],
   "source": [
    "np_5d_array = np.array(\n",
    "    [\n",
    "        [\n",
    "            [\n",
    "                [\n",
    "                    [1, 2, 3, 4, 5]\n",
    "                ]\n",
    "            ]\n",
    "        ]\n",
    "    ]\n",
    ")\n",
    "\n",
    "print(np_5d_array)\n",
    "print(np_5d_array.shape)\n",
    "print(np_5d_array.size)\n",
    "print(np_5d_array.ndim)"
   ]
  },
  {
   "cell_type": "code",
   "execution_count": 47,
   "id": "6e297f3f",
   "metadata": {},
   "outputs": [
    {
     "name": "stdout",
     "output_type": "stream",
     "text": [
      "[[[[[ 1  2  3  4  5]]\n",
      "\n",
      "   [[ 6  7  8  9 10]]]\n",
      "\n",
      "\n",
      "  [[[ 1  2  3  4  5]]\n",
      "\n",
      "   [[ 6  7  8  9 10]]]\n",
      "\n",
      "\n",
      "  [[[ 1  2  3  4  5]]\n",
      "\n",
      "   [[ 6  7  8  9 10]]]]]\n",
      "(1, 3, 2, 1, 5)\n",
      "30\n",
      "5\n"
     ]
    }
   ],
   "source": [
    "np_5d_array = np.array(\n",
    "    [\n",
    "        [\n",
    "            [\n",
    "                [\n",
    "                    [1, 2, 3, 4, 5]\n",
    "                ],\n",
    "                [\n",
    "                    [6, 7, 8, 9, 10]\n",
    "                ]\n",
    "            ],\n",
    "            [\n",
    "                [\n",
    "                    [1, 2, 3, 4, 5]\n",
    "                ],\n",
    "                [\n",
    "                    [6, 7, 8, 9, 10]\n",
    "                ]\n",
    "            ],\n",
    "            [\n",
    "                [\n",
    "                    [1, 2, 3, 4, 5]\n",
    "                ],\n",
    "                [\n",
    "                    [6, 7, 8, 9, 10]\n",
    "                ]\n",
    "            ]\n",
    "        ]\n",
    "    ]\n",
    ")\n",
    "\n",
    "print(np_5d_array)\n",
    "print(np_5d_array.shape)\n",
    "print(np_5d_array.size)\n",
    "print(np_5d_array.ndim)"
   ]
  },
  {
   "cell_type": "markdown",
   "id": "a71de6ea",
   "metadata": {},
   "source": [
    "**Simillarly we can extend this for more dimensions**"
   ]
  }
 ],
 "metadata": {
  "kernelspec": {
   "display_name": "Python 3 (ipykernel)",
   "language": "python",
   "name": "python3"
  },
  "language_info": {
   "codemirror_mode": {
    "name": "ipython",
    "version": 3
   },
   "file_extension": ".py",
   "mimetype": "text/x-python",
   "name": "python",
   "nbconvert_exporter": "python",
   "pygments_lexer": "ipython3",
   "version": "3.10.2"
  }
 },
 "nbformat": 4,
 "nbformat_minor": 5
}
