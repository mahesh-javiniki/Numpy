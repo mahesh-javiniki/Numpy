{
 "cells": [
  {
   "cell_type": "markdown",
   "id": "523756a1",
   "metadata": {},
   "source": [
    "# Numpy - 1"
   ]
  },
  {
   "cell_type": "markdown",
   "id": "c4155107",
   "metadata": {},
   "source": [
    "# Python List VS Numpy Arrary Comparison"
   ]
  },
  {
   "cell_type": "code",
   "execution_count": 1,
   "id": "7e024b97",
   "metadata": {},
   "outputs": [],
   "source": [
    "import numpy as np\n",
    "import sys\n",
    "import time"
   ]
  },
  {
   "cell_type": "markdown",
   "id": "ffe315fa",
   "metadata": {},
   "source": [
    "### Creating numpy array with python list and range"
   ]
  },
  {
   "cell_type": "code",
   "execution_count": 2,
   "id": "e5ab8b3d",
   "metadata": {},
   "outputs": [
    {
     "name": "stdout",
     "output_type": "stream",
     "text": [
      "[1 2 3 4 5]\n",
      "<class 'numpy.ndarray'>\n",
      "\n",
      "[0 1 2 3 4 5 6 7 8 9]\n",
      "<class 'numpy.ndarray'>\n"
     ]
    }
   ],
   "source": [
    "py_list = [1, 2, 3, 4, 5]\n",
    "size = 10\n",
    "\n",
    "# Creating numpy array with list\n",
    "np_array1 = np.array(py_list)\n",
    "print(np_array1)\n",
    "print(type(np_array1))\n",
    "print()\n",
    "\n",
    "# Creating numpy array with range\n",
    "np_array2 = np.arange(size)\n",
    "print(np_array2)\n",
    "print(type(np_array2))"
   ]
  },
  {
   "cell_type": "markdown",
   "id": "f1dcd4bf",
   "metadata": {},
   "source": [
    "### 1. Memory Comparison (List vs. NumPy Array)"
   ]
  },
  {
   "cell_type": "code",
   "execution_count": 3,
   "id": "0afa359a",
   "metadata": {},
   "outputs": [
    {
     "name": "stdout",
     "output_type": "stream",
     "text": [
      "For 10, python list size:  136\n",
      "For 10, numpy array size:  152\n",
      "\n",
      "For 100, python list size:  856\n",
      "For 100, numpy array size:  512\n",
      "\n",
      "For 1000, python list size:  8056\n",
      "For 1000, numpy array size:  4112\n",
      "\n",
      "For 10000, python list size:  80056\n",
      "For 10000, numpy array size:  40112\n",
      "\n",
      "For 100000, python list size:  800056\n",
      "For 100000, numpy array size:  400112\n",
      "\n",
      "For 1000000, python list size:  8000056\n",
      "For 1000000, numpy array size:  4000112\n",
      "\n",
      "For 10000000, python list size:  80000056\n",
      "For 10000000, numpy array size:  40000112\n",
      "\n"
     ]
    }
   ],
   "source": [
    "sizes_to_compare = [10, 100, 1000, 10_000, 100_000, 1000_000, 10_000_000]\n",
    "\n",
    "for size in sizes_to_compare:\n",
    "    py_list = list(range(size))\n",
    "    np_array = np.arange(size)\n",
    "    print(f\"For {size}, python list size: \", sys.getsizeof(py_list))\n",
    "    print(f\"For {size}, numpy array size: \", sys.getsizeof(np_array))\n",
    "    print()"
   ]
  },
  {
   "cell_type": "markdown",
   "id": "56295c55",
   "metadata": {},
   "source": [
    "### 2. Speed Comparison on Large Dataset"
   ]
  },
  {
   "cell_type": "code",
   "execution_count": 4,
   "id": "8ac73d0f",
   "metadata": {},
   "outputs": [
    {
     "name": "stdout",
     "output_type": "stream",
     "text": [
      "Python list processed time: 0.0\n",
      "Python list data: [0, 2, 4, 6, 8, 10, 12, 14, 16, 18]\n",
      "Numpy array processed time: 0.0010030269622802734\n",
      "Numpy array data: [ 0  2  4  6  8 10 12 14 16 18]\n",
      "\n",
      "Python list processed time: 0.0\n",
      "Python list data: [0, 2, 4, 6, 8, 10, 12, 14, 16, 18, 20, 22, 24, 26, 28, 30, 32, 34, 36, 38, 40, 42, 44, 46, 48, 50, 52, 54, 56, 58, 60, 62, 64, 66, 68, 70, 72, 74, 76, 78, 80, 82, 84, 86, 88, 90, 92, 94, 96, 98, 100, 102, 104, 106, 108, 110, 112, 114, 116, 118, 120, 122, 124, 126, 128, 130, 132, 134, 136, 138, 140, 142, 144, 146, 148, 150, 152, 154, 156, 158, 160, 162, 164, 166, 168, 170, 172, 174, 176, 178, 180, 182, 184, 186, 188, 190, 192, 194, 196, 198]\n",
      "Numpy array processed time: 0.0\n",
      "Numpy array data: [  0   2   4   6   8  10  12  14  16  18  20  22  24  26  28  30  32  34\n",
      "  36  38  40  42  44  46  48  50  52  54  56  58  60  62  64  66  68  70\n",
      "  72  74  76  78  80  82  84  86  88  90  92  94  96  98 100 102 104 106\n",
      " 108 110 112 114 116 118 120 122 124 126 128 130 132 134 136 138 140 142\n",
      " 144 146 148 150 152 154 156 158 160 162 164 166 168 170 172 174 176 178\n",
      " 180 182 184 186 188 190 192 194 196 198]\n",
      "\n",
      "Python list processed time: 0.0011701583862304688\n",
      "Numpy array processed time: 0.0\n",
      "\n",
      "Python list processed time: 0.0012459754943847656\n",
      "Numpy array processed time: 0.0010216236114501953\n",
      "\n",
      "Python list processed time: 0.007821798324584961\n",
      "Numpy array processed time: 0.0\n",
      "\n",
      "Python list processed time: 0.12463593482971191\n",
      "Numpy array processed time: 0.003018617630004883\n",
      "\n",
      "Python list processed time: 1.215195894241333\n",
      "Numpy array processed time: 0.02288079261779785\n",
      "\n",
      "Python list processed time: 16.74221968650818\n",
      "Numpy array processed time: 0.3423135280609131\n",
      "\n"
     ]
    }
   ],
   "source": [
    "sizes_to_compare = [\n",
    "    10, 100, 1000, 10_000, 100_000, 1000_000, 10_000_000, 100_000_000\n",
    "]\n",
    "\n",
    "for size in sizes_to_compare:\n",
    "    py_list = list(range(size))\n",
    "    np_array = np.arange(size)\n",
    "\n",
    "    start = time.time()\n",
    "    updated_py_list = [i * 2 for i in py_list]\n",
    "    end = time.time()\n",
    "    print(f\"Python list processed time: {end - start}\")\n",
    "    if size <= 100:\n",
    "        print(f\"Python list data: {updated_py_list}\")\n",
    "\n",
    "    start = time.time()\n",
    "    updated_np_array = 2 * np_array\n",
    "    end = time.time()\n",
    "    print(f\"Numpy array processed time: {end-start}\")\n",
    "    if size <= 100:\n",
    "        print(f\"Numpy array data: {updated_np_array}\")\n",
    "    print()"
   ]
  },
  {
   "cell_type": "markdown",
   "id": "8015dce0",
   "metadata": {},
   "source": [
    "### 3. Data Type Enforcement in NumPy"
   ]
  },
  {
   "cell_type": "code",
   "execution_count": 5,
   "id": "c46332ce",
   "metadata": {},
   "outputs": [
    {
     "name": "stdout",
     "output_type": "stream",
     "text": [
      "Python list: [1, 2, 'three', 4.0]\n",
      "NumPy array: ['1' '2' 'three' '4.0']\n",
      "NumPy array data type: <U32\n"
     ]
    }
   ],
   "source": [
    "# Mixed types in a Python \n",
    "py_list = [1, 2, 'three', 4.0]\n",
    "print(\"Python list:\", py_list)\n",
    "\n",
    "# Mixed types in a NumPy array\n",
    "np_array = np.array([1, 2, 'three', 4.0])\n",
    "print(\"NumPy array:\", np_array)\n",
    "print(\"NumPy array data type:\", np_array.dtype)"
   ]
  },
  {
   "cell_type": "markdown",
   "id": "c80c2712",
   "metadata": {},
   "source": [
    "### 4. Vectorized Addition (Without Loops)"
   ]
  },
  {
   "cell_type": "markdown",
   "id": "0840b9eb",
   "metadata": {},
   "source": [
    "For vectorization to consider both operands will be vectors"
   ]
  },
  {
   "cell_type": "code",
   "execution_count": 6,
   "id": "dfbaf8e3",
   "metadata": {},
   "outputs": [
    {
     "name": "stdout",
     "output_type": "stream",
     "text": [
      "python list addition result: [12, 24, 36, 48, 60]\n",
      "Numpy arrays addition: [12 24 36 48 60]\n"
     ]
    }
   ],
   "source": [
    "list1 = [1, 2, 3, 4, 5]\n",
    "list2 = [11, 22, 33, 44, 55]\n",
    "list12 = []\n",
    "\n",
    "for i in range(len(list1)):\n",
    "    list12.append(list1[i] + list2[i])\n",
    "print(f\"python list addition result: {list12}\")\n",
    "\n",
    "np_arr1 = np.array([1, 2, 3, 4, 5])\n",
    "np_arr2 = np.array([11, 22, 33, 44, 55])\n",
    "np_arr_sum = np_arr1 + np_arr2\n",
    "print(f\"Numpy arrays addition: {np_arr_sum}\")\n",
    "\n",
    "# NumPy avoids loops and simplifies the code."
   ]
  },
  {
   "cell_type": "markdown",
   "id": "db5e36ec",
   "metadata": {},
   "source": [
    "### 5. Broadcasting in NumPy (Not Possible in Python Lists)"
   ]
  },
  {
   "cell_type": "markdown",
   "id": "c92d71e9",
   "metadata": {},
   "source": [
    "For broadcasting, one operand would be vector and another operand would be  scalar"
   ]
  },
  {
   "cell_type": "code",
   "execution_count": 7,
   "id": "4eb7b974",
   "metadata": {
    "scrolled": true
   },
   "outputs": [
    {
     "name": "stdout",
     "output_type": "stream",
     "text": [
      "Python list update with integer error: can only concatenate list (not \"int\") to list\n",
      "Updated numpy arr: [ 7  8  9 10 11]\n"
     ]
    }
   ],
   "source": [
    "python_list = [1, 2, 3, 4, 5]\n",
    "try:\n",
    "    updated_python_list = python_list + 6\n",
    "    print(f\"Updated python list: {updated_python_list}\")\n",
    "except Exception as e:\n",
    "    print(f\"Python list update with integer error: {e}\")\n",
    "    \n",
    "numpy_arr = np.array([1, 2, 3, 4, 5])\n",
    "updated_numpy_arr = numpy_arr + 6\n",
    "print(f\"Updated numpy arr: {updated_numpy_arr}\")\n",
    "\n",
    "# Python lists cannot broadcast (you will get an error).\n",
    "# NumPy arrays broadcast automatically."
   ]
  },
  {
   "cell_type": "markdown",
   "id": "f0227505",
   "metadata": {},
   "source": [
    "### 6. Element-Wise Multiplication (Python List vs. NumPy Array)"
   ]
  },
  {
   "cell_type": "code",
   "execution_count": 8,
   "id": "cbf24206",
   "metadata": {},
   "outputs": [
    {
     "name": "stdout",
     "output_type": "stream",
     "text": [
      "python list multiplication result: [11, 44, 99, 176, 275]\n",
      "Numpy arrays multiplication result: [ 11  44  99 176 275]\n"
     ]
    }
   ],
   "source": [
    "list1 = [1, 2, 3, 4, 5]\n",
    "list2 = [11, 22, 33, 44, 55]\n",
    "list12 = []\n",
    "\n",
    "for i in range(len(list1)):\n",
    "    list12.append(list1[i] * list2[i])\n",
    "print(f\"python list multiplication result: {list12}\")\n",
    "\n",
    "np_arr1 = np.array([1, 2, 3, 4, 5])\n",
    "np_arr2 = np.array([11, 22, 33, 44, 55])\n",
    "np_arr_sum = np_arr1 * np_arr2\n",
    "print(f\"Numpy arrays multiplication result: {np_arr_sum}\")\n",
    "\n",
    "# NumPy makes element-wise multiplication effortless."
   ]
  },
  {
   "cell_type": "code",
   "execution_count": null,
   "id": "f6e15938",
   "metadata": {},
   "outputs": [],
   "source": []
  },
  {
   "cell_type": "markdown",
   "id": "3c194858",
   "metadata": {},
   "source": [
    "### Elemenet wise operations \n",
    "**Patterns:**\n",
    "\n",
    "**vector operation scalar**\n",
    "\n",
    "**vector operation vector**"
   ]
  },
  {
   "cell_type": "markdown",
   "id": "a3a411d3",
   "metadata": {},
   "source": [
    "python list -> [direct, iterative]\n",
    "\n",
    "numpy array -> direct"
   ]
  },
  {
   "cell_type": "code",
   "execution_count": 9,
   "id": "23c9139b",
   "metadata": {
    "scrolled": true
   },
   "outputs": [
    {
     "name": "stdout",
     "output_type": "stream",
     "text": [
      "constant_python_list1:  [1, 2, 3, 4, 5]\n",
      "constant_python_list2:  [11, 22, 33, 44, 55]\n",
      "constant_numpy_arr1:  [1 2 3 4 5]\n",
      "constant_numpy_arr2:  [11 22 33 44 55]\n"
     ]
    }
   ],
   "source": [
    "constant_python_list1 = [1, 2, 3, 4, 5]\n",
    "constant_python_list2 = [11, 22, 33, 44, 55]\n",
    "constant_numpy_arr1 = np.array([1, 2, 3, 4, 5])\n",
    "constant_numpy_arr2 = np.array([11, 22, 33, 44, 55])\n",
    "\n",
    "print('constant_python_list1: ', constant_python_list1)\n",
    "print('constant_python_list2: ', constant_python_list2)\n",
    "print('constant_numpy_arr1: ', constant_numpy_arr1)\n",
    "print('constant_numpy_arr2: ', constant_numpy_arr2)"
   ]
  },
  {
   "cell_type": "markdown",
   "id": "8e12291a",
   "metadata": {},
   "source": [
    "### Addition"
   ]
  },
  {
   "cell_type": "code",
   "execution_count": 10,
   "id": "d28c0597",
   "metadata": {},
   "outputs": [
    {
     "name": "stdout",
     "output_type": "stream",
     "text": [
      "python_lists_sum_direct: [1, 2, 3, 4, 5, 11, 22, 33, 44, 55]\n",
      "python_lists_sum_iterative: [12, 24, 36, 48, 60]\n",
      "numpy_lists_sum_direct: [12 24 36 48 60]\n"
     ]
    }
   ],
   "source": [
    "python_lists_sum_direct = constant_python_list1 + constant_python_list2\n",
    "\n",
    "python_lists_sum_iterative = []\n",
    "for i in range(len(constant_python_list1)):\n",
    "    python_lists_sum_iterative.append(\n",
    "        constant_python_list1[i] + constant_python_list2[i]\n",
    "    )\n",
    "\n",
    "numpy_array_sum_direct = constant_numpy_arr1 + constant_numpy_arr2\n",
    "\n",
    "\n",
    "print(f\"python_lists_sum_direct: {python_lists_sum_direct}\")\n",
    "print(f\"python_lists_sum_iterative: {python_lists_sum_iterative}\")\n",
    "print(f\"numpy_lists_sum_direct: {numpy_array_sum_direct}\")"
   ]
  },
  {
   "cell_type": "markdown",
   "id": "093feca2",
   "metadata": {},
   "source": [
    "**Use Cases:**\n",
    "\n",
    "**Students courses fee:**\n",
    "Same batch of students entrolled in diffect paid courses. Based on their earlier acadamic activities their fee got different.\n",
    "\n",
    "Will have different courses with fee details.\n",
    "\n",
    "**Company bonus:**\n",
    "Company wants to issue bonus for all employees in an organization, bonus issue metric would be based on no.of worked days.\n",
    "\n",
    "Will have current pay and based on worked days percentage of hike converted to currency (bonus amount)."
   ]
  },
  {
   "cell_type": "code",
   "execution_count": 11,
   "id": "7c7f5ceb",
   "metadata": {},
   "outputs": [
    {
     "name": "stdout",
     "output_type": "stream",
     "text": [
      "Courses sum: [35 85 45 95 65]\n"
     ]
    }
   ],
   "source": [
    "# Students courses fee\n",
    "# max fee 50 (numbers are in thousands)\n",
    "course1 = np.array([15, 40, 20, 45, 30])\n",
    "course2 = np.array([20, 45, 25, 50, 35])\n",
    "\n",
    "courses_sum = course1 + course2\n",
    "print(f\"Courses sum: {courses_sum}\")"
   ]
  },
  {
   "cell_type": "markdown",
   "id": "3f73c2f4",
   "metadata": {},
   "source": [
    "### Subtraction"
   ]
  },
  {
   "cell_type": "code",
   "execution_count": 12,
   "id": "1ccab9ed",
   "metadata": {},
   "outputs": [
    {
     "name": "stdout",
     "output_type": "stream",
     "text": [
      "Can't to subtraction between python lists directly, got error unsupported operand type(s) for -: 'list' and 'list'\n",
      "python_lists_difference_direct: []\n",
      "python_lists_difference_iterative: [10, 20, 30, 40, 50]\n",
      "numpy_lists_difference_direct: [10 20 30 40 50]\n"
     ]
    }
   ],
   "source": [
    "python_lists_difference_direct = []\n",
    "try:\n",
    "    python_lists_difference_direct = constant_python_list2 - constant_python_list1\n",
    "except Exception as e:\n",
    "    print(f\"Can't to subtraction between python lists directly, got error {e}\")\n",
    "\n",
    "python_lists_difference_iterative = []\n",
    "for i in range(len(constant_python_list1)):\n",
    "    python_lists_difference_iterative.append(\n",
    "        constant_python_list2[i] - constant_python_list1[i]\n",
    "    )\n",
    "\n",
    "numpy_array_difference_direct = constant_numpy_arr2 - constant_numpy_arr1\n",
    "\n",
    "\n",
    "print(f\"python_lists_difference_direct: {python_lists_difference_direct}\")\n",
    "print(f\"python_lists_difference_iterative: {python_lists_difference_iterative}\")\n",
    "print(f\"numpy_lists_difference_direct: {numpy_array_difference_direct}\")"
   ]
  },
  {
   "cell_type": "markdown",
   "id": "bfbafc71",
   "metadata": {},
   "source": [
    "**Use cases:**\n",
    "\n",
    "**Online E-commerce discounts:** There is some discounts for current prices in a e-commerce platform. After discount, the price of the products.\n",
    "\n",
    "**Company cost cutting:** Company announcing cuts based on employees poor performance levels. Original salaries, cutting salary(through percentage), final salary."
   ]
  },
  {
   "cell_type": "code",
   "execution_count": 13,
   "id": "f5a2ec2c",
   "metadata": {},
   "outputs": [
    {
     "name": "stdout",
     "output_type": "stream",
     "text": [
      "[450 380 270 140 180]\n"
     ]
    }
   ],
   "source": [
    "# Online E-commerce discounts\n",
    "original_prices = np.array([500, 420, 300, 150, 200])\n",
    "discounts = np.array([50, 40, 30, 10, 20])\n",
    "discounted_prices = original_prices - discounts\n",
    "print(discounted_prices)"
   ]
  },
  {
   "cell_type": "markdown",
   "id": "fe10a668",
   "metadata": {},
   "source": [
    "### Multiplication"
   ]
  },
  {
   "cell_type": "code",
   "execution_count": 18,
   "id": "0cf0a3a1",
   "metadata": {},
   "outputs": [
    {
     "name": "stdout",
     "output_type": "stream",
     "text": [
      "Can't to multiplication between python lists directly, got error can't multiply sequence by non-int of type 'list'\n",
      "python_lists_difference_direct: []\n",
      "python_lists_difference_iterative: [11, 44, 99, 176, 275]\n",
      "numpy_lists_difference_direct: [ 11  44  99 176 275]\n"
     ]
    }
   ],
   "source": [
    "python_lists_multiplication_direct = []\n",
    "try:\n",
    "    python_lists_multiplication_direct = constant_python_list2 * constant_python_list1\n",
    "except Exception as e:\n",
    "    print(f\"Can't to multiplication between python lists directly, got error {e}\")\n",
    "\n",
    "python_lists_multiplication_iterative = []\n",
    "for i in range(len(constant_python_list1)):\n",
    "    python_lists_multiplication_iterative.append(\n",
    "        constant_python_list2[i] * constant_python_list1[i]\n",
    "    )\n",
    "\n",
    "numpy_array_multiplication_direct = constant_numpy_arr2 * constant_numpy_arr1\n",
    "\n",
    "\n",
    "print(f\"python_lists_difference_direct: {python_lists_difference_direct}\")\n",
    "print(f\"python_lists_difference_iterative: {python_lists_multiplication_iterative}\")\n",
    "print(f\"numpy_lists_difference_direct: {numpy_array_multiplication_direct}\")"
   ]
  },
  {
   "cell_type": "markdown",
   "id": "5519dad5",
   "metadata": {},
   "source": [
    "**Use cases:**\n",
    "\n",
    "**House hold income expenditure based on kids:** Data of different house holds expenditure, based on no.of kids they wanted, the expenditure raised that many times (Considering no.of kids equivalant to no.of times)."
   ]
  },
  {
   "cell_type": "code",
   "execution_count": 15,
   "id": "1a5298be",
   "metadata": {},
   "outputs": [
    {
     "name": "stdout",
     "output_type": "stream",
     "text": [
      "Updated expenditure:  [40 45 25 20 15]\n"
     ]
    }
   ],
   "source": [
    "# House hold income expenditure based on kids (expenditure numbers in thousands)\n",
    "# If only one kid current expenditure only\n",
    "house_hold_current_expenditure = np.array([20, 15, 25, 10, 5])\n",
    "no_of_kids = np.array([2, 3, 1, 2, 3])\n",
    "\n",
    "updated_expenditure = house_hold_current_expenditure * no_of_kids\n",
    "print(f\"Updated expenditure: \", updated_expenditure)"
   ]
  },
  {
   "cell_type": "markdown",
   "id": "532d9fe5",
   "metadata": {},
   "source": [
    "### Division"
   ]
  },
  {
   "cell_type": "code",
   "execution_count": 16,
   "id": "60703994",
   "metadata": {},
   "outputs": [
    {
     "name": "stdout",
     "output_type": "stream",
     "text": [
      "Can't to multiplication between python lists directly, got error unsupported operand type(s) for /: 'list' and 'list'\n",
      "python_lists_difference_direct: []\n",
      "python_lists_difference_iterative: [11.0, 11.0, 11.0, 11.0, 11.0]\n",
      "numpy_lists_difference_direct: [11. 11. 11. 11. 11.]\n"
     ]
    }
   ],
   "source": [
    "python_lists_division_direct = []\n",
    "try:\n",
    "    python_lists_division_direct = constant_python_list2 / constant_python_list1\n",
    "except Exception as e:\n",
    "    print(f\"Can't to multiplication between python lists directly, got error {e}\")\n",
    "\n",
    "python_lists_division_iterative = []\n",
    "for i in range(len(constant_python_list1)):\n",
    "    python_lists_division_iterative.append(\n",
    "        constant_python_list2[i] / constant_python_list1[i]\n",
    "    )\n",
    "\n",
    "numpy_array_division_direct = constant_numpy_arr2 / constant_numpy_arr1\n",
    "\n",
    "\n",
    "print(f\"python_lists_difference_direct: {python_lists_division_direct}\")\n",
    "print(f\"python_lists_difference_iterative: {python_lists_division_iterative}\")\n",
    "print(f\"numpy_lists_difference_direct: {numpy_array_division_direct}\")"
   ]
  },
  {
   "cell_type": "markdown",
   "id": "916f508a",
   "metadata": {},
   "source": [
    "**Use case:**\n",
    "\n",
    "**Per child property:** People will have some property worth some money, based on no.of kids that they have, they need to divide that property. With that division, will have how much each children will get."
   ]
  },
  {
   "cell_type": "code",
   "execution_count": 17,
   "id": "9716578d",
   "metadata": {},
   "outputs": [
    {
     "name": "stdout",
     "output_type": "stream",
     "text": [
      "Per child property: [5.         4.         2.66666667 2.5        2.         3.        ]\n"
     ]
    }
   ],
   "source": [
    "# Per child property (propertiles in millions)\n",
    "total_properties = np.array([10, 4, 8, 5, 2, 9])\n",
    "children = np.array([2, 1, 3, 2, 1, 3])\n",
    "\n",
    "per_child_property = total_properties / children\n",
    "print(f\"Per child property: {per_child_property}\")"
   ]
  },
  {
   "cell_type": "code",
   "execution_count": null,
   "id": "38cb6a8b",
   "metadata": {},
   "outputs": [],
   "source": []
  },
  {
   "cell_type": "markdown",
   "id": "94a045ac",
   "metadata": {},
   "source": [
    "## Basics of Numpy"
   ]
  },
  {
   "cell_type": "code",
   "execution_count": 13,
   "id": "3fdc560c",
   "metadata": {},
   "outputs": [],
   "source": [
    "import numpy as np"
   ]
  },
  {
   "cell_type": "markdown",
   "id": "6d5d04b7",
   "metadata": {},
   "source": [
    "### Vector (1-D Array)"
   ]
  },
  {
   "cell_type": "code",
   "execution_count": 14,
   "id": "0c4e1955",
   "metadata": {},
   "outputs": [
    {
     "name": "stdout",
     "output_type": "stream",
     "text": [
      "[2, 4, 6, 8]\n",
      "<class 'list'>\n",
      "[2 4 6 8]\n",
      "<class 'numpy.ndarray'>\n"
     ]
    }
   ],
   "source": [
    "even = [2, 4, 6, 8]\n",
    "print(even)\n",
    "print(type(even))\n",
    "\n",
    "numpy_even = np.array(even)\n",
    "\n",
    "print(numpy_even)\n",
    "print(type(numpy_even))"
   ]
  },
  {
   "cell_type": "markdown",
   "id": "a8332031",
   "metadata": {},
   "source": [
    "### Matrix (2-D Array)"
   ]
  },
  {
   "cell_type": "code",
   "execution_count": 15,
   "id": "69bfa747",
   "metadata": {},
   "outputs": [
    {
     "name": "stdout",
     "output_type": "stream",
     "text": [
      "[[1, 3, 5], [2, 4, 6]]\n",
      "<class 'list'>\n",
      "[[1 3 5]\n",
      " [2 4 6]]\n",
      "<class 'numpy.ndarray'>\n"
     ]
    }
   ],
   "source": [
    "even_odd = [[1, 3, 5], [2, 4, 6]]\n",
    "print(even_odd)\n",
    "print(type(even_odd))\n",
    "\n",
    "numpy_even_odd = np.array(even_odd)\n",
    "\n",
    "print(numpy_even_odd)\n",
    "print(type(numpy_even_odd))"
   ]
  },
  {
   "cell_type": "markdown",
   "id": "44fa1a71",
   "metadata": {},
   "source": [
    "### 3-D Array"
   ]
  },
  {
   "cell_type": "code",
   "execution_count": 16,
   "id": "edaccdb4",
   "metadata": {},
   "outputs": [
    {
     "name": "stdout",
     "output_type": "stream",
     "text": [
      "[[0, 0, 0], [1, 3, 5], [2, 4, 6]]\n",
      "<class 'list'>\n",
      "[[0 0 0]\n",
      " [1 3 5]\n",
      " [2 4 6]]\n",
      "<class 'numpy.ndarray'>\n"
     ]
    }
   ],
   "source": [
    "zero_even_odd = [[0, 0, 0], [1, 3, 5], [2, 4, 6]]\n",
    "print(zero_even_odd)\n",
    "print(type(zero_even_odd))\n",
    "\n",
    "numpy_zero_even_odd = np.array(zero_even_odd)\n",
    "print(numpy_zero_even_odd)\n",
    "print(type(numpy_zero_even_odd))"
   ]
  },
  {
   "cell_type": "code",
   "execution_count": null,
   "id": "c422c3ac",
   "metadata": {},
   "outputs": [],
   "source": []
  },
  {
   "cell_type": "code",
   "execution_count": null,
   "id": "50f6ed05",
   "metadata": {},
   "outputs": [],
   "source": []
  },
  {
   "cell_type": "code",
   "execution_count": null,
   "id": "a830a13b",
   "metadata": {},
   "outputs": [],
   "source": []
  }
 ],
 "metadata": {
  "kernelspec": {
   "display_name": "Python 3 (ipykernel)",
   "language": "python",
   "name": "python3"
  },
  "language_info": {
   "codemirror_mode": {
    "name": "ipython",
    "version": 3
   },
   "file_extension": ".py",
   "mimetype": "text/x-python",
   "name": "python",
   "nbconvert_exporter": "python",
   "pygments_lexer": "ipython3",
   "version": "3.10.2"
  }
 },
 "nbformat": 4,
 "nbformat_minor": 5
}
