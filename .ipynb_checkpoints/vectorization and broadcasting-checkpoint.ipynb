{
 "cells": [
  {
   "cell_type": "markdown",
   "id": "918851a6",
   "metadata": {},
   "source": [
    "# Vectorization & Broadcasting"
   ]
  },
  {
   "cell_type": "markdown",
   "id": "fdb98257",
   "metadata": {},
   "source": [
    "## 1. Vectorization"
   ]
  },
  {
   "cell_type": "code",
   "execution_count": 3,
   "id": "8c8af781",
   "metadata": {},
   "outputs": [],
   "source": [
    "import numpy as np"
   ]
  },
  {
   "cell_type": "markdown",
   "id": "98881d9c",
   "metadata": {},
   "source": [
    "### What is Vectorization?\n",
    "\n",
    "**Vectorization** refers to the process of replacing explicit Python loops with **array expressions** to perform operations efficiently.\n",
    "\n",
    "Instead of processing elements one by one (which is slow in Python), NumPy operations apply directly to entire arrays at once using optimized C code under the hood.\n",
    "\n",
    "### Why Vectorization is Important?\n",
    "\n",
    "* Much **faster** than loops.\n",
    "* Code is **cleaner** and easier to read.\n",
    "* Takes advantage of **NumPy's optimized** performance.\n",
    "\n",
    "---"
   ]
  },
  {
   "cell_type": "code",
   "execution_count": 4,
   "id": "0ab02d1d",
   "metadata": {},
   "outputs": [],
   "source": [
    "# Without Vectorization (Using Loop)\n",
    "arr = np.array([1, 2, 3, 4, 5])\n",
    "result = []\n",
    "\n",
    "for i in arr:\n",
    "    result.append(i * 2)"
   ]
  },
  {
   "cell_type": "code",
   "execution_count": 5,
   "id": "249e196f",
   "metadata": {},
   "outputs": [
    {
     "name": "stdout",
     "output_type": "stream",
     "text": [
      "[ 2  4  6  8 10]\n"
     ]
    }
   ],
   "source": [
    "# With Vectorization\n",
    "arr = np.array([1, 2, 3, 4, 5])\n",
    "result = arr * 2\n",
    "\n",
    "print(result)"
   ]
  },
  {
   "cell_type": "markdown",
   "id": "802cbd39",
   "metadata": {},
   "source": [
    "✔️ **No loop needed. Faster and simpler.**"
   ]
  },
  {
   "cell_type": "code",
   "execution_count": 7,
   "id": "19c0e50b",
   "metadata": {},
   "outputs": [
    {
     "name": "stdout",
     "output_type": "stream",
     "text": [
      "[5 7 9]\n",
      "[ 4 10 18]\n",
      "[1.         1.41421356 1.73205081]\n",
      "[0.         0.69314718 1.09861229]\n"
     ]
    }
   ],
   "source": [
    "# Other Vectorized Operations\n",
    "a = np.array([1, 2, 3])\n",
    "b = np.array([4, 5, 6])\n",
    "\n",
    "print(a + b)  \n",
    "print(a * b)  \n",
    "print(np.sqrt(a))\n",
    "print(np.log(a))"
   ]
  },
  {
   "cell_type": "markdown",
   "id": "f8afbec6",
   "metadata": {},
   "source": [
    "✔️ All these operations are **applied element-wise without loops.**"
   ]
  },
  {
   "cell_type": "markdown",
   "id": "434b0730",
   "metadata": {},
   "source": [
    "## 2. Broadcasting"
   ]
  },
  {
   "cell_type": "markdown",
   "id": "910ff692",
   "metadata": {},
   "source": [
    "### What is Broadcasting?\n",
    "\n",
    "**Broadcasting** is a set of rules that NumPy follows to **perform arithmetic operations on arrays of different shapes.**\n",
    "\n",
    "When shapes don't match, NumPy automatically **expands (broadcasts)** smaller arrays to match the shape of the larger array.\n",
    "\n",
    "---\n",
    "\n",
    "### Broadcasting Rules:\n",
    "\n",
    "When operating on two arrays, NumPy compares their **shapes** starting from the trailing dimensions.\n",
    "\n",
    "* If the dimensions **are equal or one of them is 1,** they are compatible.\n",
    "* If the dimensions **are not equal and neither is 1,** NumPy raises an error.\n",
    "\n",
    "---"
   ]
  },
  {
   "cell_type": "code",
   "execution_count": 13,
   "id": "ebc94acc",
   "metadata": {},
   "outputs": [
    {
     "name": "stdout",
     "output_type": "stream",
     "text": [
      "[11 12 13]\n"
     ]
    }
   ],
   "source": [
    "# Adding a Scalar to an Array\n",
    "a = np.array([1, 2, 3])\n",
    "b = 10\n",
    "\n",
    "result = a + b\n",
    "print(result)"
   ]
  },
  {
   "cell_type": "markdown",
   "id": "adc51450",
   "metadata": {},
   "source": [
    "✔️ Here, `b` (scalar) is **broadcasted** to `[10, 10, 10]`."
   ]
  },
  {
   "cell_type": "code",
   "execution_count": 14,
   "id": "daf07f90",
   "metadata": {},
   "outputs": [
    {
     "name": "stdout",
     "output_type": "stream",
     "text": [
      "[[11 22 33]\n",
      " [14 25 36]]\n"
     ]
    }
   ],
   "source": [
    "# Adding Arrays of Different Shapes\n",
    "a = np.array([[1, 2, 3],\n",
    "              [4, 5, 6]])  # Shape: (2, 3)\n",
    "\n",
    "b = np.array([10, 20, 30])  # Shape: (3,)\n",
    "\n",
    "result = a + b\n",
    "print(result)"
   ]
  },
  {
   "cell_type": "markdown",
   "id": "0f6d8175",
   "metadata": {},
   "source": [
    "✔️ `b` is **broadcasted** to:\n",
    "\n",
    "```\n",
    "[[10 20 30]\n",
    " [10 20 30]]\n",
    "```"
   ]
  },
  {
   "cell_type": "code",
   "execution_count": 16,
   "id": "1b369519",
   "metadata": {},
   "outputs": [
    {
     "name": "stdout",
     "output_type": "stream",
     "text": [
      "[[11 21 31]\n",
      " [12 22 32]\n",
      " [13 23 33]]\n"
     ]
    }
   ],
   "source": [
    "# Adding Column Vector to Row Vector\n",
    "a = np.array([[1], [2], [3]])  # Shape: (3, 1)\n",
    "b = np.array([10, 20, 30])     # Shape: (3,)\n",
    "\n",
    "result = a + b\n",
    "print(result)"
   ]
  },
  {
   "cell_type": "markdown",
   "id": "dc9474c2",
   "metadata": {},
   "source": [
    "✔️ This is **2D Broadcasting**:\n",
    "\n",
    "* `a` is broadcasted to shape `(3, 3)`\n",
    "* `b` is broadcasted to shape `(3, 3)`"
   ]
  },
  {
   "cell_type": "markdown",
   "id": "891864b2",
   "metadata": {},
   "source": [
    "### Broadcasting Compatibility Example:\n",
    "\n",
    "| Array A Shape | Array B Shape | Result |\n",
    "| ------------- | ------------- | ------ |\n",
    "| (5, 4)        | (4,)          | OK     |\n",
    "| (3, 1)        | (1, 4)        | OK     |\n",
    "| (5, 4)        | (3, 4)        | Error  |"
   ]
  },
  {
   "cell_type": "code",
   "execution_count": 22,
   "id": "3d983186",
   "metadata": {},
   "outputs": [
    {
     "name": "stdout",
     "output_type": "stream",
     "text": [
      "[[2 2 2 2]\n",
      " [2 2 2 2]\n",
      " [2 2 2 2]\n",
      " [2 2 2 2]\n",
      " [2 2 2 2]]\n",
      "[3 3 3 3]\n",
      "(5, 4)\n",
      "(4,)\n"
     ]
    }
   ],
   "source": [
    "# (5, 4) and (4,)\n",
    "arr1 = np.full(20, 2).reshape(5, 4)\n",
    "arr2 = np.full(4, 3).reshape(4,)\n",
    "\n",
    "print(arr1)\n",
    "print(arr2)\n",
    "print(arr1.shape)\n",
    "print(arr2.shape)"
   ]
  },
  {
   "cell_type": "code",
   "execution_count": 24,
   "id": "3ac02ecf",
   "metadata": {},
   "outputs": [
    {
     "name": "stdout",
     "output_type": "stream",
     "text": [
      "[[5 5 5 5]\n",
      " [5 5 5 5]\n",
      " [5 5 5 5]\n",
      " [5 5 5 5]\n",
      " [5 5 5 5]]\n",
      "(5, 4)\n"
     ]
    }
   ],
   "source": [
    "sum_ = arr1 + arr2\n",
    "print(sum_)\n",
    "print(sum_.shape)"
   ]
  },
  {
   "cell_type": "code",
   "execution_count": 25,
   "id": "0c448d4a",
   "metadata": {},
   "outputs": [
    {
     "name": "stdout",
     "output_type": "stream",
     "text": [
      "[[2]\n",
      " [2]\n",
      " [2]]\n",
      "[[3 3 3 3]]\n",
      "(3, 1)\n",
      "(1, 4)\n"
     ]
    }
   ],
   "source": [
    "# (3, 1) and (1, 4)\n",
    "arr1 = np.full(3, 2).reshape(3, 1)\n",
    "arr2 = np.full(4, 3).reshape(1, 4)\n",
    "\n",
    "print(arr1)\n",
    "print(arr2)\n",
    "print(arr1.shape)\n",
    "print(arr2.shape)"
   ]
  },
  {
   "cell_type": "code",
   "execution_count": 26,
   "id": "14c1c598",
   "metadata": {},
   "outputs": [
    {
     "name": "stdout",
     "output_type": "stream",
     "text": [
      "[[5 5 5 5]\n",
      " [5 5 5 5]\n",
      " [5 5 5 5]]\n",
      "(3, 4)\n"
     ]
    }
   ],
   "source": [
    "sum_ = arr1 + arr2\n",
    "print(sum_)\n",
    "print(sum_.shape)"
   ]
  },
  {
   "cell_type": "code",
   "execution_count": 27,
   "id": "19f750ff",
   "metadata": {},
   "outputs": [
    {
     "name": "stdout",
     "output_type": "stream",
     "text": [
      "[[2 2 2 2]\n",
      " [2 2 2 2]\n",
      " [2 2 2 2]\n",
      " [2 2 2 2]\n",
      " [2 2 2 2]]\n",
      "[[3 3 3 3]\n",
      " [3 3 3 3]\n",
      " [3 3 3 3]]\n",
      "(5, 4)\n",
      "(3, 4)\n"
     ]
    }
   ],
   "source": [
    "# (5, 4) and (3, 4)\n",
    "arr1 = np.full(20, 2).reshape(5, 4)\n",
    "arr2 = np.full(12, 3).reshape(3, 4)\n",
    "\n",
    "print(arr1)\n",
    "print(arr2)\n",
    "print(arr1.shape)\n",
    "print(arr2.shape)"
   ]
  },
  {
   "cell_type": "code",
   "execution_count": 29,
   "id": "56f87613",
   "metadata": {},
   "outputs": [
    {
     "name": "stdout",
     "output_type": "stream",
     "text": [
      "operands could not be broadcast together with shapes (5,4) (3,4) \n"
     ]
    }
   ],
   "source": [
    "try:\n",
    "    sum_ = arr1 + arr2\n",
    "except Exception as e:\n",
    "    print(e)"
   ]
  },
  {
   "cell_type": "markdown",
   "id": "6d941a35",
   "metadata": {},
   "source": [
    "## Summary\n",
    "\n",
    "| Concept       | Explanation                                       | Example                     |\n",
    "| ------------- | ------------------------------------------------- | --------------------------- |\n",
    "| Vectorization | Fast, element-wise array operations without loops | `a * 2`                     |\n",
    "| Broadcasting  | Automatic shape expansion for array operations    | `a + b` where shapes differ |\n",
    "\n",
    "---\n",
    "\n",
    "## Key Benefits:\n",
    "\n",
    "* 🚀 **Vectorization**: Improves speed, clean code.\n",
    "* 🚀 **Broadcasting**: Increases flexibility for array operations.\n",
    "\n",
    "---"
   ]
  },
  {
   "cell_type": "markdown",
   "id": "f4e92645",
   "metadata": {},
   "source": [
    "# Practice"
   ]
  },
  {
   "cell_type": "markdown",
   "id": "8edc7d05",
   "metadata": {},
   "source": [
    "## Vectorization"
   ]
  },
  {
   "cell_type": "code",
   "execution_count": 32,
   "id": "e18efe8e",
   "metadata": {},
   "outputs": [
    {
     "name": "stdout",
     "output_type": "stream",
     "text": [
      "[10 20 30 40 50]\n"
     ]
    }
   ],
   "source": [
    "# Double the Elements\n",
    "arr = np.array([5, 10, 15, 20, 25])\n",
    "print(arr * 2)"
   ]
  },
  {
   "cell_type": "code",
   "execution_count": 33,
   "id": "ed1e9e5f",
   "metadata": {},
   "outputs": [
    {
     "name": "stdout",
     "output_type": "stream",
     "text": [
      "[ 1  9 25 49 81]\n"
     ]
    }
   ],
   "source": [
    "# Square of Array Elements\n",
    "arr = np.array([1, 3, 5, 7, 9])\n",
    "print(np.square(arr))"
   ]
  },
  {
   "cell_type": "code",
   "execution_count": 34,
   "id": "99c5e796",
   "metadata": {},
   "outputs": [
    {
     "name": "stdout",
     "output_type": "stream",
     "text": [
      "[ 3  7 11]\n",
      "[1 1 1]\n",
      "[ 2 12 30]\n"
     ]
    }
   ],
   "source": [
    "# Calculate the element-wise sum, difference, and product\n",
    "a = np.array([2, 4, 6])\n",
    "b = np.array([1, 3, 5])\n",
    "\n",
    "sum_ = a + b\n",
    "diff = a - b\n",
    "prod = a * b\n",
    "\n",
    "print(sum_)\n",
    "print(diff)\n",
    "print(prod)"
   ]
  },
  {
   "cell_type": "code",
   "execution_count": 35,
   "id": "080afb43",
   "metadata": {},
   "outputs": [
    {
     "name": "stdout",
     "output_type": "stream",
     "text": [
      "Square root: [1.         1.41421356 1.73205081 2.         2.23606798]\n",
      "Log: [0.         0.69314718 1.09861229 1.38629436 1.60943791]\n"
     ]
    }
   ],
   "source": [
    "# Find the square root and natural logarithm\n",
    "arr = np.array([1, 2, 3, 4, 5])\n",
    "\n",
    "square_root = np.sqrt(arr)\n",
    "log_ = np.log(arr)\n",
    "\n",
    "print(f\"Square root: {square_root}\")\n",
    "print(f\"Log: {log_}\")"
   ]
  },
  {
   "cell_type": "code",
   "execution_count": 56,
   "id": "b3dc1c57",
   "metadata": {},
   "outputs": [
    {
     "name": "stdout",
     "output_type": "stream",
     "text": [
      "[10 15 20  0  0]\n"
     ]
    }
   ],
   "source": [
    "# Without using loops, set all elements greater than 20 to 0.\n",
    "arr = np.array([10, 15, 20, 25, 30])\n",
    "arr[arr > 20] = 0\n",
    "print(arr)"
   ]
  },
  {
   "cell_type": "markdown",
   "id": "8bd01e24",
   "metadata": {},
   "source": [
    "## Broadcasting"
   ]
  },
  {
   "cell_type": "code",
   "execution_count": 41,
   "id": "452f33dd",
   "metadata": {},
   "outputs": [
    {
     "name": "stdout",
     "output_type": "stream",
     "text": [
      "[[11 12 13]\n",
      " [14 15 16]]\n"
     ]
    }
   ],
   "source": [
    "# Add 10 to every element using broadcasting.\n",
    "arr = np.array([[1, 2, 3], [4, 5, 6]])\n",
    "\n",
    "print(arr + 10)"
   ]
  },
  {
   "cell_type": "code",
   "execution_count": 42,
   "id": "48178e1f",
   "metadata": {},
   "outputs": [
    {
     "name": "stdout",
     "output_type": "stream",
     "text": [
      "[[11 22 33]\n",
      " [14 25 36]]\n"
     ]
    }
   ],
   "source": [
    "# Add b to each row of a using broadcasting.\n",
    "a = np.array([[1, 2, 3], [4, 5, 6]])\n",
    "b = np.array([10, 20, 30])\n",
    "\n",
    "print(a + b)"
   ]
  },
  {
   "cell_type": "code",
   "execution_count": 43,
   "id": "35248dec",
   "metadata": {},
   "outputs": [
    {
     "name": "stdout",
     "output_type": "stream",
     "text": [
      "[[101 102 103]\n",
      " [204 205 206]\n",
      " [307 308 309]]\n"
     ]
    }
   ],
   "source": [
    "# Add b to each row of a using broadcasting.\n",
    "a = np.array([[1, 2, 3], [4, 5, 6], [7, 8, 9]])\n",
    "b = np.array([[100], [200], [300]])\n",
    "print(a + b)"
   ]
  },
  {
   "cell_type": "code",
   "execution_count": 52,
   "id": "c1c6039d",
   "metadata": {},
   "outputs": [
    {
     "name": "stdout",
     "output_type": "stream",
     "text": [
      "[[[1. 1. 1.]\n",
      "  [1. 1. 1.]\n",
      "  [1. 1. 1.]]\n",
      "\n",
      " [[1. 1. 1.]\n",
      "  [1. 1. 1.]\n",
      "  [1. 1. 1.]]\n",
      "\n",
      " [[1. 1. 1.]\n",
      "  [1. 1. 1.]\n",
      "  [1. 1. 1.]]]\n",
      "[1 2 3]\n"
     ]
    }
   ],
   "source": [
    "# Add b to the last dimension of a using broadcasting.\n",
    "a = np.ones((3, 3, 3))\n",
    "b = np.array([1, 2, 3])\n",
    "print(a)\n",
    "print(b)"
   ]
  },
  {
   "cell_type": "code",
   "execution_count": 53,
   "id": "24a43630",
   "metadata": {},
   "outputs": [
    {
     "name": "stdout",
     "output_type": "stream",
     "text": [
      "[[[1. 1. 1.]\n",
      "  [1. 1. 1.]\n",
      "  [1. 1. 1.]]\n",
      "\n",
      " [[1. 1. 1.]\n",
      "  [1. 1. 1.]\n",
      "  [1. 1. 1.]]\n",
      "\n",
      " [[2. 3. 4.]\n",
      "  [2. 3. 4.]\n",
      "  [2. 3. 4.]]]\n"
     ]
    }
   ],
   "source": [
    "a[-1] = a[-1] + b\n",
    "print(a)"
   ]
  },
  {
   "cell_type": "code",
   "execution_count": 54,
   "id": "87422437",
   "metadata": {},
   "outputs": [
    {
     "name": "stdout",
     "output_type": "stream",
     "text": [
      "[[11 21 31]\n",
      " [12 22 32]\n",
      " [13 23 33]]\n",
      "(3, 3)\n"
     ]
    }
   ],
   "source": [
    "# Add a and b using broadcasting and explain the shape of the result.\n",
    "a = np.array([[1], [2], [3]])\n",
    "b = np.array([10, 20, 30])\n",
    "\n",
    "sum_ = a + b # (3, 3)\n",
    "print(sum_)\n",
    "print(sum_.shape)"
   ]
  },
  {
   "cell_type": "markdown",
   "id": "ad9a87a8",
   "metadata": {},
   "source": [
    "<center><b>Thanks</b></center>"
   ]
  }
 ],
 "metadata": {
  "kernelspec": {
   "display_name": "Python 3 (ipykernel)",
   "language": "python",
   "name": "python3"
  },
  "language_info": {
   "codemirror_mode": {
    "name": "ipython",
    "version": 3
   },
   "file_extension": ".py",
   "mimetype": "text/x-python",
   "name": "python",
   "nbconvert_exporter": "python",
   "pygments_lexer": "ipython3",
   "version": "3.10.2"
  }
 },
 "nbformat": 4,
 "nbformat_minor": 5
}
