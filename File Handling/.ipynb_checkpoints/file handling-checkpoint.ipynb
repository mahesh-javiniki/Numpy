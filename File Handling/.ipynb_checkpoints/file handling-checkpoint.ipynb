{
 "cells": [
  {
   "cell_type": "markdown",
   "id": "3e4fc597",
   "metadata": {},
   "source": [
    "# Numpy File handling"
   ]
  },
  {
   "cell_type": "code",
   "execution_count": 1,
   "id": "e0d87fb8",
   "metadata": {},
   "outputs": [],
   "source": [
    "import numpy as np\n",
    "import sys"
   ]
  },
  {
   "cell_type": "markdown",
   "id": "7e0eb46a",
   "metadata": {},
   "source": [
    "NumPy mainly supports **two types of file operations:**\n",
    "\n",
    "1. **Binary files** (faster, preferred for intermediate storage)\n",
    "2. **Text files** (like `.csv` or `.txt`, easier to read/edit)\n"
   ]
  },
  {
   "cell_type": "markdown",
   "id": "73e50935",
   "metadata": {},
   "source": [
    "## 1. Binary File Handling (Efficient Storage)"
   ]
  },
  {
   "cell_type": "markdown",
   "id": "f39328bd",
   "metadata": {},
   "source": [
    "### save()"
   ]
  },
  {
   "cell_type": "markdown",
   "id": "e69fdbb0",
   "metadata": {},
   "source": [
    "* Saves **one NumPy array** to a binary `.npy` file.\n",
    "* **Syntax:**\n",
    "\n",
    "```python\n",
    "np.save('filename.npy', array)\n",
    "```"
   ]
  },
  {
   "cell_type": "code",
   "execution_count": 2,
   "id": "0ef35e6f",
   "metadata": {},
   "outputs": [],
   "source": [
    "arr = np.array([1, 2, 3, 4, 5])\n",
    "\n",
    "np.save('array.npy', arr)"
   ]
  },
  {
   "cell_type": "markdown",
   "id": "e6c295dd",
   "metadata": {},
   "source": [
    "### load()"
   ]
  },
  {
   "cell_type": "markdown",
   "id": "4ca92aaf",
   "metadata": {},
   "source": [
    "* Loads arrays from `.npy` files.\n",
    "* **Syntax:**\n",
    "\n",
    "```python\n",
    "array = np.load('filename.npy')\n",
    "```"
   ]
  },
  {
   "cell_type": "code",
   "execution_count": 3,
   "id": "d53da18c",
   "metadata": {},
   "outputs": [
    {
     "name": "stdout",
     "output_type": "stream",
     "text": [
      "[1 2 3 4 5]\n"
     ]
    }
   ],
   "source": [
    "# Loads arrays from .npy files.\n",
    "a = np.load(\"array.npy\")\n",
    "print(a)"
   ]
  },
  {
   "cell_type": "markdown",
   "id": "656dbfa8",
   "metadata": {},
   "source": [
    "## savez()"
   ]
  },
  {
   "cell_type": "markdown",
   "id": "0e273984",
   "metadata": {},
   "source": [
    "* Saves **multiple arrays** in one compressed `.npz` file.\n",
    "* **Syntax:**\n",
    "\n",
    "```python\n",
    "np.savez('filename.npz', arr1=array1, arr2=array2, ...)\n",
    "```"
   ]
  },
  {
   "cell_type": "code",
   "execution_count": 4,
   "id": "0967b5b5",
   "metadata": {},
   "outputs": [],
   "source": [
    "a = np.array([1, 2, 3])\n",
    "b = np.array([4, 5, 6])\n",
    "np.savez('my_arrays.npz', first=a, second=b)"
   ]
  },
  {
   "cell_type": "code",
   "execution_count": 5,
   "id": "2c234c45",
   "metadata": {
    "scrolled": true
   },
   "outputs": [
    {
     "name": "stdout",
     "output_type": "stream",
     "text": [
      "NpzFile 'my_arrays.npz' with keys: first, second\n",
      "[1 2 3]\n",
      "[4 5 6]\n"
     ]
    }
   ],
   "source": [
    "data = np.load('my_arrays.npz')\n",
    "print(data)\n",
    "print(data['first'])\n",
    "print(data['second'])"
   ]
  },
  {
   "cell_type": "markdown",
   "id": "75105d30",
   "metadata": {},
   "source": [
    "## savez_compressed()"
   ]
  },
  {
   "cell_type": "markdown",
   "id": "54f7c7ef",
   "metadata": {},
   "source": [
    "* Same as `savez` but compresses the file to save space.\n",
    "\n",
    "```python\n",
    "np.savez_compressed('compressed_arrays.npz', arr1=a, arr2=b)\n",
    "```\n"
   ]
  },
  {
   "cell_type": "code",
   "execution_count": 6,
   "id": "ba61377c",
   "metadata": {},
   "outputs": [],
   "source": [
    "a = np.array([1, 2, 3])\n",
    "b = np.array([4, 5, 6])\n",
    "np.savez_compressed('my_arrays_compressed.npz', first=a, second=b)"
   ]
  },
  {
   "cell_type": "code",
   "execution_count": 7,
   "id": "b0fc9146",
   "metadata": {},
   "outputs": [
    {
     "name": "stdout",
     "output_type": "stream",
     "text": [
      "NpzFile 'my_arrays_compressed.npz' with keys: first, second\n",
      "[1 2 3]\n",
      "[4 5 6]\n"
     ]
    }
   ],
   "source": [
    "data = np.load('my_arrays_compressed.npz')\n",
    "print(data)\n",
    "print(data['first'])\n",
    "print(data['second'])"
   ]
  },
  {
   "cell_type": "code",
   "execution_count": null,
   "id": "e9bf1b80",
   "metadata": {},
   "outputs": [],
   "source": []
  },
  {
   "cell_type": "markdown",
   "id": "44dc87ab",
   "metadata": {},
   "source": [
    "## 2. Text File Handling (Human Readable)"
   ]
  },
  {
   "cell_type": "markdown",
   "id": "f6739c83",
   "metadata": {},
   "source": [
    "## savetxt()"
   ]
  },
  {
   "cell_type": "markdown",
   "id": "d61449d6",
   "metadata": {},
   "source": [
    "\n",
    "* Saves an array to a **text file** (CSV, TXT, etc.).\n",
    "* You can specify the **delimiter** (like comma, space, etc.).\n",
    "* **Syntax:**\n",
    "\n",
    "```python\n",
    "np.savetxt('filename.txt', array, delimiter=',', fmt='%d')\n",
    "```\n"
   ]
  },
  {
   "cell_type": "code",
   "execution_count": 8,
   "id": "af41f618",
   "metadata": {},
   "outputs": [],
   "source": [
    "a = np.array([[1, 2, 3], [4, 5, 6]])\n",
    "np.savetxt('array.txt', a)\n",
    "# saved file as follows\n",
    "# 1.000000000000000000e+00 2.000000000000000000e+00 3.000000000000000000e+00\n",
    "# 4.000000000000000000e+00 5.000000000000000000e+00 6.000000000000000000e+00"
   ]
  },
  {
   "cell_type": "code",
   "execution_count": 9,
   "id": "01e8715e",
   "metadata": {},
   "outputs": [],
   "source": [
    "np.savetxt('array.txt', a, fmt='%d')\n",
    "# saved file as follows\n",
    "# 1 2 3\n",
    "# 4 5 6"
   ]
  },
  {
   "cell_type": "code",
   "execution_count": 10,
   "id": "c6d60116",
   "metadata": {},
   "outputs": [],
   "source": [
    "np.savetxt('array.txt', a, delimiter=',', fmt='%d')\n",
    "# saved file as follows\n",
    "# 1,2,3\n",
    "# 4,5,6"
   ]
  },
  {
   "cell_type": "code",
   "execution_count": 11,
   "id": "3b902b12",
   "metadata": {},
   "outputs": [],
   "source": [
    "np.savetxt('array.txt', a, delimiter=',', fmt='%.2f')\n",
    "# saved file as follows\n",
    "# 1.00,2.00,3.00\n",
    "# 4.00,5.00,6.00"
   ]
  },
  {
   "cell_type": "markdown",
   "id": "a67ad400",
   "metadata": {},
   "source": [
    "* `fmt='%d'` → Format as integer\n",
    "* You can use `%.2f` for floating-point numbers."
   ]
  },
  {
   "cell_type": "markdown",
   "id": "4e795156",
   "metadata": {},
   "source": [
    "## loadtxt()"
   ]
  },
  {
   "cell_type": "markdown",
   "id": "23753df1",
   "metadata": {},
   "source": [
    "* Loads data from a **text file**.\n",
    "* **Syntax:**\n",
    "\n",
    "```python\n",
    "array = np.loadtxt('filename.txt', delimiter=',')\n",
    "```"
   ]
  },
  {
   "cell_type": "code",
   "execution_count": 16,
   "id": "2b054db7",
   "metadata": {
    "scrolled": true
   },
   "outputs": [
    {
     "name": "stdout",
     "output_type": "stream",
     "text": [
      "[[1. 2. 3.]\n",
      " [4. 5. 6.]]\n"
     ]
    }
   ],
   "source": [
    "data = np.loadtxt('array.txt', delimiter=',')\n",
    "print(data)"
   ]
  },
  {
   "cell_type": "markdown",
   "id": "bcf66e0d",
   "metadata": {},
   "source": [
    "## genfromtxt()"
   ]
  },
  {
   "cell_type": "markdown",
   "id": "c0ec67e8",
   "metadata": {},
   "source": [
    "\n",
    "* More advanced than `loadtxt`.\n",
    "* Can handle **missing values**.\n",
    "* Allows **skipping headers**.\n"
   ]
  },
  {
   "cell_type": "code",
   "execution_count": 18,
   "id": "e35947a7",
   "metadata": {},
   "outputs": [
    {
     "name": "stdout",
     "output_type": "stream",
     "text": [
      "[4. 5. 6.]\n"
     ]
    }
   ],
   "source": [
    "data = np.genfromtxt('array.csv', delimiter=',', skip_header=1, filling_values=0)\n",
    "print(data)"
   ]
  },
  {
   "cell_type": "markdown",
   "id": "56ec4456",
   "metadata": {},
   "source": [
    "## 3.  Key Differences Between Binary and Text Files\n",
    "\n",
    "| Feature                     | Binary (`.npy`, `.npz`) | Text (`.txt`, `.csv`) |\n",
    "| --------------------------- | ----------------------- | --------------------- |\n",
    "| Human Readable              | ❌ No                    | ✅ Yes                 |\n",
    "| File Size                   | Smaller (efficient)     | Larger                |\n",
    "| Loading Speed               | Very fast               | Slower                |\n",
    "| Multiple Arrays in One File | ✅ Yes (`.npz`)          | ❌ No                  |\n",
    "| Use Case                    | Intermediate storage    | Data sharing          |\n"
   ]
  },
  {
   "cell_type": "markdown",
   "id": "50d9ebda",
   "metadata": {},
   "source": [
    "## 4. Common Parameters You Should Know\n",
    "\n",
    "| Parameter                  | Description                                 |\n",
    "| -------------------------- | ------------------------------------------- |\n",
    "| `delimiter`                | Separator for text files (default is space) |\n",
    "| `fmt`                      | Format specifier (int, float, etc.)         |\n",
    "| `skiprows` / `skip_header` | Skip initial rows in text files             |\n",
    "| `usecols`                  | Load specific columns                       |\n",
    "| `filling_values`           | Fill missing values                         |\n",
    "| `dtype`                    | Force data type during loading              |\n"
   ]
  },
  {
   "cell_type": "markdown",
   "id": "512f6b2c",
   "metadata": {},
   "source": [
    "### ✅ Working with `.csv` Files Using NumPy\n",
    "\n",
    "When using **NumPy** to handle `.csv` files, you primarily use:\n",
    "\n",
    "* `numpy.savetxt()` 👉 to **write** (save) `.csv` files\n",
    "* `numpy.loadtxt()` 👉 to **read** simple `.csv` files\n",
    "* `numpy.genfromtxt()` 👉 to **read** complex `.csv` files (with missing values, headers, etc.)\n",
    "\n",
    "Let’s go through **both writing and reading in detail with examples.**\n",
    "\n",
    "---\n",
    "\n",
    "## 📝 Writing to a CSV File Using NumPy\n",
    "\n",
    "You use `numpy.savetxt()` to write a NumPy array to a CSV file.\n",
    "\n",
    "### 📌 Syntax:\n",
    "\n",
    "```python\n",
    "numpy.savetxt(fname, X, delimiter=',', fmt='%s')\n",
    "```\n",
    "\n",
    "* `fname` → Filename (example: `'data.csv'`)\n",
    "* `X` → NumPy array to save\n",
    "* `delimiter` → Separator (`,` for CSV)\n",
    "* `fmt` → Format (example: `%d` for integers, `%.2f` for floats, `%s` for strings)\n",
    "\n",
    "---\n",
    "\n",
    "### ✅ Example 1: Writing an Integer Array to CSV\n",
    "\n",
    "```python\n",
    "import numpy as np\n",
    "\n",
    "# Create a NumPy array\n",
    "a = np.array([[1, 2, 3], [4, 5, 6]])\n",
    "\n",
    "# Save to CSV\n",
    "np.savetxt('array.csv', a, delimiter=',', fmt='%d')\n",
    "```\n",
    "\n",
    "✔️ This will create a file named `array.csv`:\n",
    "\n",
    "```\n",
    "1,2,3\n",
    "4,5,6\n",
    "```\n",
    "\n",
    "---\n",
    "\n",
    "### ✅ Example 2: Writing a Float Array to CSV\n",
    "\n",
    "```python\n",
    "b = np.array([[1.23, 4.56, 7.89], [0.12, 3.45, 6.78]])\n",
    "\n",
    "np.savetxt('float_array.csv', b, delimiter=',', fmt='%.2f')\n",
    "```\n",
    "\n",
    "✔️ This will create:\n",
    "\n",
    "```\n",
    "1.23,4.56,7.89\n",
    "0.12,3.45,6.78\n",
    "```\n",
    "\n",
    "---\n",
    "\n",
    "### ✅ Example 3: Writing String Data to CSV\n",
    "\n",
    "```python\n",
    "c = np.array([['Apple', 'Banana'], ['Cat', 'Dog']])\n",
    "\n",
    "np.savetxt('string_array.csv', c, delimiter=',', fmt='%s')\n",
    "```\n",
    "\n",
    "✔️ This will create:\n",
    "\n",
    "```\n",
    "Apple,Banana\n",
    "Cat,Dog\n",
    "```\n",
    "\n",
    "---\n",
    "\n",
    "## 📥 Reading from a CSV File Using NumPy\n",
    "\n",
    "### 📌 1. Using `numpy.loadtxt()` for Simple CSV Files\n",
    "\n",
    "This is best when:\n",
    "\n",
    "* All data is **numeric**\n",
    "* There are **no missing values**\n",
    "* File does not have headers\n",
    "\n",
    "#### Example:\n",
    "\n",
    "```python\n",
    "import numpy as np\n",
    "\n",
    "# Read from CSV\n",
    "data = np.loadtxt('array.csv', delimiter=',')\n",
    "\n",
    "print(data)\n",
    "```\n",
    "\n",
    "✔️ Output:\n",
    "\n",
    "```text\n",
    "[[1. 2. 3.]\n",
    " [4. 5. 6.]]\n",
    "```\n",
    "\n",
    "---\n",
    "\n",
    "### 📌 2. Using `numpy.genfromtxt()` for Complex CSV Files\n",
    "\n",
    "Use when:\n",
    "\n",
    "* CSV contains **headers**\n",
    "* There are **missing values**\n",
    "* You want to handle string data\n",
    "\n",
    "#### Example with Header and Missing Values:\n",
    "\n",
    "Suppose you have a CSV file `sample.csv`:\n",
    "\n",
    "```text\n",
    "Name,Age,Salary\n",
    "John,25,50000\n",
    "Doe,,45000\n",
    "Anna,30,\n",
    "```\n",
    "\n",
    "#### Reading the file:\n",
    "\n",
    "```python\n",
    "data = np.genfromtxt('sample.csv', delimiter=',', dtype=None, names=True, encoding='utf-8', filling_values='NA')\n",
    "\n",
    "print(data)\n",
    "```\n",
    "\n",
    "✔️ Explanation:\n",
    "\n",
    "* `names=True` → Reads the header as field names.\n",
    "* `filling_values='NA'` → Fills missing values with `'NA'`.\n",
    "\n",
    "✔️ Output:\n",
    "\n",
    "```text\n",
    "[('John', 25.0, 50000.0) ('Doe', nan, 45000.0) ('Anna', 30.0, nan)]\n",
    "```\n",
    "\n",
    "---\n",
    "\n",
    "## ✅ Summary: When to Use What\n",
    "\n",
    "| Scenario                             | Method               |\n",
    "| ------------------------------------ | -------------------- |\n",
    "| Write array to CSV                   | `numpy.savetxt()`    |\n",
    "| Read simple numeric CSV              | `numpy.loadtxt()`    |\n",
    "| Read CSV with headers/missing values | `numpy.genfromtxt()` |\n",
    "\n",
    "---\n",
    "\n",
    "## ✅ Quick Tips:\n",
    "\n",
    "* Always specify the correct **delimiter** (`,` for CSV, `\\t` for TSV).\n",
    "* Use `fmt='%s'` for string arrays when writing.\n",
    "* `numpy` does not handle CSV files with mixed types (strings + numbers) very well — for such cases, **pandas is more powerful**.\n",
    "\n",
    "---\n",
    "\n",
    "If you want, I can help you **practice step-by-step CSV examples with missing values, headers, and different data types.**\n",
    "👉 Do you want to try some hands-on exercises next? 😊\n"
   ]
  },
  {
   "cell_type": "markdown",
   "id": "1d0888b8",
   "metadata": {},
   "source": [
    "## Practice Writing to a CSV"
   ]
  },
  {
   "cell_type": "code",
   "execution_count": 12,
   "id": "b4be1cb7",
   "metadata": {},
   "outputs": [],
   "source": [
    "a = np.array([[1, 2, 3], [4, 5, 6]])\n",
    "np.savetxt('array.csv', a, delimiter=',', fmt='%s')\n",
    "\n",
    "# 1,2,3\n",
    "# 4,5,6"
   ]
  },
  {
   "cell_type": "code",
   "execution_count": 13,
   "id": "943476af",
   "metadata": {},
   "outputs": [],
   "source": [
    "students = np.array([(1, 'Mahesh'), (2, 'Manju')], \n",
    "                    dtype=[('id', 'int8'), ('Name', 'U10')])\n",
    "np.savetxt('students.csv', students, delimiter=',', fmt='%s', header='id,Name', comments='')"
   ]
  },
  {
   "cell_type": "markdown",
   "id": "7062543c",
   "metadata": {},
   "source": [
    "## Reading from a CSV "
   ]
  },
  {
   "cell_type": "code",
   "execution_count": 14,
   "id": "90920451",
   "metadata": {},
   "outputs": [],
   "source": [
    "# s = np.loadtxt('students.csv', delimiter=',')\n",
    "# print(s)"
   ]
  },
  {
   "cell_type": "markdown",
   "id": "b05ef733",
   "metadata": {},
   "source": [
    "- `numpy.loadtxt()` by default expects regular numeric arrays.\n",
    "\n",
    "- Your CSV actually contains mixed data types (integers and strings), but loadtxt assumes all data should be of the same type.\n",
    "\n",
    "- So loadtxt is struggling to parse the strings and is getting stuck."
   ]
  },
  {
   "cell_type": "code",
   "execution_count": 15,
   "id": "50fa8e36",
   "metadata": {
    "scrolled": true
   },
   "outputs": [
    {
     "name": "stdout",
     "output_type": "stream",
     "text": [
      "[['id' 'Name']\n",
      " ['1' 'Mahesh']\n",
      " ['2' 'Manju']]\n",
      "<U6\n"
     ]
    }
   ],
   "source": [
    "s = np.genfromtxt('students.csv', delimiter=',', dtype=None, encoding='utf-8')\n",
    "\n",
    "print(s)\n",
    "print(s.dtype)"
   ]
  },
  {
   "cell_type": "markdown",
   "id": "64ab33ae",
   "metadata": {},
   "source": [
    "- `dtype=None` → Automatically detects mixed data types.\n",
    "\n",
    "- `encoding='utf-8'` → Required to properly read string fields (recommended in Python 3).\n",
    "\n",
    "- `delimiter=','` → To correctly split CSV columns."
   ]
  },
  {
   "cell_type": "markdown",
   "id": "f2b01f11",
   "metadata": {},
   "source": [
    "<center><b>Thanks</b></center>"
   ]
  }
 ],
 "metadata": {
  "kernelspec": {
   "display_name": "Python 3 (ipykernel)",
   "language": "python",
   "name": "python3"
  },
  "language_info": {
   "codemirror_mode": {
    "name": "ipython",
    "version": 3
   },
   "file_extension": ".py",
   "mimetype": "text/x-python",
   "name": "python",
   "nbconvert_exporter": "python",
   "pygments_lexer": "ipython3",
   "version": "3.10.2"
  }
 },
 "nbformat": 4,
 "nbformat_minor": 5
}
