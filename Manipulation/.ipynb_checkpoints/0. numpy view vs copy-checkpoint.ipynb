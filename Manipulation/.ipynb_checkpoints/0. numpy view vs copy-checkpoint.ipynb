{
 "cells": [
  {
   "cell_type": "markdown",
   "id": "3e3f8f09",
   "metadata": {},
   "source": [
    "## Numpy View VS Copy"
   ]
  },
  {
   "cell_type": "code",
   "execution_count": 1,
   "id": "c9b382cd",
   "metadata": {},
   "outputs": [],
   "source": [
    "import numpy as np"
   ]
  },
  {
   "cell_type": "markdown",
   "id": "cd9fd553",
   "metadata": {},
   "source": [
    "**Key Point:**\n",
    "\n",
    "👉 A view shares the same data buffer as the original array. Changing data in the view will reflect in the original array, and vice versa."
   ]
  },
  {
   "cell_type": "markdown",
   "id": "e4b3e14e",
   "metadata": {},
   "source": [
    "### View"
   ]
  },
  {
   "cell_type": "code",
   "execution_count": 2,
   "id": "c2abd111",
   "metadata": {},
   "outputs": [
    {
     "name": "stdout",
     "output_type": "stream",
     "text": [
      "[1 2 3 4 5]\n"
     ]
    }
   ],
   "source": [
    "arr = np.array([1, 2, 3, 4, 5])\n",
    "print(arr)"
   ]
  },
  {
   "cell_type": "code",
   "execution_count": 3,
   "id": "47ba4e13",
   "metadata": {},
   "outputs": [
    {
     "name": "stdout",
     "output_type": "stream",
     "text": [
      "[3 4 5]\n"
     ]
    }
   ],
   "source": [
    "a = arr[2:5]\n",
    "print(a)"
   ]
  },
  {
   "cell_type": "code",
   "execution_count": 4,
   "id": "e345bb03",
   "metadata": {},
   "outputs": [],
   "source": [
    "a[0] = 333"
   ]
  },
  {
   "cell_type": "code",
   "execution_count": 5,
   "id": "0f95944a",
   "metadata": {
    "scrolled": false
   },
   "outputs": [
    {
     "name": "stdout",
     "output_type": "stream",
     "text": [
      "Original array: [  1   2 333   4   5]\n",
      "Indexed array: [333   4   5]\n"
     ]
    }
   ],
   "source": [
    "print(f\"Original array: {arr}\")\n",
    "print(f\"Indexed array: {a}\")"
   ]
  },
  {
   "cell_type": "markdown",
   "id": "e5ae5a07",
   "metadata": {},
   "source": [
    "- In the above example, the sliced data that we have got for `a` is of a view. \n",
    "- Because of that when we change something in view, the original data got effected.\n",
    "- vice versa will also happen, meaning if original data got changed, the view also gets updated"
   ]
  },
  {
   "cell_type": "markdown",
   "id": "503b590a",
   "metadata": {},
   "source": [
    "### Copy"
   ]
  },
  {
   "cell_type": "code",
   "execution_count": 6,
   "id": "5efa0924",
   "metadata": {},
   "outputs": [
    {
     "name": "stdout",
     "output_type": "stream",
     "text": [
      "[1 2 3 4 5]\n"
     ]
    }
   ],
   "source": [
    "arr1 = np.array([1, 2, 3, 4, 5])\n",
    "print(arr1)"
   ]
  },
  {
   "cell_type": "code",
   "execution_count": 7,
   "id": "1ca5bc64",
   "metadata": {},
   "outputs": [
    {
     "name": "stdout",
     "output_type": "stream",
     "text": [
      "[3 4 5]\n"
     ]
    }
   ],
   "source": [
    "a1 = arr1[2:5].copy()\n",
    "print(a1)"
   ]
  },
  {
   "cell_type": "code",
   "execution_count": 8,
   "id": "51c7465c",
   "metadata": {},
   "outputs": [],
   "source": [
    "a1[0] = 333"
   ]
  },
  {
   "cell_type": "code",
   "execution_count": 9,
   "id": "7a6cad39",
   "metadata": {},
   "outputs": [
    {
     "name": "stdout",
     "output_type": "stream",
     "text": [
      "Original array: [1 2 3 4 5]\n",
      "Updated array: [333   4   5]\n"
     ]
    }
   ],
   "source": [
    "print(f\"Original array:\",arr1)\n",
    "print(f\"Updated array:\", a1)"
   ]
  },
  {
   "cell_type": "markdown",
   "id": "506543e2",
   "metadata": {},
   "source": [
    "- This time we created a copy after slicing using .copy()\n",
    "- In this case unlike view, the original data got effected, with copy original data does not get effected, and vice versa"
   ]
  },
  {
   "cell_type": "markdown",
   "id": "5e8f4f42",
   "metadata": {},
   "source": [
    "**View vs copy: differences**"
   ]
  },
  {
   "cell_type": "markdown",
   "id": "2c77ed28",
   "metadata": {},
   "source": [
    "| Feature           | View                        | Copy                     |\n",
    "| ----------------- | --------------------------- | ------------------------ |\n",
    "| Memory            | Shares memory with original | Separate memory          |\n",
    "| Data Modification | Affects original            | Does not affect original |\n",
    "| Example           | `b = a[1:4]`                | `b = a[1:4].copy()`      |\n"
   ]
  },
  {
   "cell_type": "markdown",
   "id": "b5b80859",
   "metadata": {},
   "source": [
    "**When Views Commonly Occur in NumPy:**\n",
    "    \n",
    "- Slicing an array\n",
    "\n",
    "- Using `reshape()` (sometimes gives a view if possible)\n",
    "\n",
    "- Using `transpose()` (sometimes gives a view)"
   ]
  },
  {
   "cell_type": "markdown",
   "id": "0a4a6f64",
   "metadata": {},
   "source": [
    "**How to check whether numpy array is view or copy:**\n",
    "    \n",
    "- `ndarray.base` – **Best Way to Check**\n",
    "- `id()` won't work because those are different Python objects, even if they share the same underlying data.\n",
    "\n",
    "\n",
    "To verify, we need to check before any modification applied."
   ]
  },
  {
   "cell_type": "markdown",
   "id": "9793b9ea",
   "metadata": {},
   "source": [
    "#### View"
   ]
  },
  {
   "cell_type": "code",
   "execution_count": 10,
   "id": "0ea6cf50",
   "metadata": {},
   "outputs": [
    {
     "name": "stdout",
     "output_type": "stream",
     "text": [
      "[1 2 3 4 5]\n",
      "[3 4 5]\n"
     ]
    }
   ],
   "source": [
    "arr = np.array([1, 2, 3, 4, 5])\n",
    "print(arr)\n",
    "a = arr[2:5]\n",
    "print(a)"
   ]
  },
  {
   "cell_type": "code",
   "execution_count": 11,
   "id": "a0c87171",
   "metadata": {},
   "outputs": [
    {
     "name": "stdout",
     "output_type": "stream",
     "text": [
      "True\n",
      "False\n"
     ]
    }
   ],
   "source": [
    "print(a.base is arr) # This is how we need to check\n",
    "print(arr.base is a)"
   ]
  },
  {
   "cell_type": "code",
   "execution_count": 12,
   "id": "5e7a0140",
   "metadata": {},
   "outputs": [
    {
     "name": "stdout",
     "output_type": "stream",
     "text": [
      "[  1   2 333   4   5]\n",
      "[333   4   5]\n"
     ]
    }
   ],
   "source": [
    "a[0] = 333\n",
    "print(arr)\n",
    "print(a)"
   ]
  },
  {
   "cell_type": "code",
   "execution_count": 13,
   "id": "d18879ad",
   "metadata": {},
   "outputs": [
    {
     "name": "stdout",
     "output_type": "stream",
     "text": [
      "True\n"
     ]
    }
   ],
   "source": [
    "print(a.base is arr)"
   ]
  },
  {
   "cell_type": "markdown",
   "id": "8ba91ae8",
   "metadata": {},
   "source": [
    "#### Copy"
   ]
  },
  {
   "cell_type": "code",
   "execution_count": 14,
   "id": "21617b70",
   "metadata": {},
   "outputs": [
    {
     "name": "stdout",
     "output_type": "stream",
     "text": [
      "[1 2 3 4 5]\n",
      "[3 4 5]\n"
     ]
    }
   ],
   "source": [
    "arr1 = np.array([1, 2, 3, 4, 5])\n",
    "print(arr1)\n",
    "a1 = arr1[2:5].copy()\n",
    "print(a1)"
   ]
  },
  {
   "cell_type": "code",
   "execution_count": 15,
   "id": "1f533b84",
   "metadata": {},
   "outputs": [
    {
     "name": "stdout",
     "output_type": "stream",
     "text": [
      "False\n",
      "False\n"
     ]
    }
   ],
   "source": [
    "print(a1.base is arr1) # This is how we need to check\n",
    "print(arr1.base is a1)"
   ]
  },
  {
   "cell_type": "code",
   "execution_count": 16,
   "id": "d2739072",
   "metadata": {},
   "outputs": [],
   "source": [
    "a1[0] = 333"
   ]
  },
  {
   "cell_type": "code",
   "execution_count": 17,
   "id": "f0866a61",
   "metadata": {},
   "outputs": [
    {
     "name": "stdout",
     "output_type": "stream",
     "text": [
      "[1 2 3 4 5]\n",
      "[333   4   5]\n"
     ]
    }
   ],
   "source": [
    "print(arr1)\n",
    "print(a1)"
   ]
  },
  {
   "cell_type": "code",
   "execution_count": 18,
   "id": "dc4d5db1",
   "metadata": {},
   "outputs": [
    {
     "name": "stdout",
     "output_type": "stream",
     "text": [
      "False\n"
     ]
    }
   ],
   "source": [
    "print(a1.base is arr1)"
   ]
  },
  {
   "cell_type": "markdown",
   "id": "8a4290ba",
   "metadata": {},
   "source": [
    "<center><b>Thanks</b></center>"
   ]
  }
 ],
 "metadata": {
  "kernelspec": {
   "display_name": "Python 3 (ipykernel)",
   "language": "python",
   "name": "python3"
  },
  "language_info": {
   "codemirror_mode": {
    "name": "ipython",
    "version": 3
   },
   "file_extension": ".py",
   "mimetype": "text/x-python",
   "name": "python",
   "nbconvert_exporter": "python",
   "pygments_lexer": "ipython3",
   "version": "3.10.2"
  }
 },
 "nbformat": 4,
 "nbformat_minor": 5
}
