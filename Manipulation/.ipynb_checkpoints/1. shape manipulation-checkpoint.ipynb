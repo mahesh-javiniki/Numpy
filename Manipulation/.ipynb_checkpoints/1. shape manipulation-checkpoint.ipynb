{
 "cells": [
  {
   "cell_type": "markdown",
   "id": "35e19ef4",
   "metadata": {},
   "source": [
    "# Numpy Array Manipulation"
   ]
  },
  {
   "cell_type": "code",
   "execution_count": 1,
   "id": "c9b382cd",
   "metadata": {},
   "outputs": [],
   "source": [
    "import numpy as np"
   ]
  },
  {
   "cell_type": "markdown",
   "id": "4921c328",
   "metadata": {},
   "source": [
    "## 1. Shape manipulation\n",
    "\n",
    "Change the structure or shape of the array without changing the data.\n",
    "\n"
   ]
  },
  {
   "cell_type": "markdown",
   "id": "7c20c8ba",
   "metadata": {},
   "source": [
    "### Methods:\n",
    "\n",
    "- reshape()\n",
    "\n",
    "- ravel()\n",
    "\n",
    "- flatten()\n",
    "\n",
    "- transpose()\n",
    "\n",
    "- swapaxes()\n",
    "\n",
    "- expand_dims()\n",
    "\n",
    "- squeeze()\n",
    "\n",
    "- resize()\n"
   ]
  },
  {
   "cell_type": "markdown",
   "id": "3c0be417",
   "metadata": {},
   "source": [
    "#### 1. reshape()\n",
    "**Purpose:**\n",
    "\n",
    "Change the shape of an array without changing its data.\n",
    "\n",
    "The total number of elements must remain the same.\n",
    "\n",
    "**Syntax:**\n",
    "\n",
    "`array.reshape(new_shape)`\n",
    "\n",
    "OR\n",
    "\n",
    "`numpy.reshape(array, newshape)`\n",
    "\n",
    "`newshape`: The target shape as a tuple. You can use **-1** to let NumPy automatically calculate the required dimension.\n",
    "\n",
    "**✔️ When to Use?**\n",
    "\n",
    "When reshaping data for machine learning models or visualization.\n",
    "\n",
    "When you place -1 for any one of the dimension, numpy will caculate the right dimension for that.\n",
    "\n",
    "Preparing input data for ML models.\n",
    "\n",
    "Aligning data dimensions for matrix multiplication.\n",
    "\n",
    "Converting flat arrays into matrices or higher dimensional tensors.\n",
    "\n",
    "Efficient data processing without copying.\n",
    "\n",
    "**Additional info:**\n",
    "\n",
    "It returns a view of the original array when possible. (Modifying the reshaped array may modify the original array.)\n",
    "\n",
    "**NOTES:**\n",
    "\n",
    "If the array cannot be viewed, NumPy may return a copy."
   ]
  },
  {
   "cell_type": "markdown",
   "id": "15beba43",
   "metadata": {},
   "source": [
    "**Summary:**\n",
    "\n",
    "| Feature             | Explanation                     |\n",
    "| ------------------- | ------------------------------- |\n",
    "| Purpose             | Change array shape              |\n",
    "| Memory              | Usually a view (shared memory)  |\n",
    "| Automatic dimension | Use `-1`                        |\n",
    "| Restrictions        | Total elements must remain same |\n"
   ]
  },
  {
   "cell_type": "code",
   "execution_count": 19,
   "id": "bba274e2",
   "metadata": {},
   "outputs": [
    {
     "name": "stdout",
     "output_type": "stream",
     "text": [
      "[2 6 5 1 3 2 4 5 1 6 2 5 3 3 8 9 5 9 1 8]\n"
     ]
    }
   ],
   "source": [
    "# From lower dimensions to higher dimensions\n",
    "arr = np.random.randint(1, 10, 20)\n",
    "print(arr)"
   ]
  },
  {
   "cell_type": "code",
   "execution_count": 20,
   "id": "b9716104",
   "metadata": {},
   "outputs": [
    {
     "name": "stdout",
     "output_type": "stream",
     "text": [
      "[[2 6 5 1 3 2 4 5 1 6]\n",
      " [2 5 3 3 8 9 5 9 1 8]]\n",
      "[[2 6 5 1 3]\n",
      " [2 4 5 1 6]\n",
      " [2 5 3 3 8]\n",
      " [9 5 9 1 8]]\n",
      "[[2 6 5 1]\n",
      " [3 2 4 5]\n",
      " [1 6 2 5]\n",
      " [3 3 8 9]\n",
      " [5 9 1 8]]\n"
     ]
    }
   ],
   "source": [
    "print(arr.reshape((2, 10)))\n",
    "print(arr.reshape((4, 5)))\n",
    "print(arr.reshape(5, -1)) \n",
    "# For -1 numpy calculated what should be the right shape with 5"
   ]
  },
  {
   "cell_type": "code",
   "execution_count": 21,
   "id": "7230dab9",
   "metadata": {},
   "outputs": [
    {
     "name": "stdout",
     "output_type": "stream",
     "text": [
      "[[[2 6]\n",
      "  [5 1]\n",
      "  [3 2]\n",
      "  [4 5]\n",
      "  [1 6]]\n",
      "\n",
      " [[2 5]\n",
      "  [3 3]\n",
      "  [8 9]\n",
      "  [5 9]\n",
      "  [1 8]]]\n"
     ]
    }
   ],
   "source": [
    "print(arr.reshape((2, 5, 2)))"
   ]
  },
  {
   "cell_type": "code",
   "execution_count": 22,
   "id": "d85cb96f",
   "metadata": {},
   "outputs": [
    {
     "name": "stdout",
     "output_type": "stream",
     "text": [
      "[[3 5 8 9 1 4]\n",
      " [9 4 3 8 6 2]\n",
      " [3 4 2 7 5 6]\n",
      " [9 3 5 3 3 1]\n",
      " [8 5 4 1 2 3]\n",
      " [9 2 8 9 9 6]\n",
      " [3 7 3 5 9 7]\n",
      " [6 6 6 2 5 3]\n",
      " [6 5 6 8 7 7]\n",
      " [6 1 5 9 6 3]]\n",
      "(10, 6)\n",
      "60\n"
     ]
    }
   ],
   "source": [
    "arr = np.random.randint(1, 10, size = (10, 6) )\n",
    "print(arr)\n",
    "print(arr.shape)\n",
    "print(arr.size)"
   ]
  },
  {
   "cell_type": "code",
   "execution_count": 23,
   "id": "939ed883",
   "metadata": {},
   "outputs": [
    {
     "name": "stdout",
     "output_type": "stream",
     "text": [
      "[[[[3 5 8 9 1]\n",
      "   [4 9 4 3 8]]\n",
      "\n",
      "  [[6 2 3 4 2]\n",
      "   [7 5 6 9 3]]\n",
      "\n",
      "  [[5 3 3 1 8]\n",
      "   [5 4 1 2 3]]]\n",
      "\n",
      "\n",
      " [[[9 2 8 9 9]\n",
      "   [6 3 7 3 5]]\n",
      "\n",
      "  [[9 7 6 6 6]\n",
      "   [2 5 3 6 5]]\n",
      "\n",
      "  [[6 8 7 7 6]\n",
      "   [1 5 9 6 3]]]]\n"
     ]
    }
   ],
   "source": [
    "print(arr.reshape((2, 3, 2, 5)))"
   ]
  },
  {
   "cell_type": "code",
   "execution_count": 24,
   "id": "608c4891",
   "metadata": {},
   "outputs": [
    {
     "name": "stdout",
     "output_type": "stream",
     "text": [
      "[[[3 5 8 9 1 4]\n",
      "  [9 4 3 8 6 2]\n",
      "  [3 4 2 7 5 6]\n",
      "  [9 3 5 3 3 1]\n",
      "  [8 5 4 1 2 3]]\n",
      "\n",
      " [[9 2 8 9 9 6]\n",
      "  [3 7 3 5 9 7]\n",
      "  [6 6 6 2 5 3]\n",
      "  [6 5 6 8 7 7]\n",
      "  [6 1 5 9 6 3]]]\n"
     ]
    }
   ],
   "source": [
    "print(arr.reshape((2, 5, -1)))"
   ]
  },
  {
   "cell_type": "code",
   "execution_count": 25,
   "id": "c84543ed",
   "metadata": {},
   "outputs": [
    {
     "name": "stdout",
     "output_type": "stream",
     "text": [
      "[[[3 5 8 9]\n",
      "  [1 4 9 4]\n",
      "  [3 8 6 2]\n",
      "  [3 4 2 7]\n",
      "  [5 6 9 3]]\n",
      "\n",
      " [[5 3 3 1]\n",
      "  [8 5 4 1]\n",
      "  [2 3 9 2]\n",
      "  [8 9 9 6]\n",
      "  [3 7 3 5]]\n",
      "\n",
      " [[9 7 6 6]\n",
      "  [6 2 5 3]\n",
      "  [6 5 6 8]\n",
      "  [7 7 6 1]\n",
      "  [5 9 6 3]]]\n"
     ]
    }
   ],
   "source": [
    "print(arr.reshape((-1, 5, 4)))"
   ]
  },
  {
   "cell_type": "markdown",
   "id": "e0480e20",
   "metadata": {},
   "source": [
    "##### Memory view check for reshape()"
   ]
  },
  {
   "cell_type": "code",
   "execution_count": 26,
   "id": "2a3d3a64",
   "metadata": {
    "scrolled": false
   },
   "outputs": [
    {
     "name": "stdout",
     "output_type": "stream",
     "text": [
      "[1 2 3 4]\n",
      "[[1 2]\n",
      " [3 4]]\n",
      "Updated array\n",
      "[111   2   3   4]\n",
      "[[111   2]\n",
      " [  3   4]]\n"
     ]
    }
   ],
   "source": [
    "arr = np.array([1, 2, 3, 4])\n",
    "print(arr)\n",
    "\n",
    "new_arr = arr.reshape((2, 2))\n",
    "print(new_arr)\n",
    "\n",
    "new_arr[0, 0] = 111\n",
    "\n",
    "print(\"Updated array\")\n",
    "print(arr)\n",
    "print(new_arr)\n",
    "\n",
    "# Though we updated new_arr, arr got updated value as reshape() returns view"
   ]
  },
  {
   "cell_type": "code",
   "execution_count": null,
   "id": "f033e00e",
   "metadata": {},
   "outputs": [],
   "source": []
  },
  {
   "cell_type": "markdown",
   "id": "c2a4955c",
   "metadata": {},
   "source": [
    "#### 2. ravel()\n",
    "**Purpose:**\n",
    "\n",
    "Flattens the array into 1D (returns a view when possible).\n",
    "\n",
    "**Syntax:**\n",
    "\n",
    "`array.ravel()`\n",
    "\n",
    "OR\n",
    "\n",
    "`numpy.ravel(array, order='C')`\n",
    "\n",
    "OR\n",
    "\n",
    "`array.ravel(order='C')`\n",
    "\n",
    "- order:\n",
    "\n",
    "'C' → Row-major order (default).\n",
    "\n",
    "'F' → Column-major order.\n",
    "\n",
    "'A' → Fortran order if input is Fortran-contiguous, otherwise C-order.\n",
    "\n",
    "'K' → Try to preserve the memory layout.\n",
    "\n",
    "\n",
    "**✔️ When to Use?**\n",
    "\n",
    "Quickly flatten an array without making a full copy (saves memory).\n",
    "\n",
    "**NOTES:**\n",
    "\n",
    "If a view is not possible, it returns a copy."
   ]
  },
  {
   "cell_type": "markdown",
   "id": "da05f9c2",
   "metadata": {},
   "source": [
    "---\n",
    "\n",
    "## ✅ Key Features of `ravel()`\n",
    "\n",
    "* **Fast**: It prefers returning a **view** of the original array (no extra memory used).\n",
    "* **Flexible Ordering**: You can control the flattening order using `order` parameter.\n",
    "* **Efficient**: Preferred when you need a temporary flattened array.\n",
    "\n",
    "---"
   ]
  },
  {
   "cell_type": "markdown",
   "id": "1022427b",
   "metadata": {},
   "source": [
    "\n",
    "---\n",
    "\n",
    "## ✅ Quick Comparison: `ravel()` vs `flatten()`\n",
    "\n",
    "| Feature           | `ravel()`                       | `flatten()`           |\n",
    "| ----------------- | ------------------------------- | --------------------- |\n",
    "| Memory            | View (if possible)              | Always a copy         |\n",
    "| Speed             | Faster                          | Slightly slower       |\n",
    "| Mutability Impact | Changes may reflect in original | Changes never reflect |\n",
    "| Custom Order      | Supports `order`                | Supports `order`      |\n",
    "\n",
    "---\n",
    "\n",
    "## ✅ Summary:\n",
    "\n",
    "* **Purpose:** Flatten multi-dimensional arrays into 1D.\n",
    "* **Memory:** View when possible (efficient).\n",
    "* **Ordering:** Can flatten row-wise (default) or column-wise.\n",
    "* **Best Use:** When you want fast, memory-efficient flattening.\n",
    "\n",
    "---\n"
   ]
  },
  {
   "cell_type": "code",
   "execution_count": 63,
   "id": "cd2dec40",
   "metadata": {},
   "outputs": [
    {
     "name": "stdout",
     "output_type": "stream",
     "text": [
      "[[6 9 4 3]\n",
      " [8 5 2 3]\n",
      " [4 5 5 1]]\n"
     ]
    }
   ],
   "source": [
    "arr = np.random.randint(1, 10, size=(3,4))\n",
    "print(arr)"
   ]
  },
  {
   "cell_type": "code",
   "execution_count": 64,
   "id": "2b6cc378",
   "metadata": {},
   "outputs": [
    {
     "name": "stdout",
     "output_type": "stream",
     "text": [
      "[6 9 4 3 8 5 2 3 4 5 5 1]\n"
     ]
    }
   ],
   "source": [
    "print(arr.ravel())"
   ]
  },
  {
   "cell_type": "code",
   "execution_count": 65,
   "id": "18f06ff8",
   "metadata": {},
   "outputs": [
    {
     "name": "stdout",
     "output_type": "stream",
     "text": [
      "[[[8 8 3 9]\n",
      "  [6 4 3 2]\n",
      "  [8 4 1 9]]\n",
      "\n",
      " [[4 8 7 1]\n",
      "  [6 4 5 6]\n",
      "  [3 1 5 6]]]\n"
     ]
    }
   ],
   "source": [
    "arr1 = np.random.randint(1, 10, size=(2,3,4))\n",
    "print(arr1)"
   ]
  },
  {
   "cell_type": "code",
   "execution_count": 66,
   "id": "bdee3f4f",
   "metadata": {
    "scrolled": true
   },
   "outputs": [
    {
     "name": "stdout",
     "output_type": "stream",
     "text": [
      "[8 8 3 9 6 4 3 2 8 4 1 9 4 8 7 1 6 4 5 6 3 1 5 6]\n"
     ]
    }
   ],
   "source": [
    "print(arr1.ravel())"
   ]
  },
  {
   "cell_type": "markdown",
   "id": "52557217",
   "metadata": {},
   "source": [
    "The above flow is of row major.\n",
    "\n",
    "Now lets see column major"
   ]
  },
  {
   "cell_type": "code",
   "execution_count": 67,
   "id": "48f45fe7",
   "metadata": {
    "scrolled": true
   },
   "outputs": [
    {
     "name": "stdout",
     "output_type": "stream",
     "text": [
      "[6 8 4 9 5 5 4 2 5 3 3 1]\n"
     ]
    }
   ],
   "source": [
    "print(arr.ravel(order='F'))"
   ]
  },
  {
   "cell_type": "markdown",
   "id": "5a13ca9f",
   "metadata": {},
   "source": [
    " **`order='A'`** (Automatic Based on Memory Layout)\n",
    "\n",
    "* If the input array is **C-contiguous** → row-major (same as `'C'`).\n",
    "* If the input array is **Fortran-contiguous** → column-major (same as `'F'`).\n",
    "\n",
    "\n",
    "How does the classification of input array is C-contiguous or Fortran-contiguous ?\n",
    "- That will be classified while creating the array"
   ]
  },
  {
   "cell_type": "code",
   "execution_count": 32,
   "id": "185513d1",
   "metadata": {},
   "outputs": [
    {
     "name": "stdout",
     "output_type": "stream",
     "text": [
      "[1 2 3 4 5 6]\n"
     ]
    }
   ],
   "source": [
    "a = np.array([[1, 2, 3],\n",
    "              [4, 5, 6]])\n",
    "\n",
    "b = a.ravel(order='A')\n",
    "\n",
    "print(b)\n",
    "\n",
    "# Default is C-contiguous"
   ]
  },
  {
   "cell_type": "code",
   "execution_count": 33,
   "id": "5baffb07",
   "metadata": {},
   "outputs": [
    {
     "name": "stdout",
     "output_type": "stream",
     "text": [
      "[1 4 2 5 3 6]\n"
     ]
    }
   ],
   "source": [
    "a = np.array([[1, 2, 3],\n",
    "              [4, 5, 6]], order='F')\n",
    "# Explicitly specified as Fortran-contiguous\n",
    "\n",
    "b = a.ravel(order='A')\n",
    "\n",
    "print(b)\n"
   ]
  },
  {
   "cell_type": "markdown",
   "id": "7f321730",
   "metadata": {},
   "source": [
    "**`order='K'`** (Preserve Memory Order)\n",
    "\n",
    "* Tries to **preserve the existing memory layout** of the array.\n",
    "* If the array is transposed or sliced, `'K'` respects the underlying memory structure better than `'A'`."
   ]
  },
  {
   "cell_type": "code",
   "execution_count": 34,
   "id": "ad209c4b",
   "metadata": {},
   "outputs": [
    {
     "name": "stdout",
     "output_type": "stream",
     "text": [
      "[1 2 3 4 5 6]\n"
     ]
    }
   ],
   "source": [
    "a = np.array([[1, 2, 3],\n",
    "              [4, 5, 6]])\n",
    "\n",
    "b = a.T.ravel(order='K')\n",
    "\n",
    "print(b)\n"
   ]
  },
  {
   "cell_type": "markdown",
   "id": "d3cb2ef2",
   "metadata": {},
   "source": [
    "✔️ **Explanation:**\n",
    "Even though the array is transposed, `'K'` attempts to read the array in the way it is laid out in memory, preserving the element order efficiently.\n",
    "\n",
    "> 🔍 **Note:** `order='K'` is mostly important in advanced memory management and large datasets where slicing and transposing happen frequently."
   ]
  },
  {
   "cell_type": "markdown",
   "id": "d5b1127e",
   "metadata": {},
   "source": [
    "#### 3. flatten()\n",
    "**Purpose:**\n",
    "\n",
    "The flatten() method converts any multi-dimensional NumPy array into a 1D array.\n",
    "\n",
    "Flattens the array into 1D (always returns a copy).\n",
    "\n",
    "Slightly slower than ravel() but safer in terms of memory protection.\n",
    "\n",
    "**Syntax:**\n",
    "\n",
    "`array.flatten()`\n",
    "\n",
    "OR\n",
    "\n",
    "`array.flatten(order='C')`\n",
    "\n",
    "* `order`:\n",
    "\n",
    "  * `'C'` → Row-major order (default)\n",
    "  * `'F'` → Column-major order\n",
    "  * `'A'` → Fortran order if input is Fortran-contiguous, else C order\n",
    "  * `'K'` → Try to preserve the original memory layout\n",
    "\n",
    "\n",
    "**✔️ When to Use?**\n",
    "\n",
    "* When you **want to safely flatten** an array without worrying about unintentional changes to the original array.\n",
    "* When you want a **completely independent** 1D copy."
   ]
  },
  {
   "cell_type": "markdown",
   "id": "2575bd37",
   "metadata": {},
   "source": [
    "**Key Properties of `flatten()`**\n",
    "\n",
    "| Feature    | Description                                                 |\n",
    "| ---------- | ----------------------------------------------------------- |\n",
    "| Shape      | Converts to 1D                                              |\n",
    "| Memory     | Always returns a **copy**                                   |\n",
    "| Mutability | Changes in flattened array do NOT affect the original array |\n",
    "| Speed      | Slightly slower than `ravel()` because it always copies     |\n",
    "| Ordering   | Supports `'C'`, `'F'`, `'A'`, `'K'`                         |\n"
   ]
  },
  {
   "cell_type": "code",
   "execution_count": 35,
   "id": "4888f979",
   "metadata": {},
   "outputs": [
    {
     "name": "stdout",
     "output_type": "stream",
     "text": [
      "[[5 5 6 1]\n",
      " [4 4 4 2]\n",
      " [8 8 8 9]]\n"
     ]
    }
   ],
   "source": [
    "print(arr)"
   ]
  },
  {
   "cell_type": "code",
   "execution_count": 36,
   "id": "a268fd10",
   "metadata": {
    "scrolled": true
   },
   "outputs": [
    {
     "name": "stdout",
     "output_type": "stream",
     "text": [
      "[5 5 6 1 4 4 4 2 8 8 8 9]\n"
     ]
    }
   ],
   "source": [
    "print(arr.flatten())"
   ]
  },
  {
   "cell_type": "markdown",
   "id": "23083896",
   "metadata": {},
   "source": [
    "Above by default row-majored operation,\n",
    "\n",
    "Now will do column-majored\n",
    "\n",
    "With `A` and `K` values, the results will be simillar to `.ravel()`"
   ]
  },
  {
   "cell_type": "code",
   "execution_count": 37,
   "id": "d5e162b9",
   "metadata": {
    "scrolled": false
   },
   "outputs": [
    {
     "name": "stdout",
     "output_type": "stream",
     "text": [
      "[5 4 8 5 4 8 6 4 8 1 2 9]\n"
     ]
    }
   ],
   "source": [
    "print(arr.flatten(order='f'))"
   ]
  },
  {
   "cell_type": "markdown",
   "id": "af76ce81",
   "metadata": {},
   "source": [
    "**Comparison: `ravel()` vs `flatten()`**\n",
    "\n",
    "\n",
    "| Feature        | `ravel()`                          | `flatten()`                |\n",
    "| -------------- | ---------------------------------- | -------------------------- |\n",
    "| Memory         | Returns a view (if possible)       | Always returns a copy      |\n",
    "| Mutability     | May affect the original array      | Never affects original     |\n",
    "| Speed          | Faster (less memory used)          | Slightly slower            |\n",
    "| Flexibility    | Efficient for temporary flattening | Safer for independent copy |\n",
    "| Supports Order | Yes                                | Yes                        |\n"
   ]
  },
  {
   "cell_type": "markdown",
   "id": "12108c11",
   "metadata": {},
   "source": [
    "#### 4. Transpose\n",
    "\n",
    "**Purpose:**\n",
    "\n",
    "Swap axes (change rows to columns and vice versa).\n",
    "\n",
    "The `transpose()` function **rearranges the axes of a NumPy array.**\n",
    "\n",
    "* For **2D arrays:** It simply **swaps rows and columns.**\n",
    "* For **higher-dimensional arrays:** It rearranges axes in the order you specify.\n",
    "\n",
    "**Shortcut:**\n",
    "\n",
    "For 2D arrays, `array.T` is a quick shortcut for `array.transpose()`.\n",
    "\n",
    "**Syntax:**\n",
    "```\n",
    "array.transpose()\n",
    "OR\n",
    "array.T\n",
    "```\n",
    "\n",
    "```python\n",
    "numpy.transpose(array, axes=None)\n",
    "# OR\n",
    "array.transpose(axes)\n",
    "```\n",
    "\n",
    "* **axes** (optional): The new order of axes. If not provided, NumPy reverses the order of axes by default.\n",
    "\n",
    "\n",
    "**When to Use `transpose()`**\n",
    "\n",
    "* For **matrix operations** like multiplication.\n",
    "* For **aligning data axes** in multi-dimensional arrays.\n",
    "* For **reordering dimensions** in machine learning models or image processing.\n",
    "* To prepare arrays for broadcasting.\n",
    "\n",
    "**Summary Table**\n",
    "\n",
    "| Feature          | Description                                         |\n",
    "| ---------------- | --------------------------------------------------- |\n",
    "| Purpose          | Rearrange array axes                                |\n",
    "| Syntax           | `array.transpose(axes)` or `array.T`                |\n",
    "| Memory           | Usually returns a **view**                          |\n",
    "| Affects Original | Yes, changes in transposed view can affect original |\n",
    "| Special Case     | For 2D arrays, just swaps rows and columns          |\n",
    "| Default Behavior | If axes not specified, reverses the order of axes   |"
   ]
  },
  {
   "cell_type": "code",
   "execution_count": 38,
   "id": "a3dbb960",
   "metadata": {
    "scrolled": true
   },
   "outputs": [
    {
     "name": "stdout",
     "output_type": "stream",
     "text": [
      "[1 2 3]\n",
      "[1 2 3]\n"
     ]
    }
   ],
   "source": [
    "# Transpose 1D array\n",
    "arr = np.array([1, 2, 3])\n",
    "print(arr)\n",
    "print(arr.transpose())"
   ]
  },
  {
   "cell_type": "markdown",
   "id": "6a584f92",
   "metadata": {},
   "source": [
    "✔️ **Explanation:**\n",
    "Transposing a 1D array has **no effect** because there is only one axis."
   ]
  },
  {
   "cell_type": "code",
   "execution_count": 39,
   "id": "4337f88e",
   "metadata": {},
   "outputs": [
    {
     "name": "stdout",
     "output_type": "stream",
     "text": [
      "[[1 2 3]\n",
      " [4 5 6]]\n",
      "[[1 4]\n",
      " [2 5]\n",
      " [3 6]]\n"
     ]
    }
   ],
   "source": [
    "# Transpose 2D array\n",
    "arr = np.array([[1, 2, 3],\n",
    "              [4, 5, 6]])\n",
    "print(arr)\n",
    "print(arr.transpose())"
   ]
  },
  {
   "cell_type": "code",
   "execution_count": 40,
   "id": "3f60dda4",
   "metadata": {
    "scrolled": false
   },
   "outputs": [
    {
     "name": "stdout",
     "output_type": "stream",
     "text": [
      "[[[8 8 9 8]\n",
      "  [2 7 7 8]\n",
      "  [3 9 9 8]]\n",
      "\n",
      " [[2 9 5 1]\n",
      "  [6 2 7 3]\n",
      "  [2 1 1 8]]]\n",
      "\n",
      "\n",
      "[[[8 2]\n",
      "  [2 6]\n",
      "  [3 2]]\n",
      "\n",
      " [[8 9]\n",
      "  [7 2]\n",
      "  [9 1]]\n",
      "\n",
      " [[9 5]\n",
      "  [7 7]\n",
      "  [9 1]]\n",
      "\n",
      " [[8 1]\n",
      "  [8 3]\n",
      "  [8 8]]]\n"
     ]
    }
   ],
   "source": [
    "# Transpose 3D array\n",
    "arr = np.random.randint(1, 10, (2, 3, 4))\n",
    "print(arr, end = \"\\n\\n\\n\")\n",
    "\n",
    "print(arr.transpose())"
   ]
  },
  {
   "cell_type": "markdown",
   "id": "14351fb7",
   "metadata": {},
   "source": [
    "✔️ **Explanation:**\n",
    "The first and second axes are swapped."
   ]
  },
  {
   "cell_type": "markdown",
   "id": "80454d3a",
   "metadata": {},
   "source": [
    "#### 5. swapaxes()\n",
    "\n",
    "\n",
    "**Purpose:**\n",
    "\n",
    "* It **works for arrays of any number of dimensions** (2D, 3D, 4D, etc.).\n",
    "* It’s a **more focused version of `transpose()`**, where you explicitly swap just **two axes**.\n",
    "\n",
    "**Syntax:**\n",
    "```python\n",
    "numpy.swapaxes(array, axis1, axis2)\n",
    "# OR\n",
    "array.swapaxes(axis1, axis2)\n",
    "```\n",
    "\n",
    "**When to Use `swapaxes()`**\n",
    "\n",
    "* When you need to **quickly swap two specific axes** without touching the others.\n",
    "* When working with **multi-dimensional arrays** like tensors in deep learning, image arrays, or time-series grids.\n",
    "* When you need a simpler, more readable alternative to `transpose()` for **two-axis swaps.**\n",
    "\n",
    "**Summary Table**\n",
    "\n",
    "| Feature                   | Description                                                    |\n",
    "| ------------------------- | -------------------------------------------------------------- |\n",
    "| Purpose                   | Swap exactly **two axes**                                      |\n",
    "| Memory                    | Returns a **view**                                             |\n",
    "| Affect Original           | Yes, changes in the view may affect the original               |\n",
    "| Speed                     | Fast and memory efficient                                      |\n",
    "| Difference from Transpose | Transpose can rearrange multiple axes; swapaxes only swaps two |"
   ]
  },
  {
   "cell_type": "code",
   "execution_count": 41,
   "id": "ecdf9b93",
   "metadata": {},
   "outputs": [
    {
     "name": "stdout",
     "output_type": "stream",
     "text": [
      "[[1 2 3]\n",
      " [4 5 6]]\n",
      "\n",
      "\n",
      "[[1 4]\n",
      " [2 5]\n",
      " [3 6]]\n",
      "\n",
      "\n",
      "(2, 3)\n",
      "(3, 2)\n"
     ]
    }
   ],
   "source": [
    "# 2D array swap axes\n",
    "a = np.array([[1, 2, 3], [4, 5, 6]])\n",
    "\n",
    "b = a.swapaxes(0, 1)\n",
    "\n",
    "print(a, end = '\\n\\n\\n')\n",
    "print(b, end ='\\n\\n\\n')\n",
    "\n",
    "print(a.shape)\n",
    "print(b.shape)"
   ]
  },
  {
   "cell_type": "markdown",
   "id": "cf83799f",
   "metadata": {},
   "source": [
    "✔️ **Explanation:**\n",
    "\n",
    "Swapping axis 0 (rows) and axis 1 (columns) → same as `transpose()` for 2D arrays."
   ]
  },
  {
   "cell_type": "code",
   "execution_count": 42,
   "id": "6e9c8010",
   "metadata": {},
   "outputs": [
    {
     "name": "stdout",
     "output_type": "stream",
     "text": [
      "[[[3 7 1 1]\n",
      "  [6 8 1 6]\n",
      "  [8 7 4 1]]\n",
      "\n",
      " [[9 8 7 1]\n",
      "  [9 2 1 8]\n",
      "  [9 4 4 3]]]\n",
      "\n",
      "\n",
      "[[[3 9]\n",
      "  [6 9]\n",
      "  [8 9]]\n",
      "\n",
      " [[7 8]\n",
      "  [8 2]\n",
      "  [7 4]]\n",
      "\n",
      " [[1 7]\n",
      "  [1 1]\n",
      "  [4 4]]\n",
      "\n",
      " [[1 1]\n",
      "  [6 8]\n",
      "  [1 3]]]\n",
      "\n",
      "\n",
      "(2, 3, 4)\n",
      "(4, 3, 2)\n"
     ]
    }
   ],
   "source": [
    "# 3D array swap axes\n",
    "\n",
    "\n",
    "a = np.random.randint(1, 10, (2, 3, 4))\n",
    "\n",
    "b = a.swapaxes(0, 2)\n",
    "\n",
    "print(a, end = '\\n\\n\\n')\n",
    "print(b, end ='\\n\\n\\n')\n",
    "\n",
    "print(a.shape)\n",
    "print(b.shape)"
   ]
  },
  {
   "cell_type": "code",
   "execution_count": 43,
   "id": "913d748b",
   "metadata": {
    "scrolled": true
   },
   "outputs": [
    {
     "name": "stdout",
     "output_type": "stream",
     "text": [
      "[[[3 7 1 1]\n",
      "  [9 8 7 1]]\n",
      "\n",
      " [[6 8 1 6]\n",
      "  [9 2 1 8]]\n",
      "\n",
      " [[8 7 4 1]\n",
      "  [9 4 4 3]]]\n",
      "(3, 2, 4)\n"
     ]
    }
   ],
   "source": [
    "b1 = a.swapaxes(0, 1)\n",
    "print(b1)\n",
    "print(b1.shape)"
   ]
  },
  {
   "cell_type": "code",
   "execution_count": null,
   "id": "849eb74e",
   "metadata": {},
   "outputs": [],
   "source": []
  },
  {
   "cell_type": "markdown",
   "id": "32b968eb",
   "metadata": {},
   "source": [
    "#### 6. expand_dims()\n",
    "\n",
    "**Purpose:**\n",
    "\n",
    "The `expand_dims()` function in NumPy **inserts a new axis (dimension) of size 1** at the specified position.\n",
    "\n",
    "* This is used to **increase the dimensionality** of an array.\n",
    "* It’s especially useful when reshaping arrays for broadcasting, machine learning models, or batch processing.\n",
    "\n",
    "**Syntax:**\n",
    "\n",
    "```python\n",
    "numpy.expand_dims(array, axis)\n",
    "# OR\n",
    "array = np.expand_dims(array, axis)\n",
    "```\n",
    "\n",
    "* **axis**: The position (index) where the new axis should be inserted.\n",
    "\n",
    "\n",
    "**Why is it useful ?**\n",
    "\n",
    "* Many **NumPy operations require arrays to have specific dimensions.**\n",
    "* Common in **batch processing, image processing, and broadcasting.**\n",
    "* Used to align arrays for element-wise operations without reshaping the entire array manually.\n",
    "\n",
    "**When to Use `expand_dims()`**\n",
    "\n",
    "* To prepare arrays for **batch processing.**\n",
    "* To match the input shape required by machine learning models (which often expect shape like `(batch_size, features)`).\n",
    "* To make arrays **broadcast-compatible.**\n",
    "* When reshaping arrays for **matrix operations**.\n",
    "\n",
    "\n",
    "**Summary Table**\n",
    "\n",
    "| Feature             | Description                                      |\n",
    "| ------------------- | ------------------------------------------------ |\n",
    "| Purpose             | Add a new axis of size 1                         |\n",
    "| Syntax              | `np.expand_dims(array, axis)`                    |\n",
    "| Memory              | Usually a **view** (not a copy)                  |\n",
    "| Effect on Original  | Changes may reflect in original                  |\n",
    "| Practical Use Cases | Broadcasting, batch processing, reshaping for ML |\n",
    "\n"
   ]
  },
  {
   "cell_type": "code",
   "execution_count": 44,
   "id": "8f64fd13",
   "metadata": {},
   "outputs": [
    {
     "name": "stdout",
     "output_type": "stream",
     "text": [
      "[1 2 3]\n",
      "(3,)\n",
      "[[1 2 3]]\n",
      "(1, 3)\n",
      "[[1]\n",
      " [2]\n",
      " [3]]\n",
      "(3, 1)\n"
     ]
    }
   ],
   "source": [
    "# Adding an axis to 1D array\n",
    "\n",
    "a = np.array([1, 2, 3])\n",
    "\n",
    "b = np.expand_dims(a, axis=0)\n",
    "\n",
    "c = np.expand_dims(a, axis=1)\n",
    "\n",
    "print(a)\n",
    "print(a.shape)\n",
    "print(b)\n",
    "print(b.shape)\n",
    "print(c)\n",
    "print(c.shape)"
   ]
  },
  {
   "cell_type": "code",
   "execution_count": 45,
   "id": "eeabb3fc",
   "metadata": {},
   "outputs": [
    {
     "name": "stdout",
     "output_type": "stream",
     "text": [
      "[[1 2 3]\n",
      " [4 5 6]]\n",
      "(2, 3)\n"
     ]
    }
   ],
   "source": [
    "# Adding an axis in 2D array\n",
    "\n",
    "a = np.array([[1, 2, 3], [4, 5, 6]])\n",
    "\n",
    "b = np.expand_dims(a, axis=0)\n",
    "\n",
    "c = np.expand_dims(a, axis=1)\n",
    "\n",
    "d = np.expand_dims(a, axis=2)\n",
    "\n",
    "print(a)\n",
    "print(a.shape)"
   ]
  },
  {
   "cell_type": "code",
   "execution_count": 46,
   "id": "0f892077",
   "metadata": {},
   "outputs": [
    {
     "name": "stdout",
     "output_type": "stream",
     "text": [
      "[[[1 2 3]\n",
      "  [4 5 6]]]\n",
      "(1, 2, 3)\n"
     ]
    }
   ],
   "source": [
    "print(b)\n",
    "print(b.shape)"
   ]
  },
  {
   "cell_type": "code",
   "execution_count": 47,
   "id": "1d5c45be",
   "metadata": {},
   "outputs": [
    {
     "name": "stdout",
     "output_type": "stream",
     "text": [
      "[[[1 2 3]]\n",
      "\n",
      " [[4 5 6]]]\n",
      "(2, 1, 3)\n"
     ]
    }
   ],
   "source": [
    "print(c)\n",
    "print(c.shape)"
   ]
  },
  {
   "cell_type": "code",
   "execution_count": 48,
   "id": "d19b9bc6",
   "metadata": {
    "scrolled": true
   },
   "outputs": [
    {
     "name": "stdout",
     "output_type": "stream",
     "text": [
      "[[[1]\n",
      "  [2]\n",
      "  [3]]\n",
      "\n",
      " [[4]\n",
      "  [5]\n",
      "  [6]]]\n",
      "(2, 3, 1)\n"
     ]
    }
   ],
   "source": [
    "print(d)\n",
    "print(d.shape)"
   ]
  },
  {
   "cell_type": "code",
   "execution_count": 49,
   "id": "0e35e66a",
   "metadata": {},
   "outputs": [
    {
     "name": "stdout",
     "output_type": "stream",
     "text": [
      "[[11 12 13]\n",
      " [21 22 23]\n",
      " [31 32 33]]\n"
     ]
    }
   ],
   "source": [
    "# Broadcasting example\n",
    "\n",
    "a = np.array([1, 2, 3])  # Shape: (3,)\n",
    "b = np.array([[10], [20], [30]])  # Shape: (3, 1)\n",
    "\n",
    "print(a+b)"
   ]
  },
  {
   "cell_type": "code",
   "execution_count": 50,
   "id": "82b43b56",
   "metadata": {},
   "outputs": [
    {
     "name": "stdout",
     "output_type": "stream",
     "text": [
      "[[11 12 13]\n",
      " [21 22 23]\n",
      " [31 32 33]]\n"
     ]
    }
   ],
   "source": [
    "a_exp = np.expand_dims(a, axis=0)\n",
    "print(a_exp+b)"
   ]
  },
  {
   "cell_type": "code",
   "execution_count": null,
   "id": "ff7df5ae",
   "metadata": {},
   "outputs": [],
   "source": []
  },
  {
   "cell_type": "markdown",
   "id": "31e764ed",
   "metadata": {},
   "source": [
    "#### 7. Squeeze()\n",
    "\n",
    "**Purpose:**\n",
    "\n",
    "The `squeeze()` function in NumPy is used to **remove axes (dimensions) of size 1** from an array.\n",
    "\n",
    "* It **reduces** the number of dimensions.\n",
    "* It is often used to convert higher-dimensional arrays into lower-dimensional ones by dropping the **singleton dimensions.**\n",
    "\n",
    "**Syntax:**\n",
    "\n",
    "```python\n",
    "numpy.squeeze(array, axis=None)\n",
    "# OR\n",
    "array.squeeze(axis=None)\n",
    "```\n",
    "\n",
    "- **axis (optional)**:\n",
    "\n",
    "  * If provided, it **removes only the specified axis** if it has size 1.\n",
    "  * If not provided, **all singleton axes** (axes with size 1) will be removed.\n",
    "  \n",
    "**Key Features:**\n",
    "\n",
    "| Feature       | Description                                       |\n",
    "| ------------- | ------------------------------------------------- |\n",
    "| Purpose       | Remove singleton axes (size 1)                    |\n",
    "| Changes Shape | Yes, reduces dimensionality                       |\n",
    "| Memory        | Usually returns a **view**                        |\n",
    "| Safety        | If you specify an axis that is not size 1 → error |\n",
    "| Reverse of    | `expand_dims()`                                   |\n",
    "\n",
    "**Visual Explanation:**\n",
    "\n",
    "If you have an array with shape `(1, 3, 1, 5)` →\n",
    "`squeeze()` will remove the axes with size 1 → shape becomes `(3, 5)`\n",
    "\n",
    "\n",
    "**When to Use `squeeze()`**\n",
    "\n",
    "* To **remove unnecessary dimensions** after operations like `expand_dims()` or slicing.\n",
    "* When **model outputs** have extra dimensions you don’t need.\n",
    "* To clean arrays for plotting or mathematical calculations that require lower dimensions.\n",
    "\n",
    "\n",
    "\n",
    "**Difference Between `squeeze()` and `expand_dims()`**\n",
    "\n",
    "| Feature          | `expand_dims()`                 | `squeeze()`               |\n",
    "| ---------------- | ------------------------------- | ------------------------- |\n",
    "| Purpose          | Add a new axis (size 1)         | Remove axes (size 1)      |\n",
    "| Increases Shape  | Yes                             | No, reduces shape         |\n",
    "| Typical Use Case | Prepare arrays for broadcasting | Clean up extra dimensions |\n",
    "| Memory           | Usually a **view**              | Usually a **view**        |\n",
    "\n",
    "---"
   ]
  },
  {
   "cell_type": "code",
   "execution_count": 51,
   "id": "eb814efe",
   "metadata": {},
   "outputs": [
    {
     "name": "stdout",
     "output_type": "stream",
     "text": [
      "[[[1 2 3]]]\n",
      "(1, 1, 3)\n",
      "[1 2 3]\n",
      "(3,)\n"
     ]
    }
   ],
   "source": [
    "# Basic squeeze, no axis specified\n",
    "a = np.array([[[1, 2, 3]]])  # Shape: (1, 1, 3)\n",
    "\n",
    "b = np.squeeze(a)\n",
    "\n",
    "print(a)\n",
    "print(a.shape)\n",
    "\n",
    "print(b)\n",
    "print(b.shape)"
   ]
  },
  {
   "cell_type": "markdown",
   "id": "59720a5c",
   "metadata": {},
   "source": [
    "✔️ **Explanation:**\n",
    "    \n",
    "All axes with size 1 are automatically removed."
   ]
  },
  {
   "cell_type": "code",
   "execution_count": 52,
   "id": "49c67cae",
   "metadata": {},
   "outputs": [
    {
     "name": "stdout",
     "output_type": "stream",
     "text": [
      "[[[1 2 3]]]\n",
      "(1, 1, 3)\n",
      "\n",
      "[[1 2 3]]\n",
      "(1, 3)\n",
      "\n",
      "[[1 2 3]]\n",
      "(1, 3)\n"
     ]
    }
   ],
   "source": [
    "# Squeeze with specific axis\n",
    "print(a)\n",
    "print(a.shape)\n",
    "b1 = a.squeeze(axis=0)\n",
    "b2 = a.squeeze(axis=1)\n",
    "\n",
    "print()\n",
    "print(b1)\n",
    "print(b1.shape)\n",
    "\n",
    "print()\n",
    "print(b2)\n",
    "print(b2.shape)"
   ]
  },
  {
   "cell_type": "code",
   "execution_count": 53,
   "id": "7e69390a",
   "metadata": {},
   "outputs": [
    {
     "name": "stdout",
     "output_type": "stream",
     "text": [
      "cannot select an axis to squeeze out which has size not equal to one\n"
     ]
    }
   ],
   "source": [
    "# Error if Axis is Not Size 1\n",
    "\n",
    "a = np.array([[[1, 2, 3]]])  # Shape: (1, 1, 3)\n",
    "\n",
    "# Trying to squeeze axis 2 which has size 3\n",
    "try:\n",
    "    b = np.squeeze(a, axis=2)\n",
    "except Exception as e:\n",
    "    print(e)"
   ]
  },
  {
   "cell_type": "code",
   "execution_count": 54,
   "id": "4b613eec",
   "metadata": {},
   "outputs": [
    {
     "name": "stdout",
     "output_type": "stream",
     "text": [
      "[1 2 3]\n",
      "(3,)\n",
      "[1 2 3]\n",
      "(3,)\n"
     ]
    }
   ],
   "source": [
    "# In array, if no axis with size 1, default squeeze don't cause any error.\n",
    "a = np.array([1, 2, 3])\n",
    "b = np.squeeze(a)\n",
    "print(a)    \n",
    "print(a.shape)\n",
    "\n",
    "print(b)\n",
    "print(b.shape)"
   ]
  },
  {
   "cell_type": "code",
   "execution_count": null,
   "id": "f7422ad4",
   "metadata": {},
   "outputs": [],
   "source": []
  },
  {
   "cell_type": "markdown",
   "id": "a1c3e839",
   "metadata": {},
   "source": [
    "#### 8. resize()\n",
    "\n",
    "**Purpose:**\n",
    "\n",
    "The `numpy.resize()` function **resizes an array to a new shape.**\n",
    "\n",
    "* If the new shape is **larger than the original array,** the array’s elements are **repeated to fill the new shape.**\n",
    "* If the new shape is **smaller,** the array is **truncated.**\n",
    "\n",
    "> 👉 It either **truncates or repeats elements to exactly match the new shape.**\n",
    "\n",
    "**Syntax**\n",
    "\n",
    "`numpy.resize(array, new_shape)`\n",
    "\n",
    "* **new\\_shape**: Desired shape of the new array.\n",
    "\n",
    "**Key Features:**\n",
    "\n",
    "| Feature            | Description                                |\n",
    "| ------------------ | ------------------------------------------ |\n",
    "| Purpose            | Resize array to a new shape                |\n",
    "| Elements Repeated  | If new size is larger                      |\n",
    "| Elements Truncated | If new size is smaller                     |\n",
    "| Memory             | Returns a **new copy**                     |\n",
    "| Works on           | Arrays of any dimension                    |\n",
    "| Shape Flexibility  | Shape can be increased or decreased freely |\n",
    "\n",
    "\n",
    "**Important Notes:**\n",
    "\n",
    "* **Resizes by repeating or cutting elements.**\n",
    "* **Returns a new array** → it does NOT modify the original array.\n",
    "* This is **different from `reshape()`** which requires total number of elements to remain the same.\n",
    "\n",
    "\n",
    "**`numpy.resize()` vs `reshape()`**\n",
    "\n",
    "| Feature            | `numpy.resize()`                        | `reshape()`                                                |\n",
    "| ------------------ | --------------------------------------- | ---------------------------------------------------------- |\n",
    "| Purpose            | Change shape by repeating or truncating | Change shape without changing the total number of elements |\n",
    "| Element Handling   | Repeats/truncates elements              | No repetition or truncation allowed                        |\n",
    "| Shape Flexibility  | No restriction                          | Total number of elements must remain the same              |\n",
    "| Memory             | Returns a **new copy**                  | Can return **view or copy**                                |\n",
    "| Effect on Original | Original remains unchanged              | Can affect original if view is returned                    |\n",
    "\n",
    "\n",
    "\n",
    "**When to Use `resize()`**\n",
    "\n",
    "* When you **don’t care about strict data integrity** and want to force the array into a specific shape.\n",
    "* When you need to **repeat or truncate elements** to fit a desired shape.\n",
    "* When you are preparing test data or dummy arrays of a required size quickly.\n",
    "\n",
    "---\n",
    "\n",
    "**Summary:**\n",
    "\n",
    "* `resize()` can **expand or shrink arrays** by repeating or cutting elements.\n",
    "* It is **very flexible** → it does not require matching total number of elements.\n",
    "* It **always returns a new array** → no effect on the original.\n",
    "* It is **not memory-efficient** for large arrays if accidental repetitions happen.\n"
   ]
  },
  {
   "cell_type": "code",
   "execution_count": 55,
   "id": "2630c818",
   "metadata": {},
   "outputs": [
    {
     "name": "stdout",
     "output_type": "stream",
     "text": [
      "[1 2 3]\n",
      "[[1 2 3 1]\n",
      " [2 3 1 2]\n",
      " [3 1 2 3]]\n"
     ]
    }
   ],
   "source": [
    "# Increasing size (Repeats Elements)\n",
    "\n",
    "a = np.array([1, 2, 3])\n",
    "\n",
    "b = np.resize(a, (3, 4))\n",
    "\n",
    "print(a)\n",
    "print(b)"
   ]
  },
  {
   "cell_type": "markdown",
   "id": "dd55ab28",
   "metadata": {},
   "source": [
    "✔️ **Explanation:**\n",
    "\n",
    "* The original array has only 3 elements.\n",
    "* To fill the new shape `(3, 4)` → elements are **repeated cyclically.**\n",
    "\n"
   ]
  },
  {
   "cell_type": "code",
   "execution_count": 56,
   "id": "98900272",
   "metadata": {},
   "outputs": [
    {
     "name": "stdout",
     "output_type": "stream",
     "text": [
      "[[1 2]\n",
      " [3 4]]\n",
      "[1 2]\n"
     ]
    }
   ],
   "source": [
    "# Decreasing Size (Truncates Elements)\n",
    "\n",
    "a = np.array([[1, 2], [3, 4]])\n",
    "\n",
    "b = np.resize(a, (2,))\n",
    "\n",
    "print(a)\n",
    "print(b)"
   ]
  },
  {
   "cell_type": "markdown",
   "id": "bc9da28a",
   "metadata": {},
   "source": [
    "✔️ **Explanation:**\n",
    "\n",
    "* The original array has 4 elements.\n",
    "* The new shape requires only 2 → so **elements are truncated.**\n"
   ]
  },
  {
   "cell_type": "code",
   "execution_count": 57,
   "id": "756a809d",
   "metadata": {},
   "outputs": [
    {
     "name": "stdout",
     "output_type": "stream",
     "text": [
      "[[1 2]\n",
      " [3 4]]\n",
      "[[1 2]\n",
      " [3 4]]\n"
     ]
    }
   ],
   "source": [
    "# No Shape Change (Effectively Clones the Array)\n",
    "\n",
    "a = np.array([[1, 2], [3, 4]])\n",
    "\n",
    "b = np.resize(a, (2, 2))\n",
    "\n",
    "print(a)\n",
    "print(b)"
   ]
  },
  {
   "cell_type": "markdown",
   "id": "7faafece",
   "metadata": {},
   "source": [
    "✔️ **Explanation:**\n",
    "    \n",
    "The size is unchanged → behaves like a simple copy."
   ]
  },
  {
   "cell_type": "code",
   "execution_count": 58,
   "id": "48b45b47",
   "metadata": {},
   "outputs": [
    {
     "name": "stdout",
     "output_type": "stream",
     "text": [
      "[1 2 3]\n",
      "(3,)\n",
      "\n",
      "[[[1 2]\n",
      "  [3 1]]\n",
      "\n",
      " [[2 3]\n",
      "  [1 2]]]\n",
      "(2, 2, 2)\n"
     ]
    }
   ],
   "source": [
    "# Resizing Higher Dimensional Arrays\n",
    "\n",
    "a = np.array([1, 2, 3])\n",
    "\n",
    "b = np.resize(a, (2, 2, 2))\n",
    "\n",
    "print(a)\n",
    "print(a.shape)\n",
    "\n",
    "print()\n",
    "print(b)\n",
    "print(b.shape)"
   ]
  },
  {
   "cell_type": "markdown",
   "id": "a82c5222",
   "metadata": {},
   "source": [
    "\n",
    "✔️ **Explanation:**\n",
    "\n",
    "* Resized to a 3D array.\n",
    "* Elements **repeated cyclically** to fill the space.\n"
   ]
  },
  {
   "cell_type": "markdown",
   "id": "8a4290ba",
   "metadata": {},
   "source": [
    "<center><b>Thanks</b></center>"
   ]
  }
 ],
 "metadata": {
  "kernelspec": {
   "display_name": "Python 3 (ipykernel)",
   "language": "python",
   "name": "python3"
  },
  "language_info": {
   "codemirror_mode": {
    "name": "ipython",
    "version": 3
   },
   "file_extension": ".py",
   "mimetype": "text/x-python",
   "name": "python",
   "nbconvert_exporter": "python",
   "pygments_lexer": "ipython3",
   "version": "3.10.2"
  }
 },
 "nbformat": 4,
 "nbformat_minor": 5
}
