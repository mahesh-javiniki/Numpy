{
 "cells": [
  {
   "cell_type": "markdown",
   "id": "e0c751cc",
   "metadata": {},
   "source": [
    "# Numpy Array Manipulation"
   ]
  },
  {
   "cell_type": "code",
   "execution_count": 1,
   "id": "9b445aa7",
   "metadata": {},
   "outputs": [],
   "source": [
    "import numpy as np"
   ]
  },
  {
   "cell_type": "markdown",
   "id": "852ae2a4",
   "metadata": {},
   "source": [
    "## 2. Array Joining (Concatenation)"
   ]
  },
  {
   "cell_type": "markdown",
   "id": "d550d150",
   "metadata": {},
   "source": [
    "Combine multiple arrays into one.\n",
    "\n",
    "**Methods:**\n",
    "\n",
    "* `concatenate()`\n",
    "* `stack()`\n",
    "* `hstack()`\n",
    "* `vstack()`\n",
    "* `dstack()`\n",
    "* `column_stack()`\n",
    "* `row_stack()`\n",
    "* `append()`"
   ]
  },
  {
   "cell_type": "markdown",
   "id": "ed1e93d3",
   "metadata": {},
   "source": [
    "### 1. concatenate()\n",
    "\n",
    "The `numpy.concatenate()` function is used to **join two or more arrays along an existing axis**.\n",
    "\n",
    "It is the most general-purpose concatenation function in NumPy and works on arrays of **any dimension**, as long as their shapes match along the other axes.\n",
    "\n",
    "**Syntax:**\n",
    "\n",
    "```python\n",
    "numpy.concatenate((a1, a2, ...), axis=0, out=None, dtype=None, casting=\"same_kind\")\n",
    "```\n",
    "\n",
    "**Parameters:**\n",
    "\n",
    "| Parameter       | Description                                                                                 |\n",
    "| --------------- | ------------------------------------------------------------------------------------------- |\n",
    "| **a1, a2, ...** | Sequence of arrays to concatenate (must be the same shape, except along the axis to join).  |\n",
    "| **axis**        | The axis along which the arrays will be joined. Default is `0`.                             |\n",
    "| **out**         | Optional. If provided, the result is placed in this array.                                  |\n",
    "| **dtype**       | Data type of the output array (optional).                                                   |\n",
    "| **casting**     | Controls what kind of data casting is allowed (usually safe to ignore unless mixing types). |\n",
    "\n",
    "**Key Rules to Remember:**\n",
    "\n",
    "1. All arrays **must have the same shape except along the axis specified**.\n",
    "2. You can concatenate along **any existing axis** (0, 1, 2, etc.).\n",
    "3. If `axis=None`, the arrays will be flattened before concatenation.\n"
   ]
  },
  {
   "cell_type": "code",
   "execution_count": 2,
   "id": "e54cb69a",
   "metadata": {},
   "outputs": [
    {
     "name": "stdout",
     "output_type": "stream",
     "text": [
      "[[1 2]\n",
      " [3 4]]\n",
      "(2, 2)\n",
      "2\n",
      "\n",
      "[[5 6]]\n",
      "(1, 2)\n",
      "2\n",
      "\n",
      "[[5]\n",
      " [6]]\n",
      "(2, 1)\n",
      "2\n"
     ]
    }
   ],
   "source": [
    "# Basic Concatenation Along Axis 0, 1\n",
    "\n",
    "a = np.array([[1, 2], [3, 4]])\n",
    "b = np.array([[5, 6]])\n",
    "c = np.array([[5, 6]]).reshape(2,1)\n",
    "\n",
    "print(a)\n",
    "print(a.shape)\n",
    "print(a.ndim)\n",
    "\n",
    "print()\n",
    "print(b)\n",
    "print(b.shape)\n",
    "print(b.ndim)\n",
    "\n",
    "print()\n",
    "print(c)\n",
    "print(c.shape)\n",
    "print(c.ndim)"
   ]
  },
  {
   "cell_type": "markdown",
   "id": "07bbc9a7",
   "metadata": {},
   "source": [
    "✅ Key Rule to Remember:\n",
    "\n",
    "When using `np.concatenate`:\n",
    "\n",
    "* All **dimensions must match exactly** except the one you are concatenating along.\n",
    "* For `axis=1` (columns): number of **rows must be the same.**\n",
    "* For `axis=0` (rows): number of **columns must be the same.**"
   ]
  },
  {
   "cell_type": "markdown",
   "id": "f2d62b8e",
   "metadata": {},
   "source": [
    "- If you are specifying the axis as 0, then 1st index should match,\n",
    "- if you are specifying the axis as 1, then 0th index should match,"
   ]
  },
  {
   "cell_type": "code",
   "execution_count": 3,
   "id": "373e98b6",
   "metadata": {},
   "outputs": [
    {
     "name": "stdout",
     "output_type": "stream",
     "text": [
      "[[1 2]\n",
      " [3 4]\n",
      " [5 6]]\n",
      "(3, 2)\n"
     ]
    }
   ],
   "source": [
    "result = np.concatenate((a, b))\n",
    "print(result)\n",
    "print(result.shape)"
   ]
  },
  {
   "cell_type": "code",
   "execution_count": 4,
   "id": "204aec6e",
   "metadata": {},
   "outputs": [
    {
     "name": "stdout",
     "output_type": "stream",
     "text": [
      "[[1 2]\n",
      " [3 4]\n",
      " [5 6]]\n",
      "(3, 2)\n"
     ]
    }
   ],
   "source": [
    "result = np.concatenate((a, b), axis=0)\n",
    "print(result)\n",
    "print(result.shape)\n",
    "\n",
    "# Rows will join"
   ]
  },
  {
   "cell_type": "code",
   "execution_count": 5,
   "id": "9847c5b3",
   "metadata": {
    "scrolled": true
   },
   "outputs": [
    {
     "name": "stdout",
     "output_type": "stream",
     "text": [
      "Error: all the input array dimensions except for the concatenation axis must match exactly, but along dimension 0, the array at index 0 has size 2 and the array at index 1 has size 1\n"
     ]
    }
   ],
   "source": [
    "try:\n",
    "    result = np.concatenate((a, b), axis = 1)\n",
    "except Exception as e:\n",
    "    print(f\"Error: {e}\")"
   ]
  },
  {
   "cell_type": "code",
   "execution_count": 6,
   "id": "97ab998c",
   "metadata": {},
   "outputs": [
    {
     "name": "stdout",
     "output_type": "stream",
     "text": [
      "[[1 2 5]\n",
      " [3 4 6]]\n",
      "(2, 3)\n"
     ]
    }
   ],
   "source": [
    "result = np.concatenate((a, c), axis=1)\n",
    "print(result)\n",
    "print(result.shape)\n",
    "\n",
    "# Columns will join"
   ]
  },
  {
   "cell_type": "code",
   "execution_count": 7,
   "id": "c8b94c08",
   "metadata": {},
   "outputs": [
    {
     "name": "stdout",
     "output_type": "stream",
     "text": [
      "[[4 8]\n",
      " [4 5]]\n",
      "(2, 2)\n",
      "2\n",
      "\n",
      "[[8 7]\n",
      " [9 7]]\n",
      "(2, 2)\n",
      "2\n"
     ]
    }
   ],
   "source": [
    "# Experimenting when both rows and columns are in same shape\n",
    "\n",
    "a = np.random.randint(1, 10, (2, 2))\n",
    "b = np.random.randint(1, 10, (2, 2))\n",
    "\n",
    "print(a)\n",
    "print(a.shape)\n",
    "print(a.ndim)\n",
    "\n",
    "print()\n",
    "print(b)\n",
    "print(b.shape)\n",
    "print(b.ndim)\n"
   ]
  },
  {
   "cell_type": "code",
   "execution_count": 8,
   "id": "ec1afe37",
   "metadata": {
    "scrolled": true
   },
   "outputs": [
    {
     "name": "stdout",
     "output_type": "stream",
     "text": [
      "[[4 8]\n",
      " [4 5]\n",
      " [8 7]\n",
      " [9 7]]\n",
      "(4, 2)\n"
     ]
    }
   ],
   "source": [
    "result = np.concatenate((a, b), axis=0)\n",
    "print(result)\n",
    "print(result.shape)"
   ]
  },
  {
   "cell_type": "code",
   "execution_count": 9,
   "id": "8ec0ffba",
   "metadata": {},
   "outputs": [
    {
     "name": "stdout",
     "output_type": "stream",
     "text": [
      "[[4 8 8 7]\n",
      " [4 5 9 7]]\n",
      "(2, 4)\n"
     ]
    }
   ],
   "source": [
    "result = np.concatenate((a, b), axis=1)\n",
    "print(result)\n",
    "print(result.shape)"
   ]
  },
  {
   "cell_type": "code",
   "execution_count": 10,
   "id": "68bcac66",
   "metadata": {},
   "outputs": [
    {
     "name": "stdout",
     "output_type": "stream",
     "text": [
      "[6 9 4]\n",
      "[9 7 5]\n",
      "[6 9 4 9 7 5]\n"
     ]
    }
   ],
   "source": [
    "# Concatenating 1D array\n",
    "\n",
    "a = np.random.randint(1, 10, (3, ))\n",
    "b = np.random.randint(1, 10, (3, ))\n",
    "\n",
    "print(a)\n",
    "print(b)\n",
    "\n",
    "print(np.concatenate((a, b)))"
   ]
  },
  {
   "cell_type": "code",
   "execution_count": 11,
   "id": "29fcebcd",
   "metadata": {},
   "outputs": [
    {
     "name": "stdout",
     "output_type": "stream",
     "text": [
      "[6 8 8]\n",
      "[2 3 4 9]\n",
      "[6 8 8 2 3 4 9]\n"
     ]
    }
   ],
   "source": [
    "a = np.random.randint(1, 10, (3, ))\n",
    "b = np.random.randint(1, 10, (4, ))\n",
    "\n",
    "print(a)\n",
    "print(b)\n",
    "\n",
    "print(np.concatenate((a, b)))"
   ]
  },
  {
   "cell_type": "code",
   "execution_count": 12,
   "id": "6ab79723",
   "metadata": {},
   "outputs": [],
   "source": [
    "# Concatenating 3D arrays\n",
    "\n",
    "a = np.array([[[1, 2]], [[3, 4]]])  # Shape (2, 1, 2)\n",
    "b = np.array([[[5, 6]]])            # Shape (1, 1, 2)\n"
   ]
  },
  {
   "cell_type": "code",
   "execution_count": 13,
   "id": "8b8e3988",
   "metadata": {},
   "outputs": [
    {
     "name": "stdout",
     "output_type": "stream",
     "text": [
      "Error1: all the input array dimensions except for the concatenation axis must match exactly, but along dimension 0, the array at index 0 has size 2 and the array at index 1 has size 1\n",
      "Error2: all the input array dimensions except for the concatenation axis must match exactly, but along dimension 0, the array at index 0 has size 2 and the array at index 1 has size 1\n"
     ]
    }
   ],
   "source": [
    "# For above arrays, if do concatenating with axis 1 or 2 will get error\n",
    "try:\n",
    "    print(np.concatenate((a, b), axis=1))\n",
    "except Exception as e1:\n",
    "    print(f\"Error1: {e1}\")\n",
    "    \n",
    "try:\n",
    "    print(np.concatenate((a, b), axis=2))\n",
    "except Exception as e2:\n",
    "    print(f\"Error2: {e2}\")"
   ]
  },
  {
   "cell_type": "code",
   "execution_count": 14,
   "id": "4c04f93d",
   "metadata": {},
   "outputs": [
    {
     "name": "stdout",
     "output_type": "stream",
     "text": [
      "[[[1 2]]\n",
      "\n",
      " [[3 4]]\n",
      "\n",
      " [[5 6]]]\n"
     ]
    }
   ],
   "source": [
    "print(np.concatenate((a, b), axis=0))"
   ]
  },
  {
   "cell_type": "code",
   "execution_count": 15,
   "id": "bab1c38a",
   "metadata": {
    "scrolled": true
   },
   "outputs": [
    {
     "name": "stdout",
     "output_type": "stream",
     "text": [
      "[1 2 3 4 5 6]\n"
     ]
    }
   ],
   "source": [
    "# Flatten and Concatenate Using axis=None\n",
    "a = np.array([[1, 2], [3, 4]]) # shape (2, 2)\n",
    "b = np.array([[5, 6]]) # shape (1, 2)\n",
    "\n",
    "print(np.concatenate((a, b), axis=None))"
   ]
  },
  {
   "cell_type": "code",
   "execution_count": 16,
   "id": "2e2a5050",
   "metadata": {},
   "outputs": [
    {
     "name": "stdout",
     "output_type": "stream",
     "text": [
      "[1.  2.  3.  4.5 5.5 6.5]\n"
     ]
    }
   ],
   "source": [
    "# Concatenating with Different Data Types\n",
    "\n",
    "a = np.array([1, 2, 3])\n",
    "b = np.array([4.5, 5.5, 6.5])\n",
    "\n",
    "print(np.concatenate((a, b)))\n",
    "\n",
    "# 👉 NumPy automatically upcasts to the more general data type."
   ]
  },
  {
   "cell_type": "code",
   "execution_count": 17,
   "id": "ba8042e8",
   "metadata": {
    "scrolled": true
   },
   "outputs": [
    {
     "name": "stdout",
     "output_type": "stream",
     "text": [
      "['1' '2' '3' 'a' 'b']\n"
     ]
    }
   ],
   "source": [
    "a = np.array([1, 2, 3])\n",
    "b = np.array(['a', 'b'])\n",
    "\n",
    "print(np.concatenate((a, b)))"
   ]
  },
  {
   "cell_type": "code",
   "execution_count": 18,
   "id": "279c543c",
   "metadata": {},
   "outputs": [
    {
     "name": "stdout",
     "output_type": "stream",
     "text": [
      "out_array before [0 0 0 0 0 0]\n",
      "out_array before [1 2 3 4 5 6]\n"
     ]
    }
   ],
   "source": [
    "# Using the out Parameter (Advanced)\n",
    "\n",
    "a = np.array([1, 2, 3])\n",
    "b = np.array([4, 5, 6])\n",
    "\n",
    "out_array = np.zeros(6, dtype=int)\n",
    "\n",
    "print(f\"out_array before\", out_array)\n",
    "np.concatenate((a, b), out=out_array)\n",
    "print(f\"out_array before\", out_array)\n",
    "\n",
    "# 👉 The result is stored in the out array directly."
   ]
  },
  {
   "cell_type": "code",
   "execution_count": 19,
   "id": "7655b7a6",
   "metadata": {
    "scrolled": true
   },
   "outputs": [
    {
     "name": "stdout",
     "output_type": "stream",
     "text": [
      "all the input arrays must have same number of dimensions, but the array at index 0 has 2 dimension(s) and the array at index 1 has 1 dimension(s)\n"
     ]
    }
   ],
   "source": [
    "# Shape mismatch error\n",
    "a = np.array([[1, 2], [3, 4]]) # shape (2, 2)\n",
    "b = np.array([5, 6, 7]) # shape (3, )\n",
    "\n",
    "try:\n",
    "    np.concatenate((a, b), axis=0)\n",
    "except Exception as e:\n",
    "    print(e)\n",
    "    \n",
    "# Solution: Always ensure arrays have compatible shapes along other axes."
   ]
  },
  {
   "cell_type": "markdown",
   "id": "bf7405e7",
   "metadata": {},
   "source": [
    "**Difference Between `concatenate` and `stack`**\n",
    "\n",
    "| Feature      | `concatenate`                                      | `stack`                    |\n",
    "| ------------ | -------------------------------------------------- | -------------------------- |\n",
    "| Axis         | Joins along existing axis                          | Joins along a **new axis** |\n",
    "| Result Shape | Dimensions remain the same or reduced if flattened | Dimensions increase by 1   |\n",
    "\n",
    "\n",
    "**When to Use `concatenate()`**\n",
    "\n",
    "* When you want to **combine arrays along existing axes.**\n",
    "* When you **don’t need to introduce a new dimension.**\n",
    "* Useful for data stitching, reshaping, and dataset expansion.\n",
    "\n",
    "\n",
    "**Key Takeaways:**\n",
    "\n",
    "* `numpy.concatenate()` is highly flexible and works across all dimensions.\n",
    "* You must carefully match shapes across all axes **except the axis you are concatenating on.**\n",
    "* You can flatten arrays using `axis=None`.\n",
    "* If you want to introduce a **new dimension**, use `numpy.stack()` instead."
   ]
  },
  {
   "cell_type": "code",
   "execution_count": null,
   "id": "b55d244f",
   "metadata": {},
   "outputs": [],
   "source": []
  },
  {
   "cell_type": "markdown",
   "id": "7b567bd1",
   "metadata": {},
   "source": [
    "### 2. stack()\n",
    "\n",
    "The `numpy.stack()` function **joins a sequence of arrays along a new axis.**\n",
    "\n",
    "It is different from `concatenate()`, which joins along an existing axis.\n",
    "\n",
    "👉 **Key idea:** `stack()` always **increases the number of dimensions by one.**\n",
    "\n",
    "**Syntax:**\n",
    "\n",
    "```python\n",
    "numpy.stack(arrays, axis=0, out=None)\n",
    "```\n",
    "\n",
    "**Parameters:**\n",
    "\n",
    "| Parameter  | Description                                                                        |\n",
    "| ---------- | ---------------------------------------------------------------------------------- |\n",
    "| **arrays** | Sequence (list/tuple) of arrays to stack. All arrays must have **the same shape.** |\n",
    "| **axis**   | The axis along which to stack. Default is `0` (new axis is created at the front).  |\n",
    "| **out**    | Optional output array to store the result. Usually not required.                   |\n",
    "\n",
    "**Key Rules:**\n",
    "\n",
    "* **All input arrays must have the same shape.**\n",
    "* A **new axis is created** (which increases the dimensionality by one).\n",
    "* Axis can be positive or negative:\n",
    "\n",
    "  * Positive → counts from the start (0 is the first axis).\n",
    "  * Negative → counts from the end (-1 is the last axis).\n",
    "  \n",
    "**Why use `stack()` instead of `concatenate()`?**\n",
    "\n",
    "* `stack()` **adds a new dimension.**\n",
    "* `concatenate()` **joins along an existing dimension.**\n",
    "\n",
    "If you need a **higher dimensional array as output**, use `stack()`."
   ]
  },
  {
   "cell_type": "markdown",
   "id": "6112d226",
   "metadata": {},
   "source": [
    "Based on shape, this entire axis thng will work\n",
    "\n",
    "For 2D array -> shape considered as (ROWS, COLS)\n",
    "\n",
    "- Positive -> ROWS - 0 & COLS - 1\n",
    "\n",
    "- Negative -> ROWS - (-2) & COLS - (-1)"
   ]
  },
  {
   "cell_type": "code",
   "execution_count": 20,
   "id": "e84cba5d",
   "metadata": {},
   "outputs": [
    {
     "name": "stdout",
     "output_type": "stream",
     "text": [
      "[[1 2]\n",
      " [3 4]]\n",
      "(2, 2)\n"
     ]
    }
   ],
   "source": [
    "a = np.array([1, 2]) # shape: (2, )\n",
    "b = np.array([3, 4]) # shape: (2, )\n",
    "\n",
    "result1 = np.stack((a, b), axis = 0)\n",
    "\n",
    "print(result1)\n",
    "print(result1.shape)\n",
    "# 👉 A new axis is created at the front → arrays are stacked vertically."
   ]
  },
  {
   "cell_type": "code",
   "execution_count": 21,
   "id": "968702cb",
   "metadata": {},
   "outputs": [
    {
     "name": "stdout",
     "output_type": "stream",
     "text": [
      "[[1 3]\n",
      " [2 4]]\n",
      "(2, 2)\n"
     ]
    }
   ],
   "source": [
    "result2 = np.stack((a, b), axis = 1)\n",
    "print(result2)\n",
    "print(result2.shape)\n",
    "# 👉 New axis is created at position 1 → arrays are stacked column-wise."
   ]
  },
  {
   "cell_type": "code",
   "execution_count": 22,
   "id": "d27b5dbd",
   "metadata": {},
   "outputs": [
    {
     "name": "stdout",
     "output_type": "stream",
     "text": [
      "[[1 3]\n",
      " [2 4]]\n",
      "Shape: (2, 2)\n"
     ]
    }
   ],
   "source": [
    "# Stacking Along Negative Axis\n",
    "result = np.stack((a, b), axis=-1)\n",
    "print(result)\n",
    "print(\"Shape:\", result.shape)"
   ]
  },
  {
   "cell_type": "code",
   "execution_count": 23,
   "id": "9f391a69",
   "metadata": {},
   "outputs": [
    {
     "name": "stdout",
     "output_type": "stream",
     "text": [
      "[[1 2]\n",
      " [3 4]]\n",
      "Shape: (2, 2)\n"
     ]
    }
   ],
   "source": [
    "result = np.stack((a, b), axis=-2)\n",
    "print(result)\n",
    "print(\"Shape:\", result.shape)"
   ]
  },
  {
   "cell_type": "code",
   "execution_count": 24,
   "id": "253a6189",
   "metadata": {},
   "outputs": [
    {
     "name": "stdout",
     "output_type": "stream",
     "text": [
      "[[1 2]\n",
      " [3 4]]\n",
      "\n",
      "\n",
      "[[5 6]\n",
      " [7 8]]\n"
     ]
    }
   ],
   "source": [
    "# Stacking 2D Arrays (Higher Dimensions)\n",
    "a = np.array([[1, 2], [3, 4]]) # shape (2,2)\n",
    "b = np.array([[5, 6], [7, 8]]) # shape (2,2)\n",
    "\n",
    "print(a, end = \"\\n\\n\\n\")\n",
    "print(b)"
   ]
  },
  {
   "cell_type": "code",
   "execution_count": 25,
   "id": "cbb78bbb",
   "metadata": {},
   "outputs": [
    {
     "name": "stdout",
     "output_type": "stream",
     "text": [
      "[[[1 2]\n",
      "  [3 4]]\n",
      "\n",
      " [[5 6]\n",
      "  [7 8]]]\n"
     ]
    }
   ],
   "source": [
    "result = np.stack((a, b), axis=0)\n",
    "print(result)"
   ]
  },
  {
   "cell_type": "code",
   "execution_count": 26,
   "id": "47a2d608",
   "metadata": {
    "scrolled": false
   },
   "outputs": [
    {
     "name": "stdout",
     "output_type": "stream",
     "text": [
      "[[[1 2]\n",
      "  [5 6]]\n",
      "\n",
      " [[3 4]\n",
      "  [7 8]]]\n"
     ]
    }
   ],
   "source": [
    "result = np.stack((a, b), axis=1)\n",
    "print(result)"
   ]
  },
  {
   "cell_type": "code",
   "execution_count": 27,
   "id": "b57f972e",
   "metadata": {},
   "outputs": [
    {
     "name": "stdout",
     "output_type": "stream",
     "text": [
      "[[[1 5]\n",
      "  [2 6]]\n",
      "\n",
      " [[3 7]\n",
      "  [4 8]]]\n"
     ]
    }
   ],
   "source": [
    "result = np.stack((a, b), axis=2)\n",
    "print(result)"
   ]
  },
  {
   "cell_type": "code",
   "execution_count": 28,
   "id": "46e62a33",
   "metadata": {},
   "outputs": [
    {
     "name": "stdout",
     "output_type": "stream",
     "text": [
      "Error: all input arrays must have the same shape\n"
     ]
    }
   ],
   "source": [
    "# Error When Shapes Don’t Match\n",
    "a = np.array([1, 2, 3])\n",
    "b = np.array([4, 5])\n",
    "\n",
    "try:\n",
    "    np.stack((a, b))\n",
    "except Exception as e:\n",
    "    print(f\"Error: {e}\")"
   ]
  },
  {
   "cell_type": "markdown",
   "id": "6889dfcd",
   "metadata": {},
   "source": [
    "👉 **Important:** `stack()` requires all input arrays to have the **same shape.**"
   ]
  },
  {
   "cell_type": "markdown",
   "id": "49406790",
   "metadata": {},
   "source": [
    "**Difference Between `stack()`, `concatenate()`, and `vstack()`**\n",
    "\n",
    "| Feature           | `stack`                            | `concatenate`                                  | `vstack`                        |\n",
    "| ----------------- | ---------------------------------- | ---------------------------------------------- | ------------------------------- |\n",
    "| Adds New Axis?    | ✅ Yes                              | ❌ No                                           | ❌ No                            |\n",
    "| Shape Requirement | All shapes must match              | All shapes must match except along concat axis | Follows vertical stacking rules |\n",
    "| Typical Usage     | Building higher dimensional arrays | Stitching arrays together along existing axis  | Row-wise stacking               |\n",
    "\n",
    "\n",
    "**Summary:**\n",
    "\n",
    "* 🔸 `stack()` **always adds a new axis** → increases dimensionality.\n",
    "* 🔸 Input arrays must **have exactly the same shape.**\n",
    "* 🔸 The `axis` parameter controls **where the new axis is inserted.**\n",
    "* 🔸 `axis=0` → new axis at front → stacks vertically.\n",
    "* 🔸 `axis=1` → new axis in second position → stacks columns.\n",
    "* 🔸 **Negative axis values** are supported → count from the end."
   ]
  },
  {
   "cell_type": "code",
   "execution_count": null,
   "id": "806f7c51",
   "metadata": {},
   "outputs": [],
   "source": []
  },
  {
   "cell_type": "markdown",
   "id": "2fd418ea",
   "metadata": {},
   "source": [
    "### 3. hstack()\n",
    "\n",
    "The `numpy.hstack()` function is used to **stack arrays in sequence horizontally (along columns)**.\n",
    "It is a **shortcut for horizontal concatenation** — it stacks arrays side-by-side.\n",
    "\n",
    "It is conceptually equivalent to `np.concatenate()` with `axis=1` for 2D arrays, and with `axis=0` for 1D arrays.\n",
    "\n",
    "---\n",
    "\n",
    "**Syntax:**\n",
    "\n",
    "```python\n",
    "numpy.hstack(tup)\n",
    "```\n",
    "\n",
    "**Parameters:**\n",
    "\n",
    "| Parameter | Description                                                                                               |\n",
    "| --------- | --------------------------------------------------------------------------------------------------------- |\n",
    "| **tup**   | Tuple or list of arrays to be stacked. Arrays must have the same shape **along all but the second axis**. |\n",
    "\n",
    "---\n",
    "\n",
    "**Key Points:**\n",
    "\n",
    "* For **1D arrays:** `hstack()` simply concatenates them.\n",
    "* For **2D arrays:** arrays must have the **same number of rows**.\n",
    "* For **n-dimensional arrays:** arrays must have the same shape except along axis=1.\n",
    "\n",
    "**Visual Concept:**\n",
    "\n",
    "If you have:\n",
    "\n",
    "```text\n",
    "[1 2]    [3 4]\n",
    "```\n",
    "\n",
    "After `hstack`:\n",
    "\n",
    "```text\n",
    "[1 2 3 4]\n",
    "```"
   ]
  },
  {
   "cell_type": "code",
   "execution_count": 29,
   "id": "741d8281",
   "metadata": {},
   "outputs": [
    {
     "name": "stdout",
     "output_type": "stream",
     "text": [
      "[1 2 3 4 5 6]\n"
     ]
    }
   ],
   "source": [
    "# Horizontal Stacking of 1D Arrays\n",
    "\n",
    "a = np.array([1, 2, 3])\n",
    "b = np.array([4, 5, 6])\n",
    "\n",
    "result = np.hstack((a, b))\n",
    "print(result)\n",
    "\n",
    "# 👉 For 1D arrays, hstack() behaves like simple concatenation."
   ]
  },
  {
   "cell_type": "code",
   "execution_count": 30,
   "id": "366c28b4",
   "metadata": {},
   "outputs": [
    {
     "name": "stdout",
     "output_type": "stream",
     "text": [
      "[[1 2 5 6]\n",
      " [3 4 7 8]]\n"
     ]
    }
   ],
   "source": [
    "# Horizontal Stacking of 2D Arrays\n",
    "\n",
    "a = np.array([[1, 2], [3, 4]])\n",
    "b = np.array([[5, 6], [7, 8]])\n",
    "\n",
    "result = np.hstack((a, b))\n",
    "print(result)\n",
    "\n",
    "# 👉 Arrays are stacked side-by-side (columns)."
   ]
  },
  {
   "cell_type": "code",
   "execution_count": 31,
   "id": "a4538bb2",
   "metadata": {},
   "outputs": [
    {
     "name": "stdout",
     "output_type": "stream",
     "text": [
      "Error: all the input array dimensions except for the concatenation axis must match exactly, but along dimension 0, the array at index 0 has size 2 and the array at index 1 has size 1\n"
     ]
    }
   ],
   "source": [
    "# Error Case (Mismatched Rows)\n",
    "\n",
    "a = np.array([[1, 2], [3, 4]])\n",
    "b = np.array([[5, 6, 7]])\n",
    "\n",
    "try:\n",
    "    np.hstack((a, b))\n",
    "except Exception as e:\n",
    "    print(f\"Error: {e}\")"
   ]
  },
  {
   "cell_type": "code",
   "execution_count": 32,
   "id": "737f317c",
   "metadata": {},
   "outputs": [
    {
     "name": "stdout",
     "output_type": "stream",
     "text": [
      "(2, 4, 1)\n",
      "[[[1]\n",
      "  [2]\n",
      "  [5]\n",
      "  [6]]\n",
      "\n",
      " [[3]\n",
      "  [4]\n",
      "  [7]\n",
      "  [8]]]\n"
     ]
    }
   ],
   "source": [
    "# Horizontal Stacking of 3D Arrays\n",
    "\n",
    "a = np.array([[[1], [2]], [[3], [4]]])  # Shape: (2, 2, 1)\n",
    "b = np.array([[[5], [6]], [[7], [8]]])  # Shape: (2, 2, 1)\n",
    "\n",
    "result = np.hstack((a, b))\n",
    "print(result.shape)\n",
    "print(result)"
   ]
  },
  {
   "cell_type": "markdown",
   "id": "fc9cb11f",
   "metadata": {},
   "source": [
    "**Difference Between `hstack()` and `concatenate()`**\n",
    "\n",
    "| Feature           | `hstack()`                                  | `concatenate()`                   |\n",
    "| ----------------- | ------------------------------------------- | --------------------------------- |\n",
    "| Axis Used         | Horizontally (axis=1 for 2D, axis=0 for 1D) | Any axis specified by user        |\n",
    "| Input Requirement | Must match in all but horizontal dimension  | Must match in all but concat axis |\n",
    "\n",
    "👉 `hstack()` is **simpler** when you want horizontal stacking without specifying axis.\n",
    "\n",
    "---\n",
    "\n",
    "**Difference Between `hstack()`, `vstack()`, and `stack()`**\n",
    "\n",
    "| Method     | Stacking Type             | Adds New Axis? |\n",
    "| ---------- | ------------------------- | -------------- |\n",
    "| `hstack()` | Horizontal (side-by-side) | No             |\n",
    "| `vstack()` | Vertical (top-to-bottom)  | No             |\n",
    "| `stack()`  | Adds a New Axis           | Yes            |\n",
    "\n",
    "---\n",
    "\n",
    "**Summary:**\n",
    "\n",
    "* ✅ `hstack()` **stacks arrays side-by-side (column-wise).**\n",
    "* ✅ Works like `concatenate()` with `axis=1` for 2D arrays.\n",
    "* ✅ Arrays must have **the same shape except along the horizontal dimension.**\n",
    "* ✅ Very useful for quickly building datasets or side-by-side layouts.\n"
   ]
  },
  {
   "cell_type": "code",
   "execution_count": null,
   "id": "26d99ca5",
   "metadata": {},
   "outputs": [],
   "source": []
  },
  {
   "cell_type": "markdown",
   "id": "aafdd2c7",
   "metadata": {},
   "source": [
    "### 4. vstack()\n",
    "\n",
    "The `numpy.vstack()` function **stacks arrays vertically (row-wise)**.\n",
    "\n",
    "* It **joins arrays along axis 0** (adds them one below the other).\n",
    "* For **1D arrays**, it converts them to 2D rows before stacking.\n",
    "\n",
    "It is a **convenient shortcut** for vertical stacking, similar to using:\n",
    "\n",
    "```python\n",
    "np.concatenate((a, b), axis=0)\n",
    "```\n",
    "\n",
    "for 2D arrays.\n",
    "\n",
    "---\n",
    "\n",
    "**Syntax:**\n",
    "\n",
    "```python\n",
    "numpy.vstack(tup)\n",
    "```\n",
    "\n",
    "**Parameters:**\n",
    "\n",
    "| Parameter | Description                                         |\n",
    "| --------- | --------------------------------------------------- |\n",
    "| **tup**   | A tuple or list of arrays to be stacked vertically. |\n",
    "\n",
    "---\n",
    "\n",
    "**Key Points:**\n",
    "\n",
    "* Arrays must have the **same number of columns** (or length for 1D arrays).\n",
    "* For **1D arrays**, they are treated as rows and promoted to 2D automatically.\n",
    "* **No new axis is created** (unlike `stack()`).\n",
    "\n",
    "---\n",
    "\n",
    "**Visual Concept:**\n",
    "\n",
    "If you have:\n",
    "\n",
    "```text\n",
    "[1 2]  stacked with  [3 4]  using vstack →\n",
    "```\n",
    "\n",
    "Result:\n",
    "\n",
    "```text\n",
    "[[1 2]\n",
    " [3 4]]\n",
    "```\n"
   ]
  },
  {
   "cell_type": "code",
   "execution_count": 33,
   "id": "e2a8ca77",
   "metadata": {},
   "outputs": [
    {
     "name": "stdout",
     "output_type": "stream",
     "text": [
      "[[1 2 3]\n",
      " [4 5 6]]\n",
      "Shape: (2, 3)\n"
     ]
    }
   ],
   "source": [
    "# Vertical Stacking of 1D Arrays\n",
    "\n",
    "a = np.array([1, 2, 3])\n",
    "b = np.array([4, 5, 6])\n",
    "\n",
    "result = np.vstack((a, b))\n",
    "print(result)\n",
    "print(\"Shape:\", result.shape)"
   ]
  },
  {
   "cell_type": "code",
   "execution_count": 34,
   "id": "33b585f9",
   "metadata": {},
   "outputs": [
    {
     "name": "stdout",
     "output_type": "stream",
     "text": [
      "[[1 2]\n",
      " [3 4]\n",
      " [5 6]]\n",
      "Shape: (3, 2)\n"
     ]
    }
   ],
   "source": [
    "# Vertical Stacking of 2D Arrays\n",
    "a = np.array([[1, 2], [3, 4]])\n",
    "b = np.array([[5, 6]])\n",
    "\n",
    "result = np.vstack((a, b))\n",
    "print(result)\n",
    "print(\"Shape:\", result.shape)"
   ]
  },
  {
   "cell_type": "code",
   "execution_count": 35,
   "id": "9058d839",
   "metadata": {
    "scrolled": true
   },
   "outputs": [
    {
     "name": "stdout",
     "output_type": "stream",
     "text": [
      "Error: all the input array dimensions except for the concatenation axis must match exactly, but along dimension 1, the array at index 0 has size 2 and the array at index 1 has size 3\n"
     ]
    }
   ],
   "source": [
    "# Error When Columns Don’t Match\n",
    "\n",
    "a = np.array([[1, 2], [3, 4]])\n",
    "b = np.array([[5, 6, 7]])\n",
    "\n",
    "try:\n",
    "    np.vstack((a, b))\n",
    "except Exception as e:\n",
    "    print(f\"Error: {e}\")"
   ]
  },
  {
   "cell_type": "code",
   "execution_count": 36,
   "id": "47d8359d",
   "metadata": {},
   "outputs": [
    {
     "name": "stdout",
     "output_type": "stream",
     "text": [
      "(3, 1, 2)\n",
      "[[[1 2]]\n",
      "\n",
      " [[3 4]]\n",
      "\n",
      " [[5 6]]]\n"
     ]
    }
   ],
   "source": [
    "# Working with 3D Arrays\n",
    "a = np.array([[[1, 2]], [[3, 4]]])  # Shape: (2, 1, 2)\n",
    "b = np.array([[[5, 6]]])            # Shape: (1, 1, 2)\n",
    "\n",
    "result = np.vstack((a, b))\n",
    "print(result.shape)\n",
    "print(result)\n"
   ]
  },
  {
   "cell_type": "markdown",
   "id": "0857d518",
   "metadata": {},
   "source": [
    "**Difference Between `vstack()` and `hstack()`**\n",
    "\n",
    "| Feature               | `vstack()`                 | `hstack()`                  |\n",
    "| --------------------- | -------------------------- | --------------------------- |\n",
    "| Stacking Direction    | Vertically (top to bottom) | Horizontally (side-by-side) |\n",
    "| Dimension Requirement | Same number of columns     | Same number of rows         |\n",
    "| Axis Affected         | Stacks along axis=0        | Stacks along axis=1         |\n",
    "\n",
    "---\n",
    "\n",
    "**Difference Between `vstack()`, `hstack()`, and `stack()`**\n",
    "\n",
    "| Method     | Stacking Type             | Adds New Axis? |\n",
    "| ---------- | ------------------------- | -------------- |\n",
    "| `vstack()` | Vertical (top-to-bottom)  | No             |\n",
    "| `hstack()` | Horizontal (side-by-side) | No             |\n",
    "| `stack()`  | Adds a New Axis           | Yes            |\n",
    "\n",
    "---\n",
    "\n",
    "**Summary:**\n",
    "\n",
    "* ✅ `vstack()` stacks arrays vertically (row-wise).\n",
    "* ✅ For 1D arrays, they are **converted to rows automatically.**\n",
    "* ✅ Arrays must have the **same number of columns.**\n",
    "* ✅ It is equivalent to `concatenate` with `axis=0` for 2D arrays.\n"
   ]
  },
  {
   "cell_type": "code",
   "execution_count": null,
   "id": "8910fde0",
   "metadata": {},
   "outputs": [],
   "source": []
  },
  {
   "cell_type": "markdown",
   "id": "c50b617d",
   "metadata": {},
   "source": [
    "### 5. dstack()\n",
    "\n",
    "The `numpy.dstack()` function is used to **stack arrays in sequence along the third axis (axis=2), also known as \"depth-wise\" stacking.**\n",
    "\n",
    "It is most useful when working with **multi-dimensional arrays (especially 2D arrays)** where you want to combine arrays into a single array with an additional depth layer.\n",
    "\n",
    "Think of **\"depth\" as stacking layers like a sandwich.**\n",
    "\n",
    "---\n",
    "\n",
    "**Syntax:**\n",
    "\n",
    "```python\n",
    "numpy.dstack(tup)\n",
    "```\n",
    "\n",
    "**Parameters:**\n",
    "\n",
    "| Parameter | Description                                                              |\n",
    "| --------- | ------------------------------------------------------------------------ |\n",
    "| **tup**   | A sequence (tuple or list) of arrays to be stacked along depth (axis=2). |\n",
    "\n",
    "---\n",
    "\n",
    "**Key Rules:**\n",
    "\n",
    "* Arrays **must have the same shape** along all axes **except axis=2.**\n",
    "* For **1D arrays:** NumPy first promotes them to shape `(n, 1)` before stacking.\n",
    "* For **2D arrays:** The depth is introduced as a third axis.\n",
    "\n",
    "---\n",
    "\n",
    "**Visual Explanation:**\n",
    "\n",
    "Suppose you have:\n",
    "\n",
    "```text\n",
    "Array 1: [1 2]     Array 2: [3 4]\n",
    "```\n",
    "\n",
    "After `dstack`:\n",
    "\n",
    "```text\n",
    "Result: [[[1 3]]\n",
    "         [[2 4]]]\n",
    "```\n",
    "\n",
    "👉 It stacks arrays **layer by layer along depth (axis=2).**\n"
   ]
  },
  {
   "cell_type": "code",
   "execution_count": 37,
   "id": "1bd676ff",
   "metadata": {},
   "outputs": [
    {
     "name": "stdout",
     "output_type": "stream",
     "text": [
      "[[[1 4]\n",
      "  [2 5]\n",
      "  [3 6]]]\n",
      "Shape: (1, 3, 2)\n",
      "Dim: 3\n"
     ]
    }
   ],
   "source": [
    "# Stacking 1D Arrays\n",
    "\n",
    "a = np.array([1, 2, 3])\n",
    "b = np.array([4, 5, 6])\n",
    "\n",
    "result = np.dstack((a, b))\n",
    "print(result)\n",
    "print(f\"Shape: {result.shape}\")\n",
    "print(f\"Dim: {result.ndim}\")"
   ]
  },
  {
   "cell_type": "code",
   "execution_count": 38,
   "id": "f835aa71",
   "metadata": {},
   "outputs": [
    {
     "name": "stdout",
     "output_type": "stream",
     "text": [
      "[[[1 5]\n",
      "  [2 6]]\n",
      "\n",
      " [[3 7]\n",
      "  [4 8]]]\n",
      "Shape: (2, 2, 2)\n",
      "Dim: 3\n"
     ]
    }
   ],
   "source": [
    "# Stacking 2D Arrays\n",
    "\n",
    "a = np.array([[1, 2], [3, 4]])\n",
    "b = np.array([[5, 6], [7, 8]])\n",
    "\n",
    "result = np.dstack((a, b))\n",
    "print(result)\n",
    "print(f\"Shape: {result.shape}\")\n",
    "print(f\"Dim: {result.ndim}\")"
   ]
  },
  {
   "cell_type": "code",
   "execution_count": 39,
   "id": "35b4efbd",
   "metadata": {},
   "outputs": [
    {
     "name": "stdout",
     "output_type": "stream",
     "text": [
      "[[[1 2 5 6]]\n",
      "\n",
      " [[3 4 7 8]]]\n",
      "Shape: (2, 1, 4)\n",
      "Dim: 3\n"
     ]
    }
   ],
   "source": [
    "# Stacking 3D Arrays\n",
    "\n",
    "a = np.array([[[1, 2]], [[3, 4]]])  # Shape: (2, 1, 2)\n",
    "b = np.array([[[5, 6]], [[7, 8]]])  # Shape: (2, 1, 2)\n",
    "\n",
    "result = np.dstack((a, b))\n",
    "print(result)\n",
    "print(f\"Shape: {result.shape}\")\n",
    "print(f\"Dim: {result.ndim}\")"
   ]
  },
  {
   "cell_type": "code",
   "execution_count": 40,
   "id": "a10b8032",
   "metadata": {},
   "outputs": [
    {
     "name": "stdout",
     "output_type": "stream",
     "text": [
      "Error: all the input array dimensions except for the concatenation axis must match exactly, but along dimension 1, the array at index 0 has size 2 and the array at index 1 has size 3\n"
     ]
    }
   ],
   "source": [
    "# Error Case When Shapes Don’t Match\n",
    "\n",
    "a = np.array([[1, 2], [3, 4]])\n",
    "b = np.array([[5, 6, 7], [8, 9, 10]])\n",
    "\n",
    "try:\n",
    "    np.dstack((a, b))\n",
    "except Exception as e:\n",
    "    print(f\"Error: {e}\")"
   ]
  },
  {
   "cell_type": "markdown",
   "id": "84213939",
   "metadata": {},
   "source": [
    "**Difference Between `dstack()`, `hstack()`, and `vstack()`**\n",
    "\n",
    "| Method     | Stacking Direction          | Axis Affected | Shape Requirement               |\n",
    "| ---------- | --------------------------- | ------------- | ------------------------------- |\n",
    "| `vstack()` | Vertical (top to bottom)    | axis=0        | Same number of columns          |\n",
    "| `hstack()` | Horizontal (side by side)   | axis=1        | Same number of rows             |\n",
    "| `dstack()` | Depth-wise (layer by layer) | axis=2        | Same shape for rows and columns |\n",
    "\n",
    "---\n",
    "\n",
    "**Difference Between `dstack()` and `stack()`**\n",
    "\n",
    "| Feature         | `dstack()`                           | `stack()`                  |\n",
    "| --------------- | ------------------------------------ | -------------------------- |\n",
    "| Axis Used       | Always stacks along axis=2           | User can choose any axis   |\n",
    "| New Axis Added? | Yes, at depth layer                  | Yes, at specified position |\n",
    "| Simplicity      | Simpler, specific for depth stacking | More flexible              |\n",
    "\n",
    "---\n",
    "\n",
    "**Summary:**\n",
    "\n",
    "* ✅ `numpy.dstack()` stacks arrays **along the third axis (axis=2)** → depth-wise stacking.\n",
    "* ✅ For **1D arrays**, NumPy promotes them to 2D before stacking.\n",
    "* ✅ All arrays must have **the same shape except along depth.**\n",
    "* ✅ Best for **creating multi-layered structures** like image channels or depth maps.\n"
   ]
  },
  {
   "cell_type": "code",
   "execution_count": null,
   "id": "e132c0bc",
   "metadata": {},
   "outputs": [],
   "source": []
  },
  {
   "cell_type": "markdown",
   "id": "ba0f9b06",
   "metadata": {},
   "source": [
    "### 6. column_stack()\n",
    "\n",
    "The `numpy.column_stack()` function **stacks 1D arrays as columns into a 2D array.**\n",
    "\n",
    "It is useful when you want to **combine multiple 1D arrays into a multi-column matrix.**\n",
    "\n",
    "It automatically:\n",
    "\n",
    "* Promotes **1D arrays to columns**.\n",
    "* Leaves **2D arrays unchanged.**\n",
    "\n",
    "---\n",
    "\n",
    "**Syntax:**\n",
    "\n",
    "```python\n",
    "numpy.column_stack(tup)\n",
    "```\n",
    "\n",
    "**Parameters:**\n",
    "\n",
    "| Parameter | Description                                             |\n",
    "| --------- | ------------------------------------------------------- |\n",
    "| **tup**   | A tuple or list of 1D or 2D arrays to stack as columns. |\n",
    "\n",
    "---\n",
    "\n",
    "**Key Rules:**\n",
    "\n",
    "* **1D arrays are treated as column vectors.**\n",
    "* Arrays must have **the same number of elements** (same length).\n",
    "* The result is **always a 2D array**.\n",
    "\n",
    "---\n",
    "\n",
    "**Visual Concept:**\n",
    "\n",
    "Suppose you have:\n",
    "\n",
    "```text\n",
    "a = [1, 2, 3]   →  becomes  [[1]\n",
    "                              [2]\n",
    "                              [3]]\n",
    "b = [4, 5, 6]   →  becomes  [[4]\n",
    "                              [5]\n",
    "                              [6]]\n",
    "```\n",
    "\n",
    "After `column_stack((a, b))`:\n",
    "\n",
    "```text\n",
    "[[1 4]\n",
    " [2 5]\n",
    " [3 6]]\n",
    "```\n"
   ]
  },
  {
   "cell_type": "code",
   "execution_count": 44,
   "id": "691587fe",
   "metadata": {},
   "outputs": [
    {
     "name": "stdout",
     "output_type": "stream",
     "text": [
      "[[1 4]\n",
      " [2 5]\n",
      " [3 6]]\n"
     ]
    }
   ],
   "source": [
    "# Stacking 1D Arrays as Columns\n",
    "a = np.array([1, 2, 3])\n",
    "b = np.array([4, 5, 6])\n",
    "\n",
    "result = np.column_stack((a, b))\n",
    "print(result)\n",
    "\n",
    "# 👉 a and b are converted to columns and stacked side by side."
   ]
  },
  {
   "cell_type": "code",
   "execution_count": 46,
   "id": "d97e98b2",
   "metadata": {},
   "outputs": [
    {
     "name": "stdout",
     "output_type": "stream",
     "text": [
      "[[1 4]\n",
      " [2 5]\n",
      " [3 6]]\n"
     ]
    }
   ],
   "source": [
    "# Stacking 2D Arrays\n",
    "a = np.array([[1], [2], [3]])\n",
    "b = np.array([[4], [5], [6]])\n",
    "\n",
    "result = np.column_stack((a, b))\n",
    "print(result)\n",
    "\n",
    "# 👉 Since arrays are already 2D, they are just horizontally stacked."
   ]
  },
  {
   "cell_type": "code",
   "execution_count": 47,
   "id": "a4f5eba8",
   "metadata": {},
   "outputs": [
    {
     "name": "stdout",
     "output_type": "stream",
     "text": [
      "[[1 4]\n",
      " [2 5]\n",
      " [3 6]]\n"
     ]
    }
   ],
   "source": [
    "# Stacking Mixture of 1D and 2D Arrays\n",
    "a = np.array([1, 2, 3])              # 1D array\n",
    "b = np.array([[4], [5], [6]])        # 2D array\n",
    "\n",
    "result = np.column_stack((a, b))\n",
    "print(result)"
   ]
  },
  {
   "cell_type": "code",
   "execution_count": 48,
   "id": "e9f264fc",
   "metadata": {
    "scrolled": true
   },
   "outputs": [
    {
     "name": "stdout",
     "output_type": "stream",
     "text": [
      "Error: all the input array dimensions except for the concatenation axis must match exactly, but along dimension 0, the array at index 0 has size 3 and the array at index 1 has size 2\n"
     ]
    }
   ],
   "source": [
    "# Error Case (Length Mismatch)\n",
    "a = np.array([1, 2, 3])\n",
    "b = np.array([4, 5])\n",
    "\n",
    "try:\n",
    "    np.column_stack((a, b))\n",
    "except Exception as e:\n",
    "    print(f\"Error: {e}\")"
   ]
  },
  {
   "cell_type": "markdown",
   "id": "d95b0327",
   "metadata": {},
   "source": [
    "**Difference Between `column_stack()` and `hstack()`**\n",
    "\n",
    "| Feature            | `column_stack()`                              | `hstack()`                                            |\n",
    "| ------------------ | --------------------------------------------- | ----------------------------------------------------- |\n",
    "| 1D Arrays Handling | Converts to column vectors                    | Concatenates side by side (remains 1D if input is 1D) |\n",
    "| Result Shape       | Always 2D                                     | Can be 1D or 2D                                       |\n",
    "| Typical Usage      | Building multi-column matrices from 1D arrays | General horizontal stacking                           |\n",
    "\n",
    "👉 **Key Point:**\n",
    "\n",
    "* `column_stack()` → **Always 2D** result.\n",
    "* `hstack()` → Result can be **1D if input is 1D.**\n",
    "\n",
    "**Summary:**\n",
    "\n",
    "* ✅ `numpy.column_stack()` stacks **1D arrays as columns into a 2D array.**\n",
    "* ✅ It always returns **a 2D result** (no matter the input).\n",
    "* ✅ Useful for building matrices where **each input array is a separate feature (column).**\n",
    "* ✅ For 2D arrays → behaves like `hstack`."
   ]
  },
  {
   "cell_type": "code",
   "execution_count": null,
   "id": "85d9b738",
   "metadata": {},
   "outputs": [],
   "source": []
  },
  {
   "cell_type": "markdown",
   "id": "94556eee",
   "metadata": {},
   "source": [
    "### 7. row_stack()\n",
    "\n",
    "The `numpy.row_stack()` function **stacks arrays in sequence vertically (along rows, axis=0).**\n",
    "It is **almost identical to `numpy.vstack()`** — in fact, **`numpy.row_stack()` is just an alias for `numpy.vstack()`.**\n",
    "\n",
    "---\n",
    "\n",
    "**Syntax:**\n",
    "\n",
    "```python\n",
    "numpy.row_stack(tup)\n",
    "```\n",
    "\n",
    "**Parameters:**\n",
    "\n",
    "| Parameter | Description                                                    |\n",
    "| --------- | -------------------------------------------------------------- |\n",
    "| **tup**   | A sequence (tuple or list) of arrays to be stacked vertically. |\n",
    "\n",
    "---\n",
    "\n",
    "**Key Rules:**\n",
    "\n",
    "* **1D arrays are treated as rows.**\n",
    "* All input arrays must have the **same number of columns** (or length for 1D arrays).\n",
    "* The result is **always at least 2D.**\n",
    "* Behaves like `vstack()` → stacks vertically (top to bottom).\n",
    "\n",
    "---\n",
    "\n",
    "**Visual Concept:**\n",
    "\n",
    "If you have:\n",
    "\n",
    "```text\n",
    "a = [1, 2, 3] → promoted to [[1 2 3]]\n",
    "b = [4, 5, 6] → promoted to [[4 5 6]]\n",
    "```\n",
    "\n",
    "Result:\n",
    "\n",
    "```text\n",
    "[[1 2 3]\n",
    " [4 5 6]]\n",
    "```\n",
    "\n",
    "👉 **The arrays become rows in the final 2D array.**\n"
   ]
  },
  {
   "cell_type": "code",
   "execution_count": 50,
   "id": "85625b64",
   "metadata": {},
   "outputs": [
    {
     "name": "stdout",
     "output_type": "stream",
     "text": [
      "[[1 2 3]\n",
      " [4 5 6]]\n"
     ]
    }
   ],
   "source": [
    "# Stacking 1D Arrays\n",
    "\n",
    "a = np.array([1, 2, 3])\n",
    "b = np.array([4, 5, 6])\n",
    "\n",
    "result = np.row_stack((a, b))\n",
    "print(result)"
   ]
  },
  {
   "cell_type": "code",
   "execution_count": 51,
   "id": "a7e845d8",
   "metadata": {},
   "outputs": [
    {
     "name": "stdout",
     "output_type": "stream",
     "text": [
      "[[1 2]\n",
      " [3 4]]\n"
     ]
    }
   ],
   "source": [
    "# Stacking 2D Arrays\n",
    "\n",
    "a = np.array([[1, 2]])\n",
    "b = np.array([[3, 4]])\n",
    "\n",
    "result = np.row_stack((a, b))\n",
    "print(result)"
   ]
  },
  {
   "cell_type": "code",
   "execution_count": 52,
   "id": "8d80d7f9",
   "metadata": {},
   "outputs": [
    {
     "name": "stdout",
     "output_type": "stream",
     "text": [
      "[[1 2 3]\n",
      " [4 5 6]]\n"
     ]
    }
   ],
   "source": [
    "# Stacking Mixture of 1D and 2D Arrays\n",
    "\n",
    "a = np.array([1, 2, 3])\n",
    "b = np.array([[4, 5, 6]])\n",
    "\n",
    "result = np.row_stack((a, b))\n",
    "print(result)"
   ]
  },
  {
   "cell_type": "code",
   "execution_count": 53,
   "id": "28e0b9e7",
   "metadata": {},
   "outputs": [
    {
     "name": "stdout",
     "output_type": "stream",
     "text": [
      "Error: all the input array dimensions except for the concatenation axis must match exactly, but along dimension 1, the array at index 0 has size 3 and the array at index 1 has size 2\n"
     ]
    }
   ],
   "source": [
    "# Error Case When Columns Don’t Match\n",
    "\n",
    "a = np.array([1, 2, 3])\n",
    "b = np.array([4, 5])\n",
    "\n",
    "try:\n",
    "    np.row_stack((a, b))\n",
    "except Exception as e:\n",
    "    print(f\"Error: {e}\")"
   ]
  },
  {
   "cell_type": "markdown",
   "id": "f166efa4",
   "metadata": {},
   "source": [
    "**Difference Between `row_stack()`, `vstack()`, and `hstack()`**\n",
    "\n",
    "| Feature            | `row_stack()`            | `vstack()`               | `hstack()`                  |\n",
    "| ------------------ | ------------------------ | ------------------------ | --------------------------- |\n",
    "| Stacking Direction | Vertical (top to bottom) | Vertical (top to bottom) | Horizontal (side by side)   |\n",
    "| 1D Arrays Handling | Treated as rows          | Treated as rows          | Concatenated as 1D          |\n",
    "| Result Shape       | Always 2D                | Always 2D                | 1D or 2D depending on input |\n",
    "\n",
    "👉 **Important:**\n",
    "`row_stack()` and `vstack()` behave **identically.**\n",
    "\n",
    "The only difference is **the name.**\n",
    "\n",
    "---\n",
    "\n",
    "**Difference Between `row_stack()` and `column_stack()`**\n",
    "\n",
    "| Feature            | `row_stack()`            | `column_stack()`          |\n",
    "| ------------------ | ------------------------ | ------------------------- |\n",
    "| Stacking Direction | Vertical (top to bottom) | Horizontal (side by side) |\n",
    "| 1D Arrays Handling | Treated as rows          | Treated as columns        |\n",
    "| Result Shape       | Always 2D                | Always 2D                 |\n",
    "\n",
    "---\n",
    "\n",
    "**Summary:**\n",
    "\n",
    "* ✅ `numpy.row_stack()` **stacks arrays vertically** (row-wise, along axis=0).\n",
    "* ✅ 1D arrays are **converted to rows automatically.**\n",
    "* ✅ Behaves **exactly like `numpy.vstack()`.**\n",
    "* ✅ Useful for **building multi-row arrays from 1D inputs.**\n",
    "* ✅ Arrays must have the **same number of columns (or length).**\n",
    "\n",
    "---"
   ]
  },
  {
   "cell_type": "code",
   "execution_count": null,
   "id": "192e3565",
   "metadata": {},
   "outputs": [],
   "source": []
  },
  {
   "cell_type": "markdown",
   "id": "a59456f1",
   "metadata": {},
   "source": [
    "### 8. append()\n",
    "\n",
    "The `numpy.append()` function is used to **add (append) elements to the end of an array.**\n",
    "\n",
    "It **does not modify the original array** — it always returns a **new array**.\n",
    "\n",
    "👉 `numpy.append()` is more **flexible** than stacking functions because:\n",
    "\n",
    "* You can append **individual elements**.\n",
    "* You can append **arrays of any shape** (but you need to be careful about axis handling).\n",
    "\n",
    "---\n",
    "\n",
    "**Syntax:**\n",
    "\n",
    "```python\n",
    "numpy.append(arr, values, axis=None)\n",
    "```\n",
    "\n",
    "**Parameters:**\n",
    "\n",
    "| Parameter  | Description                                                                           |\n",
    "| ---------- | ------------------------------------------------------------------------------------- |\n",
    "| **arr**    | The input array.                                                                      |\n",
    "| **values** | Values to be appended to `arr`. Can be a single element or an array.                  |\n",
    "| **axis**   | The axis along which to append. If `None` (default), both arrays are flattened first. |\n",
    "\n",
    "---\n",
    "\n",
    "**Key Rules:**\n",
    "\n",
    "* If `axis=None` (default), the **arrays are flattened (converted to 1D)** before appending.\n",
    "* If `axis` is specified:\n",
    "\n",
    "  * The arrays must have **matching dimensions** along all axes except the one specified.\n",
    "* `numpy.append()` always **creates a new array** (it is not an in-place operation).\n"
   ]
  },
  {
   "cell_type": "code",
   "execution_count": 54,
   "id": "74f94c2e",
   "metadata": {},
   "outputs": [
    {
     "name": "stdout",
     "output_type": "stream",
     "text": [
      "[1 2 3 4 5 6]\n"
     ]
    }
   ],
   "source": [
    "# Append Without Axis (Default Behavior)\n",
    "a = np.array([1, 2, 3])\n",
    "b = np.array([4, 5, 6])\n",
    "\n",
    "result = np.append(a, b)\n",
    "print(result)"
   ]
  },
  {
   "cell_type": "code",
   "execution_count": 55,
   "id": "d7266d5e",
   "metadata": {},
   "outputs": [
    {
     "name": "stdout",
     "output_type": "stream",
     "text": [
      "[1 2 3 4]\n"
     ]
    }
   ],
   "source": [
    "# Append a Scalar\n",
    "a = np.array([1, 2, 3])\n",
    "\n",
    "result = np.append(a, 4)\n",
    "print(result)\n"
   ]
  },
  {
   "cell_type": "code",
   "execution_count": 56,
   "id": "10e29e8b",
   "metadata": {},
   "outputs": [
    {
     "name": "stdout",
     "output_type": "stream",
     "text": [
      "[[1 2]\n",
      " [3 4]\n",
      " [5 6]]\n"
     ]
    }
   ],
   "source": [
    "# Append Along Axis = 0\n",
    "\n",
    "a = np.array([[1, 2], [3, 4]])\n",
    "b = np.array([[5, 6]])\n",
    "\n",
    "result = np.append(a, b, axis=0)\n",
    "print(result)"
   ]
  },
  {
   "cell_type": "markdown",
   "id": "4a159578",
   "metadata": {},
   "source": [
    "👉 **Explanation:**\n",
    "\n",
    "* Arrays are stacked **vertically (row-wise).**\n",
    "* The number of **columns must match.**"
   ]
  },
  {
   "cell_type": "code",
   "execution_count": null,
   "id": "69ffa50d",
   "metadata": {},
   "outputs": [],
   "source": [
    "# Append Along Axis = 1\n",
    "\n",
    "a = np.array([[1, 2], [3, 4]])\n",
    "b = np.array([[5], [6]])\n",
    "\n",
    "result = np.append(a, b, axis=1)\n",
    "print(result)\n"
   ]
  },
  {
   "cell_type": "markdown",
   "id": "26a2de15",
   "metadata": {},
   "source": [
    "👉 **Explanation:**\n",
    "\n",
    "* Arrays are stacked **horizontally (column-wise).**\n",
    "* The number of **rows must match.**"
   ]
  },
  {
   "cell_type": "code",
   "execution_count": 58,
   "id": "8870cea7",
   "metadata": {},
   "outputs": [
    {
     "name": "stdout",
     "output_type": "stream",
     "text": [
      "Error: append() missing 1 required positional argument: 'values'\n"
     ]
    }
   ],
   "source": [
    "# Error When Shape Does Not Match\n",
    "a = np.array([[1, 2], [3, 4]])\n",
    "b = np.array([[5, 6, 7]])\n",
    "\n",
    "try:\n",
    "    np.append((a, b), axis=0)\n",
    "except Exception as e:\n",
    "    print(f\"Error: {e}\")"
   ]
  },
  {
   "cell_type": "code",
   "execution_count": 59,
   "id": "eebb3366",
   "metadata": {},
   "outputs": [
    {
     "name": "stdout",
     "output_type": "stream",
     "text": [
      "[1 2 3 4 5 6]\n"
     ]
    }
   ],
   "source": [
    "# Append Multidimensional Arrays Without Axis (Flattening)\n",
    "a = np.array([[1, 2], [3, 4]])\n",
    "b = np.array([[5, 6]])\n",
    "\n",
    "result = np.append(a, b)\n",
    "print(result)"
   ]
  },
  {
   "cell_type": "markdown",
   "id": "91121357",
   "metadata": {},
   "source": [
    "**Difference Between `numpy.append()` and Stacking Functions**\n",
    "\n",
    "| Feature             | `numpy.append()`           | `vstack()`, `hstack()`, `dstack()`      |\n",
    "| ------------------- | -------------------------- | --------------------------------------- |\n",
    "| Can Flatten Input?  | ✅ Yes (if axis=None)       | ❌ No, follows array dimensions strictly |\n",
    "| Accepts Scalars?    | ✅ Yes                      | ❌ No, must be arrays                    |\n",
    "| Supports Axis?      | ✅ Yes                      | ✅ Yes                                   |\n",
    "| Returns New Array?  | ✅ Always creates new array | ✅ Always creates new array              |\n",
    "| In-place Operation? | ❌ No                       | ❌ No                                    |\n",
    "| Flexible on Shape?  | ✅ Yes when axis=None       | ❌ Strict shape matching required        |\n",
    "\n",
    "---\n",
    "\n",
    "**Summary:**\n",
    "\n",
    "* ✅ `numpy.append()` is used to **add elements or arrays to the end of another array.**\n",
    "* ✅ By default (`axis=None`), **arrays are flattened** before appending.\n",
    "* ✅ When using an `axis`, shapes must match along all other axes.\n",
    "* ✅ It is **not an in-place operation** → always returns a new array.\n",
    "* ✅ It can **append scalars, 1D arrays, or multi-dimensional arrays.**\n",
    "* ✅ It is **more flexible** but less efficient than stacking functions in some use cases.\n"
   ]
  },
  {
   "cell_type": "markdown",
   "id": "73bc0bf0",
   "metadata": {},
   "source": [
    "<center><b>Thanks</b></center>"
   ]
  }
 ],
 "metadata": {
  "kernelspec": {
   "display_name": "Python 3 (ipykernel)",
   "language": "python",
   "name": "python3"
  },
  "language_info": {
   "codemirror_mode": {
    "name": "ipython",
    "version": 3
   },
   "file_extension": ".py",
   "mimetype": "text/x-python",
   "name": "python",
   "nbconvert_exporter": "python",
   "pygments_lexer": "ipython3",
   "version": "3.10.2"
  }
 },
 "nbformat": 4,
 "nbformat_minor": 5
}
