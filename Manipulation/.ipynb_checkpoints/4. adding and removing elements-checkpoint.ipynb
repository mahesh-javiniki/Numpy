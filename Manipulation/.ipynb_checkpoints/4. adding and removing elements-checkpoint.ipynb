{
 "cells": [
  {
   "cell_type": "markdown",
   "id": "baf0064a",
   "metadata": {},
   "source": [
    "# Numpy Array Manipulation"
   ]
  },
  {
   "cell_type": "code",
   "execution_count": 1,
   "id": "7d3dfcc7",
   "metadata": {},
   "outputs": [],
   "source": [
    "import numpy as np"
   ]
  },
  {
   "cell_type": "markdown",
   "id": "3201dd27",
   "metadata": {},
   "source": [
    "## 4. Adding/Removing Elements"
   ]
  },
  {
   "cell_type": "markdown",
   "id": "ef249463",
   "metadata": {},
   "source": [
    "**Methods:**\n",
    "\n",
    "- `append()`\n",
    "\n",
    "- `insert()`\n",
    "\n",
    "- `delete()`"
   ]
  },
  {
   "cell_type": "markdown",
   "id": "45a95bf6",
   "metadata": {},
   "source": [
    "### 1. append()\n",
    "\n",
    "The `numpy.append()` function is used to **add elements to the end of an array**.\n",
    "\n",
    "> ⚡ **Important:**\n",
    "> NumPy arrays have a **fixed size**, so `append()` actually creates **a new array** with the additional elements. It does not change the original array.\n",
    "\n",
    "---\n",
    "\n",
    "**Syntax:**\n",
    "\n",
    "```python\n",
    "numpy.append(arr, values, axis=None)\n",
    "```\n",
    "\n",
    "**Parameters:**\n",
    "\n",
    "* `arr`: The original NumPy array.\n",
    "* `values`: The values to be appended. Can be a single value or an array.\n",
    "* `axis`:\n",
    "\n",
    "  * `None` (default): Appends to the flattened version of the array.\n",
    "  * If specified, appends along the specified axis (0, 1, etc.). The shapes must match for this.\n"
   ]
  },
  {
   "cell_type": "code",
   "execution_count": 3,
   "id": "84a585fc",
   "metadata": {},
   "outputs": [
    {
     "name": "stdout",
     "output_type": "stream",
     "text": [
      "[1 2 3]\n",
      "[1 2 3 4]\n"
     ]
    }
   ],
   "source": [
    "# Appending to a 1D Array (Default: axis=None)\n",
    "\n",
    "a = np.array([1, 2, 3])\n",
    "b = np.append(a, 4)\n",
    "\n",
    "print(a)\n",
    "print(b)"
   ]
  },
  {
   "cell_type": "code",
   "execution_count": 4,
   "id": "73261b1b",
   "metadata": {},
   "outputs": [
    {
     "name": "stdout",
     "output_type": "stream",
     "text": [
      "[1 2 3]\n",
      "[1 2 3 4 5 6]\n"
     ]
    }
   ],
   "source": [
    "# Appending Multiple Elements to a 1D Array\n",
    "\n",
    "a = np.array([1, 2, 3])\n",
    "b = np.append(a, [4, 5, 6])\n",
    "\n",
    "print(a)\n",
    "print(b)"
   ]
  },
  {
   "cell_type": "code",
   "execution_count": 5,
   "id": "4fbdd9b2",
   "metadata": {},
   "outputs": [
    {
     "name": "stdout",
     "output_type": "stream",
     "text": [
      "[[1 2]\n",
      " [3 4]]\n",
      "[1 2 3 4 5 6]\n"
     ]
    }
   ],
   "source": [
    "# Appending to a 2D Array Without Specifying Axis (axis=None)\n",
    "\n",
    "a = np.array([[1, 2], [3, 4]])\n",
    "b = np.append(a, [5, 6])\n",
    "\n",
    "print(a)\n",
    "print(b)"
   ]
  },
  {
   "cell_type": "code",
   "execution_count": 7,
   "id": "69b2a137",
   "metadata": {},
   "outputs": [
    {
     "name": "stdout",
     "output_type": "stream",
     "text": [
      "[[1 2]\n",
      " [3 4]]\n",
      "\n",
      "[[1 2]\n",
      " [3 4]\n",
      " [5 6]]\n"
     ]
    }
   ],
   "source": [
    "# Appending to a 2D Array Along Axis 0 (Rows)\n",
    "\n",
    "a = np.array([[1, 2], [3, 4]])\n",
    "b = np.append(a, [[5, 6]], axis=0)\n",
    "print(a)\n",
    "print()\n",
    "print(b)"
   ]
  },
  {
   "cell_type": "code",
   "execution_count": 9,
   "id": "4a7039ab",
   "metadata": {
    "scrolled": true
   },
   "outputs": [
    {
     "name": "stdout",
     "output_type": "stream",
     "text": [
      "[[1 2]\n",
      " [3 4]]\n",
      "\n",
      "[[1 2 5]\n",
      " [3 4 6]]\n"
     ]
    }
   ],
   "source": [
    "# Appending to a 2D Array Along Axis 1 (Columns)\n",
    "a = np.array([[1, 2], [3, 4]])\n",
    "b = np.append(a, [[5], [6]], axis=1)\n",
    "\n",
    "print(a)\n",
    "print()\n",
    "print(b)"
   ]
  },
  {
   "cell_type": "code",
   "execution_count": 11,
   "id": "784410be",
   "metadata": {
    "scrolled": true
   },
   "outputs": [
    {
     "name": "stdout",
     "output_type": "stream",
     "text": [
      "[[[1 2]\n",
      "  [3 4]]]\n",
      "\n",
      "[[[1 2]\n",
      "  [3 4]]\n",
      "\n",
      " [[5 6]\n",
      "  [7 8]]]\n",
      "(2, 2, 2)\n"
     ]
    }
   ],
   "source": [
    "# Appending to a 3D Array\n",
    "a = np.array([[[1, 2], [3, 4]]])  # Shape (1, 2, 2)\n",
    "b = np.append(a, [[[5, 6], [7, 8]]], axis=0)\n",
    "\n",
    "print(a)\n",
    "print()\n",
    "print(b)\n",
    "print(b.shape)"
   ]
  },
  {
   "cell_type": "markdown",
   "id": "cf4c975c",
   "metadata": {},
   "source": [
    "**Key Notes:**\n",
    "\n",
    "* `numpy.append()` **returns a new array**, the original array remains unchanged.\n",
    "* If you **do not specify axis**, the array is flattened before appending.\n",
    "* If you **specify axis**, the shape of the values you append must match the dimension you are working with.\n",
    "* For **large datasets**, frequent use of `append()` is inefficient because it keeps creating new arrays. Preallocating arrays or using lists (and converting to arrays at the end) is usually faster.\n",
    "\n",
    "---\n",
    "\n",
    "**Summary**\n",
    "\n",
    "| Situation                          | Result                     |\n",
    "| ---------------------------------- | -------------------------- |\n",
    "| `axis=None`                        | Appends to flattened array |\n",
    "| `axis=0` with 2D array             | Appends row(s)             |\n",
    "| `axis=1` with 2D array             | Appends column(s)          |\n",
    "| Shape mismatch with axis specified | Will raise a `ValueError`  |\n"
   ]
  },
  {
   "cell_type": "code",
   "execution_count": null,
   "id": "a7c986e6",
   "metadata": {},
   "outputs": [],
   "source": []
  },
  {
   "cell_type": "markdown",
   "id": "a297d498",
   "metadata": {},
   "source": [
    "### 2. insert()\n",
    "\n",
    "The `numpy.insert()` function is used to **insert elements at a specified index/position** in a NumPy array.\n",
    "\n",
    "> ⚡ **Important:**\n",
    "\n",
    "* Like `append()`, this also **returns a new array**.\n",
    "* The original array **remains unchanged**.\n",
    "\n",
    "---\n",
    "\n",
    "**Syntax:**\n",
    "\n",
    "```python\n",
    "numpy.insert(arr, obj, values, axis=None)\n",
    "```\n",
    "\n",
    "**Parameters:**\n",
    "\n",
    "| Parameter | Meaning                                                                                  |\n",
    "| --------- | ---------------------------------------------------------------------------------------- |\n",
    "| `arr`     | Original array.                                                                          |\n",
    "| `obj`     | Index (position) where you want to insert. Can be a single integer or a list of indices. |\n",
    "| `values`  | The value(s) to insert.                                                                  |\n",
    "| `axis`    | Axis along which to insert. Default is `None` (works on flattened array)."
   ]
  },
  {
   "cell_type": "code",
   "execution_count": 13,
   "id": "aaafd2f4",
   "metadata": {},
   "outputs": [
    {
     "name": "stdout",
     "output_type": "stream",
     "text": [
      "[1 2 3 4]\n",
      "[ 1  2 99  3  4]\n"
     ]
    }
   ],
   "source": [
    "# Inserting in a 1D Array (Default: axis=None)\n",
    "\n",
    "a = np.array([1, 2, 3, 4])\n",
    "b = np.insert(a, 2, 99)  # Insert 99 at index 2\n",
    "\n",
    "print(a)\n",
    "print(b)"
   ]
  },
  {
   "cell_type": "code",
   "execution_count": 14,
   "id": "3184fe0a",
   "metadata": {},
   "outputs": [
    {
     "name": "stdout",
     "output_type": "stream",
     "text": [
      "[1 2 3 4]\n",
      "[ 1 99  2  3 88  4]\n"
     ]
    }
   ],
   "source": [
    "# Inserting Multiple Elements in a 1D Array\n",
    "\n",
    "a = np.array([1, 2, 3, 4])\n",
    "b = np.insert(a, [1, 3], [99, 88])  # Multiple positions\n",
    "\n",
    "print(a)\n",
    "print(b)\n",
    "# 👉 99 is inserted before index 1, and 88 is inserted before index 3 \n",
    "# 📌 (original indices before shifting)."
   ]
  },
  {
   "cell_type": "code",
   "execution_count": 15,
   "id": "35a93797",
   "metadata": {},
   "outputs": [
    {
     "name": "stdout",
     "output_type": "stream",
     "text": [
      "[[1 2]\n",
      " [3 4]]\n",
      "[ 1  2 99  3  4]\n"
     ]
    }
   ],
   "source": [
    "# Inserting in a 2D Array (Without Axis: Flattened)\n",
    "\n",
    "a = np.array([[1, 2], [3, 4]])\n",
    "b = np.insert(a, 2, 99)\n",
    "\n",
    "print(a)\n",
    "print(b)"
   ]
  },
  {
   "cell_type": "code",
   "execution_count": 17,
   "id": "49b9c4d4",
   "metadata": {},
   "outputs": [
    {
     "name": "stdout",
     "output_type": "stream",
     "text": [
      "[[1 2]\n",
      " [3 4]]\n",
      "\n",
      "[[ 1  2]\n",
      " [99 88]\n",
      " [ 3  4]]\n"
     ]
    }
   ],
   "source": [
    "# Inserting Row in 2D Array Along Axis 0\n",
    "a = np.array([[1, 2], [3, 4]])\n",
    "b = np.insert(a, 1, [99, 88], axis=0)\n",
    "\n",
    "print(a)\n",
    "print()\n",
    "print(b)"
   ]
  },
  {
   "cell_type": "code",
   "execution_count": 18,
   "id": "0a7018c4",
   "metadata": {},
   "outputs": [
    {
     "name": "stdout",
     "output_type": "stream",
     "text": [
      "[[1 2]\n",
      " [3 4]]\n",
      "\n",
      "[[ 1 99  2]\n",
      " [ 3 88  4]]\n"
     ]
    }
   ],
   "source": [
    "# Inserting Column in 2D Array Along Axis 1\n",
    "\n",
    "a = np.array([[1, 2], [3, 4]])\n",
    "b = np.insert(a, 1, [99, 88], axis=1)\n",
    "\n",
    "print(a)\n",
    "print()\n",
    "print(b)"
   ]
  },
  {
   "cell_type": "code",
   "execution_count": 19,
   "id": "c3752438",
   "metadata": {},
   "outputs": [
    {
     "name": "stdout",
     "output_type": "stream",
     "text": [
      "[[[1 2]\n",
      "  [3 4]]]\n",
      "\n",
      "[[[1 2]\n",
      "  [3 4]]\n",
      "\n",
      " [[9 9]\n",
      "  [9 9]]]\n"
     ]
    }
   ],
   "source": [
    "# Inserting in a 3D Array\n",
    "\n",
    "a = np.array([[[1, 2], [3, 4]]])  # Shape (1, 2, 2)\n",
    "b = np.insert(a, 1, [[[9, 9], [9, 9]]], axis=0)\n",
    "\n",
    "print(a)\n",
    "print()\n",
    "print(b)"
   ]
  },
  {
   "cell_type": "markdown",
   "id": "d6859ecf",
   "metadata": {},
   "source": [
    "**Key Differences: `insert()` vs `append()`**\n",
    "\n",
    "| Feature               | `numpy.insert()`                     | `numpy.append()`                 |\n",
    "| --------------------- | ------------------------------------ | -------------------------------- |\n",
    "| Position control      | Can insert at any index              | Always adds at the end           |\n",
    "| Axis support          | Yes                                  | Yes                              |\n",
    "| Flattened default     | Yes (`axis=None` flattens array)     | Yes (`axis=None` flattens array) |\n",
    "| Shape requirement     | New row/column shapes must match     | New row/column shapes must match |\n",
    "| Multi-position insert | Yes (can insert at multiple indices) | No (only appends at the end)     |\n",
    "\n",
    "---\n",
    "\n",
    "**Common Mistakes**\n",
    "\n",
    "1. **Shape Mismatch:**\n",
    "\n",
    "   * If you insert along an axis, the inserted elements must match the array’s shape on other axes.\n",
    "2. **Index Misunderstanding:**\n",
    "\n",
    "   * When inserting multiple elements, the indices refer to the **original array** (insertion is processed sequentially).\n",
    "\n",
    "---\n",
    "\n",
    "**Summary**\n",
    "\n",
    "| Situation                 | Method Behavior            |\n",
    "| ------------------------- | -------------------------- |\n",
    "| `axis=None`               | Inserts in flattened array |\n",
    "| `axis=0` with 2D array    | Inserts new row            |\n",
    "| `axis=1` with 2D array    | Inserts new column         |\n",
    "| Multiple insert positions | Supported                  |\n",
    "| Shape mismatch            | Causes ValueError          |\n"
   ]
  },
  {
   "cell_type": "code",
   "execution_count": null,
   "id": "88f58cc2",
   "metadata": {},
   "outputs": [],
   "source": []
  },
  {
   "cell_type": "markdown",
   "id": "e1ddd662",
   "metadata": {},
   "source": [
    "### 3. delete()\n",
    "\n",
    "The `numpy.delete()` function is used to **remove elements** from a NumPy array.\n",
    "\n",
    "> ⚡ **Important:**\n",
    "\n",
    "* Like `append()` and `insert()`, it **returns a new array** and does **not modify the original array**.\n",
    "* It can delete elements by **index** in **1D, 2D, or higher-dimensional arrays**.\n",
    "\n",
    "Syntax:\n",
    "\n",
    "```python\n",
    "numpy.delete(arr, obj, axis=None)\n",
    "```\n",
    "\n",
    "### Parameters:\n",
    "\n",
    "| Parameter | Meaning                                                                            |\n",
    "| --------- | ---------------------------------------------------------------------------------- |\n",
    "| `arr`     | Original array.                                                                    |\n",
    "| `obj`     | Index (or list/array of indices) of elements to delete.                            |\n",
    "| `axis`    | Axis along which elements are deleted. If not specified, array is flattened first. |\n",
    "\n",
    "---"
   ]
  },
  {
   "cell_type": "code",
   "execution_count": 20,
   "id": "0c417c4d",
   "metadata": {},
   "outputs": [
    {
     "name": "stdout",
     "output_type": "stream",
     "text": [
      "[1 2 3 4 5]\n",
      "[1 2 4 5]\n"
     ]
    }
   ],
   "source": [
    "# Deleting From a 1D Array (Default: axis=None)\n",
    "\n",
    "a = np.array([1, 2, 3, 4, 5])\n",
    "b = np.delete(a, 2)  # Delete element at index 2\n",
    "\n",
    "print(a)\n",
    "print(b)"
   ]
  },
  {
   "cell_type": "code",
   "execution_count": 21,
   "id": "c4b8683a",
   "metadata": {},
   "outputs": [
    {
     "name": "stdout",
     "output_type": "stream",
     "text": [
      "[1 2 3 4 5]\n",
      "[1 3 5]\n"
     ]
    }
   ],
   "source": [
    "# Deleting Multiple Elements From a 1D Array\n",
    "\n",
    "a = np.array([1, 2, 3, 4, 5])\n",
    "b = np.delete(a, [1, 3])  # Delete elements at indices 1 and 3\n",
    "\n",
    "print(a)\n",
    "print(b)"
   ]
  },
  {
   "cell_type": "code",
   "execution_count": 22,
   "id": "d5d7bac1",
   "metadata": {},
   "outputs": [
    {
     "name": "stdout",
     "output_type": "stream",
     "text": [
      "[[1 2]\n",
      " [3 4]\n",
      " [5 6]]\n",
      "[1 3 4 5 6]\n"
     ]
    }
   ],
   "source": [
    "# Deleting From a 2D Array (Without Specifying Axis)\n",
    "\n",
    "a = np.array([[1, 2], [3, 4], [5, 6]])\n",
    "b = np.delete(a, 1)  # Delete element at index 1 (flattened array)\n",
    "\n",
    "print(a)\n",
    "print(b)"
   ]
  },
  {
   "cell_type": "code",
   "execution_count": 25,
   "id": "794eca5a",
   "metadata": {},
   "outputs": [
    {
     "name": "stdout",
     "output_type": "stream",
     "text": [
      "[[1 2]\n",
      " [3 4]\n",
      " [5 6]]\n",
      "\n",
      "[[1 2]\n",
      " [5 6]]\n"
     ]
    }
   ],
   "source": [
    "# Deleting Rows in a 2D Array (Specify axis=0)\n",
    "\n",
    "a = np.array([[1, 2], [3, 4], [5, 6]])\n",
    "b = np.delete(a, 1, axis=0)  # Delete row at index 1\n",
    "\n",
    "print(a)\n",
    "print()\n",
    "print(b)"
   ]
  },
  {
   "cell_type": "code",
   "execution_count": 26,
   "id": "2c38cd32",
   "metadata": {},
   "outputs": [
    {
     "name": "stdout",
     "output_type": "stream",
     "text": [
      "[[1 2 3]\n",
      " [4 5 6]]\n",
      "\n",
      "[[1 3]\n",
      " [4 6]]\n"
     ]
    }
   ],
   "source": [
    "# Deleting Columns in a 2D Array (Specify axis=1)\n",
    "\n",
    "a = np.array([[1, 2, 3], [4, 5, 6]])\n",
    "b = np.delete(a, 1, axis=1)  # Delete column at index 1\n",
    "\n",
    "print(a)\n",
    "print()\n",
    "print(b)"
   ]
  },
  {
   "cell_type": "code",
   "execution_count": 27,
   "id": "a5045523",
   "metadata": {},
   "outputs": [
    {
     "name": "stdout",
     "output_type": "stream",
     "text": [
      "[[1 2 3]\n",
      " [4 5 6]\n",
      " [7 8 9]]\n",
      "\n",
      "[[4 5 6]]\n"
     ]
    }
   ],
   "source": [
    "# Deleting Multiple Rows or Columns\n",
    "a = np.array([[1, 2, 3], [4, 5, 6], [7, 8, 9]])\n",
    "b = np.delete(a, [0, 2], axis=0)  # Delete rows at index 0 and 2\n",
    "\n",
    "print(a)\n",
    "print()\n",
    "print(b)"
   ]
  },
  {
   "cell_type": "code",
   "execution_count": 28,
   "id": "71b6fe20",
   "metadata": {},
   "outputs": [
    {
     "name": "stdout",
     "output_type": "stream",
     "text": [
      "[1 2 3 4 5]\n",
      "[1 2 3 4]\n"
     ]
    }
   ],
   "source": [
    "# Deleting Using Negative Indices\n",
    "\n",
    "a = np.array([1, 2, 3, 4, 5])\n",
    "b = np.delete(a, -1)  # Delete the last element\n",
    "\n",
    "print(a)\n",
    "print(b)"
   ]
  },
  {
   "cell_type": "code",
   "execution_count": 30,
   "id": "eb320a4e",
   "metadata": {},
   "outputs": [
    {
     "name": "stdout",
     "output_type": "stream",
     "text": [
      "[[[1 2]\n",
      "  [3 4]]\n",
      "\n",
      " [[5 6]\n",
      "  [7 8]]]\n",
      "\n",
      "[[[1 2]\n",
      "  [3 4]]]\n"
     ]
    }
   ],
   "source": [
    "# Deleting From a 3D Array\n",
    "\n",
    "a = np.array([\n",
    "    [[1, 2], [3, 4]],\n",
    "    [[5, 6], [7, 8]]\n",
    "])  # Shape: (2, 2, 2)\n",
    "\n",
    "b = np.delete(a, 1, axis=0)  # Delete block at index 1\n",
    "\n",
    "print(a)\n",
    "print()\n",
    "print(b)"
   ]
  },
  {
   "cell_type": "markdown",
   "id": "548dc0c4",
   "metadata": {},
   "source": [
    "**Key Notes**\n",
    "\n",
    "* `numpy.delete()` does **not change the original array**. It returns a **new array**.\n",
    "* If `axis` is **not specified**, the array is first **flattened**.\n",
    "* If `axis` is specified:\n",
    "\n",
    "  * `axis=0`: Deletes rows.\n",
    "  * `axis=1`: Deletes columns.\n",
    "* You can delete **single elements** or **multiple elements** using index lists.\n",
    "* You can use **negative indices** to delete from the end.\n",
    "\n",
    "---\n",
    "\n",
    "**Comparison Table**\n",
    "\n",
    "| Feature              | Description                     |\n",
    "| -------------------- | ------------------------------- |\n",
    "| Deletion location    | Controlled by index.            |\n",
    "| Axis support         | Yes (rows, columns, 3D blocks). |\n",
    "| Multi-index deletion | Yes.                            |\n",
    "| Returns new array    | Yes.                            |\n",
    "| Shape matching       | Not required for deletion.      |\n",
    "\n",
    "---\n",
    "\n",
    "**Common Mistakes:**\n",
    "\n",
    "1. **Shape Confusion:**\n",
    "\n",
    "   * Forgetting that `axis=None` flattens the array.\n",
    "2. **Index Misunderstanding:**\n",
    "\n",
    "   * Deletion indices apply to the current array shape, not after each deletion.\n"
   ]
  },
  {
   "cell_type": "markdown",
   "id": "ba25d1b1",
   "metadata": {},
   "source": [
    "<center><b>Thanks</b></center>"
   ]
  }
 ],
 "metadata": {
  "kernelspec": {
   "display_name": "Python 3 (ipykernel)",
   "language": "python",
   "name": "python3"
  },
  "language_info": {
   "codemirror_mode": {
    "name": "ipython",
    "version": 3
   },
   "file_extension": ".py",
   "mimetype": "text/x-python",
   "name": "python",
   "nbconvert_exporter": "python",
   "pygments_lexer": "ipython3",
   "version": "3.10.2"
  }
 },
 "nbformat": 4,
 "nbformat_minor": 5
}
