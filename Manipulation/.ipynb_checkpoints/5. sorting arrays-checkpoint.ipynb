{
 "cells": [
  {
   "cell_type": "markdown",
   "id": "1b0723ca",
   "metadata": {},
   "source": [
    "# Numpy Array Manipulation"
   ]
  },
  {
   "cell_type": "code",
   "execution_count": 1,
   "id": "c9abc324",
   "metadata": {},
   "outputs": [],
   "source": [
    "import numpy as np"
   ]
  },
  {
   "cell_type": "markdown",
   "id": "122f0b6d",
   "metadata": {},
   "source": [
    "## 5. Sorting Arrays"
   ]
  },
  {
   "cell_type": "markdown",
   "id": "7d6d2d1d",
   "metadata": {},
   "source": [
    "| Method                 | Purpose                                             | Key Feature                                            |\n",
    "| ---------------------- | --------------------------------------------------- | ------------------------------------------------------ |\n",
    "| `numpy.sort()`         | Returns a sorted copy of an array                   | Can sort along specified axis                          |\n",
    "| `numpy.argsort()`      | Returns the indices that would sort an array        | Useful for indirect sorting                            |\n",
    "| `numpy.lexsort()`      | Performs an indirect sort using multiple keys       | Multi-key sorting                                      |\n",
    "| `numpy.ndarray.sort()` | Sorts the array in-place                            | No copy is created                                     |\n",
    "| `numpy.partition()`    | Partially sorts an array                            | Fast for selection problems (like finding kth element) |\n",
    "| `numpy.argpartition()` | Returns indices that would partially sort the array | Useful for efficient order statistics                  |\n"
   ]
  },
  {
   "cell_type": "markdown",
   "id": "32df940f",
   "metadata": {},
   "source": [
    "### 1. sort()\n",
    "`numpy.sort()` is a **sorting function** in NumPy that returns a **sorted copy** of the input array.\n",
    "\n",
    "* It does **not modify the original array.**\n",
    "* You can sort along a specific axis or flatten the array to sort.\n",
    "\n",
    "---\n",
    "\n",
    "**Syntax:**\n",
    "\n",
    "```python\n",
    "numpy.sort(a, axis=-1, kind=None, order=None)\n",
    "```\n",
    "\n",
    "**Parameters:**\n",
    "\n",
    "| Parameter | Description                                                               |\n",
    "| --------- | ------------------------------------------------------------------------- |\n",
    "| `a`       | Input array to be sorted                                                  |\n",
    "| `axis`    | Axis along which to sort. Default is `-1` (last axis).                    |\n",
    "| `kind`    | Sorting algorithm: `'quicksort'`, `'mergesort'`, `'heapsort'`, `'stable'` |\n",
    "| `order`   | For structured arrays: field(s) to sort by                                |\n",
    "\n",
    "---\n",
    "\n",
    "**Key Features:**\n",
    "\n",
    "* **Returns a sorted copy** (original array remains unchanged).\n",
    "* Can sort **1D, 2D, and multi-dimensional arrays.**\n",
    "* Can sort **along rows, columns, or entire array.**\n"
   ]
  },
  {
   "cell_type": "code",
   "execution_count": 3,
   "id": "b1dab536",
   "metadata": {},
   "outputs": [
    {
     "name": "stdout",
     "output_type": "stream",
     "text": [
      "[3 1 4 1 5 9]\n",
      "[1 1 3 4 5 9]\n"
     ]
    }
   ],
   "source": [
    "# Sorting a 1D Array\n",
    "a = np.array([3, 1, 4, 1, 5, 9])\n",
    "\n",
    "sorted_a = np.sort(a)\n",
    "\n",
    "print(a)\n",
    "print(sorted_a)"
   ]
  },
  {
   "cell_type": "code",
   "execution_count": 5,
   "id": "1ce12233",
   "metadata": {},
   "outputs": [
    {
     "name": "stdout",
     "output_type": "stream",
     "text": [
      "[[8 4 2]\n",
      " [1 9 6]]\n",
      "\n",
      "[[2 4 8]\n",
      " [1 6 9]]\n"
     ]
    }
   ],
   "source": [
    "# Sorting a 2D Array by Rows (Default: axis=-1)\n",
    "\n",
    "a = np.array([[8, 4, 2],\n",
    "              [1, 9, 6]])\n",
    "sorted_a = np.sort(a)\n",
    "\n",
    "print(a)\n",
    "print()\n",
    "print(sorted_a)"
   ]
  },
  {
   "cell_type": "code",
   "execution_count": 6,
   "id": "ec899841",
   "metadata": {},
   "outputs": [
    {
     "name": "stdout",
     "output_type": "stream",
     "text": [
      "[[8 4 2]\n",
      " [1 9 6]]\n",
      "\n",
      "[[1 4 2]\n",
      " [8 9 6]]\n"
     ]
    }
   ],
   "source": [
    "# Sorting a 2D Array by Columns (axis=0)\n",
    "\n",
    "a = np.array([[8, 4, 2],\n",
    "              [1, 9, 6]])\n",
    "sorted_a = np.sort(a, axis=0)\n",
    "\n",
    "print(a)\n",
    "print()\n",
    "print(sorted_a)"
   ]
  },
  {
   "cell_type": "code",
   "execution_count": 7,
   "id": "6441fc53",
   "metadata": {},
   "outputs": [
    {
     "name": "stdout",
     "output_type": "stream",
     "text": [
      "[[8 4 2]\n",
      " [1 9 6]]\n",
      "\n",
      "[1 2 4 6 8 9]\n"
     ]
    }
   ],
   "source": [
    "# Sorting Entire Array (Flatten First)\n",
    "\n",
    "a = np.array([[8, 4, 2],\n",
    "              [1, 9, 6]])\n",
    "\n",
    "sorted_a = np.sort(a, axis=None)\n",
    "\n",
    "print(a)\n",
    "print()\n",
    "print(sorted_a)"
   ]
  },
  {
   "cell_type": "code",
   "execution_count": 8,
   "id": "61a09f3a",
   "metadata": {},
   "outputs": [
    {
     "name": "stdout",
     "output_type": "stream",
     "text": [
      "[3 1 4 1 5 9]\n",
      "\n",
      "[1 1 3 4 5 9]\n"
     ]
    }
   ],
   "source": [
    "# Using Different Sorting Algorithms\n",
    "\n",
    "a = np.array([3, 1, 4, 1, 5, 9])\n",
    "sorted_a = np.sort(a, kind='mergesort')\n",
    "\n",
    "print(a)\n",
    "print()\n",
    "print(sorted_a)"
   ]
  },
  {
   "cell_type": "markdown",
   "id": "749a5938",
   "metadata": {},
   "source": [
    "\n",
    "👉 Sorting algorithms you can use:\n",
    "\n",
    "* `'quicksort'` (default, fast but not stable)\n",
    "* `'mergesort'` (stable sort, useful when order of equal elements matters)\n",
    "* `'heapsort'` (good memory performance)\n",
    "* `'stable'` (guarantees stability)"
   ]
  },
  {
   "cell_type": "code",
   "execution_count": 12,
   "id": "daecd749",
   "metadata": {},
   "outputs": [
    {
     "name": "stdout",
     "output_type": "stream",
     "text": [
      "[(1, 'apple') (3, 'banana') (2, 'cherry')]\n",
      "[(1, 'apple') (2, 'cherry') (3, 'banana')]\n",
      "[(1, 'apple') (3, 'banana') (2, 'cherry')]\n"
     ]
    }
   ],
   "source": [
    "# Sorting Structured Arrays by Field\n",
    "a = np.array([(1, 'apple'), (3, 'banana'), (2, 'cherry')],\n",
    "             dtype=[('id', 'i4'), ('name', 'U10')])\n",
    "\n",
    "sorted_a = np.sort(a, order='id')\n",
    "sorted_a1 = np.sort(a, order='name')\n",
    "\n",
    "print(a)\n",
    "print(sorted_a)\n",
    "print(sorted_a1)\n",
    "\n",
    "# 👉 You can sort **by field name** when working with structured arrays."
   ]
  },
  {
   "cell_type": "markdown",
   "id": "7cf3c035",
   "metadata": {},
   "source": [
    "Summary:\n",
    "\n",
    "* ✅ **`numpy.sort()`** returns a **sorted copy** of the array.\n",
    "* ✅ Works with **multi-dimensional arrays.**\n",
    "* ✅ Can sort **along rows, columns, or entire array.**\n",
    "* ✅ Supports **multiple sorting algorithms.**\n",
    "* ✅ Can sort **structured arrays by fields.**"
   ]
  },
  {
   "cell_type": "code",
   "execution_count": null,
   "id": "3590c32a",
   "metadata": {},
   "outputs": [],
   "source": []
  },
  {
   "cell_type": "markdown",
   "id": "0c0ef025",
   "metadata": {},
   "source": [
    "### 2. argsort()\n",
    "\n",
    "The **`numpy.argsort()`** method returns the **indices that would sort an array.**\n",
    "\n",
    "* It **does not sort the array itself.**\n",
    "* It tells you **where each element should move** to get a sorted array.\n",
    "\n",
    "**Syntax:**\n",
    "\n",
    "```python\n",
    "numpy.argsort(a, axis=-1, kind=None, order=None)\n",
    "```\n",
    "\n",
    "### Parameters:\n",
    "\n",
    "| Parameter | Description                                                               |\n",
    "| --------- | ------------------------------------------------------------------------- |\n",
    "| `a`       | Input array                                                               |\n",
    "| `axis`    | Axis along which to sort (default `-1`: last axis)                        |\n",
    "| `kind`    | Sorting algorithm: `'quicksort'`, `'mergesort'`, `'heapsort'`, `'stable'` |\n",
    "| `order`   | Field names to sort on (for structured arrays)                            |\n",
    "\n",
    "---\n",
    "\n",
    "**What it Returns:**\n",
    "\n",
    "* It **returns the indices** that would sort the array.\n",
    "* If you use `a[indices]`, you get the **sorted array.**\n",
    "\n",
    "---"
   ]
  },
  {
   "cell_type": "code",
   "execution_count": 14,
   "id": "51ed23b6",
   "metadata": {},
   "outputs": [
    {
     "name": "stdout",
     "output_type": "stream",
     "text": [
      "Original array: [30 10 20]\n",
      "Indices that would sort the array: [1 2 0]\n",
      "Sorted array using indices: [10 20 30]\n"
     ]
    }
   ],
   "source": [
    "# Basic Example with 1D Array\n",
    "\n",
    "a = np.array([30, 10, 20])\n",
    "indices = np.argsort(a)\n",
    "\n",
    "print(\"Original array:\", a)\n",
    "print(\"Indices that would sort the array:\", indices)\n",
    "print(\"Sorted array using indices:\", a[indices])"
   ]
  },
  {
   "cell_type": "code",
   "execution_count": 22,
   "id": "219cbf2c",
   "metadata": {},
   "outputs": [
    {
     "name": "stdout",
     "output_type": "stream",
     "text": [
      "[[2 1 0]\n",
      " [0 2 1]]\n"
     ]
    }
   ],
   "source": [
    "# Sorting a 2D Array by Row (Default)\n",
    "a = np.array([[8, 4, 2],\n",
    "              [1, 9, 6]])\n",
    "indices = np.argsort(a)\n",
    "print(indices)"
   ]
  },
  {
   "cell_type": "code",
   "execution_count": 23,
   "id": "aed47cc3",
   "metadata": {},
   "outputs": [
    {
     "name": "stdout",
     "output_type": "stream",
     "text": [
      "[[2 4 8]\n",
      " [1 6 9]]\n"
     ]
    }
   ],
   "source": [
    "# You can get the sorted array by:\n",
    "sorted_a = np.take_along_axis(a, indices, axis=1)\n",
    "print(sorted_a)"
   ]
  },
  {
   "cell_type": "code",
   "execution_count": 25,
   "id": "5aba81a4",
   "metadata": {},
   "outputs": [
    {
     "name": "stdout",
     "output_type": "stream",
     "text": [
      "[[8 4 2]\n",
      " [1 9 6]]\n",
      "[[1 0 0]\n",
      " [0 1 1]]\n"
     ]
    }
   ],
   "source": [
    "# Sorting a 2D Array by Column (axis=0)\n",
    "print(a)\n",
    "\n",
    "indices = np.argsort(a, axis=0)\n",
    "print(indices)"
   ]
  },
  {
   "cell_type": "code",
   "execution_count": 27,
   "id": "df31c0f0",
   "metadata": {},
   "outputs": [
    {
     "name": "stdout",
     "output_type": "stream",
     "text": [
      "[[1 4 2]\n",
      " [8 9 6]]\n"
     ]
    }
   ],
   "source": [
    "sorted_a = np.take_along_axis(a, indices, axis=0)\n",
    "print(sorted_a)"
   ]
  },
  {
   "cell_type": "code",
   "execution_count": 29,
   "id": "5efade1a",
   "metadata": {},
   "outputs": [
    {
     "name": "stdout",
     "output_type": "stream",
     "text": [
      "[[8 4 2]\n",
      " [1 9 6]]\n",
      "[[2 1 0]\n",
      " [0 2 1]]\n"
     ]
    }
   ],
   "source": [
    "# Sorting a 2D Array by Row (axis=1)\n",
    "print(a)\n",
    "\n",
    "indices = np.argsort(a, axis=1)\n",
    "print(indices)"
   ]
  },
  {
   "cell_type": "code",
   "execution_count": 30,
   "id": "354dbed4",
   "metadata": {},
   "outputs": [
    {
     "name": "stdout",
     "output_type": "stream",
     "text": [
      "[[2 4 8]\n",
      " [1 6 9]]\n"
     ]
    }
   ],
   "source": [
    "sorted_a = np.take_along_axis(a, indices, axis = 1)\n",
    "print(sorted_a)"
   ]
  },
  {
   "cell_type": "code",
   "execution_count": 31,
   "id": "6f405636",
   "metadata": {},
   "outputs": [
    {
     "name": "stdout",
     "output_type": "stream",
     "text": [
      "[[8 4 2]\n",
      " [1 9 6]]\n",
      "[3 2 1 5 0 4]\n"
     ]
    }
   ],
   "source": [
    "# Flatten and Sort Entire Array (axis=None)\n",
    "print(a)\n",
    "\n",
    "indices = np.argsort(a, axis=None)\n",
    "\n",
    "print(indices)"
   ]
  },
  {
   "cell_type": "code",
   "execution_count": 33,
   "id": "64e28689",
   "metadata": {},
   "outputs": [
    {
     "name": "stdout",
     "output_type": "stream",
     "text": [
      "[1 2 4 6 8 9]\n"
     ]
    }
   ],
   "source": [
    "print(np.take_along_axis(a, indices, axis=None))"
   ]
  },
  {
   "cell_type": "code",
   "execution_count": 35,
   "id": "9939197a",
   "metadata": {},
   "outputs": [
    {
     "name": "stdout",
     "output_type": "stream",
     "text": [
      "[(1, 'apple') (3, 'banana') (2, 'cherry')]\n",
      "[0 2 1]\n"
     ]
    }
   ],
   "source": [
    "# Sorting Structured Arrays by Field\n",
    "a = np.array([(1, 'apple'), (3, 'banana'), (2, 'cherry')],\n",
    "             dtype=[('id', 'i4'), ('name', 'U10')])\n",
    "\n",
    "print(a)\n",
    "indices = np.argsort(a, order='id')\n",
    "print(indices)"
   ]
  },
  {
   "cell_type": "code",
   "execution_count": 36,
   "id": "9371f1c4",
   "metadata": {},
   "outputs": [
    {
     "name": "stdout",
     "output_type": "stream",
     "text": [
      "[(1, 'apple') (2, 'cherry') (3, 'banana')]\n"
     ]
    }
   ],
   "source": [
    "print(a[indices])"
   ]
  },
  {
   "cell_type": "code",
   "execution_count": 37,
   "id": "3f96b91f",
   "metadata": {},
   "outputs": [
    {
     "name": "stdout",
     "output_type": "stream",
     "text": [
      "[(1, 'apple') (3, 'banana') (2, 'cherry')]\n",
      "[0 1 2]\n"
     ]
    }
   ],
   "source": [
    "print(a)\n",
    "\n",
    "indices = np.argsort(a, order='name')\n",
    "print(indices)"
   ]
  },
  {
   "cell_type": "code",
   "execution_count": 38,
   "id": "42d2e1f1",
   "metadata": {},
   "outputs": [
    {
     "name": "stdout",
     "output_type": "stream",
     "text": [
      "[(1, 'apple') (3, 'banana') (2, 'cherry')]\n"
     ]
    }
   ],
   "source": [
    "print(a[indices])"
   ]
  },
  {
   "cell_type": "markdown",
   "id": "5a45f4cf",
   "metadata": {},
   "source": [
    "**Sorting Algorithms (`kind` parameter)**\n",
    "\n",
    "You can specify the sorting algorithm:\n",
    "\n",
    "* `'quicksort'` (default)\n",
    "* `'mergesort'` (stable)\n",
    "* `'heapsort'`\n",
    "* `'stable'` (recommended when order matters for equal elements)\n",
    "\n",
    "```python\n",
    "indices = np.argsort(a, kind='mergesort')\n",
    "```\n",
    "\n",
    "---\n",
    "\n",
    "**Summary:**\n",
    "\n",
    "| Feature                   | `numpy.sort()`   | `numpy.argsort()`           |\n",
    "| ------------------------- | ---------------- | --------------------------- |\n",
    "| Output                    | Sorted array     | Sorting indices             |\n",
    "| Use                       | To directly sort | To reorder based on indices |\n",
    "| In-place                  | No               | No                          |\n",
    "| Supports axis, kind       | Yes              | Yes                         |\n",
    "| Multi-dimensional support | Yes              | Yes                         |"
   ]
  },
  {
   "cell_type": "markdown",
   "id": "8506af0f",
   "metadata": {},
   "source": [
    "### 3. lexsort()\n",
    "\n",
    "\n",
    "**`numpy.lexsort()`** is used to perform **multi-key sorting** (also called **lexicographical sorting**).\n",
    "\n",
    "* It is useful when you want to sort by **one column first, and then by another column when there are ties.**\n",
    "* You provide **multiple sort keys**, and it sorts based on the *last key first* and works backward.\n",
    "\n",
    "---\n",
    "\n",
    "**Syntax:**\n",
    "\n",
    "```python\n",
    "numpy.lexsort((key1, key2, ..., keyN))\n",
    "```\n",
    "\n",
    "**Parameters:**\n",
    "\n",
    "* A tuple of **keys** (arrays) to sort by.\n",
    "* The **last key is the primary sort key**, the second last is the secondary key, and so on.\n",
    "\n",
    "**Returns:**\n",
    "\n",
    "* An array of indices that sort the input arrays.\n"
   ]
  },
  {
   "cell_type": "code",
   "execution_count": 55,
   "id": "268ff9ce",
   "metadata": {},
   "outputs": [
    {
     "name": "stdout",
     "output_type": "stream",
     "text": [
      "[3 1 2]\n",
      "[4 5 6]\n"
     ]
    }
   ],
   "source": [
    "a = np.array([1, 3, 2])\n",
    "b = np.array([5, 4, 6])\n",
    "\n",
    "indices = np.lexsort((a, b))\n",
    "\n",
    "print(a[indices])\n",
    "print(b[indices])"
   ]
  },
  {
   "cell_type": "code",
   "execution_count": 42,
   "id": "0184a5b2",
   "metadata": {},
   "outputs": [
    {
     "name": "stdout",
     "output_type": "stream",
     "text": [
      "[0 3 1 2]\n",
      "Names: ['apple' 'banana' 'banana' 'cherry']\n",
      "Prices: [5 2 4 3]\n"
     ]
    }
   ],
   "source": [
    "# Sorting with Two Keys (Simple Example)\n",
    "names = np.array(['apple', 'banana', 'cherry', 'banana'])\n",
    "prices = np.array([5, 4, 3, 2])\n",
    "\n",
    "# Sort by name first, and by price if names are the same\n",
    "indices = np.lexsort((prices, names))\n",
    "\n",
    "print(indices)\n",
    "print(f\"Names: {names[indices]}\")\n",
    "print(f\"Prices: {prices[indices]}\")\n",
    "\n",
    "# For the banana entries, prices [2, 4] are sorted (secondary sort)."
   ]
  },
  {
   "cell_type": "code",
   "execution_count": 44,
   "id": "6d258168",
   "metadata": {},
   "outputs": [
    {
     "name": "stdout",
     "output_type": "stream",
     "text": [
      "Ages: [20 20 30 30]\n",
      "Names: ['Bob' 'Tom' 'Alice' 'Mike']\n"
     ]
    }
   ],
   "source": [
    "# Sorting by Age and Name\n",
    "\n",
    "ages = np.array([30, 20, 30, 20])\n",
    "names = np.array(['Mike', 'Bob', 'Alice', 'Tom'])\n",
    "\n",
    "indices = np.lexsort((names, ages))\n",
    "\n",
    "print(f\"Ages: {ages[indices]}\")\n",
    "print(f\"Names: {names[indices]}\")"
   ]
  },
  {
   "cell_type": "code",
   "execution_count": 52,
   "id": "b84d9252",
   "metadata": {},
   "outputs": [
    {
     "name": "stdout",
     "output_type": "stream",
     "text": [
      "[0 3 2 1]\n",
      "[[10 'apple']\n",
      " [20 'apple']\n",
      " [20 'banana']\n",
      " [30 'banana']]\n"
     ]
    }
   ],
   "source": [
    "# Sorting 2D Array Rows by Multiple Columns\n",
    "data = np.array([[10, 'apple'],\n",
    "                 [30, 'banana'],\n",
    "                 [20, 'banana'],\n",
    "                 [20, 'apple']], dtype=object)\n",
    "\n",
    "# First key: data[:, 1] -> names\n",
    "# Second key: data[:, 0] -> numbers\n",
    "indices = np.lexsort((data[:, 0], data[:, 1]))\n",
    "\n",
    "print(indices)\n",
    "\n",
    "sorted_data = data[indices]\n",
    "print(sorted_data)"
   ]
  },
  {
   "cell_type": "markdown",
   "id": "4f8c456a",
   "metadata": {},
   "source": [
    "- **Reverse Sorting**\n",
    "\n",
    "    * By default, numpy.lexsort() sorts in ascending order.\n",
    "\n",
    "    * To get descending order, you can multiply your sort keys by -1."
   ]
  },
  {
   "cell_type": "code",
   "execution_count": 56,
   "id": "a4322da0",
   "metadata": {},
   "outputs": [
    {
     "name": "stdout",
     "output_type": "stream",
     "text": [
      "[3 2 1]\n",
      "[4 6 5]\n"
     ]
    }
   ],
   "source": [
    "a = np.array([1, 3, 2])\n",
    "b = np.array([5, 4, 6])\n",
    "\n",
    "indices = np.lexsort((-b, -a))\n",
    "\n",
    "print(a[indices])\n",
    "print(b[indices])"
   ]
  },
  {
   "cell_type": "markdown",
   "id": "56aad1cb",
   "metadata": {},
   "source": [
    "\n",
    "**Key Points to Remember:**\n",
    "\n",
    "* **Primary key is last, secondary key is second last**, and so on.\n",
    "* Returns **indices** for sorting. Use `array[indices]` to get the sorted array.\n",
    "* Works **much faster** than chained `sort` operations for large datasets.\n",
    "* Can handle **multi-dimensional structured sorting** easily.\n",
    "\n",
    "---\n",
    "\n",
    "**Quick Comparison:**\n",
    "\n",
    "| Feature              | `sort()` | `argsort()`         | `lexsort()`         |\n",
    "| -------------------- | -------- | ------------------- | ------------------- |\n",
    "| Sorts array directly | ✅        | ❌ (returns indices) | ❌ (returns indices) |\n",
    "| Single key sort      | ✅        | ✅                   | ✅                   |\n",
    "| Multi-key sort       | ❌        | ❌                   | ✅                   |\n",
    "| Returns indices      | ❌        | ✅                   | ✅                   |\n"
   ]
  },
  {
   "cell_type": "markdown",
   "id": "77360eee",
   "metadata": {},
   "source": [
    "### 4. numpy.ndarray.sort()\n",
    "\n",
    "* `numpy.ndarray.sort()` is a **method of NumPy array objects.**\n",
    "* It **sorts the array in-place.**\n",
    "* Unlike `numpy.sort()`, which returns a sorted copy, `ndarray.sort()` **modifies the original array.**\n",
    "\n",
    "---\n",
    "\n",
    "**Syntax:**\n",
    "\n",
    "```python\n",
    "ndarray.sort(axis=-1, kind=None, order=None)\n",
    "```\n",
    "\n",
    "**Parameters:**\n",
    "\n",
    "| Parameter | Description                                                               |\n",
    "| --------- | ------------------------------------------------------------------------- |\n",
    "| `axis`    | Axis along which to sort. Default is `-1` (last axis).                    |\n",
    "| `kind`    | Sorting algorithm: `'quicksort'`, `'mergesort'`, `'heapsort'`, `'stable'` |\n",
    "| `order`   | Field(s) to sort by (for structured arrays)                               |\n",
    "\n",
    "---\n",
    "\n",
    "**What it Returns:**\n",
    "\n",
    "* ✅ **Returns:** `None` (because sorting is done in-place).\n",
    "* ✅ **The original array gets modified.**\n"
   ]
  },
  {
   "cell_type": "code",
   "execution_count": 58,
   "id": "06ac2562",
   "metadata": {},
   "outputs": [
    {
     "name": "stdout",
     "output_type": "stream",
     "text": [
      "Before: [5 2 9 1]\n",
      "After: [1 2 5 9]\n"
     ]
    }
   ],
   "source": [
    "# Sorting a 1D Array (In-Place)\n",
    "\n",
    "a = np.array([5, 2, 9, 1])\n",
    "print(f\"Before: {a}\")\n",
    "a.sort()\n",
    "print(f\"After: {a}\")"
   ]
  },
  {
   "cell_type": "code",
   "execution_count": 59,
   "id": "9b4ed186",
   "metadata": {},
   "outputs": [
    {
     "name": "stdout",
     "output_type": "stream",
     "text": [
      "Before: [[3 1 2]\n",
      " [6 4 5]]\n",
      "After: [[1 2 3]\n",
      " [4 5 6]]\n"
     ]
    }
   ],
   "source": [
    "# Sorting a 2D Array by Row (Default)\n",
    "\n",
    "a = np.array([[3, 1, 2],\n",
    "              [6, 4, 5]])\n",
    "print(f\"Before: {a}\")\n",
    "a.sort()\n",
    "print(f\"After: {a}\")\n",
    "\n",
    "# 👉 By default, it sorts each row independently."
   ]
  },
  {
   "cell_type": "code",
   "execution_count": 62,
   "id": "0be809e0",
   "metadata": {},
   "outputs": [
    {
     "name": "stdout",
     "output_type": "stream",
     "text": [
      "Before: [[3 4 2]\n",
      " [6 1 5]]\n",
      "After: [[3 1 2]\n",
      " [6 4 5]]\n"
     ]
    }
   ],
   "source": [
    "# Sorting a 2D Array by Column (axis=0)\n",
    "\n",
    "a = np.array([[3, 4, 2],\n",
    "              [6, 1, 5]])\n",
    "print(f\"Before: {a}\")\n",
    "a.sort(axis=0)\n",
    "print(f\"After: {a}\")\n",
    "\n",
    "# 👉 Here, the columns are sorted independently."
   ]
  },
  {
   "cell_type": "code",
   "execution_count": 67,
   "id": "ac5a9464",
   "metadata": {},
   "outputs": [
    {
     "name": "stdout",
     "output_type": "stream",
     "text": [
      "Error: 'NoneType' object cannot be interpreted as an integer\n"
     ]
    }
   ],
   "source": [
    "# Sorting the Entire Array as a Flat Array\n",
    "\n",
    "a = np.array([[3, 1, 2],\n",
    "              [6, 4, 5]])\n",
    "\n",
    "try:\n",
    "    a.sort(axis=None)\n",
    "except Exception as e:\n",
    "    print(f\"Error: {e}\")"
   ]
  },
  {
   "cell_type": "markdown",
   "id": "1d7f0de4",
   "metadata": {},
   "source": [
    "The reason a 2D array does not convert to a 1D array when using .sort() is that the primary purpose of .sort() on a multi-dimensional array is to sort within those dimensions, maintaining the original shape."
   ]
  },
  {
   "cell_type": "code",
   "execution_count": 68,
   "id": "628156cc",
   "metadata": {},
   "outputs": [
    {
     "name": "stdout",
     "output_type": "stream",
     "text": [
      "[(1, 'apple') (2, 'banana') (3, 'cherry')]\n"
     ]
    }
   ],
   "source": [
    "# Sorting Structured Arrays by Field\n",
    "\n",
    "a = np.array([(2, 'banana'), (1, 'apple'), (3, 'cherry')],\n",
    "             dtype=[('id', 'i4'), ('name', 'U10')])\n",
    "\n",
    "a.sort(order='id')\n",
    "\n",
    "print(a)"
   ]
  },
  {
   "cell_type": "markdown",
   "id": "28cedc50",
   "metadata": {},
   "source": [
    "**Key Differences: `numpy.sort()` vs `numpy.ndarray.sort()`**\n",
    "\n",
    "| Feature                    | `numpy.sort()`                | `numpy.ndarray.sort()`      |\n",
    "| -------------------------- | ----------------------------- | --------------------------- |\n",
    "| Returns                    | Sorted copy                   | `None` (modifies in-place)  |\n",
    "| Modifies original array    | ❌                             | ✅                           |\n",
    "| Can sort along axis        | ✅                             | ✅                           |\n",
    "| Can sort structured arrays | ✅                             | ✅                           |\n",
    "| Performance                | Slightly slower (due to copy) | Faster (in-place operation) |\n",
    "\n",
    "---\n",
    "\n",
    "**Summary:**\n",
    "\n",
    "* `numpy.ndarray.sort()` **modifies the array itself.**\n",
    "* It sorts **along the given axis** (default: last axis).\n",
    "* **Does not return anything** (returns `None`).\n",
    "* Can be faster and more memory-efficient than `numpy.sort()`.\n",
    "* Supports **custom sorting algorithms** and structured arrays.\n"
   ]
  },
  {
   "cell_type": "code",
   "execution_count": null,
   "id": "3f98fa22",
   "metadata": {},
   "outputs": [],
   "source": []
  },
  {
   "cell_type": "markdown",
   "id": "f84dd80d",
   "metadata": {},
   "source": [
    "# 5. partition()\n",
    "\n",
    "**`numpy.partition()`** is used for **partial sorting**.\n",
    "\n",
    "It **rearranges the array** so that:\n",
    "\n",
    "* All elements **less than or equal to** the k-th element are on the left.\n",
    "* All elements **greater than or equal to** the k-th element are on the right.\n",
    "* The elements on each side are **not fully sorted**.\n",
    "\n",
    "👉 It’s **very useful** when you:\n",
    "\n",
    "* Want to find the smallest k elements quickly.\n",
    "* Need median or percentile values without full sorting.\n",
    "\n",
    "---\n",
    "\n",
    "**Syntax:**\n",
    "\n",
    "```python\n",
    "numpy.partition(a, kth, axis=-1, kind='introselect', order=None)\n",
    "```\n",
    "\n",
    "**Parameters:**\n",
    "\n",
    "| Parameter | Description                                              |\n",
    "| --------- | -------------------------------------------------------- |\n",
    "| `a`       | Input array                                              |\n",
    "| `kth`     | Index (or list of indices) to partition at               |\n",
    "| `axis`    | Axis along which to partition (default is the last axis) |\n",
    "| `kind`    | Algorithm used: only `'introselect'` is available        |\n",
    "| `order`   | For structured arrays, field names to sort by            |\n",
    "\n",
    "---\n",
    "\n",
    "**What it Returns:**\n",
    "\n",
    "* Returns a **partially sorted copy** of the array.\n",
    "* The **original array is not changed.**\n"
   ]
  },
  {
   "cell_type": "code",
   "execution_count": 92,
   "id": "38f204d6",
   "metadata": {},
   "outputs": [
    {
     "name": "stdout",
     "output_type": "stream",
     "text": [
      "Original array: [7 2 4 8 1]\n",
      "Partitioned array: [1 2 4 8 7]\n"
     ]
    }
   ],
   "source": [
    "# Simple Partitioning on 1D Array\n",
    "a = np.array([7, 2, 4, 8, 1])\n",
    "\n",
    "partitioned = np.partition(a, 2)\n",
    "\n",
    "print(\"Original array:\", a)\n",
    "print(\"Partitioned array:\", partitioned)"
   ]
  },
  {
   "cell_type": "markdown",
   "id": "50397113",
   "metadata": {},
   "source": [
    "👉 Explanation:\n",
    "\n",
    "* The **element at index 2** (after partition) is **guaranteed to be the 3rd smallest element.**\n",
    "* All elements **before index 2 are less than or equal to it.**\n",
    "* All elements **after index 2 are greater than or equal to it.**\n",
    "* The sides are **not sorted.**"
   ]
  },
  {
   "cell_type": "code",
   "execution_count": 75,
   "id": "9e85780e",
   "metadata": {},
   "outputs": [
    {
     "name": "stdout",
     "output_type": "stream",
     "text": [
      "6\n"
     ]
    }
   ],
   "source": [
    "# Finding the Median Quickly\n",
    "\n",
    "a = np.array([7, 2, 4, 8, 1, 6])\n",
    "\n",
    "k = len(a) // 2\n",
    "\n",
    "median_candidate = np.partition(a, k)[k]\n",
    "\n",
    "print(median_candidate)"
   ]
  },
  {
   "cell_type": "markdown",
   "id": "d68684ef",
   "metadata": {},
   "source": [
    "👉 Why Useful:\n",
    "\n",
    "* Much **faster than full sorting** when you just need the median or k-th smallest element."
   ]
  },
  {
   "cell_type": "code",
   "execution_count": 76,
   "id": "92ff7712",
   "metadata": {},
   "outputs": [
    {
     "name": "stdout",
     "output_type": "stream",
     "text": [
      "Partitioned array: [1 2 4 7 8]\n"
     ]
    }
   ],
   "source": [
    "# Partitioning with Multiple Indices\n",
    "\n",
    "a = np.array([7, 2, 4, 8, 1])\n",
    "\n",
    "partitioned = np.partition(a, [1, 3])\n",
    "\n",
    "print(\"Partitioned array:\", partitioned)"
   ]
  },
  {
   "cell_type": "markdown",
   "id": "3fb0b9fe",
   "metadata": {},
   "source": [
    "👉 Explanation:\n",
    "\n",
    "* Multiple split points can be provided.\n",
    "* It guarantees that elements before index 1 are smallest, and elements after index 3 are largest."
   ]
  },
  {
   "cell_type": "code",
   "execution_count": 77,
   "id": "a34e5bb7",
   "metadata": {},
   "outputs": [
    {
     "name": "stdout",
     "output_type": "stream",
     "text": [
      "Partitioned array:\n",
      " [[2 4 8]\n",
      " [1 6 9]]\n"
     ]
    }
   ],
   "source": [
    "# Partitioning a 2D Array by Row (Default)\n",
    "\n",
    "a = np.array([[8, 4, 2],\n",
    "              [1, 9, 6]])\n",
    "\n",
    "partitioned = np.partition(a, 1, axis=1)\n",
    "\n",
    "print(\"Partitioned array:\\n\", partitioned)\n"
   ]
  },
  {
   "cell_type": "markdown",
   "id": "d7acde74",
   "metadata": {},
   "source": [
    "👉 Explanation:\n",
    "\n",
    "* For each row, the element at index 1 is the **middle element.**\n",
    "* Left side: values ≤ middle element.\n",
    "* Right side: values ≥ middle element."
   ]
  },
  {
   "cell_type": "code",
   "execution_count": 80,
   "id": "366fa8e9",
   "metadata": {},
   "outputs": [
    {
     "name": "stdout",
     "output_type": "stream",
     "text": [
      "Partitioned array:\n",
      " [[1 3 2]\n",
      " [5 4 4]\n",
      " [8 9 6]]\n"
     ]
    }
   ],
   "source": [
    "# Partitioning by Column (axis=0)\n",
    "\n",
    "a = np.array([[8, 4, 2],\n",
    "              [1, 9, 6],\n",
    "             [5, 3, 4]])\n",
    "\n",
    "partitioned = np.partition(a, 1, axis=0)\n",
    "\n",
    "print(\"Partitioned array:\\n\", partitioned)\n"
   ]
  },
  {
   "cell_type": "markdown",
   "id": "6143d6ff",
   "metadata": {},
   "source": [
    "👉 Explanation:\n",
    "\n",
    "* Now, each **column is partitioned.**"
   ]
  },
  {
   "cell_type": "code",
   "execution_count": 93,
   "id": "a0197bf3",
   "metadata": {},
   "outputs": [
    {
     "name": "stdout",
     "output_type": "stream",
     "text": [
      "Partitioned flattened array: [1 2 4 6 9 8]\n"
     ]
    }
   ],
   "source": [
    "# When Axis is None (Flattened Array)\n",
    "\n",
    "a = np.array([[8, 4, 2],\n",
    "              [1, 9, 6]])\n",
    "\n",
    "partitioned = np.partition(a, 3, axis=None)\n",
    "\n",
    "print(\"Partitioned flattened array:\", partitioned)\n"
   ]
  },
  {
   "cell_type": "markdown",
   "id": "91261e96",
   "metadata": {},
   "source": [
    "👉 Explanation:\n",
    "\n",
    "* The array is **flattened into 1D.**\n",
    "* Partition happens on the flattened array."
   ]
  },
  {
   "cell_type": "markdown",
   "id": "d45edee8",
   "metadata": {},
   "source": [
    "**Why Use `numpy.partition()`?**\n",
    "\n",
    "* ✅ Much **faster than full sorting** when you just need top-k or bottom-k elements.\n",
    "* ✅ Ideal for:\n",
    "\n",
    "  * Finding the smallest/largest k elements\n",
    "  * Finding median or percentiles efficiently\n",
    "* ✅ Used in **selection algorithms**.\n",
    "\n",
    "---\n",
    "\n",
    "**Sorting Algorithm**\n",
    "\n",
    "* Only **`'introselect'`** is available.\n",
    "* It is a **fast selection algorithm.**\n",
    "\n",
    "---\n",
    "\n",
    "**Summary:**\n",
    "\n",
    "| Feature            | `numpy.sort()` | `numpy.partition()`                 |\n",
    "| ------------------ | -------------- | ----------------------------------- |\n",
    "| Full sorting?      | ✅ Yes          | ❌ No (partial)                      |\n",
    "| Time complexity    | O(n log n)     | O(n)                                |\n",
    "| Useful for         | Full order     | Finding k-th element, top-k, median |\n",
    "| Output             | Fully sorted   | Partially sorted                    |\n",
    "| Modifies original? | No             | No                                  |\n"
   ]
  },
  {
   "cell_type": "code",
   "execution_count": null,
   "id": "d0a27e8c",
   "metadata": {},
   "outputs": [],
   "source": []
  },
  {
   "cell_type": "markdown",
   "id": "6d4f949c",
   "metadata": {},
   "source": [
    "### 6. argpartition()\n",
    "\n",
    "**`numpy.argpartition()`** is similar to `numpy.partition()`, but instead of rearranging the array, it returns the **indices** that would partition the array.\n",
    "\n",
    "* It’s **used to quickly find the positions (indices)** of elements that would result in a partition.\n",
    "* The elements **before the k-th index** are less than or equal to the element at the k-th position, and the elements **after the k-th index** are greater than or equal to it.\n",
    "* **The order of elements on either side is not guaranteed to be sorted.**\n",
    "\n",
    "---\n",
    "\n",
    "**Syntax:**\n",
    "\n",
    "```python\n",
    "numpy.argpartition(a, kth, axis=-1, kind='introselect', order=None)\n",
    "```\n",
    "\n",
    "**Parameters:**\n",
    "\n",
    "| Parameter | Description                                        |\n",
    "| --------- | -------------------------------------------------- |\n",
    "| `a`       | Input array                                        |\n",
    "| `kth`     | Index (or list of indices) to partition at         |\n",
    "| `axis`    | Axis along which to partition (default: last axis) |\n",
    "| `kind`    | Algorithm used: only `'introselect'` is supported  |\n",
    "| `order`   | For structured arrays, field names to sort by      |\n",
    "\n",
    "---\n",
    "\n",
    "**What it Returns:**\n",
    "\n",
    "* An array of **indices** that would partition the array.\n"
   ]
  },
  {
   "cell_type": "code",
   "execution_count": 95,
   "id": "57ca9ad1",
   "metadata": {},
   "outputs": [
    {
     "name": "stdout",
     "output_type": "stream",
     "text": [
      "Original array: [7 2 4 8 1]\n",
      "Partition indices: [4 1 2 3 0]\n",
      "Partitioned array using indices: [1 2 4 8 7]\n"
     ]
    }
   ],
   "source": [
    "# Basic Example with 1D Array\n",
    "a = np.array([7, 2, 4, 8, 1])\n",
    "indices = np.argpartition(a, 2)\n",
    "\n",
    "print(\"Original array:\", a)\n",
    "print(\"Partition indices:\", indices)\n",
    "print(\"Partitioned array using indices:\", a[indices])"
   ]
  },
  {
   "cell_type": "markdown",
   "id": "7f4fb502",
   "metadata": {},
   "source": [
    "👉 Explanation:\n",
    "\n",
    "* The element at index `2` (after partitioning) is **correctly positioned** in the sorted order.\n",
    "* All elements before index `2` are ≤ that element.\n",
    "* All elements after index `2` are ≥ that element.\n",
    "* The **order within these groups is arbitrary.**\n"
   ]
  },
  {
   "cell_type": "code",
   "execution_count": 96,
   "id": "4d55b107",
   "metadata": {},
   "outputs": [
    {
     "name": "stdout",
     "output_type": "stream",
     "text": [
      "Median candidate: 4\n"
     ]
    }
   ],
   "source": [
    "# Finding the Position of the k Smallest Element\n",
    "\n",
    "a = np.array([7, 2, 4, 8, 1])\n",
    "\n",
    "# Find the index of the median (k=2)\n",
    "k = 2\n",
    "indices = np.argpartition(a, k)\n",
    "\n",
    "# Extract the median candidate\n",
    "median_candidate = a[indices[k]]\n",
    "\n",
    "print(\"Median candidate:\", median_candidate)\n"
   ]
  },
  {
   "cell_type": "markdown",
   "id": "50102d2f",
   "metadata": {},
   "source": [
    "👉 You can use this to **quickly find the k-th smallest element.**"
   ]
  },
  {
   "cell_type": "code",
   "execution_count": 97,
   "id": "f1b0f269",
   "metadata": {},
   "outputs": [
    {
     "name": "stdout",
     "output_type": "stream",
     "text": [
      "Partition indices per row:\n",
      " [[2 1 0]\n",
      " [0 2 1]]\n",
      "Partitioned array:\n",
      " [[2 4 8]\n",
      " [1 6 9]]\n"
     ]
    }
   ],
   "source": [
    "# Partitioning a 2D Array by Row\n",
    "a = np.array([[8, 4, 2],\n",
    "              [1, 9, 6]])\n",
    "\n",
    "indices = np.argpartition(a, 1, axis=1)\n",
    "\n",
    "print(\"Partition indices per row:\\n\", indices)\n",
    "\n",
    "# Use np.take_along_axis to reorder array by indices\n",
    "partitioned = np.take_along_axis(a, indices, axis=1)\n",
    "print(\"Partitioned array:\\n\", partitioned)\n"
   ]
  },
  {
   "cell_type": "markdown",
   "id": "05bd32e0",
   "metadata": {},
   "source": [
    "👉 Explanation:\n",
    "\n",
    "* Partition happens **across each row.**\n",
    "* The second smallest element in each row is **positioned correctly.**"
   ]
  },
  {
   "cell_type": "code",
   "execution_count": 98,
   "id": "acc9a1f3",
   "metadata": {},
   "outputs": [
    {
     "name": "stdout",
     "output_type": "stream",
     "text": [
      "Partition indices per column:\n",
      " [[1 0 0]\n",
      " [0 1 1]]\n",
      "Partitioned array:\n",
      " [[1 4 2]\n",
      " [8 9 6]]\n"
     ]
    }
   ],
   "source": [
    "# Partitioning a 2D Array by Column\n",
    "a = np.array([[8, 4, 2],\n",
    "              [1, 9, 6]])\n",
    "\n",
    "indices = np.argpartition(a, 1, axis=0)\n",
    "\n",
    "print(\"Partition indices per column:\\n\", indices)\n",
    "\n",
    "partitioned = np.take_along_axis(a, indices, axis=0)\n",
    "print(\"Partitioned array:\\n\", partitioned)\n"
   ]
  },
  {
   "cell_type": "code",
   "execution_count": 99,
   "id": "6e011083",
   "metadata": {},
   "outputs": [
    {
     "name": "stdout",
     "output_type": "stream",
     "text": [
      "Partitioned flattened array: [1 2 4 6 9 8]\n"
     ]
    }
   ],
   "source": [
    "# Flattening the Array (axis=None)\n",
    "\n",
    "a = np.array([[8, 4, 2],\n",
    "              [1, 9, 6]])\n",
    "\n",
    "indices = np.argpartition(a, 3, axis=None)\n",
    "\n",
    "# Flatten the array to apply indices\n",
    "flattened = a.flatten()\n",
    "partitioned = flattened[indices]\n",
    "\n",
    "print(\"Partitioned flattened array:\", partitioned)\n"
   ]
  },
  {
   "cell_type": "markdown",
   "id": "19c01e17",
   "metadata": {},
   "source": [
    "**Why Use `numpy.argpartition()`?**\n",
    "\n",
    "* ✅ Efficient: Much **faster than full sorting** (O(n) complexity).\n",
    "* ✅ Great for **top-k selection problems.**\n",
    "* ✅ Useful in **machine learning** for quickly finding nearest neighbors, median, percentiles, etc.\n",
    "* ✅ Works with **multi-dimensional arrays** by axis.\n",
    "\n",
    "---\n",
    "\n",
    "**Sorting Algorithm**\n",
    "\n",
    "* Only `'introselect'` is supported.\n",
    "* It is a **fast selection algorithm** optimized for finding partitions.\n",
    "\n",
    "---\n",
    "\n",
    "**Summary:**\n",
    "\n",
    "| Feature            | `numpy.partition()`           | `numpy.argpartition()`        |\n",
    "| ------------------ | ----------------------------- | ----------------------------- |\n",
    "| Returns            | Partially sorted array        | Indices to partition array    |\n",
    "| Use case           | Quick top-k element selection | Quick top-k element positions |\n",
    "| Modifies original? | No                            | No                            |\n",
    "| Axis support       | Yes                           | Yes                           |\n",
    "| Time complexity    | O(n)                          | O(n)                          |\n",
    "\n",
    "---\n",
    "\n",
    "**Key Difference:**\n",
    "\n",
    "* **`partition()`** gives the **partially sorted array.**\n",
    "* **`argpartition()`** gives the **indices** that would produce that partition.\n"
   ]
  },
  {
   "cell_type": "code",
   "execution_count": null,
   "id": "c37d19e2",
   "metadata": {},
   "outputs": [],
   "source": []
  },
  {
   "cell_type": "markdown",
   "id": "21fe4302",
   "metadata": {},
   "source": [
    "\n",
    "\n",
    "# 📚 Comprehensive Comparison of NumPy Sorting Methods\n",
    "\n",
    "| Method                 | Purpose                  | Returns               | In-Place? | Sorting Type | Key Use Cases                                                 |\n",
    "| ---------------------- | ------------------------ | --------------------- | --------- | ------------ | ------------------------------------------------------------- |\n",
    "| `numpy.sort()`         | Sorts array along axis   | Sorted copy           | ❌         | Full sort    | Basic sorting when you need a new array                       |\n",
    "| `numpy.argsort()`      | Sorts array along axis   | Indices               | ❌         | Full sort    | Sorting by index (indirect sorting), useful for reordering    |\n",
    "| `numpy.lexsort()`      | Multi-key sort           | Indices               | ❌         | Full sort    | Sorting by multiple keys (lexicographical sorting)            |\n",
    "| `numpy.ndarray.sort()` | In-place sort along axis | None                  | ✅         | Full sort    | Memory-efficient sorting, when original array can be modified |\n",
    "| `numpy.partition()`    | Partial sort along axis  | Partially sorted copy | ❌         | Partial sort | Quick selection of k-th element, top-k problems               |\n",
    "| `numpy.argpartition()` | Partial sort along axis  | Indices               | ❌         | Partial sort | Quick selection of k-th element positions                     |\n",
    "\n",
    "---\n",
    "\n",
    "# 🚀 Quick Summary Table\n",
    "\n",
    "| Feature                          | `sort`       | `argsort` | `lexsort` | `ndarray.sort`  | `partition`            | `argpartition` |\n",
    "| -------------------------------- | ------------ | --------- | --------- | --------------- | ---------------------- | -------------- |\n",
    "| Full or Partial Sort             | Full         | Full      | Full      | Full            | Partial                | Partial        |\n",
    "| Returns                          | Sorted array | Indices   | Indices   | None (in-place) | Partially sorted array | Indices        |\n",
    "| Modifies original array          | No           | No        | No        | Yes             | No                     | No             |\n",
    "| Supports multi-key sorting       | No           | No        | Yes       | No              | No                     | No             |\n",
    "| Axis specification               | Yes          | Yes       | No        | Yes             | Yes                    | Yes            |\n",
    "| Suitable for quick top-k search  | No           | No        | No        | No              | Yes                    | Yes            |\n",
    "| Sorting algorithm (customizable) | Yes          | Yes       | No        | Yes             | No                     | No             |\n",
    "\n",
    "---\n",
    "\n",
    "# ✅ When to Use Each Method:\n",
    "\n",
    "* **`numpy.sort()`** – When you want a sorted copy and original array unchanged.\n",
    "* **`numpy.argsort()`** – When you need sorting order (indices) for indirect sorting.\n",
    "* **`numpy.lexsort()`** – When you need multi-key sorting (like sorting by columns in spreadsheets).\n",
    "* **`numpy.ndarray.sort()`** – When you can modify the original array to save memory.\n",
    "* **`numpy.partition()`** – When you need fast selection of k-th element without full sorting.\n",
    "* **`numpy.argpartition()`** – When you need the indices of the smallest/largest elements quickly.\n",
    "\n",
    "---"
   ]
  },
  {
   "cell_type": "markdown",
   "id": "5f7a9566",
   "metadata": {},
   "source": [
    "<center><b>Thanks</b></center>"
   ]
  }
 ],
 "metadata": {
  "kernelspec": {
   "display_name": "Python 3 (ipykernel)",
   "language": "python",
   "name": "python3"
  },
  "language_info": {
   "codemirror_mode": {
    "name": "ipython",
    "version": 3
   },
   "file_extension": ".py",
   "mimetype": "text/x-python",
   "name": "python",
   "nbconvert_exporter": "python",
   "pygments_lexer": "ipython3",
   "version": "3.10.2"
  }
 },
 "nbformat": 4,
 "nbformat_minor": 5
}
