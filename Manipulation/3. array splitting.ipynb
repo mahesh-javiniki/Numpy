{
 "cells": [
  {
   "cell_type": "markdown",
   "id": "a6851f23",
   "metadata": {},
   "source": [
    "# Numpy Array Manipulation"
   ]
  },
  {
   "cell_type": "code",
   "execution_count": 1,
   "id": "1c196468",
   "metadata": {},
   "outputs": [],
   "source": [
    "import numpy as np"
   ]
  },
  {
   "cell_type": "markdown",
   "id": "65841c95",
   "metadata": {},
   "source": [
    "## 3. Array splitting"
   ]
  },
  {
   "cell_type": "markdown",
   "id": "8a97b3d2",
   "metadata": {},
   "source": [
    "Break an array into multiple smaller arrays.\n",
    "\n",
    "**Methods:**\n",
    "\n",
    "- array_split()\n",
    "\n",
    "- split()\n",
    "\n",
    "- hsplit()\n",
    "\n",
    "- vsplit()\n",
    "\n",
    "- dsplit()"
   ]
  },
  {
   "cell_type": "markdown",
   "id": "e1beb652",
   "metadata": {},
   "source": [
    "### 1. array_split()\n",
    "\n",
    "`numpy.array_split()` is a method that **splits an array into sub-arrays.**\n",
    "\n",
    "✅ It allows splitting **even when the array size is not divisible evenly.**\n",
    "\n",
    "✅ It can split **along any axis.**\n",
    "\n",
    "---\n",
    "\n",
    "**Syntax:**\n",
    "\n",
    "```python\n",
    "numpy.array_split(array, sections, axis=0)\n",
    "```\n",
    "\n",
    "**Parameters:**\n",
    "\n",
    "* **array**: The input array you want to split.\n",
    "* **sections**: Number of parts to split into.\n",
    "* **axis**: The axis along which to split. Default is `axis=0` (rows).\n",
    "\n",
    "---\n",
    "\n",
    "**Key Features:**\n",
    "\n",
    "* ✔️ It **allows uneven splitting.**\n",
    "* ✔️ Can be used on 1D, 2D, 3D, or higher dimensional arrays.\n",
    "* ✔️ Supports custom axis splitting.\n",
    "\n"
   ]
  },
  {
   "cell_type": "code",
   "execution_count": 2,
   "id": "83b29e59",
   "metadata": {},
   "outputs": [
    {
     "name": "stdout",
     "output_type": "stream",
     "text": [
      "[array([1, 2, 3]), array([4, 5]), array([6, 7])]\n"
     ]
    }
   ],
   "source": [
    "# Splitting 1D Array into Uneven Parts\n",
    "\n",
    "arr = np.array([1, 2, 3, 4, 5, 6, 7])\n",
    "\n",
    "# Split into 3 parts\n",
    "result = np.array_split(arr, 3)\n",
    "\n",
    "print(result)\n",
    "\n",
    "# 👉 Since 7 elements cannot be divided equally into 3 parts, \n",
    "# it gives the first parts slightly larger."
   ]
  },
  {
   "cell_type": "code",
   "execution_count": 3,
   "id": "bc8a05f2",
   "metadata": {},
   "outputs": [
    {
     "name": "stdout",
     "output_type": "stream",
     "text": [
      "[array([10, 20, 30]), array([40, 50, 60])]\n"
     ]
    }
   ],
   "source": [
    "# Splitting 1D Array into Equal Parts\n",
    "\n",
    "arr = np.array([10, 20, 30, 40, 50, 60])\n",
    "\n",
    "# Split into 2 parts\n",
    "result = np.array_split(arr, 2)\n",
    "\n",
    "print(result)"
   ]
  },
  {
   "cell_type": "code",
   "execution_count": 4,
   "id": "d32c0799",
   "metadata": {},
   "outputs": [
    {
     "name": "stdout",
     "output_type": "stream",
     "text": [
      "[[ 1  2  3  4]\n",
      " [ 5  6  7  8]\n",
      " [ 9 10 11 12]]\n",
      "(3, 4)\n"
     ]
    }
   ],
   "source": [
    "#  Custom Axis Split on 2D Array\n",
    "\n",
    "arr = np.array([[1, 2, 3, 4],\n",
    "                [5, 6, 7, 8],\n",
    "                [9, 10, 11, 12]])\n",
    "print(arr)\n",
    "print(arr.shape)\n"
   ]
  },
  {
   "cell_type": "code",
   "execution_count": 5,
   "id": "96670693",
   "metadata": {},
   "outputs": [
    {
     "name": "stdout",
     "output_type": "stream",
     "text": [
      "[array([[1, 2, 3, 4],\n",
      "       [5, 6, 7, 8]]), array([[ 9, 10, 11, 12]])]\n",
      "[[1 2 3 4]\n",
      " [5 6 7 8]]\n",
      "\n",
      "(2, 4)\n",
      "\n",
      "[[ 9 10 11 12]]\n",
      "\n",
      "(1, 4)\n",
      "\n"
     ]
    }
   ],
   "source": [
    "# Split along axis=0 (rows)\n",
    "result = np.array_split(arr, 2, axis=0)\n",
    "print(result)\n",
    "\n",
    "for ele in result:\n",
    "    print(ele, end = '\\n\\n')\n",
    "    print(ele.shape, end = '\\n\\n')"
   ]
  },
  {
   "cell_type": "code",
   "execution_count": 6,
   "id": "1cac80c3",
   "metadata": {},
   "outputs": [
    {
     "name": "stdout",
     "output_type": "stream",
     "text": [
      "[array([[ 1,  2],\n",
      "       [ 5,  6],\n",
      "       [ 9, 10]]), array([[ 3,  4],\n",
      "       [ 7,  8],\n",
      "       [11, 12]])]\n",
      "[[ 1  2]\n",
      " [ 5  6]\n",
      " [ 9 10]]\n",
      "\n",
      "(3, 2)\n",
      "\n",
      "[[ 3  4]\n",
      " [ 7  8]\n",
      " [11 12]]\n",
      "\n",
      "(3, 2)\n",
      "\n"
     ]
    }
   ],
   "source": [
    "# Split along axis=1 (columns)\n",
    "result = np.array_split(arr, 2, axis=1)\n",
    "print(result)\n",
    "\n",
    "for ele in result:\n",
    "    print(ele, end = '\\n\\n')\n",
    "    print(ele.shape, end = '\\n\\n')"
   ]
  },
  {
   "cell_type": "code",
   "execution_count": 7,
   "id": "e8faa2db",
   "metadata": {},
   "outputs": [
    {
     "name": "stdout",
     "output_type": "stream",
     "text": [
      "[[1 2]\n",
      " [5 6]]\n",
      "[[3]\n",
      " [7]]\n",
      "[[4]\n",
      " [8]]\n"
     ]
    }
   ],
   "source": [
    "arr = np.array([[1, 2, 3, 4],\n",
    "                [5, 6, 7, 8]])\n",
    "\n",
    "# Split along axis=1 (columns)\n",
    "result = np.array_split(arr, 3, axis=1)\n",
    "\n",
    "for part in result:\n",
    "    print(part)"
   ]
  },
  {
   "cell_type": "markdown",
   "id": "597d2732",
   "metadata": {},
   "source": [
    "Visualizing Axis\n",
    "\n",
    "* **axis=0 → split across rows (vertically)**\n",
    "* **axis=1 → split across columns (horizontally)**\n",
    "\n",
    "For this array:\n",
    "\n",
    "```text\n",
    "[[ 1  2  3  4]\n",
    " [ 5  6  7  8]\n",
    " [ 9 10 11 12]]\n",
    "```\n",
    "\n",
    "* `axis=0` splits like this: 👇\n",
    "\n",
    "  ```\n",
    "  Part 1:\n",
    "  [[1 2 3 4]\n",
    "   [5 6 7 8]]\n",
    "\n",
    "  Part 2:\n",
    "  [[ 9 10 11 12]]\n",
    "  ```\n",
    "* `axis=1` splits like this: 👇\n",
    "\n",
    "  ```\n",
    "  Part 1:\n",
    "  [[1 2]\n",
    "   [5 6]\n",
    "   [9 10]]\n",
    "\n",
    "  Part 2:\n",
    "  [[3 4]\n",
    "   [7 8]\n",
    "   [11 12]]\n",
    "  ```\n",
    "\n",
    "**Difference from `numpy.split()`**\n",
    "\n",
    "| Feature                | `numpy.array_split()` | `numpy.split()`        |\n",
    "| ---------------------- | --------------------- | ---------------------- |\n",
    "| Unequal split allowed? | ✔️ Yes                | ❌ No                   |\n",
    "| Flexible?              | ✔️ Very flexible      | 🚫 Must divide equally |\n",
    "| Error on uneven split? | ❌ Never               | ✔️ Yes                 |\n",
    "\n",
    "---\n",
    "\n",
    "**Key Takeaways:**\n",
    "\n",
    "* Use **`array_split()` when array size may not divide evenly.**\n",
    "* Works on **any axis** and any dimension.\n",
    "* Safer than `split()` because it **never throws an error.**\n"
   ]
  },
  {
   "cell_type": "code",
   "execution_count": 8,
   "id": "cd3ad396",
   "metadata": {},
   "outputs": [
    {
     "name": "stdout",
     "output_type": "stream",
     "text": [
      "(2, 4, 3)\n"
     ]
    }
   ],
   "source": [
    "\n",
    "# 3D array\n",
    "arr = np.array([[[ 1,  2,  3],\n",
    "                 [ 4,  5,  6],\n",
    "                 [ 7,  8,  9],\n",
    "                 [10, 11, 12]],\n",
    "\n",
    "                [[13, 14, 15],\n",
    "                 [16, 17, 18],\n",
    "                 [19, 20, 21],\n",
    "                 [22, 23, 24]]])\n",
    "\n",
    "print(arr.shape)"
   ]
  },
  {
   "cell_type": "code",
   "execution_count": 9,
   "id": "f41ba3ff",
   "metadata": {},
   "outputs": [
    {
     "name": "stdout",
     "output_type": "stream",
     "text": [
      "[[[ 1  2  3]\n",
      "  [ 4  5  6]\n",
      "  [ 7  8  9]\n",
      "  [10 11 12]]]\n",
      "\n",
      "[[[13 14 15]\n",
      "  [16 17 18]\n",
      "  [19 20 21]\n",
      "  [22 23 24]]]\n",
      "\n"
     ]
    }
   ],
   "source": [
    "# Split along axis=0 (depth / number of matrices)\n",
    "\n",
    "result = np.array_split(arr, 2, axis=0)\n",
    "for ele in result:\n",
    "    print(ele, end = '\\n\\n')"
   ]
  },
  {
   "cell_type": "code",
   "execution_count": 10,
   "id": "46afc51d",
   "metadata": {},
   "outputs": [
    {
     "name": "stdout",
     "output_type": "stream",
     "text": [
      "[[[ 1  2  3]\n",
      "  [ 4  5  6]]\n",
      "\n",
      " [[13 14 15]\n",
      "  [16 17 18]]]\n",
      "\n",
      "[[[ 7  8  9]\n",
      "  [10 11 12]]\n",
      "\n",
      " [[19 20 21]\n",
      "  [22 23 24]]]\n",
      "\n"
     ]
    }
   ],
   "source": [
    "# Split along axis=1 (rows in each matrix)\n",
    "\n",
    "result = np.array_split(arr, 2, axis=1)\n",
    "for ele in result:\n",
    "    print(ele, end = '\\n\\n')"
   ]
  },
  {
   "cell_type": "code",
   "execution_count": 11,
   "id": "025e8ee4",
   "metadata": {},
   "outputs": [
    {
     "name": "stdout",
     "output_type": "stream",
     "text": [
      "[[[ 1  2  3]\n",
      "  [ 4  5  6]]\n",
      "\n",
      " [[13 14 15]\n",
      "  [16 17 18]]]\n",
      "\n",
      "[[[ 7  8  9]]\n",
      "\n",
      " [[19 20 21]]]\n",
      "\n",
      "[[[10 11 12]]\n",
      "\n",
      " [[22 23 24]]]\n",
      "\n"
     ]
    }
   ],
   "source": [
    "# Split along axis=1 (rows in each matrix)\n",
    "\n",
    "result = np.array_split(arr, 3, axis=1)\n",
    "for ele in result:\n",
    "    print(ele, end = '\\n\\n')"
   ]
  },
  {
   "cell_type": "code",
   "execution_count": 12,
   "id": "be6b1b05",
   "metadata": {},
   "outputs": [
    {
     "name": "stdout",
     "output_type": "stream",
     "text": [
      "[[[ 1  2  3]\n",
      "  [ 4  5  6]\n",
      "  [ 7  8  9]\n",
      "  [10 11 12]]\n",
      "\n",
      " [[13 14 15]\n",
      "  [16 17 18]\n",
      "  [19 20 21]\n",
      "  [22 23 24]]]\n"
     ]
    }
   ],
   "source": [
    "print(arr)"
   ]
  },
  {
   "cell_type": "code",
   "execution_count": 13,
   "id": "0aaad9e4",
   "metadata": {},
   "outputs": [
    {
     "name": "stdout",
     "output_type": "stream",
     "text": [
      "[[[ 1  2]\n",
      "  [ 4  5]\n",
      "  [ 7  8]\n",
      "  [10 11]]\n",
      "\n",
      " [[13 14]\n",
      "  [16 17]\n",
      "  [19 20]\n",
      "  [22 23]]]\n",
      "\n",
      "[[[ 3]\n",
      "  [ 6]\n",
      "  [ 9]\n",
      "  [12]]\n",
      "\n",
      " [[15]\n",
      "  [18]\n",
      "  [21]\n",
      "  [24]]]\n",
      "\n"
     ]
    }
   ],
   "source": [
    "# Split along axis=2 (columns in each matrix)\n",
    "\n",
    "result = np.array_split(arr, 2, axis=2)\n",
    "\n",
    "for ele in result:\n",
    "    print(ele, end='\\n\\n')"
   ]
  },
  {
   "cell_type": "markdown",
   "id": "b08563c4",
   "metadata": {},
   "source": [
    "**3D array summary**\n",
    "\n",
    "| Axis   | Meaning                     | Example Result                      |\n",
    "| ------ | --------------------------- | ----------------------------------- |\n",
    "| axis=0 | Splits the depth (matrices) | Divides the number of 2D layers     |\n",
    "| axis=1 | Splits the rows             | Divides the rows within each matrix |\n",
    "| axis=2 | Splits the columns          | Divides the columns within each row |\n"
   ]
  },
  {
   "cell_type": "code",
   "execution_count": null,
   "id": "26cd67a0",
   "metadata": {},
   "outputs": [],
   "source": []
  },
  {
   "cell_type": "markdown",
   "id": "5b112e4d",
   "metadata": {},
   "source": [
    "### 2. split()\n",
    "\n",
    "`numpy.split()` is used to **split an array into multiple sub-arrays**.\n",
    "\n",
    "🚩 **IMPORTANT DIFFERENCE:**\n",
    "Unlike `array_split()`, **`split()` requires that the array must be divided into equal parts.**\n",
    "If you try to split into unequal parts, it will raise an **error.**\n",
    "\n",
    "---\n",
    "\n",
    "**Syntax:**\n",
    "\n",
    "```python\n",
    "numpy.split(ary, indices_or_sections, axis=0)\n",
    "```\n",
    "\n",
    "**Parameters:**\n",
    "\n",
    "* **ary**: The input array you want to split.\n",
    "* **indices\\_or\\_sections**:\n",
    "\n",
    "  * If it’s an integer → Number of equal-sized sub-arrays to split into.\n",
    "  * If it’s a list → The split positions (indices) in the array.\n",
    "* **axis**: The axis along which to split.\n",
    "  Default is `axis=0` (split along rows).\n",
    "\n",
    "---\n",
    "\n",
    "**Key Rules:**\n",
    "\n",
    "* ✔️ **When using an integer:**\n",
    "  The array **must be divisible evenly** by this number.\n",
    "* ✔️ **When using indices list:**\n",
    "  You can split at custom positions.\n"
   ]
  },
  {
   "cell_type": "code",
   "execution_count": 14,
   "id": "93dfd9c0",
   "metadata": {},
   "outputs": [
    {
     "name": "stdout",
     "output_type": "stream",
     "text": [
      "[1 2]\n",
      "[3 4]\n",
      "[5 6]\n"
     ]
    }
   ],
   "source": [
    "# Splitting 1D Array into Equal Parts\n",
    "arr = np.array([1, 2, 3, 4, 5, 6])\n",
    "\n",
    "result = np.split(arr, 3)\n",
    "\n",
    "for ele in result:\n",
    "    print(ele)"
   ]
  },
  {
   "cell_type": "code",
   "execution_count": 15,
   "id": "1c669025",
   "metadata": {},
   "outputs": [
    {
     "name": "stdout",
     "output_type": "stream",
     "text": [
      "[1 2]\n",
      "[3 4]\n",
      "[5 6]\n"
     ]
    }
   ],
   "source": [
    "result = np.split(arr, 3, axis=0)\n",
    "\n",
    "for ele in result:\n",
    "    print(ele)"
   ]
  },
  {
   "cell_type": "code",
   "execution_count": 16,
   "id": "02256066",
   "metadata": {},
   "outputs": [
    {
     "name": "stdout",
     "output_type": "stream",
     "text": [
      "Error: array split does not result in an equal division\n"
     ]
    }
   ],
   "source": [
    "# Uneven Split - Will Raise Error\n",
    "   \n",
    "arr = np.array([1, 2, 3, 4, 5, 6, 7])\n",
    "\n",
    "try:\n",
    "    np.split(arr, 3)\n",
    "except Exception as e:\n",
    "    print(f\"Error: {e}\")\n",
    "\n",
    "# ❌ The array has 7 elements → not divisible by 3."
   ]
  },
  {
   "cell_type": "code",
   "execution_count": 17,
   "id": "890e9f00",
   "metadata": {},
   "outputs": [
    {
     "name": "stdout",
     "output_type": "stream",
     "text": [
      "[1 2]\n",
      "[3 4 5]\n",
      "[6 7]\n"
     ]
    }
   ],
   "source": [
    "# Splitting 1D Array at Custom Positions\n",
    "arr = np.array([1, 2, 3, 4, 5, 6, 7])\n",
    "\n",
    "# Split at indices 2 and 5\n",
    "result = np.split(arr, [2, 5])\n",
    "\n",
    "for part in result:\n",
    "    print(part)"
   ]
  },
  {
   "cell_type": "markdown",
   "id": "670338d5",
   "metadata": {},
   "source": [
    "✅ Custom split at **positions \\[2, 5]**\n",
    "\n",
    "* First part: elements 0 to 1\n",
    "* Second part: elements 2 to 4\n",
    "* Third part: elements 5 to end"
   ]
  },
  {
   "cell_type": "code",
   "execution_count": 18,
   "id": "5b20530d",
   "metadata": {},
   "outputs": [
    {
     "name": "stdout",
     "output_type": "stream",
     "text": [
      "[[1 2]\n",
      " [3 4]]\n",
      "\n",
      "[[5 6]\n",
      " [7 8]]\n",
      "\n"
     ]
    }
   ],
   "source": [
    "# Splitting 2D Array \n",
    "arr = np.array([[1, 2],\n",
    "                [3, 4],\n",
    "                [5, 6],\n",
    "                [7, 8]])\n",
    "\n",
    "result = np.split(arr, 2, axis=0)\n",
    "\n",
    "for ele in result:\n",
    "    print(ele, end = '\\n\\n')"
   ]
  },
  {
   "cell_type": "code",
   "execution_count": 19,
   "id": "172c91e7",
   "metadata": {},
   "outputs": [
    {
     "name": "stdout",
     "output_type": "stream",
     "text": [
      "[[1]\n",
      " [3]\n",
      " [5]\n",
      " [7]]\n",
      "\n",
      "[[2]\n",
      " [4]\n",
      " [6]\n",
      " [8]]\n",
      "\n"
     ]
    }
   ],
   "source": [
    "result = np.split(arr, 2, axis=1)\n",
    "\n",
    "for ele in result:\n",
    "    print(ele, end = '\\n\\n')"
   ]
  },
  {
   "cell_type": "code",
   "execution_count": 20,
   "id": "ccca02fc",
   "metadata": {},
   "outputs": [
    {
     "name": "stdout",
     "output_type": "stream",
     "text": [
      "[[1 2]\n",
      " [5 6]] \n",
      "\n",
      "[[3 4]\n",
      " [7 8]] \n",
      "\n"
     ]
    }
   ],
   "source": [
    "arr = np.array([[1, 2, 3, 4],\n",
    "                [5, 6, 7, 8]])\n",
    "\n",
    "# Split into 2 equal parts along columns\n",
    "result = np.split(arr, 2, axis=1)\n",
    "\n",
    "for part in result:\n",
    "    print(part, \"\\n\")"
   ]
  },
  {
   "cell_type": "code",
   "execution_count": 21,
   "id": "a66dc7a6",
   "metadata": {},
   "outputs": [
    {
     "name": "stdout",
     "output_type": "stream",
     "text": [
      "[[[ 0  1  2]\n",
      "  [ 3  4  5]\n",
      "  [ 6  7  8]\n",
      "  [ 9 10 11]]\n",
      "\n",
      " [[12 13 14]\n",
      "  [15 16 17]\n",
      "  [18 19 20]\n",
      "  [21 22 23]]]\n"
     ]
    }
   ],
   "source": [
    "# Splitting 3D Array\n",
    "\n",
    "arr = np.arange(24).reshape(2, 4, 3)\n",
    "print(arr)"
   ]
  },
  {
   "cell_type": "code",
   "execution_count": 22,
   "id": "4384ffec",
   "metadata": {},
   "outputs": [
    {
     "name": "stdout",
     "output_type": "stream",
     "text": [
      "[[[ 0  1  2]\n",
      "  [ 3  4  5]\n",
      "  [ 6  7  8]\n",
      "  [ 9 10 11]]] \n",
      "\n",
      "[[[12 13 14]\n",
      "  [15 16 17]\n",
      "  [18 19 20]\n",
      "  [21 22 23]]] \n",
      "\n"
     ]
    }
   ],
   "source": [
    "# Split into 2 equal parts along depth (axis=0)\n",
    "result = np.split(arr, 2, axis=0)\n",
    "\n",
    "for part in result:\n",
    "    print(part, \"\\n\")"
   ]
  },
  {
   "cell_type": "code",
   "execution_count": 23,
   "id": "f4364c93",
   "metadata": {},
   "outputs": [
    {
     "name": "stdout",
     "output_type": "stream",
     "text": [
      "[[[ 0  1  2]\n",
      "  [ 3  4  5]]\n",
      "\n",
      " [[12 13 14]\n",
      "  [15 16 17]]] \n",
      "\n",
      "[[[ 6  7  8]\n",
      "  [ 9 10 11]]\n",
      "\n",
      " [[18 19 20]\n",
      "  [21 22 23]]] \n",
      "\n"
     ]
    }
   ],
   "source": [
    "# Split into 2 equal parts along row (axis=1)\n",
    "result = np.split(arr, 2, axis=1)\n",
    "\n",
    "for part in result:\n",
    "    print(part, \"\\n\")"
   ]
  },
  {
   "cell_type": "code",
   "execution_count": 24,
   "id": "9dcd10e8",
   "metadata": {},
   "outputs": [
    {
     "name": "stdout",
     "output_type": "stream",
     "text": [
      "[[[ 0  1  2  3]\n",
      "  [ 4  5  6  7]\n",
      "  [ 8  9 10 11]]\n",
      "\n",
      " [[12 13 14 15]\n",
      "  [16 17 18 19]\n",
      "  [20 21 22 23]]]\n",
      "[[[ 0  1]\n",
      "  [ 4  5]\n",
      "  [ 8  9]]\n",
      "\n",
      " [[12 13]\n",
      "  [16 17]\n",
      "  [20 21]]] \n",
      "\n",
      "[[[ 2  3]\n",
      "  [ 6  7]\n",
      "  [10 11]]\n",
      "\n",
      " [[14 15]\n",
      "  [18 19]\n",
      "  [22 23]]] \n",
      "\n"
     ]
    }
   ],
   "source": [
    "# Split into 2 equal parts along column (axis=2)\n",
    "\n",
    "arr = np.arange(24).reshape(2, 3, 4)\n",
    "print(arr)\n",
    "\n",
    "result = np.split(arr, 2, axis=2)\n",
    "\n",
    "for part in result:\n",
    "    print(part, \"\\n\")"
   ]
  },
  {
   "cell_type": "markdown",
   "id": "2e6c5c97",
   "metadata": {},
   "source": [
    "**Summary Table: `split()` vs. `array_split()`**\n",
    "\n",
    "| Feature                       | `numpy.split()`             | `numpy.array_split()` |\n",
    "| ----------------------------- | --------------------------- | --------------------- |\n",
    "| Uneven split allowed?         | ❌ No                        | ✔️ Yes                |\n",
    "| Throws error on uneven split? | ✔️ Yes                      | ❌ No                  |\n",
    "| Custom split positions?       | ✔️ Yes (using indices list) | ✔️ Yes                |\n",
    "| Works on multi-dimensions?    | ✔️ Yes                      | ✔️ Yes                |\n",
    "\n",
    "---\n",
    "\n",
    "**When to Use:**\n",
    "\n",
    "* ✔️ Use **`split()`** when you know the array **can be evenly divided.**\n",
    "* ✔️ Use **`array_split()`** when you want to safely split arrays, even if the size is not perfectly divisible."
   ]
  },
  {
   "cell_type": "code",
   "execution_count": null,
   "id": "8b351934",
   "metadata": {},
   "outputs": [],
   "source": []
  },
  {
   "cell_type": "markdown",
   "id": "57dcb7a9",
   "metadata": {},
   "source": [
    "### 3. hsplit()\n",
    "\n",
    "`numpy.hsplit()` is a **horizontal split function** that divides an array **along its columns** (i.e., along `axis=1`).\n",
    "\n",
    "It is **a special case of `numpy.split()` where axis is always 1.**\n",
    "\n",
    "---\n",
    "\n",
    "**Syntax:**\n",
    "\n",
    "```python\n",
    "numpy.hsplit(array, sections)\n",
    "```\n",
    "\n",
    "**Parameters:**\n",
    "\n",
    "* **array**: The input array to split.\n",
    "* **sections**:\n",
    "\n",
    "  * Integer → Number of equal parts.\n",
    "  * List → Custom split positions.\n",
    "\n",
    "---\n",
    "\n",
    "**Key Rules:**\n",
    "\n",
    "* ✔️ The array must be **at least 2D.**\n",
    "* ✔️ Can only split **along columns (axis=1).**\n",
    "* ✔️ If number of sections is given → must divide columns evenly.\n",
    "* ✔️ Use custom indices list to split at specific positions.\n"
   ]
  },
  {
   "cell_type": "code",
   "execution_count": 25,
   "id": "786f0f29",
   "metadata": {},
   "outputs": [
    {
     "name": "stdout",
     "output_type": "stream",
     "text": [
      "[1 2]\n",
      "[3 4]\n"
     ]
    }
   ],
   "source": [
    "arr = np.array([1, 2, 3, 4])\n",
    "\n",
    "result = np.hsplit(arr, 2)\n",
    "\n",
    "for ele in result:\n",
    "    print(ele)"
   ]
  },
  {
   "cell_type": "code",
   "execution_count": 26,
   "id": "90a4c333",
   "metadata": {},
   "outputs": [
    {
     "name": "stdout",
     "output_type": "stream",
     "text": [
      "[[1 2]\n",
      " [5 6]] \n",
      "\n",
      "[[3 4]\n",
      " [7 8]] \n",
      "\n"
     ]
    }
   ],
   "source": [
    "# Split into Equal Parts\n",
    "arr = np.array([[1, 2, 3, 4],\n",
    "                [5, 6, 7, 8]])\n",
    "\n",
    "# Split into 2 equal parts along columns\n",
    "result = np.hsplit(arr, 2)\n",
    "\n",
    "for part in result:\n",
    "    print(part, \"\\n\")"
   ]
  },
  {
   "cell_type": "code",
   "execution_count": 27,
   "id": "22710e47",
   "metadata": {},
   "outputs": [
    {
     "name": "stdout",
     "output_type": "stream",
     "text": [
      "Error: array split does not result in an equal division\n"
     ]
    }
   ],
   "source": [
    "# Error on Uneven Split\n",
    "\n",
    "arr = np.array([[1, 2, 3, 4, 5],\n",
    "                [6, 7, 8, 9, 10]])\n",
    "\n",
    "# Trying to split into 2 parts (5 columns is not divisible by 2)\n",
    "try:\n",
    "    result = np.hsplit(arr, 2)\n",
    "except Exception as e:\n",
    "    print(f\"Error: {e}\")"
   ]
  },
  {
   "cell_type": "code",
   "execution_count": 28,
   "id": "2185c35f",
   "metadata": {},
   "outputs": [
    {
     "name": "stdout",
     "output_type": "stream",
     "text": [
      "[[10]\n",
      " [60]] \n",
      "\n",
      "[[20 30 40]\n",
      " [70 80 90]] \n",
      "\n",
      "[[ 50]\n",
      " [100]] \n",
      "\n"
     ]
    }
   ],
   "source": [
    "# Custom Split Positions\n",
    "arr = np.array([[10, 20, 30, 40, 50],\n",
    "                [60, 70, 80, 90, 100]])\n",
    "\n",
    "# Split at indices 1 and 4\n",
    "result = np.hsplit(arr, [1, 4])\n",
    "\n",
    "for part in result:\n",
    "    print(part, \"\\n\")"
   ]
  },
  {
   "cell_type": "markdown",
   "id": "5a2ba36d",
   "metadata": {},
   "source": [
    "✔️ Splits:\n",
    "\n",
    "* Before column 1 → first part\n",
    "* Between column 1 and 4 → second part\n",
    "* After column 4 → third part"
   ]
  },
  {
   "cell_type": "code",
   "execution_count": 29,
   "id": "8fa24c37",
   "metadata": {},
   "outputs": [
    {
     "name": "stdout",
     "output_type": "stream",
     "text": [
      "[[[ 0  1  2]\n",
      "  [ 3  4  5]\n",
      "  [ 6  7  8]\n",
      "  [ 9 10 11]]\n",
      "\n",
      " [[12 13 14]\n",
      "  [15 16 17]\n",
      "  [18 19 20]\n",
      "  [21 22 23]]]\n"
     ]
    }
   ],
   "source": [
    "# 3D Array Horizontal Split\n",
    "arr = np.arange(24).reshape(2, 4, 3)\n",
    "\n",
    "print(arr)"
   ]
  },
  {
   "cell_type": "code",
   "execution_count": 30,
   "id": "b6bff77d",
   "metadata": {
    "scrolled": true
   },
   "outputs": [
    {
     "name": "stdout",
     "output_type": "stream",
     "text": [
      "[[[ 0  1  2]]\n",
      "\n",
      " [[12 13 14]]] \n",
      "\n",
      "[[[ 3  4  5]]\n",
      "\n",
      " [[15 16 17]]] \n",
      "\n",
      "[[[ 6  7  8]]\n",
      "\n",
      " [[18 19 20]]] \n",
      "\n",
      "[[[ 9 10 11]]\n",
      "\n",
      " [[21 22 23]]] \n",
      "\n"
     ]
    }
   ],
   "source": [
    "# Split into 3 parts along columns (axis=1)\n",
    "result = np.hsplit(arr, 4)\n",
    "\n",
    "for part in result:\n",
    "    print(part, \"\\n\")\n"
   ]
  },
  {
   "cell_type": "markdown",
   "id": "9cffaf58",
   "metadata": {},
   "source": [
    "**Visual Diagram**\n",
    "\n",
    "Consider this array:\n",
    "\n",
    "```text\n",
    "[[ 1  2  3  4]\n",
    " [ 5  6  7  8]]\n",
    "```\n",
    "\n",
    "After `numpy.hsplit(arr, 2)`, you get:\n",
    "\n",
    "```text\n",
    "[[ 1  2]    and    [[ 3  4]\n",
    " [ 5  6]]           [ 7  8]]\n",
    "```\n",
    "\n",
    "👉 Horizontal split → cuts **vertically** through the array → separates columns.\n",
    "\n",
    "---\n",
    "\n",
    "**Summary**\n",
    "\n",
    "| Feature       | Details                                     |\n",
    "| ------------- | ------------------------------------------- |\n",
    "| Split Axis    | axis=1 (columns)                            |\n",
    "| Works On      | 2D, 3D, or higher                           |\n",
    "| Supports      | Equal splits, Custom split indices          |\n",
    "| Uneven Splits | ❌ Not allowed (use `array_split()` instead) |\n",
    "| Equivalent To | `numpy.split(arr, sections, axis=1)`        |\n",
    "\n",
    "---\n",
    "\n",
    "**When to Use:**\n",
    "\n",
    "* ✔️ When you want to **split an array along its columns.**\n",
    "* ✔️ When you are sure **splits will be equal OR you can use custom indices.**\n"
   ]
  },
  {
   "cell_type": "code",
   "execution_count": null,
   "id": "784f0420",
   "metadata": {},
   "outputs": [],
   "source": []
  },
  {
   "cell_type": "markdown",
   "id": "4cb2877f",
   "metadata": {},
   "source": [
    "### 4. vsplit()\n",
    "\n",
    "**`numpy.vsplit()`** is a **vertical split function** that splits an array **along its rows** (i.e., along `axis=0`).\n",
    "\n",
    "It is a **special case of `numpy.split()` where the axis is always 0.**\n",
    "\n",
    "---\n",
    "\n",
    "**Syntax:**\n",
    "\n",
    "```python\n",
    "numpy.vsplit(array, sections)\n",
    "```\n",
    "\n",
    "**Parameters:**\n",
    "\n",
    "* **array**: The input array you want to split.\n",
    "* **sections**:\n",
    "\n",
    "  * Integer → Number of equal parts.\n",
    "  * List → Custom split positions.\n",
    "\n",
    "---\n",
    "\n",
    "**Key Rules:**\n",
    "\n",
    "* ✔️ The array must be **at least 2D.**\n",
    "* ✔️ It splits **along rows (axis=0).**\n",
    "* ✔️ The array must be divisible evenly, unless you use custom split indices.\n",
    "* ❌ If uneven splits are required → use `numpy.array_split()` instead.\n"
   ]
  },
  {
   "cell_type": "code",
   "execution_count": 31,
   "id": "89471ebd",
   "metadata": {},
   "outputs": [
    {
     "name": "stdout",
     "output_type": "stream",
     "text": [
      "Error: vsplit only works on arrays of 2 or more dimensions\n"
     ]
    }
   ],
   "source": [
    "arr = np.array([1, 2, 3, 4])\n",
    "\n",
    "try:\n",
    "    result = np.vsplit(arr, 2)\n",
    "except Exception as e:\n",
    "    print(f\"Error: {e}\")"
   ]
  },
  {
   "cell_type": "code",
   "execution_count": 32,
   "id": "0392886e",
   "metadata": {},
   "outputs": [
    {
     "name": "stdout",
     "output_type": "stream",
     "text": [
      "[[1 2 3 4]] \n",
      "\n",
      "[[5 6 7 8]] \n",
      "\n"
     ]
    }
   ],
   "source": [
    "#  Splitting 2D Array Vertically (Equal Parts)\n",
    "\n",
    "arr = np.array([[1, 2, 3, 4],\n",
    "                [5, 6, 7, 8]])\n",
    "\n",
    "# Split into 2 equal parts along rows\n",
    "result = np.vsplit(arr, 2)\n",
    "\n",
    "for part in result:\n",
    "    print(part, \"\\n\")"
   ]
  },
  {
   "cell_type": "code",
   "execution_count": 33,
   "id": "1f3ef409",
   "metadata": {},
   "outputs": [
    {
     "name": "stdout",
     "output_type": "stream",
     "text": [
      "Error: array split does not result in an equal division\n"
     ]
    }
   ],
   "source": [
    "# Error on Uneven Split\n",
    "arr = np.array([[1, 2, 3],\n",
    "                [4, 5, 6],\n",
    "                [7, 8, 9]])\n",
    "\n",
    "# Trying to split into 2 parts → will cause error\n",
    "try:\n",
    "    result = np.vsplit(arr, 2)\n",
    "except Exception as e:\n",
    "    print(f\"Error: {e}\")\n",
    "    \n",
    "# ❌ Cannot split 3 rows into 2 equal parts."
   ]
  },
  {
   "cell_type": "code",
   "execution_count": 34,
   "id": "af6f31b4",
   "metadata": {},
   "outputs": [
    {
     "name": "stdout",
     "output_type": "stream",
     "text": [
      "[[10 20 30]] \n",
      "\n",
      "[[40 50 60]\n",
      " [70 80 90]] \n",
      "\n",
      "[[100 110 120]] \n",
      "\n"
     ]
    }
   ],
   "source": [
    "# Custom Split Positions\n",
    "\n",
    "arr = np.array([[10, 20, 30],\n",
    "                [40, 50, 60],\n",
    "                [70, 80, 90],\n",
    "                [100, 110, 120]])\n",
    "\n",
    "# Split at indices 1 and 3\n",
    "result = np.vsplit(arr, [1, 3])\n",
    "\n",
    "for part in result:\n",
    "    print(part, \"\\n\")"
   ]
  },
  {
   "cell_type": "markdown",
   "id": "7c17ce67",
   "metadata": {},
   "source": [
    "✔️ The split happens:\n",
    "\n",
    "* Before row 1 → first part\n",
    "* Between row 1 and 3 → second part\n",
    "* After row 3 → third part"
   ]
  },
  {
   "cell_type": "code",
   "execution_count": 35,
   "id": "cf3300ba",
   "metadata": {},
   "outputs": [
    {
     "name": "stdout",
     "output_type": "stream",
     "text": [
      "[[[ 0  1]\n",
      "  [ 2  3]\n",
      "  [ 4  5]]\n",
      "\n",
      " [[ 6  7]\n",
      "  [ 8  9]\n",
      "  [10 11]]\n",
      "\n",
      " [[12 13]\n",
      "  [14 15]\n",
      "  [16 17]]\n",
      "\n",
      " [[18 19]\n",
      "  [20 21]\n",
      "  [22 23]]]\n"
     ]
    }
   ],
   "source": [
    "# Splitting 3D Array Vertically\n",
    "\n",
    "arr = np.arange(24).reshape(4, 3, 2)\n",
    "print(arr)"
   ]
  },
  {
   "cell_type": "code",
   "execution_count": 36,
   "id": "2d6fe4e6",
   "metadata": {},
   "outputs": [
    {
     "name": "stdout",
     "output_type": "stream",
     "text": [
      "[[[ 0  1]\n",
      "  [ 2  3]\n",
      "  [ 4  5]]\n",
      "\n",
      " [[ 6  7]\n",
      "  [ 8  9]\n",
      "  [10 11]]] \n",
      "\n",
      "[[[12 13]\n",
      "  [14 15]\n",
      "  [16 17]]\n",
      "\n",
      " [[18 19]\n",
      "  [20 21]\n",
      "  [22 23]]] \n",
      "\n"
     ]
    }
   ],
   "source": [
    "# Split into 2 parts along rows\n",
    "result = np.vsplit(arr, 2)\n",
    "\n",
    "for part in result:\n",
    "    print(part, \"\\n\")"
   ]
  },
  {
   "cell_type": "markdown",
   "id": "4f89e48e",
   "metadata": {},
   "source": [
    "**Visual Diagram**\n",
    "\n",
    "Consider this array:\n",
    "\n",
    "```text\n",
    "[[ 1  2  3  4]\n",
    " [ 5  6  7  8]]\n",
    "```\n",
    "\n",
    "When using `numpy.vsplit(arr, 2)`, you get:\n",
    "\n",
    "```text\n",
    "[[ 1  2  3  4]]   and   [[ 5  6  7  8]]\n",
    "```\n",
    "\n",
    "👉 **Vertical split → cuts horizontally through the array → separates rows.**\n",
    "\n",
    "---\n",
    "\n",
    "**Summary Table**\n",
    "\n",
    "| Feature               | Description                          |\n",
    "| --------------------- | ------------------------------------ |\n",
    "| Splits along axis     | `axis=0` (rows)                      |\n",
    "| Works with            | 2D, 3D, or higher arrays             |\n",
    "| Supports              | Equal splits, Custom splits          |\n",
    "| Uneven split allowed? | ❌ No                                 |\n",
    "| Handles custom splits | ✔️ Yes                               |\n",
    "| Equivalent to         | `numpy.split(arr, sections, axis=0)` |\n",
    "\n",
    "---\n",
    "\n",
    "**When to Use:**\n",
    "\n",
    "* ✔️ When you need to **split an array along its rows.**\n",
    "* ✔️ When you know the array can be evenly divided (unless using custom positions).\n"
   ]
  },
  {
   "cell_type": "code",
   "execution_count": null,
   "id": "2070af6d",
   "metadata": {},
   "outputs": [],
   "source": []
  },
  {
   "cell_type": "markdown",
   "id": "eae80717",
   "metadata": {},
   "source": [
    "### 5. dsplit()\n",
    "\n",
    "`numpy.dsplit()` is a **depth-wise splitting function** that splits arrays **along the third axis** → `axis=2` (columns in the depth dimension).\n",
    "\n",
    "It is a **special case of `numpy.split()` where the split happens along `axis=2`.**\n",
    "\n",
    "---\n",
    "\n",
    "**Syntax:**\n",
    "\n",
    "```python\n",
    "numpy.dsplit(array, sections)\n",
    "```\n",
    "\n",
    "**Parameters:**\n",
    "\n",
    "* **array**: The input array you want to split (must be at least 3D).\n",
    "* **sections**:\n",
    "\n",
    "  * Integer → Number of equal parts.\n",
    "  * List → Custom split positions.\n",
    "\n",
    "---\n",
    "\n",
    "**Key Rules:**\n",
    "\n",
    "* ✔️ The array must be **at least 3D.**\n",
    "* ✔️ Splits **along axis=2 (depth).**\n",
    "* ✔️ If using an integer, the split must result in **equal-sized sub-arrays.**\n",
    "* ✔️ Uneven splits are **not allowed.** Use `numpy.array_split()` for that."
   ]
  },
  {
   "cell_type": "code",
   "execution_count": 37,
   "id": "cc08705d",
   "metadata": {},
   "outputs": [
    {
     "name": "stdout",
     "output_type": "stream",
     "text": [
      "dsplit only works on arrays of 3 or more dimensions\n"
     ]
    }
   ],
   "source": [
    "arr = np.array([1, 2, 3, 4])\n",
    "\n",
    "try:\n",
    "    np.dsplit(arr, 2)\n",
    "except Exception as e:\n",
    "    print(e)"
   ]
  },
  {
   "cell_type": "code",
   "execution_count": 38,
   "id": "df0fb882",
   "metadata": {},
   "outputs": [
    {
     "name": "stdout",
     "output_type": "stream",
     "text": [
      "[[[ 1  2  3  4]\n",
      "  [ 5  6  7  8]]\n",
      "\n",
      " [[ 9 10 11 12]\n",
      "  [13 14 15 16]]]\n"
     ]
    }
   ],
   "source": [
    "# Splitting 3D Array Equally\n",
    "\n",
    "arr = np.array([[[1, 2, 3, 4],\n",
    "                 [5, 6, 7, 8]],\n",
    "\n",
    "                [[9, 10, 11, 12],\n",
    "                 [13, 14, 15, 16]]])\n",
    "\n",
    "print(arr) # Shape: (2, 2, 4)"
   ]
  },
  {
   "cell_type": "code",
   "execution_count": 39,
   "id": "cab86f5b",
   "metadata": {},
   "outputs": [
    {
     "name": "stdout",
     "output_type": "stream",
     "text": [
      "[[[ 1  2]\n",
      "  [ 5  6]]\n",
      "\n",
      " [[ 9 10]\n",
      "  [13 14]]] \n",
      "\n",
      "[[[ 3  4]\n",
      "  [ 7  8]]\n",
      "\n",
      " [[11 12]\n",
      "  [15 16]]] \n",
      "\n"
     ]
    }
   ],
   "source": [
    "# Split into 2 equal parts along axis=2\n",
    "result = np.dsplit(arr, 2)\n",
    "\n",
    "for part in result:\n",
    "    print(part, \"\\n\")"
   ]
  },
  {
   "cell_type": "code",
   "execution_count": 40,
   "id": "5308fc02",
   "metadata": {},
   "outputs": [
    {
     "name": "stdout",
     "output_type": "stream",
     "text": [
      "array split does not result in an equal division\n"
     ]
    }
   ],
   "source": [
    "# Error on Uneven Split\n",
    "arr = np.array([[[1, 2, 3],\n",
    "                 [4, 5, 6]],\n",
    "\n",
    "                [[7, 8, 9],\n",
    "                 [10, 11, 12]]])\n",
    "\n",
    "# Trying to split into 2 parts → will cause error\n",
    "try:\n",
    "    result = np.dsplit(arr, 2)\n",
    "except Exception as e:\n",
    "    print(e)"
   ]
  },
  {
   "cell_type": "code",
   "execution_count": 41,
   "id": "aa5d12b3",
   "metadata": {},
   "outputs": [
    {
     "name": "stdout",
     "output_type": "stream",
     "text": [
      "[[[ 10]\n",
      "  [ 50]]\n",
      "\n",
      " [[ 90]\n",
      "  [130]]] \n",
      "\n",
      "[[[ 20  30]\n",
      "  [ 60  70]]\n",
      "\n",
      " [[100 110]\n",
      "  [140 150]]] \n",
      "\n",
      "[[[ 40]\n",
      "  [ 80]]\n",
      "\n",
      " [[120]\n",
      "  [160]]] \n",
      "\n"
     ]
    }
   ],
   "source": [
    "# Custom Split Positions\n",
    "\n",
    "arr = np.array([[[10, 20, 30, 40],\n",
    "                 [50, 60, 70, 80]],\n",
    "\n",
    "                [[90, 100, 110, 120],\n",
    "                 [130, 140, 150, 160]]])\n",
    "\n",
    "# Split at depth positions 1 and 3\n",
    "result = np.dsplit(arr, [1, 3])\n",
    "\n",
    "for part in result:\n",
    "    print(part, \"\\n\")\n"
   ]
  },
  {
   "cell_type": "markdown",
   "id": "5e7c7118",
   "metadata": {},
   "source": [
    "✔️ The split happens:\n",
    "\n",
    "* Before depth index 1 → first part\n",
    "* Between indices 1 and 3 → second part\n",
    "* After index 3 → third part"
   ]
  },
  {
   "cell_type": "markdown",
   "id": "0eb41b75",
   "metadata": {},
   "source": [
    "**Visual Diagram**\n",
    "\n",
    "Imagine this 3D array:\n",
    "\n",
    "```text\n",
    "[[[ 1,  2,  3,  4],\n",
    "  [ 5,  6,  7,  8]],\n",
    "\n",
    " [[ 9, 10, 11, 12],\n",
    "  [13, 14, 15, 16]]]\n",
    "```\n",
    "\n",
    "Each \"layer\" like `[1, 2, 3, 4]` is along the **depth (axis=2).**\n",
    "\n",
    "When using:\n",
    "\n",
    "```python\n",
    "np.dsplit(arr, 2)\n",
    "```\n",
    "\n",
    "The array splits **along the depth like this:**\n",
    "\n",
    "```text\n",
    "First Part:\n",
    "[[[ 1  2]\n",
    "  [ 5  6]]\n",
    "\n",
    " [[ 9 10]\n",
    "  [13 14]]]\n",
    "\n",
    "Second Part:\n",
    "[[[ 3  4]\n",
    "  [ 7  8]]\n",
    "\n",
    " [[11 12]\n",
    "  [15 16]]]\n",
    "```\n",
    "\n",
    "👉 It **cuts the depth (3rd axis) into slices.**\n",
    "\n",
    "---\n",
    "\n",
    "**Summary Table**\n",
    "\n",
    "| Feature               | Description                          |\n",
    "| --------------------- | ------------------------------------ |\n",
    "| Splits along axis     | `axis=2` (depth)                     |\n",
    "| Works on              | 3D, 4D, or higher arrays             |\n",
    "| Supports              | Equal splits, Custom splits          |\n",
    "| Uneven split allowed? | ❌ No                                 |\n",
    "| Handles custom splits | ✔️ Yes                               |\n",
    "| Equivalent to         | `numpy.split(arr, sections, axis=2)` |\n",
    "\n",
    "---\n",
    "\n",
    "**When to Use:**\n",
    "\n",
    "* ✔️ When you want to **split a 3D array along its depth.**\n",
    "* ✔️ When you know the array can be evenly divided or when you use custom indices.\n"
   ]
  },
  {
   "cell_type": "markdown",
   "id": "8c1ab5cc",
   "metadata": {},
   "source": [
    "**comprehensive and consolidated summary** of all the NumPy **array splitting methods**: `split()`, `array_split()`, `hsplit()`, `vsplit()`, and `dsplit()`—including their **behavior, syntax, axis involved, examples, and comparisons.**\n",
    "\n",
    "---\n",
    "\n",
    "# 📘 Consolidated Summary: NumPy Splitting Methods\n",
    "\n",
    "| Method             | Description                             | Works On | Axis Split | Equal Split Required? | Allows Custom Indices? | Unequal Split? |\n",
    "| ------------------ | --------------------------------------- | -------- | ---------- | --------------------- | ---------------------- | -------------- |\n",
    "| `np.split()`       | General-purpose split along any axis    | ≥1D      | Any axis   | ✅ Yes                 | ✅ Yes                  | ❌ No           |\n",
    "| `np.array_split()` | More flexible general-purpose split     | ≥1D      | Any axis   | ❌ No                  | ✅ Yes                  | ✅ Yes          |\n",
    "| `np.hsplit()`      | Horizontal split (splits columns)       | ≥2D      | axis=1     | ✅ Yes                 | ✅ Yes                  | ❌ No           |\n",
    "| `np.vsplit()`      | Vertical split (splits rows)            | ≥2D      | axis=0     | ✅ Yes                 | ✅ Yes                  | ❌ No           |\n",
    "| `np.dsplit()`      | Depth-wise split (splits depth/3rd dim) | ≥3D      | axis=2     | ✅ Yes                 | ✅ Yes                  | ❌ No           |\n",
    "\n",
    "---\n",
    "\n",
    "# 📌 Axis Meaning Cheat Sheet\n",
    "\n",
    "| Axis   | Meaning                            | Used In                          |\n",
    "| ------ | ---------------------------------- | -------------------------------- |\n",
    "| axis=0 | Splits across rows (vertical)      | `vsplit`, `split`, `array_split` |\n",
    "| axis=1 | Splits across columns (horizontal) | `hsplit`, `split`, `array_split` |\n",
    "| axis=2 | Splits across depth (3rd dim)      | `dsplit`, `split`, `array_split` |\n",
    "\n",
    "---\n",
    "\n",
    "# 📘 Examples for Each Method\n",
    "\n",
    "---\n",
    "\n",
    "### ✅ 1. `np.split()`\n",
    "\n",
    "```python\n",
    "import numpy as np\n",
    "arr = np.array([1, 2, 3, 4, 5, 6])\n",
    "np.split(arr, 3)\n",
    "```\n",
    "\n",
    "📌 Output: `[[1 2], [3 4], [5 6]]`\n",
    "❌ Throws error if uneven split is attempted.\n",
    "\n",
    "---\n",
    "\n",
    "### ✅ 2. `np.array_split()` – Safe Split\n",
    "\n",
    "```python\n",
    "arr = np.array([1, 2, 3, 4, 5, 6, 7])\n",
    "np.array_split(arr, 3)\n",
    "```\n",
    "\n",
    "📌 Output: `[[1 2 3], [4 5], [6 7]]`\n",
    "✅ Handles uneven splits gracefully.\n",
    "\n",
    "---\n",
    "\n",
    "### ✅ 3. `np.hsplit()` – Horizontal Split (Columns)\n",
    "\n",
    "```python\n",
    "arr = np.array([[1, 2, 3, 4],\n",
    "                [5, 6, 7, 8]])\n",
    "np.hsplit(arr, 2)\n",
    "```\n",
    "\n",
    "📌 Output:\n",
    "\n",
    "```\n",
    "[[1 2]\n",
    " [5 6]]\n",
    "\n",
    "[[3 4]\n",
    " [7 8]]\n",
    "```\n",
    "\n",
    "---\n",
    "\n",
    "### ✅ 4. `np.vsplit()` – Vertical Split (Rows)\n",
    "\n",
    "```python\n",
    "arr = np.array([[1, 2, 3],\n",
    "                [4, 5, 6]])\n",
    "np.vsplit(arr, 2)\n",
    "```\n",
    "\n",
    "📌 Output:\n",
    "\n",
    "```\n",
    "[[1 2 3]]\n",
    "[[4 5 6]]\n",
    "```\n",
    "\n",
    "---\n",
    "\n",
    "### ✅ 5. `np.dsplit()` – Depth-wise Split (3rd Axis)\n",
    "\n",
    "```python\n",
    "arr = np.array([[[1, 2], [3, 4]],\n",
    "                [[5, 6], [7, 8]]])\n",
    "np.dsplit(arr, 2)\n",
    "```\n",
    "\n",
    "📌 Output:\n",
    "\n",
    "```\n",
    "[[[1], [3]],\n",
    " [[5], [7]]]\n",
    "\n",
    "[[[2], [4]],\n",
    " [[6], [8]]]\n",
    "```\n",
    "\n",
    "---\n",
    "\n",
    "# ✅ Quick Decision Guide\n",
    "\n",
    "| Situation                          | Recommended Method |\n",
    "| ---------------------------------- | ------------------ |\n",
    "| Need to split evenly, any axis     | `np.split()`       |\n",
    "| Need to split unevenly             | `np.array_split()` |\n",
    "| Split 2D/3D horizontally (columns) | `np.hsplit()`      |\n",
    "| Split 2D/3D vertically (rows)      | `np.vsplit()`      |\n",
    "| Split 3D by depth slices           | `np.dsplit()`      |\n",
    "\n",
    "---\n",
    "\n",
    "# 🔚 Final Notes\n",
    "\n",
    "* ✅ All splitting methods return **a list of NumPy arrays.**\n",
    "* ✅ For **uneven splits**, always prefer `array_split()`.\n",
    "* ❌ For **1D arrays**, do not use `hsplit()` or `vsplit()`—they require at least 2D.\n",
    "* ❌ `dsplit()` requires at least a 3D array.\n",
    "\n",
    "---\n",
    "\n"
   ]
  },
  {
   "cell_type": "markdown",
   "id": "6458f3b4",
   "metadata": {},
   "source": [
    "<center><b>Thanks</b></center>"
   ]
  }
 ],
 "metadata": {
  "kernelspec": {
   "display_name": "Python 3",
   "language": "python",
   "name": "python3"
  },
  "language_info": {
   "codemirror_mode": {
    "name": "ipython",
    "version": 3
   },
   "file_extension": ".py",
   "mimetype": "text/x-python",
   "name": "python",
   "nbconvert_exporter": "python",
   "pygments_lexer": "ipython3",
   "version": "3.10.2"
  }
 },
 "nbformat": 4,
 "nbformat_minor": 5
}
