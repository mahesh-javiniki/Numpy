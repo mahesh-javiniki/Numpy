{
 "cells": [
  {
   "cell_type": "markdown",
   "id": "fb7c6387",
   "metadata": {},
   "source": [
    "# Numpy mathematical operations"
   ]
  },
  {
   "cell_type": "code",
   "execution_count": 3,
   "id": "b2ec25c0",
   "metadata": {},
   "outputs": [],
   "source": [
    "import numpy as np"
   ]
  },
  {
   "cell_type": "markdown",
   "id": "5037c8e2",
   "metadata": {},
   "source": [
    "# 1. Arithmatic operations"
   ]
  },
  {
   "cell_type": "markdown",
   "id": "6953d558",
   "metadata": {},
   "source": [
    "Arithmetic operations in NumPy work **element-wise by default** if the arrays are the same shape.\n",
    "When shapes differ, **NumPy applies broadcasting rules** to align the shapes so that element-wise operations can still occur.\n",
    "\n",
    "Supported arithmetic operations:\n",
    "\n",
    "* `+` → Addition\n",
    "* `-` → Subtraction\n",
    "* `*` → Multiplication\n",
    "* `/` → Division\n",
    "* `//` → Floor Division\n",
    "* `**` → Exponentiation\n",
    "* `%` → Modulo"
   ]
  },
  {
   "cell_type": "markdown",
   "id": "3509ac78",
   "metadata": {},
   "source": [
    "## 2D and 3D Arrays with Axis-Specific Operations"
   ]
  },
  {
   "cell_type": "markdown",
   "id": "be45687a",
   "metadata": {},
   "source": [
    "### 2D Array Arithmetic (Matrix Operations)"
   ]
  },
  {
   "cell_type": "code",
   "execution_count": 14,
   "id": "ffd6ba0c",
   "metadata": {},
   "outputs": [],
   "source": [
    "a = np.array([[1, 2, 3],\n",
    "              [4, 5, 6]])\n",
    "\n",
    "b = np.array([[10, 20, 30],\n",
    "              [40, 50, 60]])"
   ]
  },
  {
   "cell_type": "code",
   "execution_count": 15,
   "id": "f597e8ca",
   "metadata": {
    "scrolled": true
   },
   "outputs": [
    {
     "name": "stdout",
     "output_type": "stream",
     "text": [
      "Addition:\n",
      " [[11 22 33]\n",
      " [44 55 66]]\n",
      "subtraction: \n",
      " [[ 9 18 27]\n",
      " [36 45 54]]\n",
      "multiplication: \n",
      " [[ 10  40  90]\n",
      " [160 250 360]]\n",
      "division: \n",
      " [[10. 10. 10.]\n",
      " [10. 10. 10.]]\n",
      "mod_division: \n",
      " [[0 0 0]\n",
      " [0 0 0]]\n",
      "exponential: \n",
      " [[        10        400      27000]\n",
      " [   2560000  312500000 -588640256]]\n"
     ]
    }
   ],
   "source": [
    "addition = a + b\n",
    "subtraction = b - a\n",
    "multiplication = a * b\n",
    "division = b / a\n",
    "mod_division = b % a\n",
    "exponential = b ** a\n",
    "\n",
    "print(f\"Addition:\\n\", addition)\n",
    "print(f\"subtraction: \\n\", subtraction)\n",
    "print(f\"multiplication: \\n\", multiplication)\n",
    "print(f\"division: \\n\", division)\n",
    "print(f\"mod_division: \\n\", mod_division)\n",
    "print(f\"exponential: \\n\", exponential)"
   ]
  },
  {
   "cell_type": "markdown",
   "id": "9b11a841",
   "metadata": {},
   "source": [
    "### **Arithmetic with 1D Array (Broadcasting across a specific axis)**"
   ]
  },
  {
   "cell_type": "code",
   "execution_count": 22,
   "id": "2d67b28f",
   "metadata": {},
   "outputs": [
    {
     "name": "stdout",
     "output_type": "stream",
     "text": [
      "[[1 2 3]\n",
      " [4 5 6]]\n",
      "\n",
      "[[2 4 6]\n",
      " [5 7 9]]\n"
     ]
    }
   ],
   "source": [
    "print(a) # shape: (2, 3)\n",
    "print() \n",
    "c = np.array([1, 2, 3]) # Shape: (3,)\n",
    "\n",
    "result = a + c\n",
    "print(result)"
   ]
  },
  {
   "cell_type": "markdown",
   "id": "6193436f",
   "metadata": {},
   "source": [
    "📌 **Broadcasting Behavior:**\n",
    "\n",
    "* `c` is broadcasted **across each row** because its size matches the number of columns.\n",
    "* Operation applies **along axis=1 (columns)**.\n",
    "\n",
    "| a          | c          | Result     |\n",
    "| ---------- | ---------- | ---------- |\n",
    "| \\[1, 2, 3] | \\[1, 2, 3] | \\[2, 4, 6] |\n",
    "| \\[4, 5, 6] | \\[1, 2, 3] | \\[5, 7, 9] |"
   ]
  },
  {
   "cell_type": "code",
   "execution_count": 24,
   "id": "5be1a6fa",
   "metadata": {},
   "outputs": [
    {
     "name": "stdout",
     "output_type": "stream",
     "text": [
      "[[1 2 3]\n",
      " [4 5 6]]\n",
      "\n",
      "[[2 3 4]\n",
      " [6 7 8]]\n"
     ]
    }
   ],
   "source": [
    "print(a) # shape: (2, 3)\n",
    "print() \n",
    "d = np.array([[1], [2]])  # Shape: (2, 1)\n",
    "\n",
    "result = a + d\n",
    "print(result)"
   ]
  },
  {
   "cell_type": "markdown",
   "id": "2f543cc2",
   "metadata": {},
   "source": [
    "📌 **Broadcasting Behavior:**\n",
    "\n",
    "* `d` is broadcasted **along each column** because its size matches the number of rows.\n",
    "* Operation applies **along axis=0 (rows)**.\n",
    "\n",
    "| a          | d    | Result     |\n",
    "| ---------- | ---- | ---------- |\n",
    "| \\[1, 2, 3] | \\[1] | \\[2, 3, 4] |\n",
    "| \\[4, 5, 6] | \\[2] | \\[6, 7, 8] |"
   ]
  },
  {
   "cell_type": "code",
   "execution_count": 30,
   "id": "e62f8df6",
   "metadata": {},
   "outputs": [
    {
     "name": "stdout",
     "output_type": "stream",
     "text": [
      "[[1 2 3]\n",
      " [4 5 6]]\n",
      "\n",
      "operands could not be broadcast together with shapes (2,3) (3,1) \n"
     ]
    }
   ],
   "source": [
    "# Broad casting failure case\n",
    "\n",
    "print(a) # shape: (2, 3)\n",
    "print() \n",
    "d1 = np.array([[1], [2], [3]])\n",
    "\n",
    "try:\n",
    "    result = a + d1\n",
    "except Exception as e:\n",
    "    print(e)"
   ]
  },
  {
   "cell_type": "markdown",
   "id": "06c3e6d8",
   "metadata": {},
   "source": [
    "### **Axis-Wise Scalar Arithmetic**"
   ]
  },
  {
   "cell_type": "code",
   "execution_count": 31,
   "id": "756c9237",
   "metadata": {},
   "outputs": [
    {
     "name": "stdout",
     "output_type": "stream",
     "text": [
      "[[1 2 3]\n",
      " [4 5 6]]\n",
      "\n",
      "[[ 6  7  8]\n",
      " [ 9 10 11]]\n"
     ]
    }
   ],
   "source": [
    "print(a) # shape: (2, 3)\n",
    "print() \n",
    "\n",
    "result = a + 5\n",
    "print(result)"
   ]
  },
  {
   "cell_type": "markdown",
   "id": "f42c833e",
   "metadata": {},
   "source": [
    "👉 Scalar is broadcasted to **all elements.**"
   ]
  },
  {
   "cell_type": "markdown",
   "id": "5ba8b449",
   "metadata": {},
   "source": [
    "## **3D Array Arithmetic (Tensor Operations)**"
   ]
  },
  {
   "cell_type": "code",
   "execution_count": 34,
   "id": "ff64af6d",
   "metadata": {},
   "outputs": [
    {
     "name": "stdout",
     "output_type": "stream",
     "text": [
      "[[[ 1  2  3]\n",
      "  [ 4  5  6]]\n",
      "\n",
      " [[ 7  8  9]\n",
      "  [10 11 12]]]\n",
      "(2, 2, 3)\n"
     ]
    }
   ],
   "source": [
    "e = np.array([[[1, 2, 3],\n",
    "               [4, 5, 6]],\n",
    "              \n",
    "              [[7, 8, 9],\n",
    "               [10, 11, 12]]])\n",
    "\n",
    "print(e)\n",
    "print(e.shape)"
   ]
  },
  {
   "cell_type": "markdown",
   "id": "8b6db74e",
   "metadata": {},
   "source": [
    "### **Element-wise Arithmetic (Same shape)**"
   ]
  },
  {
   "cell_type": "code",
   "execution_count": 36,
   "id": "31354843",
   "metadata": {},
   "outputs": [
    {
     "name": "stdout",
     "output_type": "stream",
     "text": [
      "[[[ 2  4  6]\n",
      "  [ 8 10 12]]\n",
      "\n",
      " [[14 16 18]\n",
      "  [20 22 24]]]\n"
     ]
    }
   ],
   "source": [
    "result = e + e\n",
    "print(result)"
   ]
  },
  {
   "cell_type": "markdown",
   "id": "9c9191d0",
   "metadata": {},
   "source": [
    "### **Arithmetic with 2D Array**"
   ]
  },
  {
   "cell_type": "code",
   "execution_count": 39,
   "id": "9cdf59d5",
   "metadata": {},
   "outputs": [
    {
     "name": "stdout",
     "output_type": "stream",
     "text": [
      "[[[ 2  4  6]\n",
      "  [ 8 10 12]]\n",
      "\n",
      " [[ 8 10 12]\n",
      "  [14 16 18]]]\n"
     ]
    }
   ],
   "source": [
    "f = np.array([[1, 2, 3],\n",
    "              [4, 5, 6]]) # Shape: (2, 3)\n",
    "result = e + f\n",
    "print(result)"
   ]
  },
  {
   "cell_type": "markdown",
   "id": "3abffb9b",
   "metadata": {},
   "source": [
    "📌 **Broadcasting Behavior:**\n",
    "\n",
    "* `f` is **broadcasted across the first dimension.**\n",
    "* Effectively, `f` is applied to each \"2D slice\" of `e` along axis=0.\n",
    "\n",
    "**Visual:**\n",
    "\n",
    "* For each `e[i]`, add `f` to it."
   ]
  },
  {
   "cell_type": "code",
   "execution_count": 43,
   "id": "c23a7bbb",
   "metadata": {},
   "outputs": [
    {
     "name": "stdout",
     "output_type": "stream",
     "text": [
      "[[[ 1  2  3]\n",
      "  [ 4  5  6]]\n",
      "\n",
      " [[ 7  8  9]\n",
      "  [10 11 12]]]\n",
      "\n",
      "[[[ 2  4  6]\n",
      "  [ 8 10 12]]\n",
      "\n",
      " [[ 8 10 12]\n",
      "  [14 16 18]]]\n"
     ]
    }
   ],
   "source": [
    "# Another 3D broadcasting case\n",
    "print(e)\n",
    "print()\n",
    "\n",
    "f1 = np.array([[[1, 2, 3]]]) # (1, 1, 3)\n",
    "result = e + f\n",
    "print(result)"
   ]
  },
  {
   "cell_type": "markdown",
   "id": "158463ca",
   "metadata": {},
   "source": [
    "### **Arithmetic with 1D Array**"
   ]
  },
  {
   "cell_type": "code",
   "execution_count": 45,
   "id": "bc03319d",
   "metadata": {},
   "outputs": [
    {
     "name": "stdout",
     "output_type": "stream",
     "text": [
      "[[[ 2  4  6]\n",
      "  [ 5  7  9]]\n",
      "\n",
      " [[ 8 10 12]\n",
      "  [11 13 15]]]\n"
     ]
    }
   ],
   "source": [
    "g = np.array([1, 2, 3])  # Shape: (3,)\n",
    "\n",
    "result = e + g\n",
    "print(result)"
   ]
  },
  {
   "cell_type": "markdown",
   "id": "a93267ea",
   "metadata": {},
   "source": [
    "📌 **Broadcasting Behavior:**\n",
    "\n",
    "* `g` is broadcasted **along the last dimension (axis=2)**.\n",
    "\n",
    "**Visual:**\n",
    "\n",
    "Each 2D slice:\n",
    "\n",
    "```plaintext\n",
    "[[1, 2, 3],\n",
    " [4, 5, 6]] + [1, 2, 3] => [[2, 4, 6],\n",
    "                             [5, 7, 9]]\n",
    "```"
   ]
  },
  {
   "cell_type": "markdown",
   "id": "f3ae0827",
   "metadata": {},
   "source": [
    "### **Arithmetic with Scalar**"
   ]
  },
  {
   "cell_type": "code",
   "execution_count": 48,
   "id": "3c00ea2b",
   "metadata": {},
   "outputs": [
    {
     "name": "stdout",
     "output_type": "stream",
     "text": [
      "[[[11 12 13]\n",
      "  [14 15 16]]\n",
      "\n",
      " [[17 18 19]\n",
      "  [20 21 22]]]\n"
     ]
    }
   ],
   "source": [
    "print(e + 10)"
   ]
  },
  {
   "cell_type": "markdown",
   "id": "e8adc51c",
   "metadata": {},
   "source": [
    "👉 Scalar is **applied to all elements regardless of dimension.**"
   ]
  },
  {
   "cell_type": "markdown",
   "id": "af6e343f",
   "metadata": {},
   "source": [
    "### **Different Dimension Compatibility**"
   ]
  },
  {
   "cell_type": "code",
   "execution_count": 50,
   "id": "1c415a21",
   "metadata": {},
   "outputs": [
    {
     "name": "stdout",
     "output_type": "stream",
     "text": [
      "[[[101 102 103]\n",
      "  [204 205 206]]\n",
      "\n",
      " [[107 108 109]\n",
      "  [210 211 212]]]\n"
     ]
    }
   ],
   "source": [
    "h = np.array([[100], [200]])  # Shape: (2, 1)\n",
    "\n",
    "result = e + h\n",
    "print(result)"
   ]
  },
  {
   "cell_type": "markdown",
   "id": "c8a168fe",
   "metadata": {},
   "source": [
    "📌 Broadcasting:\n",
    "\n",
    "* `h` is broadcasted along axis=2 (size 3).\n",
    "* Applies to each row of each 2D slice.\n",
    "\n",
    "#### Visual:\n",
    "\n",
    "* For e\\[0], h = \\[\\[100], \\[200]]\n",
    "* For e\\[1], h = \\[\\[100], \\[200]]\n",
    "\n",
    "Each row gets the respective addition."
   ]
  },
  {
   "cell_type": "markdown",
   "id": "bf91948a",
   "metadata": {},
   "source": [
    "# Summary Table of Axis-wise Arithmetic:\n",
    "\n",
    "| Operation Example | Operand Shape | Affected Axis    | Broadcasting Effect             |\n",
    "| ----------------- | ------------- | ---------------- | ------------------------------- |\n",
    "| 2D + Scalar       | ()            | All              | Scalar applied to all elements  |\n",
    "| 2D + 1D           | (n,)          | Axis=1 (Columns) | Row-wise addition               |\n",
    "| 2D + 1D           | (m, 1)        | Axis=0 (Rows)    | Column-wise addition            |\n",
    "| 3D + 2D           | (m, n)        | Axis=0 (Depth)   | 2D array added to each 2D slice |\n",
    "| 3D + 1D           | (n,)          | Axis=2           | Added along last dimension      |\n",
    "| 3D + Scalar       | ()            | All              | Scalar applied to all elements  |\n",
    "\n",
    "---\n",
    "\n",
    "# Key Takeaways:\n",
    "\n",
    "* **Element-wise:** Same shape arrays → direct operation.\n",
    "* **Broadcasting:** Compatible dimensions → NumPy automatically expands smaller arrays.\n",
    "* **Axes:** Pay attention to which axis is being broadcasted → it depends on the shapes.\n",
    "* **Scalar Operations:** Apply to all elements regardless of dimension.\n"
   ]
  },
  {
   "cell_type": "markdown",
   "id": "08f480ae",
   "metadata": {},
   "source": [
    "<center><b>Thanks</b></center>"
   ]
  }
 ],
 "metadata": {
  "kernelspec": {
   "display_name": "Python 3 (ipykernel)",
   "language": "python",
   "name": "python3"
  },
  "language_info": {
   "codemirror_mode": {
    "name": "ipython",
    "version": 3
   },
   "file_extension": ".py",
   "mimetype": "text/x-python",
   "name": "python",
   "nbconvert_exporter": "python",
   "pygments_lexer": "ipython3",
   "version": "3.10.2"
  }
 },
 "nbformat": 4,
 "nbformat_minor": 5
}
