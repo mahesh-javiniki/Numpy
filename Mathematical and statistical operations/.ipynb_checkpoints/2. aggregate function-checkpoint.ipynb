{
 "cells": [
  {
   "cell_type": "markdown",
   "id": "fb7c6387",
   "metadata": {},
   "source": [
    "# Numpy mathematical operations"
   ]
  },
  {
   "cell_type": "code",
   "execution_count": 1,
   "id": "b2ec25c0",
   "metadata": {},
   "outputs": [],
   "source": [
    "import numpy as np"
   ]
  },
  {
   "cell_type": "markdown",
   "id": "5037c8e2",
   "metadata": {},
   "source": [
    "# 1. Aggregate Functions (Statistical Measures)"
   ]
  },
  {
   "cell_type": "markdown",
   "id": "ea6d84e5",
   "metadata": {},
   "source": [
    "**Key Functions**\n",
    "1. `np.sum()`\n",
    "2. `np.mean()`\n",
    "3. `np.median()`\n",
    "4. `np.std()`\n",
    "5. `np.var()`\n",
    "6. `np.min()` / `np.max()`\n",
    "7. `np.percentile()`\n",
    "8. `np.quantile()`\n",
    "9. `np.cumsum()`\n",
    "10. `np.cumprod()`"
   ]
  },
  {
   "cell_type": "markdown",
   "id": "36220b42",
   "metadata": {},
   "source": [
    "## 1. sum()"
   ]
  },
  {
   "cell_type": "code",
   "execution_count": 5,
   "id": "d243d5e0",
   "metadata": {},
   "outputs": [
    {
     "name": "stdout",
     "output_type": "stream",
     "text": [
      "10\n"
     ]
    }
   ],
   "source": [
    "# 1D\n",
    "arr_1d = np.array([1, 2, 3, 4])\n",
    "print(np.sum(arr_1d))"
   ]
  },
  {
   "cell_type": "code",
   "execution_count": 6,
   "id": "431098be",
   "metadata": {},
   "outputs": [
    {
     "name": "stdout",
     "output_type": "stream",
     "text": [
      "10\n",
      "[4 6]\n",
      "[3 7]\n"
     ]
    }
   ],
   "source": [
    "# 2D\n",
    "arr_2d = np.array([[1, 2], [3, 4]])\n",
    "\n",
    "print(np.sum(arr_2d))\n",
    "print(np.sum(arr_2d, axis=0))\n",
    "print(np.sum(arr_2d, axis=1))"
   ]
  },
  {
   "cell_type": "code",
   "execution_count": 7,
   "id": "be25b0b3",
   "metadata": {},
   "outputs": [
    {
     "name": "stdout",
     "output_type": "stream",
     "text": [
      "36\n",
      "[[ 6  8]\n",
      " [10 12]]\n",
      "[[ 4  6]\n",
      " [12 14]]\n",
      "[[ 3  7]\n",
      " [11 15]]\n"
     ]
    }
   ],
   "source": [
    "# 3D\n",
    "arr_3d = np.array([[[1, 2], [3, 4]], [[5, 6], [7, 8]]])\n",
    "print(np.sum(arr_3d))          \n",
    "print(np.sum(arr_3d, axis=0))  \n",
    "print(np.sum(arr_3d, axis=1))  \n",
    "print(np.sum(arr_3d, axis=2))  "
   ]
  },
  {
   "cell_type": "markdown",
   "id": "4e8a9cdc",
   "metadata": {},
   "source": [
    "## 2. mean()"
   ]
  },
  {
   "cell_type": "code",
   "execution_count": 10,
   "id": "8ebf6964",
   "metadata": {},
   "outputs": [
    {
     "name": "stdout",
     "output_type": "stream",
     "text": [
      "[1 2 3 4]\n",
      "2.5\n"
     ]
    }
   ],
   "source": [
    "# 1D\n",
    "print(arr_1d)\n",
    "print(np.mean(arr_1d))"
   ]
  },
  {
   "cell_type": "code",
   "execution_count": 12,
   "id": "4a844bc8",
   "metadata": {},
   "outputs": [
    {
     "name": "stdout",
     "output_type": "stream",
     "text": [
      "[[1 2]\n",
      " [3 4]]\n",
      "2.5\n",
      "[2. 3.]\n",
      "[1.5 3.5]\n"
     ]
    }
   ],
   "source": [
    "# 2D\n",
    "print(arr_2d)\n",
    "\n",
    "print(np.mean(arr_2d))         \n",
    "print(np.mean(arr_2d, axis=0)) \n",
    "print(np.mean(arr_2d, axis=1)) "
   ]
  },
  {
   "cell_type": "code",
   "execution_count": 14,
   "id": "12328fd9",
   "metadata": {},
   "outputs": [
    {
     "name": "stdout",
     "output_type": "stream",
     "text": [
      "[[[1 2]\n",
      "  [3 4]]\n",
      "\n",
      " [[5 6]\n",
      "  [7 8]]]\n",
      "\n",
      "4.5\n",
      "[[3. 4.]\n",
      " [5. 6.]]\n",
      "[[2. 3.]\n",
      " [6. 7.]]\n",
      "[[1.5 3.5]\n",
      " [5.5 7.5]]\n"
     ]
    }
   ],
   "source": [
    "# 3D\n",
    "print(arr_3d)\n",
    "print()\n",
    "\n",
    "print(np.mean(arr_3d))        \n",
    "print(np.mean(arr_3d, axis=0))\n",
    "print(np.mean(arr_3d, axis=1))\n",
    "print(np.mean(arr_3d, axis=2))"
   ]
  },
  {
   "cell_type": "markdown",
   "id": "e898fd91",
   "metadata": {},
   "source": [
    "## 3. median()"
   ]
  },
  {
   "cell_type": "code",
   "execution_count": 18,
   "id": "67bfe620",
   "metadata": {},
   "outputs": [
    {
     "name": "stdout",
     "output_type": "stream",
     "text": [
      "[1 2 3 4]\n",
      "\n",
      "2.5\n"
     ]
    }
   ],
   "source": [
    "# 1D\n",
    "print(arr_1d)\n",
    "print()\n",
    "\n",
    "print(np.median(arr_1d))"
   ]
  },
  {
   "cell_type": "code",
   "execution_count": 19,
   "id": "890d8240",
   "metadata": {},
   "outputs": [
    {
     "name": "stdout",
     "output_type": "stream",
     "text": [
      "[[1 2]\n",
      " [3 4]]\n",
      "\n",
      "2.5\n",
      "[2. 3.]\n",
      "[1.5 3.5]\n"
     ]
    }
   ],
   "source": [
    "# 2D\n",
    "print(arr_2d)\n",
    "print()\n",
    "\n",
    "print(np.median(arr_2d))        \n",
    "print(np.median(arr_2d, axis=0))\n",
    "print(np.median(arr_2d, axis=1))"
   ]
  },
  {
   "cell_type": "code",
   "execution_count": 20,
   "id": "1efcc796",
   "metadata": {},
   "outputs": [
    {
     "name": "stdout",
     "output_type": "stream",
     "text": [
      "[[[1 2]\n",
      "  [3 4]]\n",
      "\n",
      " [[5 6]\n",
      "  [7 8]]]\n",
      "\n",
      "4.5\n",
      "[[3. 4.]\n",
      " [5. 6.]]\n",
      "[[2. 3.]\n",
      " [6. 7.]]\n",
      "[[1.5 3.5]\n",
      " [5.5 7.5]]\n"
     ]
    }
   ],
   "source": [
    "# 3D\n",
    "print(arr_3d)\n",
    "print()\n",
    "\n",
    "print(np.median(arr_3d))        \n",
    "print(np.median(arr_3d, axis=0))\n",
    "print(np.median(arr_3d, axis=1))\n",
    "print(np.median(arr_3d, axis=2))"
   ]
  },
  {
   "cell_type": "markdown",
   "id": "7f67894d",
   "metadata": {},
   "source": [
    "## 4. std() (standard deviation)"
   ]
  },
  {
   "cell_type": "code",
   "execution_count": 22,
   "id": "f2746934",
   "metadata": {},
   "outputs": [
    {
     "name": "stdout",
     "output_type": "stream",
     "text": [
      "[1 2 3 4]\n",
      "\n",
      "1.118033988749895\n"
     ]
    }
   ],
   "source": [
    "# 1D\n",
    "print(arr_1d)\n",
    "print()\n",
    "\n",
    "print(np.std(arr_1d))"
   ]
  },
  {
   "cell_type": "code",
   "execution_count": 17,
   "id": "e9c63386",
   "metadata": {},
   "outputs": [],
   "source": [
    "# 2D\n",
    "print(arr_2d)\n",
    "print()\n",
    "\n",
    "print(np.std(arr_2d))        \n",
    "print(np.std(arr_2d, axis=0))\n",
    "print(np.std(arr_2d, axis=1))"
   ]
  },
  {
   "cell_type": "code",
   "execution_count": 24,
   "id": "0a4430fc",
   "metadata": {},
   "outputs": [
    {
     "name": "stdout",
     "output_type": "stream",
     "text": [
      "[[[1 2]\n",
      "  [3 4]]\n",
      "\n",
      " [[5 6]\n",
      "  [7 8]]]\n",
      "\n",
      "2.29128784747792\n",
      "[[2. 2.]\n",
      " [2. 2.]]\n",
      "[[1. 1.]\n",
      " [1. 1.]]\n",
      "[[0.5 0.5]\n",
      " [0.5 0.5]]\n"
     ]
    }
   ],
   "source": [
    "# 3D\n",
    "print(arr_3d)\n",
    "print()\n",
    "\n",
    "print(np.std(arr_3d))        \n",
    "print(np.std(arr_3d, axis=0))\n",
    "print(np.std(arr_3d, axis=1))\n",
    "print(np.std(arr_3d, axis=2))"
   ]
  },
  {
   "cell_type": "markdown",
   "id": "bbb88e88",
   "metadata": {},
   "source": [
    "## 5. var() (variance)"
   ]
  },
  {
   "cell_type": "code",
   "execution_count": 26,
   "id": "f913ed30",
   "metadata": {},
   "outputs": [
    {
     "name": "stdout",
     "output_type": "stream",
     "text": [
      "[1 2 3 4]\n",
      "\n",
      "1.25\n"
     ]
    }
   ],
   "source": [
    "# 1D\n",
    "print(arr_1d)\n",
    "print()\n",
    "\n",
    "print(np.var(arr_1d))"
   ]
  },
  {
   "cell_type": "code",
   "execution_count": 27,
   "id": "fb07f1c3",
   "metadata": {},
   "outputs": [
    {
     "name": "stdout",
     "output_type": "stream",
     "text": [
      "[[1 2]\n",
      " [3 4]]\n",
      "\n",
      "1.25\n",
      "[1. 1.]\n",
      "[0.25 0.25]\n"
     ]
    }
   ],
   "source": [
    "# 2D\n",
    "print(arr_2d)\n",
    "print()\n",
    "\n",
    "print(np.var(arr_2d))        \n",
    "print(np.var(arr_2d, axis=0))\n",
    "print(np.var(arr_2d, axis=1))"
   ]
  },
  {
   "cell_type": "code",
   "execution_count": 28,
   "id": "69afebf3",
   "metadata": {},
   "outputs": [
    {
     "name": "stdout",
     "output_type": "stream",
     "text": [
      "[[[1 2]\n",
      "  [3 4]]\n",
      "\n",
      " [[5 6]\n",
      "  [7 8]]]\n",
      "\n",
      "5.25\n",
      "[[4. 4.]\n",
      " [4. 4.]]\n",
      "[[1. 1.]\n",
      " [1. 1.]]\n",
      "[[0.25 0.25]\n",
      " [0.25 0.25]]\n"
     ]
    }
   ],
   "source": [
    "# 3D\n",
    "print(arr_3d)\n",
    "print()\n",
    "\n",
    "print(np.var(arr_3d))        \n",
    "print(np.var(arr_3d, axis=0))\n",
    "print(np.var(arr_3d, axis=1))\n",
    "print(np.var(arr_3d, axis=2))"
   ]
  },
  {
   "cell_type": "markdown",
   "id": "3a297f40",
   "metadata": {},
   "source": [
    "## 6. min() & max()"
   ]
  },
  {
   "cell_type": "code",
   "execution_count": 31,
   "id": "0e6ac75b",
   "metadata": {},
   "outputs": [
    {
     "name": "stdout",
     "output_type": "stream",
     "text": [
      "[1 2 3 4]\n",
      "\n",
      "1\n",
      "4\n"
     ]
    }
   ],
   "source": [
    "# 1D\n",
    "print(arr_1d)\n",
    "print()\n",
    "\n",
    "print(np.min(arr_1d))\n",
    "print(np.max(arr_1d))"
   ]
  },
  {
   "cell_type": "code",
   "execution_count": 32,
   "id": "93811eef",
   "metadata": {},
   "outputs": [
    {
     "name": "stdout",
     "output_type": "stream",
     "text": [
      "[[1 2]\n",
      " [3 4]]\n",
      "\n",
      "[1 2]\n",
      "[1 3]\n",
      "[3 4]\n",
      "[2 4]\n"
     ]
    }
   ],
   "source": [
    "# 2D\n",
    "print(arr_2d)\n",
    "print()\n",
    "\n",
    "print(np.min(arr_2d, axis=0))\n",
    "print(np.min(arr_2d, axis=1))\n",
    "\n",
    "print(np.max(arr_2d, axis=0))\n",
    "print(np.max(arr_2d, axis=1))"
   ]
  },
  {
   "cell_type": "code",
   "execution_count": 33,
   "id": "16cf1644",
   "metadata": {
    "scrolled": true
   },
   "outputs": [
    {
     "name": "stdout",
     "output_type": "stream",
     "text": [
      "[[[1 2]\n",
      "  [3 4]]\n",
      "\n",
      " [[5 6]\n",
      "  [7 8]]]\n",
      "\n",
      "[[1 2]\n",
      " [3 4]]\n",
      "[[3 4]\n",
      " [7 8]]\n",
      "[[1 3]\n",
      " [5 7]]\n"
     ]
    }
   ],
   "source": [
    "# 3D\n",
    "print(arr_3d)\n",
    "print()\n",
    "\n",
    "\n",
    "print(np.min(arr_3d, axis=0))\n",
    "print(np.max(arr_3d, axis=1))\n",
    "print(np.min(arr_3d, axis=2))"
   ]
  },
  {
   "cell_type": "markdown",
   "id": "9f9d9d6c",
   "metadata": {},
   "source": [
    "## 7. percentile()\n",
    "Percentile indicates the value below which a given percentage of observations fall."
   ]
  },
  {
   "cell_type": "code",
   "execution_count": 36,
   "id": "0d7bdab9",
   "metadata": {},
   "outputs": [
    {
     "name": "stdout",
     "output_type": "stream",
     "text": [
      "[1 2 3 4]\n",
      "\n",
      "2.5\n"
     ]
    }
   ],
   "source": [
    "# 1D\n",
    "print(arr_1d)\n",
    "print()\n",
    "\n",
    "print(np.percentile(arr_1d, 50))"
   ]
  },
  {
   "cell_type": "code",
   "execution_count": 37,
   "id": "b30fb893",
   "metadata": {},
   "outputs": [
    {
     "name": "stdout",
     "output_type": "stream",
     "text": [
      "[[1 2]\n",
      " [3 4]]\n",
      "\n",
      "2.5\n",
      "[2. 3.]\n",
      "[1.5 3.5]\n"
     ]
    }
   ],
   "source": [
    "# 2D\n",
    "print(arr_2d)\n",
    "print()\n",
    "\n",
    "print(np.percentile(arr_2d, 50))        \n",
    "print(np.percentile(arr_2d, 50, axis=0))\n",
    "print(np.percentile(arr_2d, 50, axis=1))"
   ]
  },
  {
   "cell_type": "code",
   "execution_count": 38,
   "id": "a867976b",
   "metadata": {
    "scrolled": true
   },
   "outputs": [
    {
     "name": "stdout",
     "output_type": "stream",
     "text": [
      "[[[1 2]\n",
      "  [3 4]]\n",
      "\n",
      " [[5 6]\n",
      "  [7 8]]]\n",
      "\n",
      "4.5\n",
      "[[3. 4.]\n",
      " [5. 6.]]\n",
      "[[2. 3.]\n",
      " [6. 7.]]\n",
      "[[1.5 3.5]\n",
      " [5.5 7.5]]\n"
     ]
    }
   ],
   "source": [
    "# 3D\n",
    "print(arr_3d)\n",
    "print()\n",
    "\n",
    "print(np.percentile(arr_3d, 50))        \n",
    "print(np.percentile(arr_3d, 50, axis=0))\n",
    "print(np.percentile(arr_3d, 50, axis=1))\n",
    "print(np.percentile(arr_3d, 50, axis=2))"
   ]
  },
  {
   "cell_type": "markdown",
   "id": "0ebe2b0c",
   "metadata": {},
   "source": [
    "## 8. quantile()\n",
    "Quantile is similar to percentile but expressed as a fraction between 0 and 1."
   ]
  },
  {
   "cell_type": "code",
   "execution_count": 40,
   "id": "592d9e5d",
   "metadata": {},
   "outputs": [
    {
     "name": "stdout",
     "output_type": "stream",
     "text": [
      "[1 2 3 4]\n",
      "\n",
      "1.75\n"
     ]
    }
   ],
   "source": [
    "# 1D\n",
    "print(arr_1d)\n",
    "print()\n",
    "\n",
    "print(np.quantile(arr_1d, 0.25))"
   ]
  },
  {
   "cell_type": "code",
   "execution_count": 42,
   "id": "c9e06281",
   "metadata": {},
   "outputs": [
    {
     "name": "stdout",
     "output_type": "stream",
     "text": [
      "[[1 2]\n",
      " [3 4]]\n",
      "\n",
      "1.75\n",
      "[1.5 2.5]\n",
      "[1.25 3.25]\n"
     ]
    }
   ],
   "source": [
    "# 2D\n",
    "print(arr_2d)\n",
    "print()\n",
    "\n",
    "print(np.quantile(arr_2d, 0.25))        \n",
    "print(np.quantile(arr_2d, 0.25, axis=0))\n",
    "print(np.quantile(arr_2d, 0.25, axis=1))"
   ]
  },
  {
   "cell_type": "code",
   "execution_count": 44,
   "id": "71b639fa",
   "metadata": {
    "scrolled": true
   },
   "outputs": [
    {
     "name": "stdout",
     "output_type": "stream",
     "text": [
      "[[[1 2]\n",
      "  [3 4]]\n",
      "\n",
      " [[5 6]\n",
      "  [7 8]]]\n",
      "\n",
      "2.75\n",
      "[[2. 3.]\n",
      " [4. 5.]]\n",
      "[[1.5 2.5]\n",
      " [5.5 6.5]]\n",
      "[[1.25 3.25]\n",
      " [5.25 7.25]]\n"
     ]
    }
   ],
   "source": [
    "# 3D\n",
    "print(arr_3d)\n",
    "print()\n",
    "\n",
    "print(np.quantile(arr_3d, 0.25))        \n",
    "print(np.quantile(arr_3d, 0.25, axis=0))\n",
    "print(np.quantile(arr_3d, 0.25, axis=1))\n",
    "print(np.quantile(arr_3d, 0.25, axis=2))"
   ]
  },
  {
   "cell_type": "markdown",
   "id": "aa18d3e1",
   "metadata": {},
   "source": [
    "## 9. cumsum()\n",
    "\n",
    "Cumulative sum gives the running total of array elements."
   ]
  },
  {
   "cell_type": "code",
   "execution_count": 46,
   "id": "abc37149",
   "metadata": {},
   "outputs": [
    {
     "name": "stdout",
     "output_type": "stream",
     "text": [
      "[1 2 3 4]\n",
      "\n",
      "[ 1  3  6 10]\n"
     ]
    }
   ],
   "source": [
    "# 1D\n",
    "print(arr_1d)\n",
    "print()\n",
    "\n",
    "print(np.cumsum(arr_1d))"
   ]
  },
  {
   "cell_type": "code",
   "execution_count": 47,
   "id": "459adfec",
   "metadata": {},
   "outputs": [
    {
     "name": "stdout",
     "output_type": "stream",
     "text": [
      "[[1 2]\n",
      " [3 4]]\n",
      "\n",
      "[ 1  3  6 10]\n",
      "[[1 2]\n",
      " [4 6]]\n",
      "[[1 3]\n",
      " [3 7]]\n"
     ]
    }
   ],
   "source": [
    "# 2D\n",
    "print(arr_2d)\n",
    "print()\n",
    "\n",
    "print(np.cumsum(arr_2d))        \n",
    "print(np.cumsum(arr_2d, axis=0))\n",
    "print(np.cumsum(arr_2d, axis=1))"
   ]
  },
  {
   "cell_type": "code",
   "execution_count": 48,
   "id": "d1fb50ea",
   "metadata": {},
   "outputs": [
    {
     "name": "stdout",
     "output_type": "stream",
     "text": [
      "[[[1 2]\n",
      "  [3 4]]\n",
      "\n",
      " [[5 6]\n",
      "  [7 8]]]\n",
      "\n",
      "[ 1  3  6 10 15 21 28 36]\n",
      "[[[ 1  2]\n",
      "  [ 3  4]]\n",
      "\n",
      " [[ 6  8]\n",
      "  [10 12]]]\n",
      "[[[ 1  2]\n",
      "  [ 4  6]]\n",
      "\n",
      " [[ 5  6]\n",
      "  [12 14]]]\n",
      "[[[ 1  3]\n",
      "  [ 3  7]]\n",
      "\n",
      " [[ 5 11]\n",
      "  [ 7 15]]]\n"
     ]
    }
   ],
   "source": [
    "# 3D\n",
    "print(arr_3d)\n",
    "print()\n",
    "\n",
    "print(np.cumsum(arr_3d))        \n",
    "print(np.cumsum(arr_3d, axis=0))\n",
    "print(np.cumsum(arr_3d, axis=1))\n",
    "print(np.cumsum(arr_3d, axis=2))"
   ]
  },
  {
   "cell_type": "markdown",
   "id": "093ad23b",
   "metadata": {},
   "source": [
    "## 10.cumprod()\n",
    "Cumulative product gives the running product of array elements."
   ]
  },
  {
   "cell_type": "code",
   "execution_count": 50,
   "id": "df28a85f",
   "metadata": {},
   "outputs": [
    {
     "name": "stdout",
     "output_type": "stream",
     "text": [
      "[1 2 3 4]\n",
      "\n",
      "[ 1  2  6 24]\n"
     ]
    }
   ],
   "source": [
    "# 1D\n",
    "print(arr_1d)\n",
    "print()\n",
    "\n",
    "print(np.cumprod(arr_1d))"
   ]
  },
  {
   "cell_type": "code",
   "execution_count": 51,
   "id": "7abcaa91",
   "metadata": {},
   "outputs": [
    {
     "name": "stdout",
     "output_type": "stream",
     "text": [
      "[[1 2]\n",
      " [3 4]]\n",
      "\n",
      "[ 1  2  6 24]\n",
      "[[1 2]\n",
      " [3 8]]\n",
      "[[ 1  2]\n",
      " [ 3 12]]\n"
     ]
    }
   ],
   "source": [
    "# 2D\n",
    "print(arr_2d)\n",
    "print()\n",
    "\n",
    "print(np.cumprod(arr_2d))        \n",
    "print(np.cumprod(arr_2d, axis=0))\n",
    "print(np.cumprod(arr_2d, axis=1))"
   ]
  },
  {
   "cell_type": "code",
   "execution_count": 52,
   "id": "6f05adc9",
   "metadata": {},
   "outputs": [
    {
     "name": "stdout",
     "output_type": "stream",
     "text": [
      "[[[1 2]\n",
      "  [3 4]]\n",
      "\n",
      " [[5 6]\n",
      "  [7 8]]]\n",
      "\n",
      "[    1     2     6    24   120   720  5040 40320]\n",
      "[[[ 1  2]\n",
      "  [ 3  4]]\n",
      "\n",
      " [[ 5 12]\n",
      "  [21 32]]]\n",
      "[[[ 1  2]\n",
      "  [ 3  8]]\n",
      "\n",
      " [[ 5  6]\n",
      "  [35 48]]]\n",
      "[[[ 1  2]\n",
      "  [ 3 12]]\n",
      "\n",
      " [[ 5 30]\n",
      "  [ 7 56]]]\n"
     ]
    }
   ],
   "source": [
    "# 3D\n",
    "print(arr_3d)\n",
    "print()\n",
    "\n",
    "print(np.cumprod(arr_3d))        \n",
    "print(np.cumprod(arr_3d, axis=0))\n",
    "print(np.cumprod(arr_3d, axis=1))\n",
    "print(np.cumprod(arr_3d, axis=2))"
   ]
  },
  {
   "cell_type": "markdown",
   "id": "4da4fb4d",
   "metadata": {},
   "source": [
    "\n",
    "## NumPy Aggregate Functions – Summary Table\n",
    "\n",
    "| **Function**      | **Purpose / What It Does**                                                         |\n",
    "| ----------------- | ---------------------------------------------------------------------------------- |\n",
    "| `np.sum()`        | Calculates the total sum of all elements in the array.                             |\n",
    "| `np.mean()`       | Computes the average (arithmetic mean) of the elements.                            |\n",
    "| `np.median()`     | Finds the middle value (50th percentile) when the elements are sorted.             |\n",
    "| `np.std()`        | Calculates the **standard deviation**, measuring data spread.                      |\n",
    "| `np.var()`        | Calculates the **variance**, the square of the standard deviation.                 |\n",
    "| `np.min()`        | Finds the **minimum value** in the array.                                          |\n",
    "| `np.max()`        | Finds the **maximum value** in the array.                                          |\n",
    "| `np.percentile()` | Returns the value below which a given percentage of data falls.                    |\n",
    "| `np.quantile()`   | Similar to percentile but uses a fractional range \\[0, 1] instead of \\[0, 100].    |\n",
    "| `np.cumsum()`     | Computes the **cumulative sum** (running total) of the elements.                   |\n",
    "| `np.cumprod()`    | Computes the **cumulative product** (running product) of the elements.             |\n",
    "\n",
    "---\n",
    "\n",
    "## 🔥 Quick Tips:\n",
    "\n",
    "* ✅ Use **axis parameter** to control whether you aggregate across rows, columns, or the entire array.\n",
    "* ✅ `percentile` and `quantile` help in thresholding and statistical summaries.\n",
    "* ✅ `cumsum` and `cumprod` are useful for time series and running calculations.\n"
   ]
  }
 ],
 "metadata": {
  "kernelspec": {
   "display_name": "Python 3 (ipykernel)",
   "language": "python",
   "name": "python3"
  },
  "language_info": {
   "codemirror_mode": {
    "name": "ipython",
    "version": 3
   },
   "file_extension": ".py",
   "mimetype": "text/x-python",
   "name": "python",
   "nbconvert_exporter": "python",
   "pygments_lexer": "ipython3",
   "version": "3.10.2"
  }
 },
 "nbformat": 4,
 "nbformat_minor": 5
}
