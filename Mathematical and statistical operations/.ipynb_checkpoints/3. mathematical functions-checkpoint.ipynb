{
 "cells": [
  {
   "cell_type": "markdown",
   "id": "fb7c6387",
   "metadata": {},
   "source": [
    "# Numpy mathematical operations"
   ]
  },
  {
   "cell_type": "code",
   "execution_count": 6,
   "id": "b2ec25c0",
   "metadata": {},
   "outputs": [],
   "source": [
    "import numpy as np"
   ]
  },
  {
   "cell_type": "markdown",
   "id": "5037c8e2",
   "metadata": {},
   "source": [
    "# 1. Mathematical Functions"
   ]
  },
  {
   "cell_type": "markdown",
   "id": "ebc021d7",
   "metadata": {},
   "source": [
    "1. Arithmetic functions\n",
    "2. Power and exponential functions\n",
    "3. Logarithmic functions\n",
    "4. Trigonometric functions\n",
    "5. Hyperbolic functions\n",
    "6. Rounding functions\n",
    "7. Absolute and sign functions"
   ]
  },
  {
   "cell_type": "code",
   "execution_count": 7,
   "id": "f20bbddc",
   "metadata": {},
   "outputs": [],
   "source": [
    "arr_1d = np.array([1, 2, 3, 4])\n",
    "arr_2d = np.array([[1, 2], [3, 4]])\n",
    "arr_3d = np.array([[[1, 2], [3, 4]], [[5, 6], [7, 8]]])"
   ]
  },
  {
   "cell_type": "markdown",
   "id": "1b0a8d98",
   "metadata": {},
   "source": [
    "## 1. **Arithmetic Functions**"
   ]
  },
  {
   "cell_type": "markdown",
   "id": "32a0bf50",
   "metadata": {},
   "source": [
    "These are element-wise operations: addition, subtraction, multiplication, division."
   ]
  },
  {
   "cell_type": "code",
   "execution_count": 8,
   "id": "ca694db8",
   "metadata": {},
   "outputs": [
    {
     "name": "stdout",
     "output_type": "stream",
     "text": [
      "[3 4 5 6]\n",
      "[[3 4]\n",
      " [5 6]]\n",
      "[[[ 3  4]\n",
      "  [ 5  6]]\n",
      "\n",
      " [[ 7  8]\n",
      "  [ 9 10]]]\n",
      "[2 4 6 8]\n",
      "[[2 4]\n",
      " [6 8]]\n",
      "[[[ 2  4]\n",
      "  [ 6  8]]\n",
      "\n",
      " [[10 12]\n",
      "  [14 16]]]\n",
      "[0.5 1.  1.5 2. ]\n",
      "[[0.5 1. ]\n",
      " [1.5 2. ]]\n",
      "[[[0.5 1. ]\n",
      "  [1.5 2. ]]\n",
      "\n",
      " [[2.5 3. ]\n",
      "  [3.5 4. ]]]\n"
     ]
    }
   ],
   "source": [
    "# Addition\n",
    "print(arr_1d + 2)\n",
    "print(arr_2d + 2)\n",
    "print(arr_3d + 2)\n",
    "\n",
    "# Multiplication\n",
    "print(arr_1d * 2)\n",
    "print(arr_2d * 2)\n",
    "print(arr_3d * 2)\n",
    "\n",
    "# Division\n",
    "print(arr_1d / 2)\n",
    "print(arr_2d / 2)\n",
    "print(arr_3d / 2)"
   ]
  },
  {
   "cell_type": "markdown",
   "id": "3919dad6",
   "metadata": {},
   "source": [
    "✅ These are **broadcasted** and **element-wise** automatically."
   ]
  },
  {
   "cell_type": "markdown",
   "id": "b129b768",
   "metadata": {},
   "source": [
    "## 2. **Power and Exponential Functions**"
   ]
  },
  {
   "cell_type": "markdown",
   "id": "e6e3409c",
   "metadata": {},
   "source": [
    "### Functions:\n",
    "\n",
    "* `np.power(x, y)` → Element-wise power\n",
    "* `np.exp(x)` → Exponential of all elements"
   ]
  },
  {
   "cell_type": "code",
   "execution_count": 12,
   "id": "a956613e",
   "metadata": {},
   "outputs": [
    {
     "name": "stdout",
     "output_type": "stream",
     "text": [
      "[ 1  4  9 16]\n",
      "[[ 1  8]\n",
      " [27 64]]\n",
      "[[[ 1  4]\n",
      "  [ 9 16]]\n",
      "\n",
      " [[25 36]\n",
      "  [49 64]]]\n"
     ]
    }
   ],
   "source": [
    "# Power\n",
    "print(np.power(arr_1d, 2))   # Squares each element\n",
    "print(np.power(arr_2d, 3))   # Cubes each element\n",
    "print(np.power(arr_3d, 2))   # Squares each element"
   ]
  },
  {
   "cell_type": "code",
   "execution_count": 14,
   "id": "7ec8a6e4",
   "metadata": {},
   "outputs": [
    {
     "name": "stdout",
     "output_type": "stream",
     "text": [
      "[ 2.71828183  7.3890561  20.08553692 54.59815003]\n",
      "[[ 2.71828183  7.3890561 ]\n",
      " [20.08553692 54.59815003]]\n",
      "[[[2.71828183e+00 7.38905610e+00]\n",
      "  [2.00855369e+01 5.45981500e+01]]\n",
      "\n",
      " [[1.48413159e+02 4.03428793e+02]\n",
      "  [1.09663316e+03 2.98095799e+03]]]\n"
     ]
    }
   ],
   "source": [
    "# Exponential\n",
    "print(np.exp(arr_1d))\n",
    "print(np.exp(arr_2d))\n",
    "print(np.exp(arr_3d))"
   ]
  },
  {
   "cell_type": "markdown",
   "id": "d76f93cc",
   "metadata": {},
   "source": [
    "## 3. **Logarithmic Functions**"
   ]
  },
  {
   "cell_type": "markdown",
   "id": "0b0166b8",
   "metadata": {},
   "source": [
    "### Functions:\n",
    "\n",
    "* `np.log(x)` → Natural logarithm (base e)\n",
    "* `np.log10(x)` → Log base 10\n",
    "* `np.log2(x)` → Log base 2"
   ]
  },
  {
   "cell_type": "code",
   "execution_count": 19,
   "id": "41025fdf",
   "metadata": {},
   "outputs": [
    {
     "name": "stdout",
     "output_type": "stream",
     "text": [
      "[0.         0.69314718 1.09861229 1.38629436]\n",
      "[[0.         0.69314718]\n",
      " [1.09861229 1.38629436]]\n",
      "[[[0.         0.69314718]\n",
      "  [1.09861229 1.38629436]]\n",
      "\n",
      " [[1.60943791 1.79175947]\n",
      "  [1.94591015 2.07944154]]]\n"
     ]
    }
   ],
   "source": [
    "# Natural Log\n",
    "print(np.log(arr_1d))\n",
    "print(np.log(arr_2d))\n",
    "print(np.log(arr_3d))"
   ]
  },
  {
   "cell_type": "code",
   "execution_count": 20,
   "id": "88f9030c",
   "metadata": {},
   "outputs": [
    {
     "name": "stdout",
     "output_type": "stream",
     "text": [
      "[0.         0.30103    0.47712125 0.60205999]\n",
      "[[0.         0.30103   ]\n",
      " [0.47712125 0.60205999]]\n",
      "[[[0.         0.30103   ]\n",
      "  [0.47712125 0.60205999]]\n",
      "\n",
      " [[0.69897    0.77815125]\n",
      "  [0.84509804 0.90308999]]]\n"
     ]
    }
   ],
   "source": [
    "\n",
    "# Log base 10\n",
    "print(np.log10(arr_1d))\n",
    "print(np.log10(arr_2d))\n",
    "print(np.log10(arr_3d))"
   ]
  },
  {
   "cell_type": "code",
   "execution_count": 21,
   "id": "60c155f6",
   "metadata": {},
   "outputs": [
    {
     "name": "stdout",
     "output_type": "stream",
     "text": [
      "[0.        1.        1.5849625 2.       ]\n",
      "[[0.        1.       ]\n",
      " [1.5849625 2.       ]]\n",
      "[[[0.         1.        ]\n",
      "  [1.5849625  2.        ]]\n",
      "\n",
      " [[2.32192809 2.5849625 ]\n",
      "  [2.80735492 3.        ]]]\n"
     ]
    }
   ],
   "source": [
    "\n",
    "# Log base 2\n",
    "print(np.log2(arr_1d))\n",
    "print(np.log2(arr_2d))\n",
    "print(np.log2(arr_3d))"
   ]
  },
  {
   "cell_type": "markdown",
   "id": "39bcf117",
   "metadata": {},
   "source": [
    "✅ Note: Logarithm of zero or negative numbers is **undefined** (returns `-inf` or `nan`)."
   ]
  },
  {
   "cell_type": "markdown",
   "id": "a72cb925",
   "metadata": {},
   "source": [
    "## 4. **Trigonometric Functions**"
   ]
  },
  {
   "cell_type": "markdown",
   "id": "922eebc9",
   "metadata": {},
   "source": [
    "### Functions:\n",
    "\n",
    "* `np.sin(x)` → Sine\n",
    "* `np.cos(x)` → Cosine\n",
    "* `np.tan(x)` → Tangent"
   ]
  },
  {
   "cell_type": "code",
   "execution_count": 25,
   "id": "e720dec8",
   "metadata": {},
   "outputs": [
    {
     "name": "stdout",
     "output_type": "stream",
     "text": [
      "[ 0.84147098  0.90929743  0.14112001 -0.7568025 ]\n",
      "[[ 0.84147098  0.90929743]\n",
      " [ 0.14112001 -0.7568025 ]]\n",
      "[[[ 0.84147098  0.90929743]\n",
      "  [ 0.14112001 -0.7568025 ]]\n",
      "\n",
      " [[-0.95892427 -0.2794155 ]\n",
      "  [ 0.6569866   0.98935825]]]\n"
     ]
    }
   ],
   "source": [
    "# Sine\n",
    "print(np.sin(arr_1d))\n",
    "print(np.sin(arr_2d))\n",
    "print(np.sin(arr_3d))"
   ]
  },
  {
   "cell_type": "code",
   "execution_count": 26,
   "id": "871f4050",
   "metadata": {},
   "outputs": [
    {
     "name": "stdout",
     "output_type": "stream",
     "text": [
      "[ 0.54030231 -0.41614684 -0.9899925  -0.65364362]\n",
      "[[ 0.54030231 -0.41614684]\n",
      " [-0.9899925  -0.65364362]]\n",
      "[[[ 0.54030231 -0.41614684]\n",
      "  [-0.9899925  -0.65364362]]\n",
      "\n",
      " [[ 0.28366219  0.96017029]\n",
      "  [ 0.75390225 -0.14550003]]]\n"
     ]
    }
   ],
   "source": [
    "# Cosine\n",
    "print(np.cos(arr_1d))\n",
    "print(np.cos(arr_2d))\n",
    "print(np.cos(arr_3d))"
   ]
  },
  {
   "cell_type": "code",
   "execution_count": 27,
   "id": "616de64c",
   "metadata": {},
   "outputs": [
    {
     "name": "stdout",
     "output_type": "stream",
     "text": [
      "[ 1.55740772 -2.18503986 -0.14254654  1.15782128]\n",
      "[[ 1.55740772 -2.18503986]\n",
      " [-0.14254654  1.15782128]]\n",
      "[[[ 1.55740772 -2.18503986]\n",
      "  [-0.14254654  1.15782128]]\n",
      "\n",
      " [[-3.38051501 -0.29100619]\n",
      "  [ 0.87144798 -6.79971146]]]\n"
     ]
    }
   ],
   "source": [
    "# Tangent\n",
    "print(np.tan(arr_1d))\n",
    "print(np.tan(arr_2d))\n",
    "print(np.tan(arr_3d))"
   ]
  },
  {
   "cell_type": "markdown",
   "id": "fe3644a2",
   "metadata": {},
   "source": [
    "✅ NumPy trigonometric functions operate in **radians** by default."
   ]
  },
  {
   "cell_type": "markdown",
   "id": "99fe5f65",
   "metadata": {},
   "source": [
    "## 5. **Hyperbolic Functions**"
   ]
  },
  {
   "cell_type": "markdown",
   "id": "6cd2bc24",
   "metadata": {},
   "source": [
    "### Functions:\n",
    "\n",
    "* `np.sinh(x)` → Hyperbolic sine\n",
    "* `np.cosh(x)` → Hyperbolic cosine\n",
    "* `np.tanh(x)` → Hyperbolic tangent"
   ]
  },
  {
   "cell_type": "code",
   "execution_count": 32,
   "id": "4f6a98ea",
   "metadata": {},
   "outputs": [
    {
     "name": "stdout",
     "output_type": "stream",
     "text": [
      "[ 1.17520119  3.62686041 10.01787493 27.2899172 ]\n",
      "[[ 1.17520119  3.62686041]\n",
      " [10.01787493 27.2899172 ]]\n",
      "[[[1.17520119e+00 3.62686041e+00]\n",
      "  [1.00178749e+01 2.72899172e+01]]\n",
      "\n",
      " [[7.42032106e+01 2.01713157e+02]\n",
      "  [5.48316123e+02 1.49047883e+03]]]\n"
     ]
    }
   ],
   "source": [
    "# Hyperbolic Sine\n",
    "print(np.sinh(arr_1d))\n",
    "print(np.sinh(arr_2d))\n",
    "print(np.sinh(arr_3d))"
   ]
  },
  {
   "cell_type": "code",
   "execution_count": 33,
   "id": "17a1405d",
   "metadata": {},
   "outputs": [
    {
     "name": "stdout",
     "output_type": "stream",
     "text": [
      "[ 1.54308063  3.76219569 10.067662   27.30823284]\n",
      "[[ 1.54308063  3.76219569]\n",
      " [10.067662   27.30823284]]\n",
      "[[[   1.54308063    3.76219569]\n",
      "  [  10.067662     27.30823284]]\n",
      "\n",
      " [[  74.20994852  201.71563612]\n",
      "  [ 548.31703516 1490.47916125]]]\n"
     ]
    }
   ],
   "source": [
    "# Hyperbolic Cosine\n",
    "print(np.cosh(arr_1d))\n",
    "print(np.cosh(arr_2d))\n",
    "print(np.cosh(arr_3d))"
   ]
  },
  {
   "cell_type": "code",
   "execution_count": 34,
   "id": "94431aad",
   "metadata": {},
   "outputs": [
    {
     "name": "stdout",
     "output_type": "stream",
     "text": [
      "[0.76159416 0.96402758 0.99505475 0.9993293 ]\n",
      "[[0.76159416 0.96402758]\n",
      " [0.99505475 0.9993293 ]]\n",
      "[[[0.76159416 0.96402758]\n",
      "  [0.99505475 0.9993293 ]]\n",
      "\n",
      " [[0.9999092  0.99998771]\n",
      "  [0.99999834 0.99999977]]]\n"
     ]
    }
   ],
   "source": [
    "# Hyperbolic Tangent\n",
    "print(np.tanh(arr_1d))\n",
    "print(np.tanh(arr_2d))\n",
    "print(np.tanh(arr_3d))"
   ]
  },
  {
   "cell_type": "markdown",
   "id": "6399c6ca",
   "metadata": {},
   "source": [
    "## 6. **Rounding Functions**"
   ]
  },
  {
   "cell_type": "code",
   "execution_count": 38,
   "id": "51b28b2d",
   "metadata": {},
   "outputs": [],
   "source": [
    "arr_1d_float = np.array([1.2, 2.7, 3.5, 4.9])\n",
    "arr_2d_float = np.array([[1.2, 2.7], [3.5, 4.9]])\n",
    "arr_3d_float = np.array([[[1.2, 2.7], [3.5, 4.9]], [[5.1, 6.6], [7.3, 8.8]]])"
   ]
  },
  {
   "cell_type": "markdown",
   "id": "def77645",
   "metadata": {},
   "source": [
    "### Functions:\n",
    "\n",
    "* `np.round(x)` → Rounds to nearest integer\n",
    "* `np.floor(x)` → Rounds down to nearest integer\n",
    "* `np.ceil(x)` → Rounds up to nearest integer\n",
    "* `np.trunc(x)` → Truncates decimal part (towards zero)"
   ]
  },
  {
   "cell_type": "code",
   "execution_count": 39,
   "id": "4bd2e4df",
   "metadata": {},
   "outputs": [
    {
     "name": "stdout",
     "output_type": "stream",
     "text": [
      "[1. 3. 4. 5.]\n",
      "[[1. 3.]\n",
      " [4. 5.]]\n",
      "[[[1. 3.]\n",
      "  [4. 5.]]\n",
      "\n",
      " [[5. 7.]\n",
      "  [7. 9.]]]\n"
     ]
    }
   ],
   "source": [
    "# Round\n",
    "print(np.round(arr_1d_float))\n",
    "print(np.round(arr_2d_float))\n",
    "print(np.round(arr_3d_float))"
   ]
  },
  {
   "cell_type": "code",
   "execution_count": 40,
   "id": "a671fa85",
   "metadata": {},
   "outputs": [
    {
     "name": "stdout",
     "output_type": "stream",
     "text": [
      "[1. 2. 3. 4.]\n",
      "[[1. 2.]\n",
      " [3. 4.]]\n",
      "[[[1. 2.]\n",
      "  [3. 4.]]\n",
      "\n",
      " [[5. 6.]\n",
      "  [7. 8.]]]\n"
     ]
    }
   ],
   "source": [
    "# Floor\n",
    "print(np.floor(arr_1d_float))\n",
    "print(np.floor(arr_2d_float))\n",
    "print(np.floor(arr_3d_float))"
   ]
  },
  {
   "cell_type": "code",
   "execution_count": 41,
   "id": "fe2ce5b2",
   "metadata": {},
   "outputs": [
    {
     "name": "stdout",
     "output_type": "stream",
     "text": [
      "[2. 3. 4. 5.]\n",
      "[[2. 3.]\n",
      " [4. 5.]]\n",
      "[[[2. 3.]\n",
      "  [4. 5.]]\n",
      "\n",
      " [[6. 7.]\n",
      "  [8. 9.]]]\n"
     ]
    }
   ],
   "source": [
    "# Ceil\n",
    "print(np.ceil(arr_1d_float))\n",
    "print(np.ceil(arr_2d_float))\n",
    "print(np.ceil(arr_3d_float))"
   ]
  },
  {
   "cell_type": "code",
   "execution_count": 42,
   "id": "366abc86",
   "metadata": {},
   "outputs": [
    {
     "name": "stdout",
     "output_type": "stream",
     "text": [
      "[1. 2. 3. 4.]\n",
      "[[1. 2.]\n",
      " [3. 4.]]\n",
      "[[[1. 2.]\n",
      "  [3. 4.]]\n",
      "\n",
      " [[5. 6.]\n",
      "  [7. 8.]]]\n"
     ]
    }
   ],
   "source": [
    "# Trunc\n",
    "print(np.trunc(arr_1d_float))\n",
    "print(np.trunc(arr_2d_float))\n",
    "print(np.trunc(arr_3d_float))"
   ]
  },
  {
   "cell_type": "markdown",
   "id": "989d9238",
   "metadata": {},
   "source": [
    "## 7. **Absolute and Sign Functions**"
   ]
  },
  {
   "cell_type": "markdown",
   "id": "15fc5367",
   "metadata": {},
   "source": [
    "### Functions:\n",
    "\n",
    "* `np.abs(x)` → Absolute value (ignores sign)\n",
    "* `np.sign(x)` → Returns the sign of each element (-1, 0, +1)"
   ]
  },
  {
   "cell_type": "code",
   "execution_count": 48,
   "id": "a5606af7",
   "metadata": {},
   "outputs": [],
   "source": [
    "arr_1d_signed = np.array([-1, 2, -3, 4])\n",
    "arr_2d_signed = np.array([[-1, 2], [-3, 4]])\n",
    "arr_3d_signed = np.array([[[-1, 2], [-3, 4]], [[-5, 6], [-7, 8]]])"
   ]
  },
  {
   "cell_type": "code",
   "execution_count": 49,
   "id": "3b1fb442",
   "metadata": {},
   "outputs": [
    {
     "name": "stdout",
     "output_type": "stream",
     "text": [
      "[1 2 3 4]\n",
      "[[1 2]\n",
      " [3 4]]\n",
      "[[[1 2]\n",
      "  [3 4]]\n",
      "\n",
      " [[5 6]\n",
      "  [7 8]]]\n"
     ]
    }
   ],
   "source": [
    "# Absolute\n",
    "print(np.abs(arr_1d_signed))\n",
    "print(np.abs(arr_2d_signed))\n",
    "print(np.abs(arr_3d_signed))"
   ]
  },
  {
   "cell_type": "code",
   "execution_count": 50,
   "id": "81d8126b",
   "metadata": {},
   "outputs": [
    {
     "name": "stdout",
     "output_type": "stream",
     "text": [
      "[-1  1 -1  1]\n",
      "[[-1  1]\n",
      " [-1  1]]\n",
      "[[[-1  1]\n",
      "  [-1  1]]\n",
      "\n",
      " [[-1  1]\n",
      "  [-1  1]]]\n"
     ]
    }
   ],
   "source": [
    "# Sign\n",
    "print(np.sign(arr_1d_signed))\n",
    "print(np.sign(arr_2d_signed))\n",
    "print(np.sign(arr_3d_signed))"
   ]
  },
  {
   "cell_type": "markdown",
   "id": "5b4edec4",
   "metadata": {},
   "source": [
    "## 8. **Special Functions**"
   ]
  },
  {
   "cell_type": "markdown",
   "id": "f7e6e12e",
   "metadata": {},
   "source": [
    "### 📌 `np.mod(x, y)` → Element-wise modulo (remainder)"
   ]
  },
  {
   "cell_type": "code",
   "execution_count": 51,
   "id": "5448396d",
   "metadata": {},
   "outputs": [
    {
     "name": "stdout",
     "output_type": "stream",
     "text": [
      "[1 0 1 0]\n",
      "[[1 2]\n",
      " [0 1]]\n",
      "[[[1 2]\n",
      "  [3 0]]\n",
      "\n",
      " [[1 2]\n",
      "  [3 0]]]\n"
     ]
    }
   ],
   "source": [
    "print(np.mod(arr_1d, 2))\n",
    "print(np.mod(arr_2d, 3))\n",
    "print(np.mod(arr_3d, 4))"
   ]
  },
  {
   "cell_type": "markdown",
   "id": "d4b75d85",
   "metadata": {},
   "source": [
    "### 📌 `np.clip(x, min, max)` → Limit the values within a range"
   ]
  },
  {
   "cell_type": "code",
   "execution_count": 52,
   "id": "ec8d5dc6",
   "metadata": {},
   "outputs": [
    {
     "name": "stdout",
     "output_type": "stream",
     "text": [
      "[2 2 3 3]\n",
      "[[1 2]\n",
      " [3 3]]\n",
      "[[[2 2]\n",
      "  [3 4]]\n",
      "\n",
      " [[5 5]\n",
      "  [5 5]]]\n"
     ]
    }
   ],
   "source": [
    "print(np.clip(arr_1d, 2, 3))  # Keeps values between 2 and 3\n",
    "print(np.clip(arr_2d, 1, 3))\n",
    "print(np.clip(arr_3d, 2, 5))"
   ]
  },
  {
   "cell_type": "markdown",
   "id": "71f05d23",
   "metadata": {},
   "source": [
    "\n",
    "## Complete Summary Table of NumPy Mathematical Operations\n",
    "\n",
    "| **Category**              | **Function**           | **Purpose**                                                  | **Key Notes**                                       |\n",
    "| ------------------------- | ---------------------- | ------------------------------------------------------------ | --------------------------------------------------- |\n",
    "| **Arithmetic**            | `+`, `-`, `*`, `/`     | Element-wise addition, subtraction, multiplication, division | Supports broadcasting, works on arrays of any shape |\n",
    "| **Exponentials & Powers** | `np.power(x, y)`       | Raises elements to the power `y`                             | Element-wise operation                              |\n",
    "|                           | `np.exp(x)`            | Computes exponential $e^x$                                   | Element-wise operation                              |\n",
    "| **Logarithmic**           | `np.log(x)`            | Natural logarithm (base e)                                   | Invalid for zero or negative numbers                |\n",
    "|                           | `np.log10(x)`          | Logarithm base 10                                            | Invalid for zero or negative numbers                |\n",
    "|                           | `np.log2(x)`           | Logarithm base 2                                             | Invalid for zero or negative numbers                |\n",
    "| **Trigonometric**         | `np.sin(x)`            | Computes sine (in radians)                                   | Element-wise                                        |\n",
    "|                           | `np.cos(x)`            | Computes cosine (in radians)                                 | Element-wise                                        |\n",
    "|                           | `np.tan(x)`            | Computes tangent (in radians)                                | Element-wise                                        |\n",
    "| **Hyperbolic**            | `np.sinh(x)`           | Hyperbolic sine                                              | Element-wise                                        |\n",
    "|                           | `np.cosh(x)`           | Hyperbolic cosine                                            | Element-wise                                        |\n",
    "|                           | `np.tanh(x)`           | Hyperbolic tangent                                           | Element-wise                                        |\n",
    "| **Rounding**              | `np.round(x)`          | Rounds to nearest integer                                    | Element-wise                                        |\n",
    "|                           | `np.floor(x)`          | Rounds down to nearest integer                               | Element-wise                                        |\n",
    "|                           | `np.ceil(x)`           | Rounds up to nearest integer                                 | Element-wise                                        |\n",
    "|                           | `np.trunc(x)`          | Truncates decimal part (towards zero)                        | Element-wise                                        |\n",
    "| **Absolute & Sign**       | `np.abs(x)`            | Returns absolute (non-negative) values                       | Element-wise                                        |\n",
    "|                           | `np.sign(x)`           | Returns the sign (-1, 0, +1)                                 | Element-wise                                        |\n",
    "| **Special**               | `np.mod(x, y)`         | Computes remainder (modulo operation)                        | Element-wise                                        |\n",
    "|                           | `np.clip(x, min, max)` | Limits values to within `[min, max]` range                   | Element-wise                                        |\n",
    "\n",
    "---\n",
    "\n",
    "## Quick Category-wise Recap:\n",
    "\n",
    "* **Arithmetic**: Basic element-wise calculations (add, subtract, multiply, divide)\n",
    "* **Exponentials & Logarithms**: Growth and scaling operations\n",
    "* **Trigonometric & Hyperbolic**: Angular and periodic computations\n",
    "* **Rounding**: Approximate to nearest whole number (different rounding strategies)\n",
    "* **Absolute & Sign**: Handle magnitudes and directions\n",
    "* **Special**: Modulo and value range limiting\n",
    "\n",
    "---\n",
    "\n",
    "## Notes:\n",
    "\n",
    "* All operations are **vectorized** (fast, element-wise processing without loops).\n",
    "* Support **broadcasting**: Operations automatically expand smaller arrays to match shapes.\n",
    "* Most functions work identically on **1D, 2D, and 3D arrays**.\n",
    "* Use the **`axis` parameter** for some functions (like sum, mean) to perform operations along specific dimensions."
   ]
  },
  {
   "cell_type": "markdown",
   "id": "f21ca141",
   "metadata": {},
   "source": [
    "<center><b>Thanks</b></center>"
   ]
  }
 ],
 "metadata": {
  "kernelspec": {
   "display_name": "Python 3 (ipykernel)",
   "language": "python",
   "name": "python3"
  },
  "language_info": {
   "codemirror_mode": {
    "name": "ipython",
    "version": 3
   },
   "file_extension": ".py",
   "mimetype": "text/x-python",
   "name": "python",
   "nbconvert_exporter": "python",
   "pygments_lexer": "ipython3",
   "version": "3.10.2"
  }
 },
 "nbformat": 4,
 "nbformat_minor": 5
}
