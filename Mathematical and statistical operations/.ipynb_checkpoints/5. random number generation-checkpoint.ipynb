{
 "cells": [
  {
   "cell_type": "markdown",
   "id": "fb7c6387",
   "metadata": {},
   "source": [
    "# Numpy mathematical operations"
   ]
  },
  {
   "cell_type": "code",
   "execution_count": 7,
   "id": "b2ec25c0",
   "metadata": {},
   "outputs": [],
   "source": [
    "import numpy as np"
   ]
  },
  {
   "cell_type": "markdown",
   "id": "e46e514f",
   "metadata": {},
   "source": [
    "# 5. Random Number Generation"
   ]
  },
  {
   "cell_type": "markdown",
   "id": "6dd7e2c3",
   "metadata": {},
   "source": [
    "NumPy’s random functionality is mainly in the **`numpy.random` module** (also available via `np.random`)."
   ]
  },
  {
   "cell_type": "markdown",
   "id": "82e14872",
   "metadata": {},
   "source": [
    "**Random Number Generation Categories in NumPy**\n",
    "\n",
    "We will cover:\n",
    "\n",
    "1. Pseudorandom Number Generator\n",
    "2. Uniform Distribution\n",
    "3. Normal (Gaussian) Distribution\n",
    "4. Integer Random Generation\n",
    "5. Random Sampling\n",
    "6. Other Statistical Distributions\n",
    "7. Random State / Seed for Reproducibility"
   ]
  },
  {
   "cell_type": "markdown",
   "id": "34f3c3e6",
   "metadata": {},
   "source": [
    "## 1. ✅ Pseudorandom Number Generator\n",
    "\n",
    "NumPy’s random numbers are **not truly random** – they are **pseudorandom** based on an algorithm."
   ]
  },
  {
   "cell_type": "code",
   "execution_count": 8,
   "id": "54f7259c",
   "metadata": {},
   "outputs": [],
   "source": [
    "np.random.seed(42)  # Fixes the randomness for reproducibility"
   ]
  },
  {
   "cell_type": "markdown",
   "id": "30f1f715",
   "metadata": {},
   "source": [
    "* **Important:** When you use the same seed, you get the same sequence of random numbers every time you run the code."
   ]
  },
  {
   "cell_type": "markdown",
   "id": "0aa2421a",
   "metadata": {},
   "source": [
    "## 2. Uniform Distribution"
   ]
  },
  {
   "cell_type": "markdown",
   "id": "8fa0860f",
   "metadata": {},
   "source": [
    "Generates numbers **evenly distributed over a specified range**.\n",
    "\n",
    "### Function: `np.random.rand()`\n",
    "\n",
    "* Range: \\[0.0, 1.0)"
   ]
  },
  {
   "cell_type": "code",
   "execution_count": 14,
   "id": "2d22b843",
   "metadata": {},
   "outputs": [
    {
     "name": "stdout",
     "output_type": "stream",
     "text": [
      "[0.14092422 0.80219698 0.07455064 0.98688694]\n",
      "[[0.77224477 0.19871568 0.00552212]\n",
      " [0.81546143 0.70685734 0.72900717]]\n",
      "[[[0.77127035 0.07404465 0.35846573]\n",
      "  [0.11586906 0.86310343 0.62329813]]\n",
      "\n",
      " [[0.33089802 0.06355835 0.31098232]\n",
      "  [0.32518332 0.72960618 0.63755747]]]\n"
     ]
    }
   ],
   "source": [
    "# 1D array\n",
    "print(np.random.rand(4))  \n",
    "# 2D array\n",
    "print(np.random.rand(2, 3))  \n",
    "# 3D array\n",
    "print(np.random.rand(2, 2, 3))"
   ]
  },
  {
   "cell_type": "markdown",
   "id": "aa442518",
   "metadata": {},
   "source": [
    "## 3. Normal (Gaussian) Distribution"
   ]
  },
  {
   "cell_type": "markdown",
   "id": "d983c5d0",
   "metadata": {},
   "source": [
    "Generates numbers **centered around a mean with specified standard deviation**."
   ]
  },
  {
   "cell_type": "markdown",
   "id": "b672bc25",
   "metadata": {},
   "source": [
    "### Function: `np.random.randn()`\n",
    "\n",
    "* Mean: 0\n",
    "* Std Dev: 1 (standard normal distribution)\n"
   ]
  },
  {
   "cell_type": "code",
   "execution_count": 18,
   "id": "f1f7641d",
   "metadata": {},
   "outputs": [
    {
     "name": "stdout",
     "output_type": "stream",
     "text": [
      "[-0.07201012  1.0035329   0.36163603 -0.64511975]\n",
      "[[ 0.36139561  1.53803657 -0.03582604]\n",
      " [ 1.56464366 -2.6197451   0.8219025 ]]\n",
      "[[[ 0.08704707 -0.29900735  0.09176078]\n",
      "  [-1.98756891 -0.21967189  0.35711257]]\n",
      "\n",
      " [[ 1.47789404 -0.51827022 -0.8084936 ]\n",
      "  [-0.50175704  0.91540212  0.32875111]]]\n"
     ]
    }
   ],
   "source": [
    "# 1D array\n",
    "print(np.random.randn(4))\n",
    "# 2D array\n",
    "print(np.random.randn(2, 3))\n",
    "# 3D array\n",
    "print(np.random.randn(2, 2, 3))"
   ]
  },
  {
   "cell_type": "markdown",
   "id": "5037a25b",
   "metadata": {},
   "source": [
    "### Custom Normal Distribution:\n",
    "\n",
    "### Function: `np.random.normal(loc, scale, size)`\n",
    "\n",
    "* `loc`: mean\n",
    "* `scale`: standard deviation\n",
    "* `size`: shape of the output array"
   ]
  },
  {
   "cell_type": "code",
   "execution_count": 20,
   "id": "e811cd62",
   "metadata": {},
   "outputs": [
    {
     "name": "stdout",
     "output_type": "stream",
     "text": [
      "[3.94047959 6.02653487 5.1941551  6.93728998]\n"
     ]
    }
   ],
   "source": [
    "# 1D array with mean=5, std=2\n",
    "print(np.random.normal(5, 2, 4))"
   ]
  },
  {
   "cell_type": "markdown",
   "id": "17430470",
   "metadata": {},
   "source": [
    "## 4. Integer Random Generation"
   ]
  },
  {
   "cell_type": "markdown",
   "id": "ef3cc8a7",
   "metadata": {},
   "source": [
    "### Function: `np.random.randint(low, high, size)`\n",
    "\n",
    "* Generates random integers **between low (inclusive) and high (exclusive)**."
   ]
  },
  {
   "cell_type": "code",
   "execution_count": 23,
   "id": "1c87c32d",
   "metadata": {},
   "outputs": [
    {
     "name": "stdout",
     "output_type": "stream",
     "text": [
      "[7 9 7 1 1]\n",
      "[[9 9 4]\n",
      " [9 3 7]]\n",
      "[[[6 8 9]\n",
      "  [5 1 3]]\n",
      "\n",
      " [[8 6 8]\n",
      "  [9 4 1]]]\n"
     ]
    }
   ],
   "source": [
    "# 1D array\n",
    "print(np.random.randint(1, 10, 5))\n",
    "# 2D array\n",
    "print(np.random.randint(1, 10, (2, 3)))\n",
    "# 3D array\n",
    "print(np.random.randint(1, 10, (2, 2, 3)))"
   ]
  },
  {
   "cell_type": "markdown",
   "id": "f5f61fdb",
   "metadata": {},
   "source": [
    "## 5. Random Sampling"
   ]
  },
  {
   "cell_type": "markdown",
   "id": "8c63e378",
   "metadata": {},
   "source": [
    "### a) `np.random.choice(a, size, replace=True, p=None)`\n",
    "\n",
    "* Randomly selects elements from an array.\n",
    "* `replace=False`: Sampling without replacement."
   ]
  },
  {
   "cell_type": "code",
   "execution_count": 26,
   "id": "63981275",
   "metadata": {},
   "outputs": [
    {
     "name": "stdout",
     "output_type": "stream",
     "text": [
      "[10 20 40]\n",
      "[10 50 30]\n"
     ]
    }
   ],
   "source": [
    "arr = np.array([10, 20, 30, 40, 50])\n",
    "\n",
    "# Sample 3 elements with replacement\n",
    "print(np.random.choice(arr, 3))\n",
    "\n",
    "# Sample 3 elements without replacement\n",
    "print(np.random.choice(arr, 3, replace=False))"
   ]
  },
  {
   "cell_type": "markdown",
   "id": "122bee38",
   "metadata": {},
   "source": [
    "### b) `np.random.shuffle(x)`\n",
    "\n",
    "* Shuffles the array **in-place**."
   ]
  },
  {
   "cell_type": "code",
   "execution_count": 28,
   "id": "35d9c923",
   "metadata": {},
   "outputs": [
    {
     "name": "stdout",
     "output_type": "stream",
     "text": [
      "[2 5 4 1 3]\n"
     ]
    }
   ],
   "source": [
    "arr = np.array([1, 2, 3, 4, 5])\n",
    "np.random.shuffle(arr)\n",
    "print(arr)"
   ]
  },
  {
   "cell_type": "markdown",
   "id": "4daf58a6",
   "metadata": {},
   "source": [
    "### c) `np.random.permutation(x)`\n",
    "\n",
    "* Returns a **shuffled copy** of the array (original array remains unchanged)."
   ]
  },
  {
   "cell_type": "code",
   "execution_count": 30,
   "id": "ec938e81",
   "metadata": {},
   "outputs": [
    {
     "name": "stdout",
     "output_type": "stream",
     "text": [
      "[4 2 5 3 1]\n",
      "[1 2 3 4 5]\n"
     ]
    }
   ],
   "source": [
    "arr = np.array([1, 2, 3, 4, 5])\n",
    "shuffled = np.random.permutation(arr)\n",
    "print(shuffled)\n",
    "print(arr)  # Original array is not changed"
   ]
  },
  {
   "cell_type": "markdown",
   "id": "66bb638b",
   "metadata": {},
   "source": [
    "\n",
    "## 6. ✅ Other Statistical Distributions\n",
    "\n",
    "| Function                              | Description                            |\n",
    "| ------------------------------------- | -------------------------------------- |\n",
    "| `np.random.uniform(low, high, size)`  | Uniform distribution over \\[low, high) |\n",
    "| `np.random.normal(mean, std, size)`   | Normal distribution                    |\n",
    "| `np.random.binomial(n, p, size)`      | Binomial distribution                  |\n",
    "| `np.random.poisson(lam, size)`        | Poisson distribution                   |\n",
    "| `np.random.beta(a, b, size)`          | Beta distribution                      |\n",
    "| `np.random.gamma(shape, scale, size)` | Gamma distribution                     |\n",
    "| `np.random.exponential(scale, size)`  | Exponential distribution               |\n"
   ]
  },
  {
   "cell_type": "code",
   "execution_count": 34,
   "id": "78723646",
   "metadata": {},
   "outputs": [
    {
     "name": "stdout",
     "output_type": "stream",
     "text": [
      "[[15.90892943 16.77564362 10.16587829]\n",
      " [15.12093058 12.26495775 16.4517279 ]]\n"
     ]
    }
   ],
   "source": [
    "# Uniform Distribution with Custom Range\n",
    "print(np.random.uniform(10, 20, (2, 3)))"
   ]
  },
  {
   "cell_type": "code",
   "execution_count": 35,
   "id": "6206db79",
   "metadata": {},
   "outputs": [
    {
     "name": "stdout",
     "output_type": "stream",
     "text": [
      "[4 6 5 7 3]\n"
     ]
    }
   ],
   "source": [
    "# Binomial Distribution\n",
    "# n=10 trials, p=0.5 probability\n",
    "print(np.random.binomial(10, 0.5, 5))"
   ]
  },
  {
   "cell_type": "code",
   "execution_count": 36,
   "id": "5c6471a2",
   "metadata": {},
   "outputs": [
    {
     "name": "stdout",
     "output_type": "stream",
     "text": [
      "[1 6 1 5 4]\n"
     ]
    }
   ],
   "source": [
    "# Poisson Distribution\n",
    "# lam = expected number of events\n",
    "print(np.random.poisson(3, 5))"
   ]
  },
  {
   "cell_type": "markdown",
   "id": "b1565685",
   "metadata": {},
   "source": [
    "## 7. Random State (Seed)"
   ]
  },
  {
   "cell_type": "markdown",
   "id": "c5ab4b19",
   "metadata": {},
   "source": [
    "### Why Use Seed?\n",
    "\n",
    "* Ensures **reproducibility**.\n",
    "* Same seed → same random numbers each time."
   ]
  },
  {
   "cell_type": "code",
   "execution_count": 61,
   "id": "48bf7b4f",
   "metadata": {},
   "outputs": [
    {
     "name": "stdout",
     "output_type": "stream",
     "text": [
      "[0.5488135  0.71518937 0.60276338 0.54488318]\n"
     ]
    }
   ],
   "source": [
    "np.random.seed(0)\n",
    "\n",
    "print(np.random.rand(4))"
   ]
  },
  {
   "cell_type": "markdown",
   "id": "fbb7be0c",
   "metadata": {},
   "source": [
    "## Complete Summary Table\n",
    "\n",
    "| Function                              | Purpose                      |\n",
    "| ------------------------------------- | ---------------------------- |\n",
    "| `np.random.seed(seed)`                | Set seed for reproducibility |\n",
    "| `np.random.rand(shape)`               | Uniform distribution \\[0, 1) |\n",
    "| `np.random.randn(shape)`              | Standard normal distribution |\n",
    "| `np.random.normal(mean, std, size)`   | Normal distribution          |\n",
    "| `np.random.randint(low, high, size)`  | Random integers              |\n",
    "| `np.random.choice(a, size, replace)`  | Random sampling              |\n",
    "| `np.random.shuffle(x)`                | Shuffle array in-place       |\n",
    "| `np.random.permutation(x)`            | Return shuffled copy         |\n",
    "| `np.random.uniform(low, high, size)`  | Custom uniform distribution  |\n",
    "| `np.random.binomial(n, p, size)`      | Binomial distribution        |\n",
    "| `np.random.poisson(lam, size)`        | Poisson distribution         |\n",
    "| `np.random.beta(a, b, size)`          | Beta distribution            |\n",
    "| `np.random.gamma(shape, scale, size)` | Gamma distribution           |\n",
    "| `np.random.exponential(scale, size)`  | Exponential distribution     |\n",
    "\n",
    "---\n",
    "\n",
    "## Key Takeaways:\n",
    "\n",
    "* Use **uniform, normal, or integers** for general random number needs.\n",
    "* Use **seed** when you need reproducibility.\n",
    "* Use **choice, shuffle, permutation** for sampling.\n",
    "* Use **binomial, poisson, beta, etc.** for statistical simulations.\n",
    "\n"
   ]
  },
  {
   "cell_type": "markdown",
   "id": "c2aa35b2",
   "metadata": {},
   "source": [
    "<center><b>Thanks</b></center>"
   ]
  }
 ],
 "metadata": {
  "kernelspec": {
   "display_name": "Python 3 (ipykernel)",
   "language": "python",
   "name": "python3"
  },
  "language_info": {
   "codemirror_mode": {
    "name": "ipython",
    "version": 3
   },
   "file_extension": ".py",
   "mimetype": "text/x-python",
   "name": "python",
   "nbconvert_exporter": "python",
   "pygments_lexer": "ipython3",
   "version": "3.10.2"
  }
 },
 "nbformat": 4,
 "nbformat_minor": 5
}
