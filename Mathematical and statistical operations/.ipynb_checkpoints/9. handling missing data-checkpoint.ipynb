{
 "cells": [
  {
   "cell_type": "markdown",
   "id": "fb7c6387",
   "metadata": {},
   "source": [
    "# Numpy mathematical operations"
   ]
  },
  {
   "cell_type": "code",
   "execution_count": 4,
   "id": "b2ec25c0",
   "metadata": {},
   "outputs": [],
   "source": [
    "import numpy as np"
   ]
  },
  {
   "cell_type": "markdown",
   "id": "5037c8e2",
   "metadata": {},
   "source": [
    "# 9. Handling Missing Data"
   ]
  },
  {
   "cell_type": "markdown",
   "id": "09dae835",
   "metadata": {},
   "source": [
    "Handling **missing data** is a very important step in **data preprocessing** for data science and machine learning.\n",
    "\n",
    "In **NumPy**, missing data is typically represented by:\n",
    "\n",
    "* **`np.nan`** → Stands for **Not a Number** and is commonly used to denote missing or undefined values.\n",
    "\n",
    "Let’s cover a **comprehensive guide** on:\n",
    "\n",
    "* ✅ How to **identify**, **filter**, **replace**, and **process** missing data in NumPy\n",
    "* ✅ Techniques and functions to handle missing data\n",
    "* ✅ Detailed examples for each method\n"
   ]
  },
  {
   "cell_type": "markdown",
   "id": "daba2c5a",
   "metadata": {},
   "source": [
    "## ✅ 1. Identifying Missing Data"
   ]
  },
  {
   "cell_type": "markdown",
   "id": "7f154dd7",
   "metadata": {},
   "source": [
    "### Method: `np.isnan()`\n",
    "\n",
    "* Checks whether each element is `np.nan` (missing value)."
   ]
  },
  {
   "cell_type": "code",
   "execution_count": 6,
   "id": "be2008dd",
   "metadata": {},
   "outputs": [
    {
     "name": "stdout",
     "output_type": "stream",
     "text": [
      "[False False  True False  True]\n",
      "[[False  True]\n",
      " [False False]]\n"
     ]
    }
   ],
   "source": [
    "arr = np.array([1, 2, np.nan, 4, np.nan])\n",
    "\n",
    "# Find where missing data is\n",
    "missing_mask = np.isnan(arr)\n",
    "print(missing_mask)\n",
    "\n",
    "# For multi-dimensional array\n",
    "arr_2d = np.array([[1, np.nan], [3, 4]])\n",
    "print(np.isnan(arr_2d)) "
   ]
  },
  {
   "cell_type": "markdown",
   "id": "7ebcc802",
   "metadata": {},
   "source": [
    "## ✅ 2. Removing Missing Data"
   ]
  },
  {
   "cell_type": "markdown",
   "id": "e51593b6",
   "metadata": {},
   "source": [
    "### a) Remove Missing Values (1D)"
   ]
  },
  {
   "cell_type": "code",
   "execution_count": 13,
   "id": "23f0d259",
   "metadata": {},
   "outputs": [
    {
     "name": "stdout",
     "output_type": "stream",
     "text": [
      "[1. 2. 4.]\n"
     ]
    }
   ],
   "source": [
    "arr = np.array([1, 2, np.nan, 4, np.nan])\n",
    "\n",
    "cleaned_arr = arr[~np.isnan(arr)]\n",
    "print(cleaned_arr)"
   ]
  },
  {
   "cell_type": "markdown",
   "id": "b3f82549",
   "metadata": {},
   "source": [
    "### b) Remove Rows or Columns with Missing Data (2D)"
   ]
  },
  {
   "cell_type": "code",
   "execution_count": 16,
   "id": "00149a52",
   "metadata": {},
   "outputs": [
    {
     "name": "stdout",
     "output_type": "stream",
     "text": [
      "[[4. 5. 6.]]\n"
     ]
    }
   ],
   "source": [
    "arr_2d = np.array([[1, np.nan, 3], [4, 5, 6], [np.nan, 8, 9]])\n",
    "\n",
    "# Remove rows with any NaN\n",
    "cleaned = arr_2d[~np.isnan(arr_2d).any(axis=1)]\n",
    "print(cleaned)"
   ]
  },
  {
   "cell_type": "markdown",
   "id": "e4758156",
   "metadata": {},
   "source": [
    "## ✅ 3. Replacing Missing Data"
   ]
  },
  {
   "cell_type": "markdown",
   "id": "c31b62af",
   "metadata": {},
   "source": [
    "### a) Replace with a Fixed Value"
   ]
  },
  {
   "cell_type": "code",
   "execution_count": 19,
   "id": "1d9f5751",
   "metadata": {},
   "outputs": [
    {
     "name": "stdout",
     "output_type": "stream",
     "text": [
      "[1. 2. 0. 4. 0.]\n"
     ]
    }
   ],
   "source": [
    "arr = np.array([1, 2, np.nan, 4, np.nan])\n",
    "\n",
    "arr[np.isnan(arr)] = 0  # Replace NaN with 0\n",
    "print(arr)"
   ]
  },
  {
   "cell_type": "markdown",
   "id": "477f12cf",
   "metadata": {},
   "source": [
    "### b) Replace with Mean, Median, etc."
   ]
  },
  {
   "cell_type": "code",
   "execution_count": 21,
   "id": "62116c94",
   "metadata": {},
   "outputs": [
    {
     "name": "stdout",
     "output_type": "stream",
     "text": [
      "[1.         2.         2.33333333 4.         2.33333333]\n"
     ]
    }
   ],
   "source": [
    "arr = np.array([1, 2, np.nan, 4, np.nan])\n",
    "\n",
    "mean_value = np.nanmean(arr)  # Mean ignoring NaN\n",
    "arr[np.isnan(arr)] = mean_value\n",
    "print(arr)"
   ]
  },
  {
   "cell_type": "markdown",
   "id": "3f6bfa8e",
   "metadata": {},
   "source": [
    "\n",
    "## ✅ 4. Aggregate Functions that Ignore NaN\n",
    "\n",
    "NumPy provides **NaN-safe aggregate functions:**\n",
    "\n",
    "| Function       | Purpose                         |\n",
    "| -------------- | ------------------------------- |\n",
    "| `np.nanmean()` | Mean ignoring NaN               |\n",
    "| `np.nanstd()`  | Standard deviation ignoring NaN |\n",
    "| `np.nanvar()`  | Variance ignoring NaN           |\n",
    "| `np.nansum()`  | Sum ignoring NaN                |\n",
    "| `np.nanmin()`  | Minimum ignoring NaN            |\n",
    "| `np.nanmax()`  | Maximum ignoring NaN            |"
   ]
  },
  {
   "cell_type": "code",
   "execution_count": 23,
   "id": "7018437e",
   "metadata": {},
   "outputs": [
    {
     "name": "stdout",
     "output_type": "stream",
     "text": [
      "2.3333333333333335\n",
      "7.0\n"
     ]
    }
   ],
   "source": [
    "arr = np.array([1, 2, np.nan, 4])\n",
    "\n",
    "print(np.nanmean(arr))  # Mean ignoring NaN\n",
    "print(np.nansum(arr))   # Sum ignoring NaN"
   ]
  },
  {
   "cell_type": "markdown",
   "id": "968b657a",
   "metadata": {},
   "source": [
    "✅ These are safer than regular `mean`, `sum`, etc., when missing data is present."
   ]
  },
  {
   "cell_type": "markdown",
   "id": "3af3588d",
   "metadata": {},
   "source": [
    "## ✅ 5. Interpolating Missing Data (Basic Method)\n",
    "\n",
    "NumPy **does not** provide a direct interpolation function, but you can use simple linear interpolation manually or use **`pandas`** for more advanced interpolation."
   ]
  },
  {
   "cell_type": "code",
   "execution_count": 26,
   "id": "bde5ab0c",
   "metadata": {},
   "outputs": [
    {
     "name": "stdout",
     "output_type": "stream",
     "text": [
      "[1. 2. 3. 4. 5.]\n"
     ]
    }
   ],
   "source": [
    "arr = np.array([1, np.nan, 3, np.nan, 5])\n",
    "\n",
    "# Find indices of valid and missing data\n",
    "valid = ~np.isnan(arr)\n",
    "invalid = np.isnan(arr)\n",
    "\n",
    "# Perform linear interpolation\n",
    "arr[invalid] = np.interp(np.flatnonzero(invalid), np.flatnonzero(valid), arr[valid])\n",
    "print(arr)"
   ]
  },
  {
   "cell_type": "markdown",
   "id": "b4a7a819",
   "metadata": {},
   "source": [
    "✅ If you need more powerful interpolation, you can use `pandas.Series.interpolate()`."
   ]
  },
  {
   "cell_type": "markdown",
   "id": "1e414d2c",
   "metadata": {},
   "source": [
    "## ✅ 6. Counting Missing Values"
   ]
  },
  {
   "cell_type": "code",
   "execution_count": 29,
   "id": "8fde2f0d",
   "metadata": {},
   "outputs": [
    {
     "name": "stdout",
     "output_type": "stream",
     "text": [
      "2\n"
     ]
    }
   ],
   "source": [
    "arr = np.array([1, np.nan, 3, np.nan, 5])\n",
    "\n",
    "missing_count = np.isnan(arr).sum()\n",
    "print(missing_count)"
   ]
  },
  {
   "cell_type": "markdown",
   "id": "176544f2",
   "metadata": {},
   "source": [
    "## ✅ 7. Complex Masking with Conditions"
   ]
  },
  {
   "cell_type": "code",
   "execution_count": 31,
   "id": "d06f7509",
   "metadata": {},
   "outputs": [
    {
     "name": "stdout",
     "output_type": "stream",
     "text": [
      "[4. 5.]\n"
     ]
    }
   ],
   "source": [
    "# Keep only elements > 2 and not NaN\n",
    "arr = np.array([1, 2, np.nan, 4, np.nan, 5])\n",
    "\n",
    "filtered = arr[(~np.isnan(arr)) & (arr > 2)]\n",
    "print(filtered)"
   ]
  },
  {
   "cell_type": "markdown",
   "id": "1c43574c",
   "metadata": {},
   "source": [
    "## ✅ Summary Table\n",
    "\n",
    "| Technique                    | Purpose                         |          |\n",
    "| ---------------------------- | ------------------------------- | -------- |\n",
    "| `np.isnan(arr)`              | Identify missing values         |          |\n",
    "| `arr[~np.isnan(arr)]`        | Remove missing values           |          |\n",
    "| `arr[np.isnan(arr)] = value` | Replace missing values          |          |\n",
    "| `np.nanmean(arr)`            | Compute mean ignoring NaN       |          |\n",
    "| `np.nansum(arr)`             | Compute sum ignoring NaN        |          |\n",
    "| `np.nanmin(arr)`             | Compute min ignoring NaN        |          |\n",
    "| `np.nanmax(arr)`             | Compute max ignoring NaN        |          |\n",
    "| `np.interp()`                | Basic linear interpolation      |          |\n",
    "| `np.isnan(arr).sum()`        | Count number of missing values  |          |\n",
    "| Complex masking              | Combine conditions with `&`, \\` | `, `\\~\\` |\n",
    "\n",
    "## 🔥 Key Takeaways:\n",
    "\n",
    "* **NaN-aware functions** (`nanmean`, `nansum`) should be used when missing data is present.\n",
    "* You can **drop, replace, or interpolate** missing data based on your analysis need.\n",
    "* For **more complex imputation (mean by group, regression imputation)** → use `pandas`.\n"
   ]
  },
  {
   "cell_type": "markdown",
   "id": "780eeaf5",
   "metadata": {},
   "source": [
    "<center><b>Thanks</b></center>"
   ]
  }
 ],
 "metadata": {
  "kernelspec": {
   "display_name": "Python 3 (ipykernel)",
   "language": "python",
   "name": "python3"
  },
  "language_info": {
   "codemirror_mode": {
    "name": "ipython",
    "version": 3
   },
   "file_extension": ".py",
   "mimetype": "text/x-python",
   "name": "python",
   "nbconvert_exporter": "python",
   "pygments_lexer": "ipython3",
   "version": "3.10.2"
  }
 },
 "nbformat": 4,
 "nbformat_minor": 5
}
