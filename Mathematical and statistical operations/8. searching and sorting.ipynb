{
 "cells": [
  {
   "cell_type": "markdown",
   "id": "fb7c6387",
   "metadata": {},
   "source": [
    "# Numpy mathematical operations"
   ]
  },
  {
   "cell_type": "code",
   "execution_count": 5,
   "id": "b2ec25c0",
   "metadata": {},
   "outputs": [],
   "source": [
    "import numpy as np"
   ]
  },
  {
   "cell_type": "markdown",
   "id": "5037c8e2",
   "metadata": {},
   "source": [
    "# 8. Searching and Sorting"
   ]
  },
  {
   "cell_type": "markdown",
   "id": "3d4404ea",
   "metadata": {},
   "source": [
    "## 1. Searching"
   ]
  },
  {
   "cell_type": "markdown",
   "id": "d385c46a",
   "metadata": {},
   "source": [
    "We can divide **NumPy searching techniques** into **4 categories:**\n",
    "\n",
    "1. ✅ Finding indices with conditions\n",
    "2. ✅ Finding element positions (exact match)\n",
    "3. ✅ Searching in sorted arrays (binary search)\n",
    "4. ✅ Useful helper functions (like `np.unique`)\n"
   ]
  },
  {
   "cell_type": "markdown",
   "id": "9f129852",
   "metadata": {},
   "source": [
    "### 1. Searching Based on Conditions"
   ]
  },
  {
   "cell_type": "markdown",
   "id": "cf3af4e7",
   "metadata": {},
   "source": [
    "#### 1. **`np.where(condition)`**\n",
    "\n",
    "* Returns the indices where the condition is **True.**"
   ]
  },
  {
   "cell_type": "code",
   "execution_count": 6,
   "id": "29d40f57",
   "metadata": {
    "scrolled": true
   },
   "outputs": [
    {
     "name": "stdout",
     "output_type": "stream",
     "text": [
      "(array([2, 3, 4], dtype=int64),)\n",
      "[30 40 50]\n"
     ]
    }
   ],
   "source": [
    "arr = np.array([10, 20, 30, 40, 50])\n",
    "\n",
    "# Find indices where elements are greater than 25\n",
    "indices = np.where(arr > 25)\n",
    "print(indices)           \n",
    "print(arr[indices])      "
   ]
  },
  {
   "cell_type": "markdown",
   "id": "8370b68e",
   "metadata": {},
   "source": [
    "✅ Works for 1D, 2D, and 3D arrays."
   ]
  },
  {
   "cell_type": "markdown",
   "id": "6a0084c7",
   "metadata": {},
   "source": [
    "#### 2. **`np.nonzero(arr)`**\n",
    "\n",
    "* Returns indices of all **non-zero elements.**\n"
   ]
  },
  {
   "cell_type": "code",
   "execution_count": 9,
   "id": "181f22b7",
   "metadata": {},
   "outputs": [
    {
     "name": "stdout",
     "output_type": "stream",
     "text": [
      "(array([1, 3, 4], dtype=int64),)\n",
      "[1 2 3]\n"
     ]
    }
   ],
   "source": [
    "arr = np.array([0, 1, 0, 2, 3])\n",
    "indices = np.nonzero(arr)\n",
    "print(indices)           \n",
    "print(arr[indices])      "
   ]
  },
  {
   "cell_type": "markdown",
   "id": "be4f2bda",
   "metadata": {},
   "source": [
    "✅ Useful for filtering sparse arrays."
   ]
  },
  {
   "cell_type": "markdown",
   "id": "c60592cc",
   "metadata": {},
   "source": [
    "#### 3. **`np.argwhere(condition)`**\n",
    "\n",
    "* Like `np.where` but returns the results as a **coordinate array.**"
   ]
  },
  {
   "cell_type": "code",
   "execution_count": 13,
   "id": "21880856",
   "metadata": {},
   "outputs": [
    {
     "name": "stdout",
     "output_type": "stream",
     "text": [
      "[[1 0]\n",
      " [1 1]]\n"
     ]
    }
   ],
   "source": [
    "arr_2d = np.array([[10, 20], [30, 40]])\n",
    "\n",
    "indices = np.argwhere(arr_2d > 20)\n",
    "print(indices)"
   ]
  },
  {
   "cell_type": "markdown",
   "id": "5c5082a9",
   "metadata": {},
   "source": [
    "✅ Preferred when working with **multi-dimensional arrays.**"
   ]
  },
  {
   "cell_type": "markdown",
   "id": "280012a4",
   "metadata": {},
   "source": [
    "### 2. Finding Exact Match Positions"
   ]
  },
  {
   "cell_type": "markdown",
   "id": "970f6a48",
   "metadata": {},
   "source": [
    "#### 4. **`np.where(arr == value)`**\n",
    "\n",
    "* Find indices where **a specific value** exists."
   ]
  },
  {
   "cell_type": "code",
   "execution_count": 17,
   "id": "5027b72b",
   "metadata": {},
   "outputs": [
    {
     "name": "stdout",
     "output_type": "stream",
     "text": [
      "(array([2, 4], dtype=int64),)\n"
     ]
    }
   ],
   "source": [
    "arr = np.array([10, 20, 30, 40, 30])\n",
    "\n",
    "indices = np.where(arr == 30)\n",
    "print(indices) "
   ]
  },
  {
   "cell_type": "markdown",
   "id": "5c0d62ff",
   "metadata": {},
   "source": [
    "#### 5. **`np.argmax(arr)` and `np.argmin(arr)`**\n",
    "\n",
    "* Return the **index of the maximum or minimum element.**"
   ]
  },
  {
   "cell_type": "code",
   "execution_count": 19,
   "id": "56e925b4",
   "metadata": {
    "scrolled": true
   },
   "outputs": [
    {
     "name": "stdout",
     "output_type": "stream",
     "text": [
      "3\n",
      "0\n"
     ]
    }
   ],
   "source": [
    "arr = np.array([10, 20, 30, 40])\n",
    "\n",
    "print(np.argmax(arr)) \n",
    "print(np.argmin(arr)) "
   ]
  },
  {
   "cell_type": "markdown",
   "id": "0f5689c5",
   "metadata": {},
   "source": [
    "✅ You can use `axis` parameter for multi-dimensional arrays."
   ]
  },
  {
   "cell_type": "markdown",
   "id": "5469a252",
   "metadata": {},
   "source": [
    "#### 6. **`np.flatnonzero(arr)`**\n",
    "\n",
    "* Returns **flattened indices** of non-zero elements."
   ]
  },
  {
   "cell_type": "code",
   "execution_count": 23,
   "id": "5d10a99b",
   "metadata": {},
   "outputs": [
    {
     "name": "stdout",
     "output_type": "stream",
     "text": [
      "[1 2]\n"
     ]
    }
   ],
   "source": [
    "arr = np.array([[0, 3], [2, 0]])\n",
    "print(np.flatnonzero(arr))"
   ]
  },
  {
   "cell_type": "markdown",
   "id": "e1cb3743",
   "metadata": {},
   "source": [
    "✅ Efficient when you want 1D positions regardless of original array shape."
   ]
  },
  {
   "cell_type": "markdown",
   "id": "dd66586e",
   "metadata": {},
   "source": [
    "### 3. Searching in Sorted Arrays (Fast Binary Search)"
   ]
  },
  {
   "cell_type": "markdown",
   "id": "fdbb2afd",
   "metadata": {},
   "source": [
    "#### 7. **`np.searchsorted(arr, values)`**\n",
    "\n",
    "* Searches for **insertion points** to maintain order in a sorted array."
   ]
  },
  {
   "cell_type": "code",
   "execution_count": 27,
   "id": "db728649",
   "metadata": {},
   "outputs": [
    {
     "name": "stdout",
     "output_type": "stream",
     "text": [
      "2\n"
     ]
    }
   ],
   "source": [
    "arr = np.array([10, 20, 30, 40, 50])\n",
    "\n",
    "# Where would 25 fit to keep array sorted?\n",
    "index = np.searchsorted(arr, 25)\n",
    "print(index)"
   ]
  },
  {
   "cell_type": "markdown",
   "id": "3b0ce045",
   "metadata": {},
   "source": [
    "✅ Supports binary search (fast searching)."
   ]
  },
  {
   "cell_type": "markdown",
   "id": "b1d0b88c",
   "metadata": {},
   "source": [
    "#### 8. **`np.isin(arr, values)`**\n",
    "\n",
    "* Checks whether each element of the array is in a provided list of values."
   ]
  },
  {
   "cell_type": "code",
   "execution_count": 30,
   "id": "e142d885",
   "metadata": {},
   "outputs": [
    {
     "name": "stdout",
     "output_type": "stream",
     "text": [
      "[False  True False  True]\n"
     ]
    }
   ],
   "source": [
    "arr = np.array([10, 20, 30, 40])\n",
    "print(np.isin(arr, [20, 40]))  "
   ]
  },
  {
   "cell_type": "markdown",
   "id": "1a53091c",
   "metadata": {},
   "source": [
    "✅ Element-wise check across the entire array."
   ]
  },
  {
   "cell_type": "markdown",
   "id": "2675b0cd",
   "metadata": {},
   "source": [
    "### 4 Helper Functions Related to Searching"
   ]
  },
  {
   "cell_type": "markdown",
   "id": "e68cbfa4",
   "metadata": {},
   "source": [
    "#### 9. **`np.unique(arr)`**\n",
    "\n",
    "* Finds **unique elements** in the array."
   ]
  },
  {
   "cell_type": "code",
   "execution_count": 34,
   "id": "8dbe9b5a",
   "metadata": {},
   "outputs": [
    {
     "name": "stdout",
     "output_type": "stream",
     "text": [
      "[10 20 30]\n"
     ]
    }
   ],
   "source": [
    "arr = np.array([10, 20, 10, 30, 20])\n",
    "\n",
    "print(np.unique(arr))"
   ]
  },
  {
   "cell_type": "markdown",
   "id": "0140cbce",
   "metadata": {},
   "source": [
    "✅ Optional parameters: `return_counts`, `return_index`, `return_inverse`"
   ]
  },
  {
   "cell_type": "markdown",
   "id": "301f9cfc",
   "metadata": {},
   "source": [
    "#### 10. **`np.extract(condition, arr)`**\n",
    "\n",
    "* Extracts elements from the array where the condition is **True.**"
   ]
  },
  {
   "cell_type": "code",
   "execution_count": 37,
   "id": "86d8d078",
   "metadata": {},
   "outputs": [
    {
     "name": "stdout",
     "output_type": "stream",
     "text": [
      "[30 40 50]\n"
     ]
    }
   ],
   "source": [
    "arr = np.array([10, 20, 30, 40, 50])\n",
    "\n",
    "result = np.extract(arr > 25, arr)\n",
    "print(result) "
   ]
  },
  {
   "cell_type": "markdown",
   "id": "dcc0bcf9",
   "metadata": {},
   "source": [
    "✅ Similar to `arr[np.where(condition)]` but sometimes more readable."
   ]
  },
  {
   "cell_type": "markdown",
   "id": "7bb7bcd2",
   "metadata": {},
   "source": [
    "## ✅ Summary Table\n",
    "\n",
    "| Function                     | Purpose                                               |\n",
    "| ---------------------------- | ----------------------------------------------------- |\n",
    "| `np.where(condition)`        | Indices where condition is True                       |\n",
    "| `np.nonzero(arr)`            | Indices of non-zero elements                          |\n",
    "| `np.argwhere(condition)`     | Multi-dimensional coordinates where condition is True |\n",
    "| `np.argmax(arr)`             | Index of maximum value                                |\n",
    "| `np.argmin(arr)`             | Index of minimum value                                |\n",
    "| `np.flatnonzero(arr)`        | Flat indices of non-zero elements                     |\n",
    "| `np.searchsorted(arr, v)`    | Insertion index for value in sorted array             |\n",
    "| `np.isin(arr, values)`       | Check if elements exist in another list               |\n",
    "| `np.unique(arr)`             | Unique elements in the array                          |\n",
    "| `np.extract(condition, arr)` | Extract elements matching condition                   |\n",
    "\n",
    "---\n",
    "\n",
    "## ✅ Key Notes:\n",
    "\n",
    "* Use **`where`, `nonzero`, `argwhere`** for condition-based searching.\n",
    "* Use **`searchsorted`** for sorted arrays (binary search speed).\n",
    "* Use **`isin`** for membership checking.\n",
    "* Use **`unique`** and **`extract`** for filtering and deduplication.\n"
   ]
  },
  {
   "cell_type": "markdown",
   "id": "b894f5cb",
   "metadata": {},
   "source": [
    "## 2. Sorting"
   ]
  },
  {
   "cell_type": "markdown",
   "id": "a15de539",
   "metadata": {},
   "source": [
    "**Complete storing methods details available in Manipulation dir and in file 5. sorting arrays**"
   ]
  },
  {
   "cell_type": "markdown",
   "id": "7431cb29",
   "metadata": {},
   "source": [
    "<center><b>Thanks</b</center>"
   ]
  }
 ],
 "metadata": {
  "kernelspec": {
   "display_name": "Python 3 (ipykernel)",
   "language": "python",
   "name": "python3"
  },
  "language_info": {
   "codemirror_mode": {
    "name": "ipython",
    "version": 3
   },
   "file_extension": ".py",
   "mimetype": "text/x-python",
   "name": "python",
   "nbconvert_exporter": "python",
   "pygments_lexer": "ipython3",
   "version": "3.10.2"
  }
 },
 "nbformat": 4,
 "nbformat_minor": 5
}
